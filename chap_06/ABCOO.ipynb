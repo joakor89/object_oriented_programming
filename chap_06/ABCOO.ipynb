{
 "cells": [
  {
   "cell_type": "markdown",
   "id": "c491ebe2-083b-4296-8c53-08f7c9c8f72c",
   "metadata": {},
   "source": [
    "# Abstract Base Classes & Operator Overloading\n",
    "\n",
    "### Loading Libraries"
   ]
  },
  {
   "cell_type": "code",
   "execution_count": 83,
   "id": "fdd297a1-1f5d-4ee2-9e0f-9232799bf1cb",
   "metadata": {},
   "outputs": [],
   "source": [
    "# Math\n",
    "import math\n",
    "from math import hypot\n",
    "\n",
    "# OS\n",
    "import re\n",
    "import abc\n",
    "import time\n",
    "import random\n",
    "import bisect\n",
    "\n",
    "from decimal import Decimal\n",
    "\n",
    "# Types & Annotations\n",
    "from __future__ import annotations\n",
    "from collections.abc import Container, Mapping, Hashable\n",
    "from typing import Hashable, Mapping, TypeVar, Any, overload, Union, Sequence, Dict\n",
    "from typing import List, Protocol, NoReturn, Union, Set, Tuple, Optional, Iterable, Iterator, cast\n",
    "\n",
    "# Dunctional Tools\n",
    "from functools import wraps\n",
    "\n",
    "# Files & Path\n",
    "import logging\n",
    "import zipfile\n",
    "import fnmatch\n",
    "from pathlib import Path\n",
    "from urllib.request import urlopen\n",
    "\n",
    "# Numerical Computing\n",
    "import numpy as np\n",
    "\n",
    "# Data Manipulation\n",
    "import pandas as pd\n",
    "\n",
    "# Data Visualization\n",
    "import seaborn\n",
    "import matplotlib.pyplot as plt"
   ]
  },
  {
   "cell_type": "code",
   "execution_count": 52,
   "id": "301f9ae3-cff0-459a-a06e-cef56aad2726",
   "metadata": {},
   "outputs": [],
   "source": [
    "Comparable = TypeVar('Comparable')\n",
    "\n",
    "BaseMapping = Mapping[Comparable, Any]"
   ]
  },
  {
   "cell_type": "markdown",
   "id": "1dca325e-088a-424c-afc2-8936cc5ee919",
   "metadata": {},
   "source": [
    "### Creating an Abstract Base Class"
   ]
  },
  {
   "cell_type": "code",
   "execution_count": 2,
   "id": "eafc8089-4bd6-43f5-a619-2c7b16b8e666",
   "metadata": {},
   "outputs": [],
   "source": [
    "class MediaLoader(abc.ABC):\n",
    "    @abc.abstractmethod\n",
    "    def play(self) -> None:\n",
    "        ...\n",
    "\n",
    "    @property\n",
    "    @abc.abstractmethod\n",
    "    def ext(self) -> str:\n",
    "        ..."
   ]
  },
  {
   "cell_type": "code",
   "execution_count": 3,
   "id": "c0fdbc08-59cb-4911-bf3d-ed6735dcf62d",
   "metadata": {},
   "outputs": [
    {
     "data": {
      "text/plain": [
       "frozenset({'ext', 'play'})"
      ]
     },
     "execution_count": 3,
     "metadata": {},
     "output_type": "execute_result"
    }
   ],
   "source": [
    "MediaLoader.__abstractmethods__"
   ]
  },
  {
   "cell_type": "code",
   "execution_count": 4,
   "id": "7ae785f3-3dc1-4c9a-9afc-14f88d26407d",
   "metadata": {},
   "outputs": [],
   "source": [
    "class Wav(MediaLoader):\n",
    "    pass"
   ]
  },
  {
   "cell_type": "code",
   "execution_count": 5,
   "id": "be5bb6c9-d6b6-459d-bf14-eca366f84d4b",
   "metadata": {},
   "outputs": [
    {
     "ename": "TypeError",
     "evalue": "Can't instantiate abstract class Wav with abstract methods ext, play",
     "output_type": "error",
     "traceback": [
      "\u001b[0;31m---------------------------------------------------------------------------\u001b[0m",
      "\u001b[0;31mTypeError\u001b[0m                                 Traceback (most recent call last)",
      "Cell \u001b[0;32mIn[5], line 1\u001b[0m\n\u001b[0;32m----> 1\u001b[0m x \u001b[38;5;241m=\u001b[39m Wav()\n",
      "\u001b[0;31mTypeError\u001b[0m: Can't instantiate abstract class Wav with abstract methods ext, play"
     ]
    }
   ],
   "source": [
    "x = Wav()"
   ]
  },
  {
   "cell_type": "code",
   "execution_count": 6,
   "id": "e6e30241-9809-40e9-aac4-9496e14d676f",
   "metadata": {},
   "outputs": [],
   "source": [
    "class Ogg(MediaLoader):\n",
    "    ext = '.ogg'\n",
    "    def play(self):\n",
    "        pass"
   ]
  },
  {
   "cell_type": "code",
   "execution_count": 7,
   "id": "4627c624-3de5-4cf7-bfc0-fe1d1ecbfaa0",
   "metadata": {},
   "outputs": [],
   "source": [
    "o = Ogg()"
   ]
  },
  {
   "cell_type": "markdown",
   "id": "7625cd3a-f3e1-405e-b037-e0382d8e6b01",
   "metadata": {},
   "source": [
    "### The ABC of Collections"
   ]
  },
  {
   "cell_type": "code",
   "execution_count": 8,
   "id": "8a272c8e-5d96-4b81-8228-d36b69103113",
   "metadata": {},
   "outputs": [
    {
     "data": {
      "text/plain": [
       "frozenset({'__contains__'})"
      ]
     },
     "execution_count": 8,
     "metadata": {},
     "output_type": "execute_result"
    }
   ],
   "source": [
    "Container.__abstractmethods__"
   ]
  },
  {
   "cell_type": "code",
   "execution_count": 9,
   "id": "69163ef3-2dab-4a3f-9378-7400811dd0a9",
   "metadata": {},
   "outputs": [
    {
     "name": "stdout",
     "output_type": "stream",
     "text": [
      "Help on function __contains__ in module collections.abc:\n",
      "\n",
      "__contains__(self, x)\n",
      "\n"
     ]
    }
   ],
   "source": [
    "help(Container.__contains__)"
   ]
  },
  {
   "cell_type": "code",
   "execution_count": 10,
   "id": "87fb20af-fb37-41b9-826e-7b32d3dfcce0",
   "metadata": {},
   "outputs": [],
   "source": [
    "class OddIntegers:\n",
    "    def __contains__(self, x: int) -> bool:\n",
    "        return x % 2 != 0"
   ]
  },
  {
   "cell_type": "code",
   "execution_count": 11,
   "id": "327a64e6-f8eb-452d-ad20-a5d498269c4f",
   "metadata": {},
   "outputs": [],
   "source": [
    "odd = OddIntegers()"
   ]
  },
  {
   "cell_type": "code",
   "execution_count": 12,
   "id": "c330e90d-e97e-4afa-8760-4c9044738aa9",
   "metadata": {},
   "outputs": [
    {
     "data": {
      "text/plain": [
       "True"
      ]
     },
     "execution_count": 12,
     "metadata": {},
     "output_type": "execute_result"
    }
   ],
   "source": [
    "isinstance(odd, Container)"
   ]
  },
  {
   "cell_type": "code",
   "execution_count": 13,
   "id": "f0fed6cf-9019-4276-a678-f63a1ce6481f",
   "metadata": {},
   "outputs": [
    {
     "data": {
      "text/plain": [
       "True"
      ]
     },
     "execution_count": 13,
     "metadata": {},
     "output_type": "execute_result"
    }
   ],
   "source": [
    "issubclass(OddIntegers, Container)"
   ]
  },
  {
   "cell_type": "code",
   "execution_count": 14,
   "id": "38b3d873-ac54-4fd0-8537-0fda5536b9cf",
   "metadata": {},
   "outputs": [],
   "source": [
    "odd = OddIntegers()"
   ]
  },
  {
   "cell_type": "code",
   "execution_count": 15,
   "id": "41e3f0ab-bb4d-44bb-9863-29e3d2a8c878",
   "metadata": {},
   "outputs": [
    {
     "data": {
      "text/plain": [
       "True"
      ]
     },
     "execution_count": 15,
     "metadata": {},
     "output_type": "execute_result"
    }
   ],
   "source": [
    "1 in odd"
   ]
  },
  {
   "cell_type": "code",
   "execution_count": 16,
   "id": "ad107cc2-6c2b-4bcf-9c16-f60bfdda8162",
   "metadata": {},
   "outputs": [
    {
     "data": {
      "text/plain": [
       "False"
      ]
     },
     "execution_count": 16,
     "metadata": {},
     "output_type": "execute_result"
    }
   ],
   "source": [
    "2 in odd"
   ]
  },
  {
   "cell_type": "code",
   "execution_count": 17,
   "id": "453ca585-6911-4dd8-a062-1484136cf92d",
   "metadata": {},
   "outputs": [
    {
     "data": {
      "text/plain": [
       "True"
      ]
     },
     "execution_count": 17,
     "metadata": {},
     "output_type": "execute_result"
    }
   ],
   "source": [
    "3 in odd"
   ]
  },
  {
   "cell_type": "markdown",
   "id": "ef996841-f878-4626-9148-122f16d9a7f0",
   "metadata": {},
   "source": [
    "### The `collections.abc` Module"
   ]
  },
  {
   "cell_type": "code",
   "execution_count": 18,
   "id": "114ec122-b789-4511-83be-a05e40ca87f8",
   "metadata": {},
   "outputs": [],
   "source": [
    "Comparable = TypeVar('Comparable')\n",
    "\n",
    "BaseMapping = Mapping[Comparable, Any]"
   ]
  },
  {
   "cell_type": "code",
   "execution_count": 19,
   "id": "8ab4f7ff-0a19-4c81-ae29-bba8ef0c16d7",
   "metadata": {},
   "outputs": [],
   "source": [
    "x = dict({\"a\": 42, \"b\": 7, \"c\": 6})\n",
    "\n",
    "y = dict([(\"a\", 42), (\"b\", 7), (\"c\", 6)])"
   ]
  },
  {
   "cell_type": "code",
   "execution_count": 20,
   "id": "1a2a2c2d-51b8-400b-812f-a9c40abcf25f",
   "metadata": {},
   "outputs": [
    {
     "data": {
      "text/plain": [
       "True"
      ]
     },
     "execution_count": 20,
     "metadata": {},
     "output_type": "execute_result"
    }
   ],
   "source": [
    "x == y"
   ]
  },
  {
   "cell_type": "code",
   "execution_count": 21,
   "id": "ae577dfe-77f4-4f59-99cc-0dd1910a8313",
   "metadata": {},
   "outputs": [],
   "source": [
    "BaseMapping = Mapping[Comparable, Any]\n",
    "class Lookup(BaseMapping):\n",
    "    @overload\n",
    "    def __init__(self, source: Iterable[tuple[Comparable, Any]]) -> None:\n",
    "        ...\n",
    "\n",
    "    @overload\n",
    "    def __init__(self, source: BaseMapping) -> None:\n",
    "        ...\n",
    "\n",
    "    def __init__(self, source: Union[Iterable[tuple[Comparable, Any]], BaseMapping, None] = None,) ->None:\n",
    "        sorted_pairs: Sequence[tuple[Comparable, Any]]\n",
    "        if isinstance(source, Sequence):\n",
    "            sorted_pairs = sorted(source)\n",
    "        elif isinstance(source, abc.Mapping):\n",
    "            sorted_pairs = sorted(source.items())\n",
    "        else:\n",
    "            sorted_pairs = []\n",
    "        self.key_list = [p[0] for p in sorted_pairs]\n",
    "        self.value_list = [p[1] for p in sorted_pairs]\n",
    "\n",
    "    def __len__(self) -> int:\n",
    "        return len(self.key_list)\n",
    "\n",
    "    def __iter__(self) -> Iterator[Comparable]:\n",
    "        return iter(self.key_list)\n",
    "\n",
    "    def __contains__(self, key: object) -> bool:\n",
    "        index = bisect.bisect_left(self.key_list, key)\n",
    "        return key == self.key_list[index]\n",
    "\n",
    "    def __getitem__(self, key: Comparable) -> Any:\n",
    "        index = bisect.bisect_left(self.key_list, key)\n",
    "        if key == self.key_list[index]:\n",
    "            return self.value_list[index]\n",
    "        raise KeyError(key)"
   ]
  },
  {
   "cell_type": "code",
   "execution_count": 22,
   "id": "7cdb8d5d-5875-4b34-9b39-c65a07ceec18",
   "metadata": {},
   "outputs": [],
   "source": [
    "x = Lookup(\n",
    "    [\n",
    "        [\"z\", \"Zillah\"],\n",
    "        [\"a\", \"Amy\"],\n",
    "        [\"c\", \"Clara\"],\n",
    "        [\"b\", \"Basil\"],\n",
    "    ]\n",
    ")"
   ]
  },
  {
   "cell_type": "code",
   "execution_count": 23,
   "id": "60fff1e3-89dd-4fde-ad35-999c7c8239bb",
   "metadata": {},
   "outputs": [
    {
     "data": {
      "text/plain": [
       "'Clara'"
      ]
     },
     "execution_count": 23,
     "metadata": {},
     "output_type": "execute_result"
    }
   ],
   "source": [
    "x[\"c\"]"
   ]
  },
  {
   "cell_type": "code",
   "execution_count": 24,
   "id": "0adefa4b-4005-40cc-8fa3-0cdf08db600f",
   "metadata": {},
   "outputs": [
    {
     "ename": "TypeError",
     "evalue": "'Lookup' object does not support item assignment",
     "output_type": "error",
     "traceback": [
      "\u001b[0;31m---------------------------------------------------------------------------\u001b[0m",
      "\u001b[0;31mTypeError\u001b[0m                                 Traceback (most recent call last)",
      "Cell \u001b[0;32mIn[24], line 1\u001b[0m\n\u001b[0;32m----> 1\u001b[0m x[\u001b[38;5;124m\"\u001b[39m\u001b[38;5;124mm\u001b[39m\u001b[38;5;124m\"\u001b[39m] \u001b[38;5;241m=\u001b[39m \u001b[38;5;124m\"\u001b[39m\u001b[38;5;124mMaud\u001b[39m\u001b[38;5;124m\"\u001b[39m\n",
      "\u001b[0;31mTypeError\u001b[0m: 'Lookup' object does not support item assignment"
     ]
    }
   ],
   "source": [
    "x[\"m\"] = \"Maud\""
   ]
  },
  {
   "cell_type": "code",
   "execution_count": 25,
   "id": "814c4cd1-efa5-47df-9aee-babb04877aac",
   "metadata": {},
   "outputs": [],
   "source": [
    "class Comparable(Protocol):\n",
    "    def __eq__(self, other:Any) -> bool: ...\n",
    "    def __ne__(self, other:Any) -> bool: ...\n",
    "    def __le__(self, other:Any) -> bool: ...\n",
    "    def __lt__(self, other:Any) -> bool: ...\n",
    "    def __ge__(self, other:Any) -> bool: ...\n",
    "    def __gt__(self, other:Any) -> bool: ..."
   ]
  },
  {
   "cell_type": "code",
   "execution_count": 26,
   "id": "d41c56e3-865d-4123-926b-71636bc7d7ae",
   "metadata": {},
   "outputs": [],
   "source": [
    "class Die (abc.ABC):\n",
    "    def __init__(self) -> None:\n",
    "        self.face: int\n",
    "        self.roll()\n",
    "\n",
    "    @abc.abstractmethod\n",
    "    def roll(self) -> None:\n",
    "        ...\n",
    "\n",
    "    def __repr__(self) -> str:\n",
    "        return f\"{self.face}\""
   ]
  },
  {
   "cell_type": "code",
   "execution_count": 27,
   "id": "7549e179-d489-493d-806e-23fc5ef526ac",
   "metadata": {},
   "outputs": [
    {
     "data": {
      "text/plain": [
       "'\\nMessy Code Sample as follow:\\n'"
      ]
     },
     "execution_count": 27,
     "metadata": {},
     "output_type": "execute_result"
    }
   ],
   "source": [
    "\"\"\"\n",
    "Messy Code Sample as follow:\n",
    "\"\"\"\n",
    "\n",
    "# class Bad(Die):\n",
    "#     def roll(self, a: int, b: int) -> float:\n",
    "#         return (a+b)/2"
   ]
  },
  {
   "cell_type": "code",
   "execution_count": 28,
   "id": "895927a3-3b0f-41aa-bec4-ba9fb0a34b44",
   "metadata": {},
   "outputs": [],
   "source": [
    "class D4(Die):\n",
    "    def roll(self) -> None:\n",
    "        self.face = random.choice((1, 2, 3, 4))"
   ]
  },
  {
   "cell_type": "code",
   "execution_count": 29,
   "id": "9434edba-d7d1-4a29-a6b2-708763aa2b80",
   "metadata": {},
   "outputs": [],
   "source": [
    "class D6(Die):\n",
    "    def roll(self) -> None:\n",
    "        self.face = random.randint(1, 6)"
   ]
  },
  {
   "cell_type": "code",
   "execution_count": 30,
   "id": "0cf5d2b5-4c3f-4d6e-b9c8-ca600f72b96c",
   "metadata": {},
   "outputs": [],
   "source": [
    "class Dice(abc.ABC):\n",
    "    def __init__(self, n: int, die_class: Type[Die]) -> None:\n",
    "        self.dice = [die_class() for _ in range(n)]\n",
    "\n",
    "    @abc.abstractmethod\n",
    "    def roll(self) -> None:\n",
    "        ...\n",
    "\n",
    "    @property\n",
    "    def total(self) -> int:\n",
    "        return sum(d.face for d in self.dice)"
   ]
  },
  {
   "cell_type": "code",
   "execution_count": 31,
   "id": "03650e5b-9ec0-4c0d-8e24-6a0bbe7a87eb",
   "metadata": {},
   "outputs": [],
   "source": [
    "class SimpleDice(Dice):\n",
    "    def roll(self) -> None:\n",
    "        for d in self.dice:\n",
    "            d.roll()"
   ]
  },
  {
   "cell_type": "code",
   "execution_count": 32,
   "id": "08213210-a7b9-4359-80fe-ffa10fd9c5f4",
   "metadata": {},
   "outputs": [],
   "source": [
    "sd = SimpleDice(6, D6)"
   ]
  },
  {
   "cell_type": "code",
   "execution_count": 33,
   "id": "c6c76a71-f736-44a9-9717-bed235770c27",
   "metadata": {},
   "outputs": [],
   "source": [
    "sd.roll()"
   ]
  },
  {
   "cell_type": "code",
   "execution_count": 34,
   "id": "95088a70-f49e-4793-a416-b57e48d81759",
   "metadata": {},
   "outputs": [
    {
     "data": {
      "text/plain": [
       "22"
      ]
     },
     "execution_count": 34,
     "metadata": {},
     "output_type": "execute_result"
    }
   ],
   "source": [
    "sd.total"
   ]
  },
  {
   "cell_type": "code",
   "execution_count": 35,
   "id": "4464ceed-07d0-4109-aba6-9a69355db871",
   "metadata": {},
   "outputs": [],
   "source": [
    "class YatchDice(Dice):\n",
    "    def __init__(self) -> None:\n",
    "        super().__init__(5, D6)\n",
    "        self.saved: Set[int] = set()\n",
    "\n",
    "    def saving(self, positions: Iterable[int]) -> \"YatchDice\":\n",
    "        if not all(0 <= n < 6 for n in positions):\n",
    "            raise ValueError(\"Invalid position\")\n",
    "        self.saved = set(positions)\n",
    "        return self\n",
    "\n",
    "    def roll(self) -> None:\n",
    "        for n, d in enumerate(self.dice):\n",
    "            if n not in self.saved:\n",
    "                d.roll()\n",
    "        self.saved = set()"
   ]
  },
  {
   "cell_type": "code",
   "execution_count": 36,
   "id": "755d1a55-a2ee-4faf-88dd-db16acf9855a",
   "metadata": {},
   "outputs": [],
   "source": [
    "sd = YatchDice()"
   ]
  },
  {
   "cell_type": "code",
   "execution_count": 37,
   "id": "684d2a7a-2f97-430e-bad0-c68a51f6f0f5",
   "metadata": {},
   "outputs": [],
   "source": [
    "sd.roll()"
   ]
  },
  {
   "cell_type": "code",
   "execution_count": 38,
   "id": "b91d78c9-75da-48e2-a639-9637b9091ea4",
   "metadata": {},
   "outputs": [
    {
     "data": {
      "text/plain": [
       "[3, 3, 4, 5, 2]"
      ]
     },
     "execution_count": 38,
     "metadata": {},
     "output_type": "execute_result"
    }
   ],
   "source": [
    "sd.dice"
   ]
  },
  {
   "cell_type": "code",
   "execution_count": 39,
   "id": "ffcfb491-8685-485e-9717-3c41bee4a923",
   "metadata": {},
   "outputs": [],
   "source": [
    "sd.saving([0, 1, 2]).roll()"
   ]
  },
  {
   "cell_type": "code",
   "execution_count": 40,
   "id": "f50605e4-c794-4e8c-a82a-69824e520740",
   "metadata": {},
   "outputs": [
    {
     "data": {
      "text/plain": [
       "[3, 3, 4, 4, 2]"
      ]
     },
     "execution_count": 40,
     "metadata": {},
     "output_type": "execute_result"
    }
   ],
   "source": [
    "sd.dice"
   ]
  },
  {
   "cell_type": "markdown",
   "id": "3229da90-44f2-445d-b68e-1d77ff1ac64e",
   "metadata": {},
   "source": [
    "### Demystifying The Magic"
   ]
  },
  {
   "cell_type": "code",
   "execution_count": 41,
   "id": "547729ca-0333-4179-8714-47893b78644b",
   "metadata": {},
   "outputs": [],
   "source": [
    "# from dice import Die"
   ]
  },
  {
   "cell_type": "code",
   "execution_count": 42,
   "id": "b10ccef6-852f-4fde-87e7-bf68c4faee65",
   "metadata": {},
   "outputs": [
    {
     "data": {
      "text/plain": [
       "frozenset({'roll'})"
      ]
     },
     "execution_count": 42,
     "metadata": {},
     "output_type": "execute_result"
    }
   ],
   "source": [
    "Die.__abstractmethods__"
   ]
  },
  {
   "cell_type": "code",
   "execution_count": 43,
   "id": "7f146b6f-e9a4-4a28-985d-e6216ab0149a",
   "metadata": {},
   "outputs": [
    {
     "data": {
      "text/plain": [
       "True"
      ]
     },
     "execution_count": 43,
     "metadata": {},
     "output_type": "execute_result"
    }
   ],
   "source": [
    "Die.roll.__isabstractmethod__"
   ]
  },
  {
   "cell_type": "code",
   "execution_count": 53,
   "id": "400b2f49-5304-4ad8-abcb-9d97fd7ab6fe",
   "metadata": {},
   "outputs": [],
   "source": [
    "class DieM(metaclass=abc.ABCMeta):\n",
    "    def __init__(self) -> None:\n",
    "        self.face: int\n",
    "        self.roll()\n",
    "\n",
    "    @abc.abstractmethod\n",
    "    def roll(self) -> None:\n",
    "        ..."
   ]
  },
  {
   "cell_type": "markdown",
   "id": "aaff516a-46c6-473e-bb91-75f5bc1cef7a",
   "metadata": {},
   "source": [
    "### Operator Overloading"
   ]
  },
  {
   "cell_type": "code",
   "execution_count": 54,
   "id": "6c6f51e7-a3cb-4501-9a47-5a98196eea89",
   "metadata": {},
   "outputs": [],
   "source": [
    "def len(object: Sized) -> int:\n",
    "    return object.__len__()"
   ]
  },
  {
   "cell_type": "code",
   "execution_count": 55,
   "id": "4fcf2c15-a664-4303-bf55-88bc0dde2185",
   "metadata": {},
   "outputs": [],
   "source": [
    "home = Path.home()"
   ]
  },
  {
   "cell_type": "code",
   "execution_count": 56,
   "id": "8be0cf45-4fc3-4ec9-9da7-deeb158428b1",
   "metadata": {},
   "outputs": [
    {
     "data": {
      "text/plain": [
       "PosixPath('/Users/isisromero/miniconda3/envs')"
      ]
     },
     "execution_count": 56,
     "metadata": {},
     "output_type": "execute_result"
    }
   ],
   "source": [
    "home / \"miniconda3\" / \"envs\""
   ]
  },
  {
   "cell_type": "code",
   "execution_count": 58,
   "id": "09f99410-639a-4b04-90fb-f0f91c9aec35",
   "metadata": {},
   "outputs": [],
   "source": [
    "class DDice:\n",
    "    def __init__(self, *die_class: Type[Die]) -> None:\n",
    "        self.dice = [dc() for dc in die_class]\n",
    "        self.adjust: int = 0\n",
    "\n",
    "    def plus(self, adjust: int = 0) -> \"DDice\":\n",
    "        self.adjust = adjust\n",
    "        return self\n",
    "\n",
    "    def roll(self) -> None:\n",
    "        for d in self.dice:\n",
    "            d.roll()\n",
    "\n",
    "    @property\n",
    "    def total(self) -> int:\n",
    "        return sum(d.face for d in self.dice) + self.adjust"
   ]
  },
  {
   "cell_type": "code",
   "execution_count": 60,
   "id": "31c3ddb1-dcf6-407d-b734-d9bc696e96e1",
   "metadata": {},
   "outputs": [],
   "source": [
    "def __add__(self, die_class: Any) -> \"DDice\":\n",
    "    if isinstance(die_class, type) and insubclass(die_class, Die):\n",
    "        new_classes = [type(d) for d in self.dice] + [die_class]\n",
    "        new = DDice(*new_classes).plus(self.adjust)\n",
    "        return new\n",
    "    elif isinstance(die_class, int):\n",
    "        new_classes = [type(d) for d in self.dice]\n",
    "        new = DDice(*new_classes).plus(die_class)\n",
    "        return new\n",
    "    else:\n",
    "        return NotImplemented\n",
    "\n",
    "def __radd__(self, die_class: Any) -> \"DDice\":\n",
    "    if isinstance(die_class, type) and issubclass(die_class, Die):\n",
    "        new_classes = [die_class] + [type(d) for d in self.dice]\n",
    "        new = DDice(*new_classes).plus(self.adjust)\n",
    "        return new\n",
    "    elif isinstance(die_class, int):\n",
    "        new_classes = [type(d) for d in self.dice]\n",
    "        new = DDice(*new_classes).plus(die_class)\n",
    "        return new\n",
    "    else:\n",
    "        return NotImplemented\n",
    "    "
   ]
  },
  {
   "cell_type": "code",
   "execution_count": 61,
   "id": "75af9d92-8d13-4902-a077-e86447c7060f",
   "metadata": {},
   "outputs": [],
   "source": [
    "def __mul__(self, n: Any) -> \"DDice\":\n",
    "    if isinstance(n, int):\n",
    "        new_classes = [type(d) for d in self.dice for _ in range(n)]\n",
    "        return DDice(*new_classes).plus(self.adjust)\n",
    "    else:\n",
    "        return NotImplemented\n",
    "\n",
    "def __rmul__(self, n: Any) -> \"DDice\":\n",
    "    if instance(n, int):\n",
    "        new_classes = [type(d) for d in self.dice for _ in range(n)]\n",
    "        return DDice(*new_classes).plus(self.adjust)\n",
    "    else:\n",
    "        return NotImplemented"
   ]
  },
  {
   "cell_type": "code",
   "execution_count": 64,
   "id": "668bd3c6-1d34-40c5-a680-f044190a848c",
   "metadata": {},
   "outputs": [],
   "source": [
    "y = DDice(D6, D6)"
   ]
  },
  {
   "cell_type": "code",
   "execution_count": 66,
   "id": "55b4b671-67e4-43de-96ad-42aeb2f263a2",
   "metadata": {},
   "outputs": [],
   "source": [
    "# y += D6"
   ]
  },
  {
   "cell_type": "code",
   "execution_count": 68,
   "id": "b2ddbe4c-6ac3-4c8c-9ad1-f57077483845",
   "metadata": {},
   "outputs": [],
   "source": [
    "def __iadd__(self, die_class: Any) -> \"DDice\":\n",
    "    if isinstance(die_class, type) and issubclass(die_class, Die):\n",
    "        self.dice += [die_class()]\n",
    "        return self\n",
    "    elif isinstance(die_class, int):\n",
    "        self.adjust += die_class\n",
    "        return self\n",
    "    else:\n",
    "        return NotImplemented"
   ]
  },
  {
   "cell_type": "code",
   "execution_count": 69,
   "id": "f398aa07-90b5-458c-a891-e29c139732ab",
   "metadata": {},
   "outputs": [],
   "source": [
    "y = DDice(D6, D6)"
   ]
  },
  {
   "cell_type": "code",
   "execution_count": 73,
   "id": "b77d13f0-b408-4fd0-bc90-f894d1b1824b",
   "metadata": {},
   "outputs": [],
   "source": [
    "# y += D6"
   ]
  },
  {
   "cell_type": "code",
   "execution_count": 75,
   "id": "30aad273-2751-4503-ab2c-ac6b7c0c161c",
   "metadata": {},
   "outputs": [],
   "source": [
    "# y += 2"
   ]
  },
  {
   "cell_type": "markdown",
   "id": "46eb4708-c275-4f6b-a78a-2379bb29d3e7",
   "metadata": {},
   "source": [
    "### Extending Built-ins"
   ]
  },
  {
   "cell_type": "code",
   "execution_count": 78,
   "id": "08415b2b-b598-4d83-b717-e636367393f6",
   "metadata": {},
   "outputs": [],
   "source": [
    "d = {\"a\": 42, \"a\": 3.14}"
   ]
  },
  {
   "cell_type": "code",
   "execution_count": 79,
   "id": "9c317a02-a3e2-44aa-995d-7dbb35d78adc",
   "metadata": {},
   "outputs": [
    {
     "data": {
      "text/plain": [
       "{'a': 3.14}"
      ]
     },
     "execution_count": 79,
     "metadata": {},
     "output_type": "execute_result"
    }
   ],
   "source": [
    "d"
   ]
  },
  {
   "cell_type": "code",
   "execution_count": 80,
   "id": "d272e7b2-2795-4b22-babb-d2ded06ebda5",
   "metadata": {},
   "outputs": [
    {
     "data": {
      "text/plain": [
       "{1: 'true'}"
      ]
     },
     "execution_count": 80,
     "metadata": {},
     "output_type": "execute_result"
    }
   ],
   "source": [
    "{1: \"one\", True: \"true\"}"
   ]
  },
  {
   "cell_type": "code",
   "execution_count": 85,
   "id": "2499dd11-eb53-4e7a-8d7e-44e214911fe1",
   "metadata": {},
   "outputs": [],
   "source": [
    "class NoDupDict(Dict[Hashable, Any]):\n",
    "    def __setitem__(self, key, value) -> None:\n",
    "        if key in self:\n",
    "            raise ValueError(f\"duplicate {key!r}\")\n",
    "        super().__setitem__(key, value)"
   ]
  },
  {
   "cell_type": "code",
   "execution_count": 86,
   "id": "c0124041-4ba3-43e7-9f31-f11f83f20b47",
   "metadata": {},
   "outputs": [],
   "source": [
    "nd = NoDupDict()"
   ]
  },
  {
   "cell_type": "code",
   "execution_count": 89,
   "id": "0e09fa6c-798f-49e0-8f02-ff690d895616",
   "metadata": {},
   "outputs": [
    {
     "ename": "ValueError",
     "evalue": "duplicate 'a'",
     "output_type": "error",
     "traceback": [
      "\u001b[0;31m---------------------------------------------------------------------------\u001b[0m",
      "\u001b[0;31mValueError\u001b[0m                                Traceback (most recent call last)",
      "Cell \u001b[0;32mIn[89], line 1\u001b[0m\n\u001b[0;32m----> 1\u001b[0m nd[\u001b[38;5;124m\"\u001b[39m\u001b[38;5;124ma\u001b[39m\u001b[38;5;124m\"\u001b[39m] \u001b[38;5;241m=\u001b[39m \u001b[38;5;241m1\u001b[39m\n\u001b[1;32m      2\u001b[0m nd[\u001b[38;5;124m\"\u001b[39m\u001b[38;5;124ma\u001b[39m\u001b[38;5;124m\"\u001b[39m] \u001b[38;5;241m=\u001b[39m \u001b[38;5;241m2\u001b[39m\n",
      "Cell \u001b[0;32mIn[85], line 4\u001b[0m, in \u001b[0;36mNoDupDict.__setitem__\u001b[0;34m(self, key, value)\u001b[0m\n\u001b[1;32m      2\u001b[0m \u001b[38;5;28;01mdef\u001b[39;00m \u001b[38;5;21m__setitem__\u001b[39m(\u001b[38;5;28mself\u001b[39m, key, value) \u001b[38;5;241m-\u001b[39m\u001b[38;5;241m>\u001b[39m \u001b[38;5;28;01mNone\u001b[39;00m:\n\u001b[1;32m      3\u001b[0m     \u001b[38;5;28;01mif\u001b[39;00m key \u001b[38;5;129;01min\u001b[39;00m \u001b[38;5;28mself\u001b[39m:\n\u001b[0;32m----> 4\u001b[0m         \u001b[38;5;28;01mraise\u001b[39;00m \u001b[38;5;167;01mValueError\u001b[39;00m(\u001b[38;5;124mf\u001b[39m\u001b[38;5;124m\"\u001b[39m\u001b[38;5;124mduplicate \u001b[39m\u001b[38;5;132;01m{\u001b[39;00mkey\u001b[38;5;132;01m!r}\u001b[39;00m\u001b[38;5;124m\"\u001b[39m)\n\u001b[1;32m      5\u001b[0m     \u001b[38;5;28msuper\u001b[39m()\u001b[38;5;241m.\u001b[39m\u001b[38;5;21m__setitem__\u001b[39m(key, value)\n",
      "\u001b[0;31mValueError\u001b[0m: duplicate 'a'"
     ]
    }
   ],
   "source": [
    "nd[\"a\"] = 1\n",
    "nd[\"a\"] = 2"
   ]
  },
  {
   "cell_type": "code",
   "execution_count": 90,
   "id": "47cf8df2-712f-42e6-8dbe-154ea1dfc285",
   "metadata": {},
   "outputs": [
    {
     "data": {
      "text/plain": [
       "{'a': 3.14}"
      ]
     },
     "execution_count": 90,
     "metadata": {},
     "output_type": "execute_result"
    }
   ],
   "source": [
    "NoDupDict({\"a\": 42, \"a\": 3.14})"
   ]
  },
  {
   "cell_type": "code",
   "execution_count": 91,
   "id": "97888af1-fef5-4975-ac53-586a6f45b7ca",
   "metadata": {},
   "outputs": [],
   "source": [
    "DictInit = Union[\n",
    "    Iterable[Tuple[Hashable, Any]],\n",
    "    Mapping[Hashable, Any],\n",
    "    None]"
   ]
  },
  {
   "cell_type": "code",
   "execution_count": 92,
   "id": "2a8177bb-9d2f-4061-b894-63408416995b",
   "metadata": {},
   "outputs": [],
   "source": [
    "class NonDupDict(Dict[Hashable, Any]):\n",
    "    def __setitem__(self, key: Hashable, value: Any) -> None:\n",
    "        if key in self:\n",
    "            raise ValueError(f\"duplicate {key!r}\")\n",
    "        super().__setitem__(key, value)\n",
    "\n",
    "    def __init__(self, init: DictInit = None, **kwargs: Any) -> None:\n",
    "        if isinstance(init, Mapping):\n",
    "            super().__init__(init, **kwargs)\n",
    "        elif isisntance(init, **kwargs):\n",
    "            for k, v in cast(Iterable[Tuple[Hashable, Any]], init):\n",
    "                self[k] = v\n",
    "        elif init is None:\n",
    "            super().__init__(**kwargs)\n",
    "        else:\n",
    "            super().__init__(init, **kwargs)\n",
    "\n",
    "    "
   ]
  },
  {
   "cell_type": "markdown",
   "id": "e9273763-9e1d-440f-9377-fd774fa92da2",
   "metadata": {},
   "source": [
    "### Metaclasses"
   ]
  },
  {
   "cell_type": "code",
   "execution_count": null,
   "id": "5eba8cd7-3aa3-4e8a-8c0e-786479239123",
   "metadata": {},
   "outputs": [],
   "source": []
  }
 ],
 "metadata": {
  "kernelspec": {
   "display_name": "Python 3 (ipykernel)",
   "language": "python",
   "name": "python3"
  },
  "language_info": {
   "codemirror_mode": {
    "name": "ipython",
    "version": 3
   },
   "file_extension": ".py",
   "mimetype": "text/x-python",
   "name": "python",
   "nbconvert_exporter": "python",
   "pygments_lexer": "ipython3",
   "version": "3.11.9"
  }
 },
 "nbformat": 4,
 "nbformat_minor": 5
}
