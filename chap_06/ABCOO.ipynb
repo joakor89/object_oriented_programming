{
 "cells": [
  {
   "cell_type": "markdown",
   "id": "c491ebe2-083b-4296-8c53-08f7c9c8f72c",
   "metadata": {},
   "source": [
    "# Abstract Base Classes & Operator Overloading\n",
    "\n",
    "### Loading Libraries"
   ]
  },
  {
   "cell_type": "code",
   "execution_count": 87,
   "id": "fdd297a1-1f5d-4ee2-9e0f-9232799bf1cb",
   "metadata": {},
   "outputs": [],
   "source": [
    "# Math\n",
    "import math\n",
    "from math import hypot\n",
    "\n",
    "# OS\n",
    "import re\n",
    "import abc\n",
    "import time\n",
    "import random\n",
    "import bisect\n",
    "import zipfile\n",
    "import fnmatch\n",
    "from pathlib import Path\n",
    "from decimal import Decimal\n",
    "from urllib.request import urlopen\n",
    "from __future__ import annotations\n",
    "from collections.abc import Container, Mapping\n",
    "from typing import List, Protocol, NoReturn, Union, Set, Tuple, Optional, Iterable, Iterator, cast, TypeVar, Any, overload, Union, Sequence\n",
    "\n",
    "Comparable = TypeVar('Comparable')\n",
    "\n",
    "BaseMapping = Mapping[Comparable, Any]\n",
    "\n",
    "# Numerical Computing\n",
    "import numpy as np\n",
    "\n",
    "# Data Manipulation\n",
    "import pandas as pd\n",
    "\n",
    "# Data Visualization\n",
    "import seaborn\n",
    "import matplotlib.pyplot as plt"
   ]
  },
  {
   "cell_type": "markdown",
   "id": "1dca325e-088a-424c-afc2-8936cc5ee919",
   "metadata": {},
   "source": [
    "### Creating an Abstract Base Class"
   ]
  },
  {
   "cell_type": "code",
   "execution_count": 42,
   "id": "eafc8089-4bd6-43f5-a619-2c7b16b8e666",
   "metadata": {},
   "outputs": [],
   "source": [
    "class MediaLoader(abc.ABC):\n",
    "    @abc.abstractmethod\n",
    "    def play(self) -> None:\n",
    "        ...\n",
    "\n",
    "    @property\n",
    "    @abc.abstractmethod\n",
    "    def ext(self) -> str:\n",
    "        ..."
   ]
  },
  {
   "cell_type": "code",
   "execution_count": 43,
   "id": "c0fdbc08-59cb-4911-bf3d-ed6735dcf62d",
   "metadata": {},
   "outputs": [
    {
     "data": {
      "text/plain": [
       "frozenset({'ext', 'play'})"
      ]
     },
     "execution_count": 43,
     "metadata": {},
     "output_type": "execute_result"
    }
   ],
   "source": [
    "MediaLoader.__abstractmethods__"
   ]
  },
  {
   "cell_type": "code",
   "execution_count": 44,
   "id": "7ae785f3-3dc1-4c9a-9afc-14f88d26407d",
   "metadata": {},
   "outputs": [],
   "source": [
    "class Wav(MediaLoader):\n",
    "    pass"
   ]
  },
  {
   "cell_type": "code",
   "execution_count": 45,
   "id": "be5bb6c9-d6b6-459d-bf14-eca366f84d4b",
   "metadata": {},
   "outputs": [
    {
     "ename": "TypeError",
     "evalue": "Can't instantiate abstract class Wav with abstract methods ext, play",
     "output_type": "error",
     "traceback": [
      "\u001b[0;31m---------------------------------------------------------------------------\u001b[0m",
      "\u001b[0;31mTypeError\u001b[0m                                 Traceback (most recent call last)",
      "Cell \u001b[0;32mIn[45], line 1\u001b[0m\n\u001b[0;32m----> 1\u001b[0m x \u001b[38;5;241m=\u001b[39m Wav()\n",
      "\u001b[0;31mTypeError\u001b[0m: Can't instantiate abstract class Wav with abstract methods ext, play"
     ]
    }
   ],
   "source": [
    "x = Wav()"
   ]
  },
  {
   "cell_type": "code",
   "execution_count": 46,
   "id": "e6e30241-9809-40e9-aac4-9496e14d676f",
   "metadata": {},
   "outputs": [],
   "source": [
    "class Ogg(MediaLoader):\n",
    "    ext = '.ogg'\n",
    "    def play(self):\n",
    "        pass"
   ]
  },
  {
   "cell_type": "code",
   "execution_count": 47,
   "id": "4627c624-3de5-4cf7-bfc0-fe1d1ecbfaa0",
   "metadata": {},
   "outputs": [],
   "source": [
    "o = Ogg()"
   ]
  },
  {
   "cell_type": "markdown",
   "id": "7625cd3a-f3e1-405e-b037-e0382d8e6b01",
   "metadata": {},
   "source": [
    "### The ABC of Collections"
   ]
  },
  {
   "cell_type": "code",
   "execution_count": 48,
   "id": "8a272c8e-5d96-4b81-8228-d36b69103113",
   "metadata": {},
   "outputs": [
    {
     "data": {
      "text/plain": [
       "frozenset({'__contains__'})"
      ]
     },
     "execution_count": 48,
     "metadata": {},
     "output_type": "execute_result"
    }
   ],
   "source": [
    "Container.__abstractmethods__"
   ]
  },
  {
   "cell_type": "code",
   "execution_count": 49,
   "id": "69163ef3-2dab-4a3f-9378-7400811dd0a9",
   "metadata": {},
   "outputs": [
    {
     "name": "stdout",
     "output_type": "stream",
     "text": [
      "Help on function __contains__ in module collections.abc:\n",
      "\n",
      "__contains__(self, x)\n",
      "\n"
     ]
    }
   ],
   "source": [
    "help(Container.__contains__)"
   ]
  },
  {
   "cell_type": "code",
   "execution_count": 50,
   "id": "87fb20af-fb37-41b9-826e-7b32d3dfcce0",
   "metadata": {},
   "outputs": [],
   "source": [
    "class OddIntegers:\n",
    "    def __contains__(self, x: int) -> bool:\n",
    "        return x % 2 != 0"
   ]
  },
  {
   "cell_type": "code",
   "execution_count": 51,
   "id": "327a64e6-f8eb-452d-ad20-a5d498269c4f",
   "metadata": {},
   "outputs": [],
   "source": [
    "odd = OddIntegers()"
   ]
  },
  {
   "cell_type": "code",
   "execution_count": 52,
   "id": "c330e90d-e97e-4afa-8760-4c9044738aa9",
   "metadata": {},
   "outputs": [
    {
     "data": {
      "text/plain": [
       "True"
      ]
     },
     "execution_count": 52,
     "metadata": {},
     "output_type": "execute_result"
    }
   ],
   "source": [
    "isinstance(odd, Container)"
   ]
  },
  {
   "cell_type": "code",
   "execution_count": 53,
   "id": "f0fed6cf-9019-4276-a678-f63a1ce6481f",
   "metadata": {},
   "outputs": [
    {
     "data": {
      "text/plain": [
       "True"
      ]
     },
     "execution_count": 53,
     "metadata": {},
     "output_type": "execute_result"
    }
   ],
   "source": [
    "issubclass(OddIntegers, Container)"
   ]
  },
  {
   "cell_type": "code",
   "execution_count": 54,
   "id": "38b3d873-ac54-4fd0-8537-0fda5536b9cf",
   "metadata": {},
   "outputs": [],
   "source": [
    "odd = OddIntegers()"
   ]
  },
  {
   "cell_type": "code",
   "execution_count": 55,
   "id": "41e3f0ab-bb4d-44bb-9863-29e3d2a8c878",
   "metadata": {},
   "outputs": [
    {
     "data": {
      "text/plain": [
       "True"
      ]
     },
     "execution_count": 55,
     "metadata": {},
     "output_type": "execute_result"
    }
   ],
   "source": [
    "1 in odd"
   ]
  },
  {
   "cell_type": "code",
   "execution_count": 56,
   "id": "ad107cc2-6c2b-4bcf-9c16-f60bfdda8162",
   "metadata": {},
   "outputs": [
    {
     "data": {
      "text/plain": [
       "False"
      ]
     },
     "execution_count": 56,
     "metadata": {},
     "output_type": "execute_result"
    }
   ],
   "source": [
    "2 in odd"
   ]
  },
  {
   "cell_type": "code",
   "execution_count": 57,
   "id": "453ca585-6911-4dd8-a062-1484136cf92d",
   "metadata": {},
   "outputs": [
    {
     "data": {
      "text/plain": [
       "True"
      ]
     },
     "execution_count": 57,
     "metadata": {},
     "output_type": "execute_result"
    }
   ],
   "source": [
    "3 in odd"
   ]
  },
  {
   "cell_type": "markdown",
   "id": "ef996841-f878-4626-9148-122f16d9a7f0",
   "metadata": {},
   "source": [
    "### The `collections.abc` Module"
   ]
  },
  {
   "cell_type": "code",
   "execution_count": 59,
   "id": "114ec122-b789-4511-83be-a05e40ca87f8",
   "metadata": {},
   "outputs": [],
   "source": [
    "Comparable = TypeVar('Comparable')\n",
    "\n",
    "BaseMapping = Mapping[Comparable, Any]"
   ]
  },
  {
   "cell_type": "code",
   "execution_count": 60,
   "id": "8ab4f7ff-0a19-4c81-ae29-bba8ef0c16d7",
   "metadata": {},
   "outputs": [],
   "source": [
    "x = dict({\"a\": 42, \"b\": 7, \"c\": 6})\n",
    "\n",
    "y = dict([(\"a\", 42), (\"b\", 7), (\"c\", 6)])"
   ]
  },
  {
   "cell_type": "code",
   "execution_count": 61,
   "id": "1a2a2c2d-51b8-400b-812f-a9c40abcf25f",
   "metadata": {},
   "outputs": [
    {
     "data": {
      "text/plain": [
       "True"
      ]
     },
     "execution_count": 61,
     "metadata": {},
     "output_type": "execute_result"
    }
   ],
   "source": [
    "x == y"
   ]
  },
  {
   "cell_type": "code",
   "execution_count": 66,
   "id": "ae577dfe-77f4-4f59-99cc-0dd1910a8313",
   "metadata": {},
   "outputs": [],
   "source": [
    "BaseMapping = Mapping[Comparable, Any]\n",
    "class Lookup(BaseMapping):\n",
    "    @overload\n",
    "    def __init__(self, source: Iterable[tuple[Comparable, Any]]) -> None:\n",
    "        ...\n",
    "\n",
    "    @overload\n",
    "    def __init__(self, source: BaseMapping) -> None:\n",
    "        ...\n",
    "\n",
    "    def __init__(self, source: Union[Iterable[tuple[Comparable, Any]], BaseMapping, None] = None,) ->None:\n",
    "        sorted_pairs: Sequence[tuple[Comparable, Any]]\n",
    "        if isinstance(source, Sequence):\n",
    "            sorted_pairs = sorted(source)\n",
    "        elif isinstance(source, abc.Mapping):\n",
    "            sorted_pairs = sorted(source.items())\n",
    "        else:\n",
    "            sorted_pairs = []\n",
    "        self.key_list = [p[0] for p in sorted_pairs]\n",
    "        self.value_list = [p[1] for p in sorted_pairs]\n",
    "\n",
    "    def __len__(self) -> int:\n",
    "        return len(self.key_list)\n",
    "\n",
    "    def __iter__(self) -> Iterator[Comparable]:\n",
    "        return iter(self.key_list)\n",
    "\n",
    "    def __contains__(self, key: object) -> bool:\n",
    "        index = bisect.bisect_left(self.key_list, key)\n",
    "        return key == self.key_list[index]\n",
    "\n",
    "    def __getitem__(self, key: Comparable) -> Any:\n",
    "        index = bisect.bisect_left(self.key_list, key)\n",
    "        if key == self.key_list[index]:\n",
    "            return self.value_list[index]\n",
    "        raise KeyError(key)"
   ]
  },
  {
   "cell_type": "code",
   "execution_count": 71,
   "id": "7cdb8d5d-5875-4b34-9b39-c65a07ceec18",
   "metadata": {},
   "outputs": [],
   "source": [
    "x = Lookup(\n",
    "    [\n",
    "        [\"z\", \"Zillah\"],\n",
    "        [\"a\", \"Amy\"],\n",
    "        [\"c\", \"Clara\"],\n",
    "        [\"b\", \"Basil\"],\n",
    "    ]\n",
    ")"
   ]
  },
  {
   "cell_type": "code",
   "execution_count": 74,
   "id": "60fff1e3-89dd-4fde-ad35-999c7c8239bb",
   "metadata": {},
   "outputs": [
    {
     "data": {
      "text/plain": [
       "'Clara'"
      ]
     },
     "execution_count": 74,
     "metadata": {},
     "output_type": "execute_result"
    }
   ],
   "source": [
    "x[\"c\"]"
   ]
  },
  {
   "cell_type": "code",
   "execution_count": 75,
   "id": "0adefa4b-4005-40cc-8fa3-0cdf08db600f",
   "metadata": {},
   "outputs": [
    {
     "ename": "TypeError",
     "evalue": "'Lookup' object does not support item assignment",
     "output_type": "error",
     "traceback": [
      "\u001b[0;31m---------------------------------------------------------------------------\u001b[0m",
      "\u001b[0;31mTypeError\u001b[0m                                 Traceback (most recent call last)",
      "Cell \u001b[0;32mIn[75], line 1\u001b[0m\n\u001b[0;32m----> 1\u001b[0m x[\u001b[38;5;124m\"\u001b[39m\u001b[38;5;124mm\u001b[39m\u001b[38;5;124m\"\u001b[39m] \u001b[38;5;241m=\u001b[39m \u001b[38;5;124m\"\u001b[39m\u001b[38;5;124mMaud\u001b[39m\u001b[38;5;124m\"\u001b[39m\n",
      "\u001b[0;31mTypeError\u001b[0m: 'Lookup' object does not support item assignment"
     ]
    }
   ],
   "source": [
    "x[\"m\"] = \"Maud\""
   ]
  },
  {
   "cell_type": "code",
   "execution_count": 76,
   "id": "814c4cd1-efa5-47df-9aee-babb04877aac",
   "metadata": {},
   "outputs": [],
   "source": [
    "class Comparable(Protocol):\n",
    "    def __eq__(self, other:Any) -> bool: ...\n",
    "    def __ne__(self, other:Any) -> bool: ...\n",
    "    def __le__(self, other:Any) -> bool: ...\n",
    "    def __lt__(self, other:Any) -> bool: ...\n",
    "    def __ge__(self, other:Any) -> bool: ...\n",
    "    def __gt__(self, other:Any) -> bool: ..."
   ]
  },
  {
   "cell_type": "code",
   "execution_count": 77,
   "id": "d41c56e3-865d-4123-926b-71636bc7d7ae",
   "metadata": {},
   "outputs": [],
   "source": [
    "class Die (abc.ABC):\n",
    "    def __init__(self) -> None:\n",
    "        self.face: int\n",
    "        self.roll()\n",
    "\n",
    "    @abc.abstractmethod\n",
    "    def roll(self) -> None:\n",
    "        ...\n",
    "\n",
    "    def __repr__(self) -> str:\n",
    "        return f\"{self.face}\""
   ]
  },
  {
   "cell_type": "code",
   "execution_count": 78,
   "id": "7549e179-d489-493d-806e-23fc5ef526ac",
   "metadata": {},
   "outputs": [
    {
     "data": {
      "text/plain": [
       "'\\nMessy Code Sample as follow:\\n'"
      ]
     },
     "execution_count": 78,
     "metadata": {},
     "output_type": "execute_result"
    }
   ],
   "source": [
    "\"\"\"\n",
    "Messy Code Sample as follow:\n",
    "\"\"\"\n",
    "\n",
    "# class Bad(Die):\n",
    "#     def roll(self, a: int, b: int) -> float:\n",
    "#         return (a+b)/2"
   ]
  },
  {
   "cell_type": "code",
   "execution_count": 79,
   "id": "895927a3-3b0f-41aa-bec4-ba9fb0a34b44",
   "metadata": {},
   "outputs": [],
   "source": [
    "class D4(Die):\n",
    "    def roll(self) -> None:\n",
    "        self.face = random.choice((1, 2, 3, 4))"
   ]
  },
  {
   "cell_type": "code",
   "execution_count": 80,
   "id": "9434edba-d7d1-4a29-a6b2-708763aa2b80",
   "metadata": {},
   "outputs": [],
   "source": [
    "class D6(Die):\n",
    "    def roll(self) -> None:\n",
    "        self.face = random.randint(1, 6)"
   ]
  },
  {
   "cell_type": "code",
   "execution_count": 81,
   "id": "0cf5d2b5-4c3f-4d6e-b9c8-ca600f72b96c",
   "metadata": {},
   "outputs": [],
   "source": [
    "class Dice(abc.ABC):\n",
    "    def __init__(self, n: int, die_class: Type[Die]) -> None:\n",
    "        self.dice = [die_class() for _ in range(n)]\n",
    "\n",
    "    @abc.abstractmethod\n",
    "    def roll(self) -> None:\n",
    "        ...\n",
    "\n",
    "    @property\n",
    "    def total(self) -> int:\n",
    "        return sum(d.face for d in self.dice)"
   ]
  },
  {
   "cell_type": "code",
   "execution_count": 85,
   "id": "03650e5b-9ec0-4c0d-8e24-6a0bbe7a87eb",
   "metadata": {},
   "outputs": [],
   "source": [
    "class SimpleDice(Dice):\n",
    "    def roll(self) -> None:\n",
    "        for d in self.dice:\n",
    "            d.roll()"
   ]
  },
  {
   "cell_type": "code",
   "execution_count": 88,
   "id": "08213210-a7b9-4359-80fe-ffa10fd9c5f4",
   "metadata": {},
   "outputs": [],
   "source": [
    "sd = SimpleDice(6, D6)"
   ]
  },
  {
   "cell_type": "code",
   "execution_count": 89,
   "id": "c6c76a71-f736-44a9-9717-bed235770c27",
   "metadata": {},
   "outputs": [],
   "source": [
    "sd.roll()"
   ]
  },
  {
   "cell_type": "code",
   "execution_count": 90,
   "id": "95088a70-f49e-4793-a416-b57e48d81759",
   "metadata": {},
   "outputs": [
    {
     "data": {
      "text/plain": [
       "18"
      ]
     },
     "execution_count": 90,
     "metadata": {},
     "output_type": "execute_result"
    }
   ],
   "source": [
    "sd.total"
   ]
  },
  {
   "cell_type": "code",
   "execution_count": 91,
   "id": "4464ceed-07d0-4109-aba6-9a69355db871",
   "metadata": {},
   "outputs": [],
   "source": [
    "class YatchDice(Dice):\n",
    "    def __init__(self) -> None:\n",
    "        super().__init__(5, D6)\n",
    "        self.saved: Set[int] = set()\n",
    "\n",
    "    def saving(self, positions: Iterable[int]) -> \"YatchDice\":\n",
    "        if not all(0 <= n < 6 for n in positions):\n",
    "            raise ValueError(\"Invalid position\")\n",
    "        self.saved = set(positions)\n",
    "        return self\n",
    "\n",
    "    def roll(self) -> None:\n",
    "        for n, d in enumerate(self.dice):\n",
    "            if n not in self.saved:\n",
    "                d.roll()\n",
    "        self.saved = set()"
   ]
  },
  {
   "cell_type": "code",
   "execution_count": 92,
   "id": "755d1a55-a2ee-4faf-88dd-db16acf9855a",
   "metadata": {},
   "outputs": [],
   "source": [
    "sd = YatchDice()"
   ]
  },
  {
   "cell_type": "code",
   "execution_count": 93,
   "id": "684d2a7a-2f97-430e-bad0-c68a51f6f0f5",
   "metadata": {},
   "outputs": [],
   "source": [
    "sd.roll()"
   ]
  },
  {
   "cell_type": "code",
   "execution_count": 94,
   "id": "b91d78c9-75da-48e2-a639-9637b9091ea4",
   "metadata": {},
   "outputs": [
    {
     "data": {
      "text/plain": [
       "[6, 3, 5, 1, 6]"
      ]
     },
     "execution_count": 94,
     "metadata": {},
     "output_type": "execute_result"
    }
   ],
   "source": [
    "sd.dice"
   ]
  },
  {
   "cell_type": "code",
   "execution_count": 95,
   "id": "ffcfb491-8685-485e-9717-3c41bee4a923",
   "metadata": {},
   "outputs": [],
   "source": [
    "sd.saving([0, 1, 2]).roll()"
   ]
  },
  {
   "cell_type": "code",
   "execution_count": 96,
   "id": "f50605e4-c794-4e8c-a82a-69824e520740",
   "metadata": {},
   "outputs": [
    {
     "data": {
      "text/plain": [
       "[6, 3, 5, 2, 2]"
      ]
     },
     "execution_count": 96,
     "metadata": {},
     "output_type": "execute_result"
    }
   ],
   "source": [
    "sd.dice"
   ]
  },
  {
   "cell_type": "code",
   "execution_count": null,
   "id": "07cb966c-2bf0-4eab-920e-9293e22b9238",
   "metadata": {},
   "outputs": [],
   "source": []
  }
 ],
 "metadata": {
  "kernelspec": {
   "display_name": "Python 3 (ipykernel)",
   "language": "python",
   "name": "python3"
  },
  "language_info": {
   "codemirror_mode": {
    "name": "ipython",
    "version": 3
   },
   "file_extension": ".py",
   "mimetype": "text/x-python",
   "name": "python",
   "nbconvert_exporter": "python",
   "pygments_lexer": "ipython3",
   "version": "3.11.9"
  }
 },
 "nbformat": 4,
 "nbformat_minor": 5
}
