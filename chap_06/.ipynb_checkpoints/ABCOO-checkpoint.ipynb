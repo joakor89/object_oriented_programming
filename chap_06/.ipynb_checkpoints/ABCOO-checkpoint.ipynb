{
 "cells": [
  {
   "cell_type": "markdown",
   "id": "c491ebe2-083b-4296-8c53-08f7c9c8f72c",
   "metadata": {},
   "source": [
    "# Abstract Base Classes & Operator Overloading\n",
    "\n",
    "### Loading Libraries"
   ]
  },
  {
   "cell_type": "code",
   "execution_count": 1,
   "id": "fdd297a1-1f5d-4ee2-9e0f-9232799bf1cb",
   "metadata": {},
   "outputs": [],
   "source": [
    "# Math\n",
    "import math\n",
    "from math import hypot\n",
    "\n",
    "# OS\n",
    "import re\n",
    "import abc\n",
    "import time\n",
    "import zipfile\n",
    "import fnmatch\n",
    "from pathlib import Path\n",
    "from decimal import Decimal\n",
    "from urllib.request import urlopen\n",
    "from __future__ import annotations\n",
    "from collections.abc import Container\n",
    "from typing import List, Protocol, NoReturn, Union, Set, Tuple, Optional, Iterable, cast\n",
    "\n",
    "# Numerical Computing\n",
    "import numpy as np\n",
    "\n",
    "# Data Manipulation\n",
    "import pandas as pd\n",
    "\n",
    "# Data Visualization\n",
    "import seaborn\n",
    "import matplotlib.pyplot as plt"
   ]
  },
  {
   "cell_type": "markdown",
   "id": "1dca325e-088a-424c-afc2-8936cc5ee919",
   "metadata": {},
   "source": [
    "### Creating an Abstract Base Class"
   ]
  },
  {
   "cell_type": "code",
   "execution_count": 2,
   "id": "eafc8089-4bd6-43f5-a619-2c7b16b8e666",
   "metadata": {},
   "outputs": [],
   "source": [
    "class MediaLoader(abc.ABC):\n",
    "    @abc.abstractmethod\n",
    "    def play(self) -> None:\n",
    "        ...\n",
    "\n",
    "    @property\n",
    "    @abc.abstractmethod\n",
    "    def ext(self) -> str:\n",
    "        ..."
   ]
  },
  {
   "cell_type": "code",
   "execution_count": 3,
   "id": "c0fdbc08-59cb-4911-bf3d-ed6735dcf62d",
   "metadata": {},
   "outputs": [
    {
     "data": {
      "text/plain": [
       "frozenset({'ext', 'play'})"
      ]
     },
     "execution_count": 3,
     "metadata": {},
     "output_type": "execute_result"
    }
   ],
   "source": [
    "MediaLoader.__abstractmethods__"
   ]
  },
  {
   "cell_type": "code",
   "execution_count": 4,
   "id": "7ae785f3-3dc1-4c9a-9afc-14f88d26407d",
   "metadata": {},
   "outputs": [],
   "source": [
    "class Wav(MediaLoader):\n",
    "    pass"
   ]
  },
  {
   "cell_type": "code",
   "execution_count": 5,
   "id": "be5bb6c9-d6b6-459d-bf14-eca366f84d4b",
   "metadata": {},
   "outputs": [
    {
     "ename": "TypeError",
     "evalue": "Can't instantiate abstract class Wav with abstract methods ext, play",
     "output_type": "error",
     "traceback": [
      "\u001b[0;31m---------------------------------------------------------------------------\u001b[0m",
      "\u001b[0;31mTypeError\u001b[0m                                 Traceback (most recent call last)",
      "Cell \u001b[0;32mIn[5], line 1\u001b[0m\n\u001b[0;32m----> 1\u001b[0m x \u001b[38;5;241m=\u001b[39m Wav()\n",
      "\u001b[0;31mTypeError\u001b[0m: Can't instantiate abstract class Wav with abstract methods ext, play"
     ]
    }
   ],
   "source": [
    "x = Wav()"
   ]
  },
  {
   "cell_type": "code",
   "execution_count": 6,
   "id": "e6e30241-9809-40e9-aac4-9496e14d676f",
   "metadata": {},
   "outputs": [],
   "source": [
    "class Ogg(MediaLoader):\n",
    "    ext = '.ogg'\n",
    "    def play(self):\n",
    "        pass"
   ]
  },
  {
   "cell_type": "code",
   "execution_count": 7,
   "id": "4627c624-3de5-4cf7-bfc0-fe1d1ecbfaa0",
   "metadata": {},
   "outputs": [],
   "source": [
    "o = Ogg()"
   ]
  },
  {
   "cell_type": "markdown",
   "id": "7625cd3a-f3e1-405e-b037-e0382d8e6b01",
   "metadata": {},
   "source": [
    "### The ABC of Collections"
   ]
  },
  {
   "cell_type": "code",
   "execution_count": 8,
   "id": "8a272c8e-5d96-4b81-8228-d36b69103113",
   "metadata": {},
   "outputs": [
    {
     "data": {
      "text/plain": [
       "frozenset({'__contains__'})"
      ]
     },
     "execution_count": 8,
     "metadata": {},
     "output_type": "execute_result"
    }
   ],
   "source": [
    "Container.__abstractmethods__"
   ]
  },
  {
   "cell_type": "code",
   "execution_count": 9,
   "id": "69163ef3-2dab-4a3f-9378-7400811dd0a9",
   "metadata": {},
   "outputs": [
    {
     "name": "stdout",
     "output_type": "stream",
     "text": [
      "Help on function __contains__ in module collections.abc:\n",
      "\n",
      "__contains__(self, x)\n",
      "\n"
     ]
    }
   ],
   "source": [
    "help(Container.__contains__)"
   ]
  },
  {
   "cell_type": "code",
   "execution_count": 10,
   "id": "87fb20af-fb37-41b9-826e-7b32d3dfcce0",
   "metadata": {},
   "outputs": [],
   "source": [
    "class OddIntegers:\n",
    "    def __contains__(self, x: int) -> bool:\n",
    "        return x % 2 != 0"
   ]
  },
  {
   "cell_type": "code",
   "execution_count": 11,
   "id": "327a64e6-f8eb-452d-ad20-a5d498269c4f",
   "metadata": {},
   "outputs": [],
   "source": [
    "odd = OddIntegers()"
   ]
  },
  {
   "cell_type": "code",
   "execution_count": 12,
   "id": "c330e90d-e97e-4afa-8760-4c9044738aa9",
   "metadata": {},
   "outputs": [
    {
     "data": {
      "text/plain": [
       "True"
      ]
     },
     "execution_count": 12,
     "metadata": {},
     "output_type": "execute_result"
    }
   ],
   "source": [
    "isinstance(odd, Container)"
   ]
  },
  {
   "cell_type": "code",
   "execution_count": 13,
   "id": "f0fed6cf-9019-4276-a678-f63a1ce6481f",
   "metadata": {},
   "outputs": [
    {
     "data": {
      "text/plain": [
       "True"
      ]
     },
     "execution_count": 13,
     "metadata": {},
     "output_type": "execute_result"
    }
   ],
   "source": [
    "issubclass(OddIntegers, Container)"
   ]
  },
  {
   "cell_type": "code",
   "execution_count": 14,
   "id": "38b3d873-ac54-4fd0-8537-0fda5536b9cf",
   "metadata": {},
   "outputs": [],
   "source": [
    "odd = OddIntegers()"
   ]
  },
  {
   "cell_type": "code",
   "execution_count": 16,
   "id": "41e3f0ab-bb4d-44bb-9863-29e3d2a8c878",
   "metadata": {},
   "outputs": [
    {
     "data": {
      "text/plain": [
       "True"
      ]
     },
     "execution_count": 16,
     "metadata": {},
     "output_type": "execute_result"
    }
   ],
   "source": [
    "1 in odd"
   ]
  },
  {
   "cell_type": "code",
   "execution_count": 17,
   "id": "ad107cc2-6c2b-4bcf-9c16-f60bfdda8162",
   "metadata": {},
   "outputs": [
    {
     "data": {
      "text/plain": [
       "False"
      ]
     },
     "execution_count": 17,
     "metadata": {},
     "output_type": "execute_result"
    }
   ],
   "source": [
    "2 in odd"
   ]
  },
  {
   "cell_type": "code",
   "execution_count": 18,
   "id": "453ca585-6911-4dd8-a062-1484136cf92d",
   "metadata": {},
   "outputs": [
    {
     "data": {
      "text/plain": [
       "True"
      ]
     },
     "execution_count": 18,
     "metadata": {},
     "output_type": "execute_result"
    }
   ],
   "source": [
    "3 in odd"
   ]
  },
  {
   "cell_type": "markdown",
   "id": "ef996841-f878-4626-9148-122f16d9a7f0",
   "metadata": {},
   "source": [
    "### The `collections.abc` Module"
   ]
  },
  {
   "cell_type": "code",
   "execution_count": null,
   "id": "114ec122-b789-4511-83be-a05e40ca87f8",
   "metadata": {},
   "outputs": [],
   "source": []
  }
 ],
 "metadata": {
  "kernelspec": {
   "display_name": "Python 3 (ipykernel)",
   "language": "python",
   "name": "python3"
  },
  "language_info": {
   "codemirror_mode": {
    "name": "ipython",
    "version": 3
   },
   "file_extension": ".py",
   "mimetype": "text/x-python",
   "name": "python",
   "nbconvert_exporter": "python",
   "pygments_lexer": "ipython3",
   "version": "3.11.9"
  }
 },
 "nbformat": 4,
 "nbformat_minor": 5
}
