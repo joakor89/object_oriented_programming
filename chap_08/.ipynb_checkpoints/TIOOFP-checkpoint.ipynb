{
 "cells": [
  {
   "cell_type": "markdown",
   "id": "c292bb86-bac5-4006-842f-fd4f41d98f4f",
   "metadata": {},
   "source": [
    "# The Intersection of Object-Oriented & Functional Programming\n",
    "\n",
    "### Loading Libraries"
   ]
  },
  {
   "cell_type": "code",
   "execution_count": 51,
   "id": "00f7b102-4006-46f9-8226-c36a8bbc898e",
   "metadata": {},
   "outputs": [],
   "source": [
    "# Math\n",
    "import math\n",
    "from math import hypot\n",
    "\n",
    "# Numerical Computing\n",
    "import numpy as np\n",
    "\n",
    "# Data Manipulation\n",
    "import pandas as pd\n",
    "\n",
    "# Data Visualization\n",
    "import seaborn\n",
    "import matplotlib.pyplot as plt\n",
    "\n",
    "#\n",
    "from pprint import pprint\n",
    "\n",
    "# OS\n",
    "import re\n",
    "import sys\n",
    "import abc\n",
    "import time\n",
    "import queue\n",
    "import string\n",
    "import random\n",
    "import bisect\n",
    "import operator\n",
    "import datetime\n",
    "from decimal import Decimal\n",
    "\n",
    "# Types & Annotations\n",
    "import collections\n",
    "from __future__ import annotations\n",
    "from collections import defaultdict, Counter\n",
    "from collections.abc import Container, Mapping, Hashable\n",
    "from typing import TYPE_CHECKING\n",
    "from typing import Hashable, Mapping, TypeVar, Any, overload, Union, Sequence, Dict, Deque\n",
    "from typing import List, Protocol, NoReturn, Union, Set, Tuple, Optional, Iterable, Iterator, cast, NamedTuple\n",
    "# from typing import \n",
    "\n",
    "# Functional Tools\n",
    "from functools import wraps, total_ordering\n",
    "\n",
    "# Files & Path\n",
    "import logging\n",
    "import zipfile\n",
    "import fnmatch\n",
    "from pathlib import Path\n",
    "from urllib.request import urlopen\n",
    "from urllib.parse import urlparse\n",
    "\n",
    "# Dataclass\n",
    "from dataclasses import dataclass"
   ]
  },
  {
   "cell_type": "markdown",
   "id": "f99acfe8-ec63-4fc2-a0c0-442026dccaa6",
   "metadata": {},
   "source": [
    "## Python `built-in` Functions\n",
    "\n",
    "### The `len()` Function"
   ]
  },
  {
   "cell_type": "code",
   "execution_count": 2,
   "id": "2d35a6d4-23f1-41c1-b107-4fa79db5b243",
   "metadata": {},
   "outputs": [
    {
     "data": {
      "text/plain": [
       "4"
      ]
     },
     "execution_count": 2,
     "metadata": {},
     "output_type": "execute_result"
    }
   ],
   "source": [
    "len([1, 2, 3, 4])"
   ]
  },
  {
   "cell_type": "markdown",
   "id": "bf2f37fb-3784-40fe-a925-e05929a388ae",
   "metadata": {},
   "source": [
    "### The `reversed()` Function"
   ]
  },
  {
   "cell_type": "code",
   "execution_count": 3,
   "id": "254384bd-0cc5-4d24-8aa5-740cb6b11325",
   "metadata": {},
   "outputs": [],
   "source": [
    "class CustomSequence():\n",
    "    def __init__(self, args):\n",
    "        self._list = args\n",
    "    def __len__(self):\n",
    "        return 5\n",
    "    def __getitem__(self, index):\n",
    "        return f\"{index}\""
   ]
  },
  {
   "cell_type": "code",
   "execution_count": 4,
   "id": "0003af65-02a5-4629-a383-45ac1df982e1",
   "metadata": {},
   "outputs": [],
   "source": [
    "class FunkyBackwards(list):\n",
    "    def __reversed__(self):\n",
    "        return \"BACKWARDS!\""
   ]
  },
  {
   "cell_type": "code",
   "execution_count": 5,
   "id": "942e2b39-3126-4b5f-aa27-5424f30377bc",
   "metadata": {},
   "outputs": [],
   "source": [
    "generic = [1, 2, 3, 4, 5]"
   ]
  },
  {
   "cell_type": "code",
   "execution_count": 6,
   "id": "2f83aeef-50e5-4647-85ec-f25e9bd0763d",
   "metadata": {},
   "outputs": [],
   "source": [
    "custom = CustomSequence([6, 7, 8, 9, 10])"
   ]
  },
  {
   "cell_type": "code",
   "execution_count": 7,
   "id": "d11b63eb-8395-4fb7-8355-b7430e6d46ff",
   "metadata": {},
   "outputs": [],
   "source": [
    "funkadelic = FunkyBackwards([11, 12, 13, 14, 15])"
   ]
  },
  {
   "cell_type": "code",
   "execution_count": 8,
   "id": "ddfcba79-5f0e-46fa-966f-9bafb6631d04",
   "metadata": {},
   "outputs": [
    {
     "name": "stdout",
     "output_type": "stream",
     "text": [
      "list: 5, 4, 3, 2, 1, \n",
      "CustomSequence: 4, 3, 2, 1, 0, \n",
      "FunkyBackwards: B, A, C, K, W, A, R, D, S, !, \n"
     ]
    }
   ],
   "source": [
    "for sequence in generic, custom, funkadelic:\n",
    "    print(f\"{sequence.__class__.__name__}: \", end=\"\")\n",
    "    for item in reversed(sequence):\n",
    "        print(f\"{item}, \", end=\"\")\n",
    "    print()"
   ]
  },
  {
   "cell_type": "markdown",
   "id": "c348f0f5-e359-4fa6-8c46-9851970da8d2",
   "metadata": {},
   "source": [
    "### The `enumerate()` Function"
   ]
  },
  {
   "cell_type": "code",
   "execution_count": 9,
   "id": "d19fd75f-a694-4024-9e2b-e0d1329927be",
   "metadata": {},
   "outputs": [],
   "source": [
    "# with Path(\"docs/sample_data.md\").open() as source:\n",
    "#     for index, line in enumerate(source, start=1):\n",
    "#         print(f\"{index:3d}: {line.rstrip()}\")"
   ]
  },
  {
   "cell_type": "markdown",
   "id": "f148b04f-3c4c-4c53-9286-6f9d14ca2808",
   "metadata": {},
   "source": [
    "### An Alternative to Method Overloading"
   ]
  },
  {
   "cell_type": "code",
   "execution_count": 10,
   "id": "8d1ef891-f975-4a6b-8dcf-b66a9fd2def9",
   "metadata": {},
   "outputs": [],
   "source": [
    "def no_params():\n",
    "    return \"Hello World!\""
   ]
  },
  {
   "cell_type": "code",
   "execution_count": 11,
   "id": "604a54dc-27a0-44e0-a721-ab646e76272d",
   "metadata": {},
   "outputs": [
    {
     "data": {
      "text/plain": [
       "'Hello World!'"
      ]
     },
     "execution_count": 11,
     "metadata": {},
     "output_type": "execute_result"
    }
   ],
   "source": [
    "no_params()"
   ]
  },
  {
   "cell_type": "code",
   "execution_count": 12,
   "id": "1759cf4c-5ec5-48e5-9db1-f8229897b899",
   "metadata": {},
   "outputs": [],
   "source": [
    "def mandatory_params(x, y, z):\n",
    "    return f\"{x=}, {y=}, {z=}\""
   ]
  },
  {
   "cell_type": "code",
   "execution_count": 13,
   "id": "571cb78c-ec34-4653-aa66-9dc126476c78",
   "metadata": {},
   "outputs": [],
   "source": [
    "a_variable = 42"
   ]
  },
  {
   "cell_type": "code",
   "execution_count": 14,
   "id": "e609d70b-3b39-47da-99d2-a4ffe9d8471f",
   "metadata": {},
   "outputs": [
    {
     "data": {
      "text/plain": [
       "\"x='a string', y=42, z=True\""
      ]
     },
     "execution_count": 14,
     "metadata": {},
     "output_type": "execute_result"
    }
   ],
   "source": [
    "mandatory_params(\"a string\", a_variable, True)"
   ]
  },
  {
   "cell_type": "code",
   "execution_count": 17,
   "id": "b45d0a73-e950-4574-a8f2-e9ba6a597c9b",
   "metadata": {},
   "outputs": [],
   "source": [
    "def mandatory_params(x: Any, y: Any, z: Any) -> str:\n",
    "    return f\"{x=}, {y=}, {z=}\""
   ]
  },
  {
   "cell_type": "markdown",
   "id": "296fb83d-e745-4941-af58-bb81290e5983",
   "metadata": {},
   "source": [
    "### Default Values for Parameters"
   ]
  },
  {
   "cell_type": "code",
   "execution_count": 19,
   "id": "797836b1-dc4e-47e9-b134-38e61a3ce168",
   "metadata": {},
   "outputs": [],
   "source": [
    "def latitude_dms(deg: float, min: float, sec: float = 0.0, dir: Optional[str] = None) -> str:\n",
    "    if dir is None:\n",
    "        dir = \"N\"\n",
    "    return f\"{deg:02.0f} {min + sec / 60:05.3f} {dir}\""
   ]
  },
  {
   "cell_type": "code",
   "execution_count": 20,
   "id": "1ac4634a-8876-4e39-a51b-01596ce7cedd",
   "metadata": {},
   "outputs": [
    {
     "data": {
      "text/plain": [
       "'36 51.048 N'"
      ]
     },
     "execution_count": 20,
     "metadata": {},
     "output_type": "execute_result"
    }
   ],
   "source": [
    "latitude_dms(36, 51, 2.9, \"N\")"
   ]
  },
  {
   "cell_type": "code",
   "execution_count": 21,
   "id": "fefb0fb6-93df-48da-a015-9f99f0c6f86e",
   "metadata": {},
   "outputs": [
    {
     "data": {
      "text/plain": [
       "'38 58.000 N'"
      ]
     },
     "execution_count": 21,
     "metadata": {},
     "output_type": "execute_result"
    }
   ],
   "source": [
    "latitude_dms(38, 58, dir=\"N\")"
   ]
  },
  {
   "cell_type": "code",
   "execution_count": 22,
   "id": "d4c74a5e-769e-4cb3-a527-a763ad8e43ca",
   "metadata": {},
   "outputs": [
    {
     "data": {
      "text/plain": [
       "'38 19.117 N'"
      ]
     },
     "execution_count": 22,
     "metadata": {},
     "output_type": "execute_result"
    }
   ],
   "source": [
    "latitude_dms(38, 19, dir=\"N\", sec=7)"
   ]
  },
  {
   "cell_type": "code",
   "execution_count": 23,
   "id": "3d00d409-f95a-4698-8caf-c5f76275f4b6",
   "metadata": {},
   "outputs": [],
   "source": [
    "def kw_only(x: Any, y: str = \"defaultkw\", *, a: bool, b: str = \"only\") -> str:\n",
    "    return f\"{x=}, {y=}, {a=}, {b=}\""
   ]
  },
  {
   "cell_type": "code",
   "execution_count": 24,
   "id": "9436c3c8-b50f-4321-8858-9f254cb5d62e",
   "metadata": {},
   "outputs": [
    {
     "ename": "TypeError",
     "evalue": "kw_only() missing 1 required keyword-only argument: 'a'",
     "output_type": "error",
     "traceback": [
      "\u001b[0;31m---------------------------------------------------------------------------\u001b[0m",
      "\u001b[0;31mTypeError\u001b[0m                                 Traceback (most recent call last)",
      "Cell \u001b[0;32mIn[24], line 1\u001b[0m\n\u001b[0;32m----> 1\u001b[0m kw_only(\u001b[38;5;124m'\u001b[39m\u001b[38;5;124mx\u001b[39m\u001b[38;5;124m'\u001b[39m)\n",
      "\u001b[0;31mTypeError\u001b[0m: kw_only() missing 1 required keyword-only argument: 'a'"
     ]
    }
   ],
   "source": [
    "kw_only('x')"
   ]
  },
  {
   "cell_type": "code",
   "execution_count": 25,
   "id": "1d9b73ab-9ea1-49ec-88fb-ba3cdcb2a14d",
   "metadata": {},
   "outputs": [
    {
     "ename": "TypeError",
     "evalue": "kw_only() takes from 1 to 2 positional arguments but 3 were given",
     "output_type": "error",
     "traceback": [
      "\u001b[0;31m---------------------------------------------------------------------------\u001b[0m",
      "\u001b[0;31mTypeError\u001b[0m                                 Traceback (most recent call last)",
      "Cell \u001b[0;32mIn[25], line 1\u001b[0m\n\u001b[0;32m----> 1\u001b[0m kw_only(\u001b[38;5;124m'\u001b[39m\u001b[38;5;124mx\u001b[39m\u001b[38;5;124m'\u001b[39m, \u001b[38;5;124m'\u001b[39m\u001b[38;5;124my\u001b[39m\u001b[38;5;124m'\u001b[39m, \u001b[38;5;124m'\u001b[39m\u001b[38;5;124ma\u001b[39m\u001b[38;5;124m'\u001b[39m)\n",
      "\u001b[0;31mTypeError\u001b[0m: kw_only() takes from 1 to 2 positional arguments but 3 were given"
     ]
    }
   ],
   "source": [
    "kw_only('x', 'y', 'a')"
   ]
  },
  {
   "cell_type": "code",
   "execution_count": 26,
   "id": "f32bec8c-8f1e-4da3-8d72-f80c5c7aa069",
   "metadata": {},
   "outputs": [
    {
     "data": {
      "text/plain": [
       "\"x='x', y='defaultkw', a='a', b='b'\""
      ]
     },
     "execution_count": 26,
     "metadata": {},
     "output_type": "execute_result"
    }
   ],
   "source": [
    "kw_only('x', a='a', b='b')"
   ]
  },
  {
   "cell_type": "code",
   "execution_count": 29,
   "id": "693f76a9-5716-40aa-af90-605bca763c92",
   "metadata": {},
   "outputs": [],
   "source": [
    "def pos_only(x: Any, y: str, /, z:Optional[Any] = None) -> str:\n",
    "    return f\"{x=}, {y=}, {z=}\""
   ]
  },
  {
   "cell_type": "code",
   "execution_count": 30,
   "id": "10ab61c1-d2e4-4ee7-8809-93c2d0d6e19d",
   "metadata": {},
   "outputs": [
    {
     "ename": "TypeError",
     "evalue": "pos_only() got some positional-only arguments passed as keyword arguments: 'x, y'",
     "output_type": "error",
     "traceback": [
      "\u001b[0;31m---------------------------------------------------------------------------\u001b[0m",
      "\u001b[0;31mTypeError\u001b[0m                                 Traceback (most recent call last)",
      "Cell \u001b[0;32mIn[30], line 1\u001b[0m\n\u001b[0;32m----> 1\u001b[0m pos_only(x\u001b[38;5;241m=\u001b[39m\u001b[38;5;241m2\u001b[39m, y\u001b[38;5;241m=\u001b[39m\u001b[38;5;124m\"\u001b[39m\u001b[38;5;124mthree\u001b[39m\u001b[38;5;124m\"\u001b[39m)\n",
      "\u001b[0;31mTypeError\u001b[0m: pos_only() got some positional-only arguments passed as keyword arguments: 'x, y'"
     ]
    }
   ],
   "source": [
    "pos_only(x=2, y=\"three\")"
   ]
  },
  {
   "cell_type": "code",
   "execution_count": 31,
   "id": "9bf9ff59-6896-444c-a801-43e763ad2fb7",
   "metadata": {},
   "outputs": [
    {
     "data": {
      "text/plain": [
       "\"x=2, y='three', z=None\""
      ]
     },
     "execution_count": 31,
     "metadata": {},
     "output_type": "execute_result"
    }
   ],
   "source": [
    "pos_only(2, \"three\")"
   ]
  },
  {
   "cell_type": "code",
   "execution_count": 32,
   "id": "95620156-58f9-427a-b94b-d266289136a3",
   "metadata": {},
   "outputs": [
    {
     "data": {
      "text/plain": [
       "\"x=2, y='three', z=3.14159\""
      ]
     },
     "execution_count": 32,
     "metadata": {},
     "output_type": "execute_result"
    }
   ],
   "source": [
    "pos_only(2, \"three\", 3.14159)"
   ]
  },
  {
   "cell_type": "markdown",
   "id": "da809bcd-6b79-46af-a38c-ecc82c0e5b96",
   "metadata": {},
   "source": [
    "### Additional Details on Defaults"
   ]
  },
  {
   "cell_type": "code",
   "execution_count": 33,
   "id": "8250a8d8-e8a2-4a77-8545-d9a79bb9d9cb",
   "metadata": {},
   "outputs": [],
   "source": [
    "number = 5\n",
    "\n",
    "def funky_functions(x: int = number) -> str:\n",
    "    return f\"{x=}, {number}\""
   ]
  },
  {
   "cell_type": "code",
   "execution_count": 34,
   "id": "c885fdee-6e73-48c7-8bb4-c3f8e7076c32",
   "metadata": {},
   "outputs": [
    {
     "data": {
      "text/plain": [
       "'x=42, 5'"
      ]
     },
     "execution_count": 34,
     "metadata": {},
     "output_type": "execute_result"
    }
   ],
   "source": [
    "funky_functions(42)"
   ]
  },
  {
   "cell_type": "code",
   "execution_count": 40,
   "id": "f32c9700-b8a7-400a-80d8-85052f9449f3",
   "metadata": {},
   "outputs": [],
   "source": [
    "number = 7"
   ]
  },
  {
   "cell_type": "code",
   "execution_count": 36,
   "id": "0a3b57e8-b51a-4a80-9f64-11ee08f063d5",
   "metadata": {},
   "outputs": [
    {
     "data": {
      "text/plain": [
       "'x=5, 7'"
      ]
     },
     "execution_count": 36,
     "metadata": {},
     "output_type": "execute_result"
    }
   ],
   "source": [
    "funky_functions()"
   ]
  },
  {
   "cell_type": "code",
   "execution_count": 37,
   "id": "ba9e025f-06ea-43bf-ab2b-39cca1d7ddeb",
   "metadata": {},
   "outputs": [],
   "source": [
    "def better_function(x: Optional[int] = None) -> str:\n",
    "    if x in None:\n",
    "        x = number\n",
    "    return f\"better: {x=}, {number}\""
   ]
  },
  {
   "cell_type": "code",
   "execution_count": 42,
   "id": "71f8ef6f-3c65-425d-bd48-75c4dccf38bd",
   "metadata": {},
   "outputs": [],
   "source": [
    "def better_function_2(x: Optional[int] = None) -> str:\n",
    "    x = number if x is None else x\n",
    "    return f\"better: {x=}, {number=}\""
   ]
  },
  {
   "cell_type": "code",
   "execution_count": 43,
   "id": "b3c0362c-17eb-41a6-995d-c988a599d13e",
   "metadata": {},
   "outputs": [],
   "source": [
    "def bad_default(tag: str, history: list[str] = []) -> list[str]:\n",
    "    \"\"\"A Very Bad Design (VBD).\"\"\"\n",
    "    history.append(tag)\n",
    "    return history"
   ]
  },
  {
   "cell_type": "code",
   "execution_count": 46,
   "id": "d5e78db1-bce2-44e1-b0a1-64cb1930ef5f",
   "metadata": {},
   "outputs": [
    {
     "data": {
      "text/plain": [
       "['tag1', 'tag2', 'tag1', 'tag2']"
      ]
     },
     "execution_count": 46,
     "metadata": {},
     "output_type": "execute_result"
    }
   ],
   "source": [
    "h = bad_default(\"tag1\")\n",
    "h = bad_default(\"tag2\", h)\n",
    "h"
   ]
  },
  {
   "cell_type": "code",
   "execution_count": 47,
   "id": "1244ea2a-13fd-44d2-bba8-cabbdb90d8c6",
   "metadata": {},
   "outputs": [
    {
     "data": {
      "text/plain": [
       "['tag1', 'tag2', 'tag1', 'tag2', 'tag21', 'tag22']"
      ]
     },
     "execution_count": 47,
     "metadata": {},
     "output_type": "execute_result"
    }
   ],
   "source": [
    "h2 = bad_default(\"tag21\")\n",
    "h2 = bad_default(\"tag22\", h2)\n",
    "h2"
   ]
  },
  {
   "cell_type": "code",
   "execution_count": 48,
   "id": "745da0c3-0187-4065-a310-f0921722d588",
   "metadata": {},
   "outputs": [
    {
     "data": {
      "text/plain": [
       "True"
      ]
     },
     "execution_count": 48,
     "metadata": {},
     "output_type": "execute_result"
    }
   ],
   "source": [
    "h is h2"
   ]
  },
  {
   "cell_type": "code",
   "execution_count": 49,
   "id": "a95a0a99-197c-47e9-9fbf-6ebd6a603b2c",
   "metadata": {},
   "outputs": [],
   "source": [
    "def good_default(tag: str, history: Optional[list[str]] = None) ->list[str]:\n",
    "    history = [] if history is none else history\n",
    "    history.append(tag)\n",
    "    return history"
   ]
  },
  {
   "cell_type": "markdown",
   "id": "23220671-f59c-4686-a679-ac836a952574",
   "metadata": {},
   "source": [
    "### Variable Argument Lists"
   ]
  },
  {
   "cell_type": "code",
   "execution_count": 54,
   "id": "51e252a4-2049-4ac7-8b3a-3c6fe8c7d0f1",
   "metadata": {},
   "outputs": [],
   "source": [
    "# def get_pages(*links: str) -> None:\n",
    "#     for link in links:\n",
    "#         url = urlparse(link)\n",
    "#         name = \"index.html\" if url,path in (\"\", \"/\") else url.path\n",
    "#         target = Path(url.netloc.replace(\".\", \"_\")) / name\n",
    "#         # etc."
   ]
  },
  {
   "cell_type": "code",
   "execution_count": 55,
   "id": "43f3d9a7-d8f5-440a-a70c-1d88fe85b9c3",
   "metadata": {},
   "outputs": [],
   "source": [
    "class Options(Dict[str, Any]):\n",
    "    default_options: dict[str, Any] = {\n",
    "        \"port\": 21,\n",
    "        \"host\": \"localhost\",\n",
    "        \"username\": None,\n",
    "        \"password\": None,\n",
    "        \"debug\": False,\n",
    "    }\n",
    "\n",
    "    def __init__(self, **kwargs: Any) -> None:\n",
    "        super().__init__(self.default_options)\n",
    "        self.update(kwargs)"
   ]
  },
  {
   "cell_type": "code",
   "execution_count": 56,
   "id": "1d822252-55aa-4dd9-8c27-75b618263a9a",
   "metadata": {},
   "outputs": [],
   "source": [
    "options = Options(username=\"dusty\", password=\"Hunter2\", debug=True)"
   ]
  },
  {
   "cell_type": "code",
   "execution_count": 57,
   "id": "607fc1b0-32d7-4f0e-bcea-8f537eaa5c30",
   "metadata": {},
   "outputs": [
    {
     "data": {
      "text/plain": [
       "True"
      ]
     },
     "execution_count": 57,
     "metadata": {},
     "output_type": "execute_result"
    }
   ],
   "source": [
    "options['debug']"
   ]
  },
  {
   "cell_type": "code",
   "execution_count": 58,
   "id": "a1c8afed-4c07-47b4-a2bf-8e6a58489add",
   "metadata": {},
   "outputs": [
    {
     "data": {
      "text/plain": [
       "21"
      ]
     },
     "execution_count": 58,
     "metadata": {},
     "output_type": "execute_result"
    }
   ],
   "source": [
    "options['port']"
   ]
  },
  {
   "cell_type": "code",
   "execution_count": 59,
   "id": "14f5d083-f269-4de0-89fe-5d8945e67962",
   "metadata": {},
   "outputs": [
    {
     "data": {
      "text/plain": [
       "'dusty'"
      ]
     },
     "execution_count": 59,
     "metadata": {},
     "output_type": "execute_result"
    }
   ],
   "source": [
    "options['username']"
   ]
  },
  {
   "cell_type": "code",
   "execution_count": null,
   "id": "1e205d3c-5872-4dab-9ff1-8f132cbf014a",
   "metadata": {},
   "outputs": [],
   "source": []
  }
 ],
 "metadata": {
  "kernelspec": {
   "display_name": "Python 3 (ipykernel)",
   "language": "python",
   "name": "python3"
  },
  "language_info": {
   "codemirror_mode": {
    "name": "ipython",
    "version": 3
   },
   "file_extension": ".py",
   "mimetype": "text/x-python",
   "name": "python",
   "nbconvert_exporter": "python",
   "pygments_lexer": "ipython3",
   "version": "3.11.9"
  }
 },
 "nbformat": 4,
 "nbformat_minor": 5
}
