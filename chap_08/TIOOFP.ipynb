{
 "cells": [
  {
   "cell_type": "markdown",
   "id": "c292bb86-bac5-4006-842f-fd4f41d98f4f",
   "metadata": {},
   "source": [
    "# The Intersection of Object-Oriented & Functional Programming\n",
    "\n",
    "### Loading Libraries"
   ]
  },
  {
   "cell_type": "code",
   "execution_count": 3,
   "id": "00f7b102-4006-46f9-8226-c36a8bbc898e",
   "metadata": {},
   "outputs": [],
   "source": [
    "# Math\n",
    "import math\n",
    "from math import hypot\n",
    "\n",
    "# Numerical Computing\n",
    "import numpy as np\n",
    "\n",
    "# Data Manipulation\n",
    "import pandas as pd\n",
    "\n",
    "# Data Visualization\n",
    "import seaborn\n",
    "import matplotlib.pyplot as plt\n",
    "\n",
    "#\n",
    "from pprint import pprint\n",
    "\n",
    "# OS\n",
    "import re\n",
    "import sys\n",
    "import abc\n",
    "import time\n",
    "import queue\n",
    "import string\n",
    "import random\n",
    "import bisect\n",
    "import operator\n",
    "import datetime\n",
    "from decimal import Decimal\n",
    "\n",
    "# Types & Annotations\n",
    "import collections\n",
    "from __future__ import annotations\n",
    "from collections import defaultdict, Counter\n",
    "from collections.abc import Container, Mapping, Hashable\n",
    "from typing import TYPE_CHECKING\n",
    "from typing import Hashable, Mapping, TypeVar, Any, overload, Union, Sequence, Dict, Deque\n",
    "from typing import List, Protocol, NoReturn, Union, Set, Tuple, Optional, Iterable, Iterator, cast, NamedTuple\n",
    "# from typing import \n",
    "\n",
    "# Functional Tools\n",
    "from functools import wraps, total_ordering\n",
    "\n",
    "# Files & Path\n",
    "import logging\n",
    "import zipfile\n",
    "import fnmatch\n",
    "from pathlib import Path\n",
    "from urllib.request import urlopen\n",
    "\n",
    "# Dataclass\n",
    "from dataclasses import dataclass"
   ]
  },
  {
   "cell_type": "markdown",
   "id": "f99acfe8-ec63-4fc2-a0c0-442026dccaa6",
   "metadata": {},
   "source": [
    "## Python `built-in` Functions\n",
    "\n",
    "### The `len()` Function"
   ]
  },
  {
   "cell_type": "code",
   "execution_count": 4,
   "id": "2d35a6d4-23f1-41c1-b107-4fa79db5b243",
   "metadata": {},
   "outputs": [
    {
     "data": {
      "text/plain": [
       "4"
      ]
     },
     "execution_count": 4,
     "metadata": {},
     "output_type": "execute_result"
    }
   ],
   "source": [
    "len([1, 2, 3, 4])"
   ]
  },
  {
   "cell_type": "markdown",
   "id": "bf2f37fb-3784-40fe-a925-e05929a388ae",
   "metadata": {},
   "source": [
    "### The `reversed()` Function"
   ]
  },
  {
   "cell_type": "code",
   "execution_count": 5,
   "id": "254384bd-0cc5-4d24-8aa5-740cb6b11325",
   "metadata": {},
   "outputs": [],
   "source": [
    "class CustomSequence():\n",
    "    def __init__(self, args):\n",
    "        self._list = args\n",
    "    def __len__(self):\n",
    "        return 5\n",
    "    def __getitem__(self, index):\n",
    "        return f\"{index}\""
   ]
  },
  {
   "cell_type": "code",
   "execution_count": 6,
   "id": "0003af65-02a5-4629-a383-45ac1df982e1",
   "metadata": {},
   "outputs": [],
   "source": [
    "class FunkyBackwards(list):\n",
    "    def __reversed__(self):\n",
    "        return \"BACKWARDS!\""
   ]
  },
  {
   "cell_type": "code",
   "execution_count": 7,
   "id": "942e2b39-3126-4b5f-aa27-5424f30377bc",
   "metadata": {},
   "outputs": [],
   "source": [
    "generic = [1, 2, 3, 4, 5]"
   ]
  },
  {
   "cell_type": "code",
   "execution_count": 8,
   "id": "2f83aeef-50e5-4647-85ec-f25e9bd0763d",
   "metadata": {},
   "outputs": [],
   "source": [
    "custom = CustomSequence([6, 7, 8, 9, 10])"
   ]
  },
  {
   "cell_type": "code",
   "execution_count": 9,
   "id": "d11b63eb-8395-4fb7-8355-b7430e6d46ff",
   "metadata": {},
   "outputs": [],
   "source": [
    "funkadelic = FunkyBackwards([11, 12, 13, 14, 15])"
   ]
  },
  {
   "cell_type": "code",
   "execution_count": 10,
   "id": "ddfcba79-5f0e-46fa-966f-9bafb6631d04",
   "metadata": {},
   "outputs": [
    {
     "name": "stdout",
     "output_type": "stream",
     "text": [
      "list: 5, 4, 3, 2, 1, \n",
      "CustomSequence: 4, 3, 2, 1, 0, \n",
      "FunkyBackwards: B, A, C, K, W, A, R, D, S, !, \n"
     ]
    }
   ],
   "source": [
    "for sequence in generic, custom, funkadelic:\n",
    "    print(f\"{sequence.__class__.__name__}: \", end=\"\")\n",
    "    for item in reversed(sequence):\n",
    "        print(f\"{item}, \", end=\"\")\n",
    "    print()"
   ]
  },
  {
   "cell_type": "markdown",
   "id": "c348f0f5-e359-4fa6-8c46-9851970da8d2",
   "metadata": {},
   "source": [
    "### The `enumerate()` Function"
   ]
  },
  {
   "cell_type": "code",
   "execution_count": 12,
   "id": "d19fd75f-a694-4024-9e2b-e0d1329927be",
   "metadata": {},
   "outputs": [],
   "source": [
    "# with Path(\"docs/sample_data.md\").open() as source:\n",
    "#     for index, line in enumerate(source, start=1):\n",
    "#         print(f\"{index:3d}: {line.rstrip()}\")"
   ]
  },
  {
   "cell_type": "code",
   "execution_count": null,
   "id": "002977ec-90a6-464a-8575-5869747a7d1d",
   "metadata": {},
   "outputs": [],
   "source": []
  }
 ],
 "metadata": {
  "kernelspec": {
   "display_name": "Python 3 (ipykernel)",
   "language": "python",
   "name": "python3"
  },
  "language_info": {
   "codemirror_mode": {
    "name": "ipython",
    "version": 3
   },
   "file_extension": ".py",
   "mimetype": "text/x-python",
   "name": "python",
   "nbconvert_exporter": "python",
   "pygments_lexer": "ipython3",
   "version": "3.11.9"
  }
 },
 "nbformat": 4,
 "nbformat_minor": 5
}
