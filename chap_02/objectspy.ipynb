{
 "cells": [
  {
   "cell_type": "markdown",
   "id": "4995aa77-d7b7-447e-b81c-36a69d9de7fc",
   "metadata": {},
   "source": [
    "# Objects in Python\n",
    "\n",
    "### Loading Libraries"
   ]
  },
  {
   "cell_type": "code",
   "execution_count": 1,
   "id": "50354f8e-5e03-409a-bc15-19ae37481e6d",
   "metadata": {},
   "outputs": [],
   "source": [
    "# Math\n",
    "import math\n",
    "\n",
    "# Numerical Computing\n",
    "import numpy as np\n",
    "\n",
    "# Data Manipulation\n",
    "import pandas as pd\n",
    "\n",
    "# Data Visualization\n",
    "import seaborn\n",
    "import matplotlib.pyplot as plt"
   ]
  },
  {
   "cell_type": "markdown",
   "id": "aeaa47d4-c4b3-4835-a5d1-f71f3f454a9c",
   "metadata": {},
   "source": [
    "### Introducing Type Hints"
   ]
  },
  {
   "cell_type": "code",
   "execution_count": 2,
   "id": "27a88d3e-8596-480c-b4f1-9dd24f8272df",
   "metadata": {},
   "outputs": [
    {
     "data": {
      "text/plain": [
       "str"
      ]
     },
     "execution_count": 2,
     "metadata": {},
     "output_type": "execute_result"
    }
   ],
   "source": [
    "type('Hellow World!')"
   ]
  },
  {
   "cell_type": "code",
   "execution_count": 3,
   "id": "16731caa-1436-4d18-b85a-4d872687b786",
   "metadata": {},
   "outputs": [
    {
     "data": {
      "text/plain": [
       "int"
      ]
     },
     "execution_count": 3,
     "metadata": {},
     "output_type": "execute_result"
    }
   ],
   "source": [
    "type(42)"
   ]
  },
  {
   "cell_type": "code",
   "execution_count": 4,
   "id": "0840aa99-3e6c-4a38-8a95-9e6d2270a5ae",
   "metadata": {},
   "outputs": [
    {
     "data": {
      "text/plain": [
       "str"
      ]
     },
     "execution_count": 4,
     "metadata": {},
     "output_type": "execute_result"
    }
   ],
   "source": [
    "a_string_variable = \"Hello, World!\"\n",
    "type(a_string_variable)"
   ]
  },
  {
   "cell_type": "code",
   "execution_count": 5,
   "id": "8efc0987-047a-42b3-bba6-c6a686d1bea6",
   "metadata": {},
   "outputs": [
    {
     "data": {
      "text/plain": [
       "int"
      ]
     },
     "execution_count": 5,
     "metadata": {},
     "output_type": "execute_result"
    }
   ],
   "source": [
    "a_string_variable = 42\n",
    "type(a_string_variable)"
   ]
  },
  {
   "cell_type": "markdown",
   "id": "f12c0a45-ec18-4c26-9c3d-bc471692e1b2",
   "metadata": {},
   "source": [
    "### Type Checking"
   ]
  },
  {
   "cell_type": "code",
   "execution_count": 6,
   "id": "0958a593-a15e-4df2-a916-a7b16d8d759f",
   "metadata": {},
   "outputs": [],
   "source": [
    "def odd(n):\n",
    "    return n % 2 != 0"
   ]
  },
  {
   "cell_type": "code",
   "execution_count": 7,
   "id": "32786483-5d8a-43f5-8f73-60987db40c55",
   "metadata": {},
   "outputs": [
    {
     "data": {
      "text/plain": [
       "True"
      ]
     },
     "execution_count": 7,
     "metadata": {},
     "output_type": "execute_result"
    }
   ],
   "source": [
    "odd(3)"
   ]
  },
  {
   "cell_type": "code",
   "execution_count": 8,
   "id": "06b60a49-325e-4bfb-b003-f1c5be56005d",
   "metadata": {},
   "outputs": [
    {
     "data": {
      "text/plain": [
       "False"
      ]
     },
     "execution_count": 8,
     "metadata": {},
     "output_type": "execute_result"
    }
   ],
   "source": [
    "odd(4)"
   ]
  },
  {
   "cell_type": "code",
   "execution_count": 9,
   "id": "3f809913-011d-41a1-8e56-0925a35678c0",
   "metadata": {},
   "outputs": [
    {
     "ename": "TypeError",
     "evalue": "not all arguments converted during string formatting",
     "output_type": "error",
     "traceback": [
      "\u001b[0;31m---------------------------------------------------------------------------\u001b[0m",
      "\u001b[0;31mTypeError\u001b[0m                                 Traceback (most recent call last)",
      "Cell \u001b[0;32mIn[9], line 1\u001b[0m\n\u001b[0;32m----> 1\u001b[0m odd(\u001b[38;5;124m\"\u001b[39m\u001b[38;5;124mHello, World!\u001b[39m\u001b[38;5;124m\"\u001b[39m)\n",
      "Cell \u001b[0;32mIn[6], line 2\u001b[0m, in \u001b[0;36modd\u001b[0;34m(n)\u001b[0m\n\u001b[1;32m      1\u001b[0m \u001b[38;5;28;01mdef\u001b[39;00m \u001b[38;5;21modd\u001b[39m(n):\n\u001b[0;32m----> 2\u001b[0m     \u001b[38;5;28;01mreturn\u001b[39;00m n \u001b[38;5;241m%\u001b[39m \u001b[38;5;241m2\u001b[39m \u001b[38;5;241m!=\u001b[39m \u001b[38;5;241m0\u001b[39m\n",
      "\u001b[0;31mTypeError\u001b[0m: not all arguments converted during string formatting"
     ]
    }
   ],
   "source": [
    "odd(\"Hello, World!\")"
   ]
  },
  {
   "cell_type": "code",
   "execution_count": 10,
   "id": "bbad4ef3-6dfb-4666-a9c6-75d4f8b89ab2",
   "metadata": {},
   "outputs": [],
   "source": [
    "def odd(n: int) -> bool:\n",
    "    return n % 2 != 0"
   ]
  },
  {
   "cell_type": "markdown",
   "id": "e43520cb-602c-4ce9-b34e-bf365914ed70",
   "metadata": {},
   "source": [
    "### Creating Python Classes"
   ]
  },
  {
   "cell_type": "code",
   "execution_count": 11,
   "id": "1c065c0b-5281-4f06-aa61-cd68b3abe44d",
   "metadata": {},
   "outputs": [],
   "source": [
    "class MyFirstClass:\n",
    "    pass"
   ]
  },
  {
   "cell_type": "code",
   "execution_count": 12,
   "id": "d4e090bf-06fd-4dd1-a3df-bf9f157e8b50",
   "metadata": {},
   "outputs": [],
   "source": [
    "a = MyFirstClass()\n",
    "\n",
    "b = MyFirstClass()"
   ]
  },
  {
   "cell_type": "code",
   "execution_count": 13,
   "id": "dbe26d43-030e-4c01-8a88-780d2e7db95f",
   "metadata": {},
   "outputs": [
    {
     "name": "stdout",
     "output_type": "stream",
     "text": [
      "<__main__.MyFirstClass object at 0x16464ab10>\n"
     ]
    }
   ],
   "source": [
    "print(a)"
   ]
  },
  {
   "cell_type": "code",
   "execution_count": 14,
   "id": "7f5d7245-2fa5-426c-b930-ef28dd7bbe6c",
   "metadata": {},
   "outputs": [
    {
     "name": "stdout",
     "output_type": "stream",
     "text": [
      "<__main__.MyFirstClass object at 0x16464a610>\n"
     ]
    }
   ],
   "source": [
    "print(b)"
   ]
  },
  {
   "cell_type": "code",
   "execution_count": 15,
   "id": "87d9ea0e-c57b-4731-be0a-37878e1e69f7",
   "metadata": {},
   "outputs": [
    {
     "data": {
      "text/plain": [
       "False"
      ]
     },
     "execution_count": 15,
     "metadata": {},
     "output_type": "execute_result"
    }
   ],
   "source": [
    "a is b"
   ]
  },
  {
   "cell_type": "markdown",
   "id": "836dfa74-cda3-4387-9233-01cdc267a4ae",
   "metadata": {},
   "source": [
    "### Adding Attributes"
   ]
  },
  {
   "cell_type": "code",
   "execution_count": 16,
   "id": "6797f6b5-3941-4a41-b199-4c31c3ab4da5",
   "metadata": {},
   "outputs": [],
   "source": [
    "class Point():\n",
    "    pass\n",
    "\n",
    "p1 = Point()\n",
    "p2 = Point()\n",
    "\n",
    "p1.x = 5\n",
    "p1.y = 4\n",
    "\n",
    "p2.x = 3\n",
    "p2.y = 6"
   ]
  },
  {
   "cell_type": "code",
   "execution_count": 17,
   "id": "b4a8ba30-d915-41a9-bf25-dedcc4ea94ec",
   "metadata": {},
   "outputs": [
    {
     "name": "stdout",
     "output_type": "stream",
     "text": [
      "5 4\n",
      "3 6\n"
     ]
    }
   ],
   "source": [
    "print(p1.x, p1.y)\n",
    "print(p2.x, p2.y)"
   ]
  },
  {
   "cell_type": "markdown",
   "id": "341a2722-5f58-4ed5-831a-ab7efc549023",
   "metadata": {},
   "source": [
    "### Making it do Something"
   ]
  },
  {
   "cell_type": "code",
   "execution_count": 18,
   "id": "fdc557f6-416d-44e7-9012-96e86ea9d03a",
   "metadata": {},
   "outputs": [
    {
     "name": "stdout",
     "output_type": "stream",
     "text": [
      "0 0\n"
     ]
    }
   ],
   "source": [
    "class Point:\n",
    "    def reset(self):\n",
    "        self.x = 0\n",
    "        self.y = 0\n",
    "\n",
    "p = Point()\n",
    "p.reset()\n",
    "print(p.x, p.y)"
   ]
  },
  {
   "cell_type": "markdown",
   "id": "1539fe6f-4d19-4d7a-a5a0-b8f8b0634925",
   "metadata": {},
   "source": [
    "### Talking to Yourself"
   ]
  },
  {
   "cell_type": "code",
   "execution_count": 19,
   "id": "74690e37-0267-4217-9e7e-2992fdeb6d3f",
   "metadata": {},
   "outputs": [
    {
     "ename": "TypeError",
     "evalue": "Point.reset() missing 1 required positional argument: 'self'",
     "output_type": "error",
     "traceback": [
      "\u001b[0;31m---------------------------------------------------------------------------\u001b[0m",
      "\u001b[0;31mTypeError\u001b[0m                                 Traceback (most recent call last)",
      "Cell \u001b[0;32mIn[19], line 2\u001b[0m\n\u001b[1;32m      1\u001b[0m p \u001b[38;5;241m=\u001b[39m Point()\n\u001b[0;32m----> 2\u001b[0m Point\u001b[38;5;241m.\u001b[39mreset()\n\u001b[1;32m      3\u001b[0m \u001b[38;5;28mprint\u001b[39m(p\u001b[38;5;241m.\u001b[39mx, p\u001b[38;5;241m.\u001b[39my)\n",
      "\u001b[0;31mTypeError\u001b[0m: Point.reset() missing 1 required positional argument: 'self'"
     ]
    }
   ],
   "source": [
    "p = Point()\n",
    "Point.reset()\n",
    "print(p.x, p.y)"
   ]
  },
  {
   "cell_type": "markdown",
   "id": "07a7d691-66bc-4821-a963-35ed081c367c",
   "metadata": {},
   "source": [
    "### More Arguments"
   ]
  },
  {
   "cell_type": "code",
   "execution_count": 20,
   "id": "8a6afb6d-8cf2-446a-9c0e-35e39b646876",
   "metadata": {},
   "outputs": [],
   "source": [
    "class Point:\n",
    "    def move(self, x: float, y: float) -> None:\n",
    "        self.x = x\n",
    "        self.y = y\n",
    "\n",
    "    def reset(self) -> None:\n",
    "        self.move(0, 0)\n",
    "\n",
    "    def calculate_distance(self, other: \"Point\") -> float:\n",
    "        return math.hypot(self.x - other.x, self.y - other.y)"
   ]
  },
  {
   "cell_type": "code",
   "execution_count": 21,
   "id": "94e57633-1a48-4487-9ccd-a43bd9fc4811",
   "metadata": {},
   "outputs": [],
   "source": [
    "point1 = Point()\n",
    "\n",
    "point2 = Point()"
   ]
  },
  {
   "cell_type": "code",
   "execution_count": 22,
   "id": "98d3aada-a208-4345-8d24-3165a6a1c022",
   "metadata": {},
   "outputs": [],
   "source": [
    "point1.reset()\n",
    "point2.move(5, 0)"
   ]
  },
  {
   "cell_type": "code",
   "execution_count": 23,
   "id": "612eda3c-b23b-477a-9f5e-91f76ce14e2c",
   "metadata": {},
   "outputs": [
    {
     "name": "stdout",
     "output_type": "stream",
     "text": [
      "5.0\n"
     ]
    }
   ],
   "source": [
    "print(point2.calculate_distance(point1))"
   ]
  },
  {
   "cell_type": "code",
   "execution_count": 24,
   "id": "f657d51e-876f-4902-bc4b-58655eae0524",
   "metadata": {},
   "outputs": [],
   "source": [
    "assert point2.calculate_distance(point1) == point1.calculate_distance(point2)"
   ]
  },
  {
   "cell_type": "code",
   "execution_count": 25,
   "id": "b7daaa89-0802-434f-ab3c-902a098f4e1a",
   "metadata": {},
   "outputs": [
    {
     "name": "stdout",
     "output_type": "stream",
     "text": [
      "4.47213595499958\n"
     ]
    }
   ],
   "source": [
    "point1.move(3, 4)\n",
    "print(point1.calculate_distance(point2))"
   ]
  },
  {
   "cell_type": "code",
   "execution_count": 26,
   "id": "2b6395da-3173-4eb5-afe5-78d1ce6738b4",
   "metadata": {},
   "outputs": [
    {
     "name": "stdout",
     "output_type": "stream",
     "text": [
      "0.0\n"
     ]
    }
   ],
   "source": [
    "print(point1.calculate_distance(point1))"
   ]
  },
  {
   "cell_type": "markdown",
   "id": "3968f714-0afe-4c8e-b544-e2a1378c12f9",
   "metadata": {},
   "source": [
    "### Initializing The Object"
   ]
  },
  {
   "cell_type": "code",
   "execution_count": 27,
   "id": "15b1c1ea-4f86-4641-ac9c-fb91debdf597",
   "metadata": {},
   "outputs": [
    {
     "name": "stdout",
     "output_type": "stream",
     "text": [
      "5\n"
     ]
    }
   ],
   "source": [
    "point = Point()\n",
    "point.x = 5\n",
    "print(point.x)"
   ]
  },
  {
   "cell_type": "code",
   "execution_count": 28,
   "id": "5f94c650-e5ee-4697-9327-b1048ad7e95b",
   "metadata": {},
   "outputs": [
    {
     "ename": "AttributeError",
     "evalue": "'Point' object has no attribute 'y'",
     "output_type": "error",
     "traceback": [
      "\u001b[0;31m---------------------------------------------------------------------------\u001b[0m",
      "\u001b[0;31mAttributeError\u001b[0m                            Traceback (most recent call last)",
      "Cell \u001b[0;32mIn[28], line 1\u001b[0m\n\u001b[0;32m----> 1\u001b[0m \u001b[38;5;28mprint\u001b[39m(point\u001b[38;5;241m.\u001b[39my)\n",
      "\u001b[0;31mAttributeError\u001b[0m: 'Point' object has no attribute 'y'"
     ]
    }
   ],
   "source": [
    "print(point.y)"
   ]
  },
  {
   "cell_type": "code",
   "execution_count": 29,
   "id": "53857aea-8dcb-4c96-8a9e-aaf180dbf670",
   "metadata": {},
   "outputs": [],
   "source": [
    "class Point:\n",
    "    def __init__(self, x: float, y:float) -> None:\n",
    "        self.move(x, y)\n",
    "\n",
    "    def move(self, x: float, y:float) -> None:\n",
    "        self.x = x\n",
    "        self.y = y\n",
    "\n",
    "    def reset(self) -> None:\n",
    "        self.move(0, 0)\n",
    "\n",
    "    def calculate_distance(self, other: \"Point\") -> float:\n",
    "        return math.hypot(self.x - other.x, self.y - other.y)"
   ]
  },
  {
   "cell_type": "code",
   "execution_count": 30,
   "id": "b0210c6c-361a-45bb-9d38-04c2b52aa5a2",
   "metadata": {},
   "outputs": [
    {
     "name": "stdout",
     "output_type": "stream",
     "text": [
      "3 5\n"
     ]
    }
   ],
   "source": [
    "point = Point(3, 5)\n",
    "print(point.x, point.y)"
   ]
  },
  {
   "cell_type": "markdown",
   "id": "60045295-300e-40d7-8463-50aea25da9dc",
   "metadata": {},
   "source": [
    "### Type Hints & Defaults"
   ]
  },
  {
   "cell_type": "code",
   "execution_count": 31,
   "id": "2c986293-751e-40fc-b542-4536c0d55f8e",
   "metadata": {},
   "outputs": [],
   "source": [
    "class Point:\n",
    "    def __init__(self, x: float = 0, y: float = 0) -> None:\n",
    "        self.move(x, y)"
   ]
  },
  {
   "cell_type": "code",
   "execution_count": 32,
   "id": "c02175d0-a80c-436b-9dc0-a452305bf8ca",
   "metadata": {},
   "outputs": [],
   "source": [
    "class Point:\n",
    "    def __init__(\n",
    "        self,\n",
    "        x: float = 0,\n",
    "        y: float = 0\n",
    "    ) -> None:\n",
    "        self.move(x, y)"
   ]
  },
  {
   "cell_type": "markdown",
   "id": "11ff0a31-b1a5-4757-9f35-e89845e8a965",
   "metadata": {},
   "source": [
    "### Explaining Yourself with Docstrings"
   ]
  },
  {
   "cell_type": "code",
   "execution_count": 33,
   "id": "96846e7e-359a-4e99-911b-157c010cfa2c",
   "metadata": {},
   "outputs": [],
   "source": [
    "class Point:\n",
    "    \"\"\"\n",
    "    Represents a point in two-dimensional geometric coordinates\n",
    "    >>> p_0 = Point()\n",
    "    >>> p_1 = Point(3, 4)\n",
    "    >>> p_0.calculate_distance(p_1)\n",
    "    5.0\n",
    "    \"\"\"\n",
    "\n",
    "    def __init__(self, x: float = 0, y: float = 0) -> None:\n",
    "        \"\"\"\n",
    "        Initialize the position of the new point. The x and y\n",
    "        coordinates can be specified. If they are not, the point defaults to the origin.\n",
    "\n",
    "        : param x: float x-coordinate\n",
    "        : param y: float x-coordinate\n",
    "        \"\"\"\n",
    "\n",
    "    def move(self, x: float, y : float) -> None:\n",
    "        \"\"\"\n",
    "        Move the point to a new location in 2D space.\n",
    "        : param x: float x-coordinate\n",
    "        : param y: float x-coordinate\n",
    "        \"\"\"\n",
    "        self.x = x\n",
    "        self.y = y\n",
    "\n",
    "    def reset(self) -> None:\n",
    "        \"\"\"\n",
    "        Reset the point back to the geometric origin: 0, 0\n",
    "        \"\"\"\n",
    "        self.move(0, 0)\n",
    "\n",
    "    def calculate_distance(self, other: \"Point\") -> float:\n",
    "        \"\"\"\n",
    "        Calculate the Euclidean distance from this point \n",
    "        to a second point passed as a parameter.\n",
    "\n",
    "        : param x: float x-coordinate\n",
    "        : param y: float x-coordinate\n",
    "        \"\"\"\n",
    "        return matg.hypot(self.x - other.x, self.y - other.y)"
   ]
  },
  {
   "cell_type": "markdown",
   "id": "ef78a323-ac1a-45f7-9b0b-4b35e0f17d89",
   "metadata": {},
   "source": [
    "### Modules & Packages"
   ]
  },
  {
   "cell_type": "code",
   "execution_count": 34,
   "id": "d1f20287-246e-451a-bb91-c1a0b8809068",
   "metadata": {},
   "outputs": [],
   "source": [
    "# import database\n",
    "# db = database.Database(\"path/to/data\")"
   ]
  },
  {
   "cell_type": "code",
   "execution_count": 35,
   "id": "b34a63b7-4066-4baa-8c5d-81ffc6fdcfed",
   "metadata": {},
   "outputs": [],
   "source": [
    "# from database import Database\n",
    "# db = Database(\"path/to/data\")"
   ]
  },
  {
   "cell_type": "code",
   "execution_count": 36,
   "id": "6bfe3281-4415-4d41-9abc-f5eac256bfb3",
   "metadata": {},
   "outputs": [],
   "source": [
    "# from database import as DB\n",
    "# db = DB(\"path/to/data\")"
   ]
  },
  {
   "cell_type": "code",
   "execution_count": 37,
   "id": "205211c8-4878-4fa8-8a82-27734e3b848d",
   "metadata": {},
   "outputs": [],
   "source": [
    "# from database import Dtabase, Query"
   ]
  },
  {
   "cell_type": "code",
   "execution_count": 38,
   "id": "933a70de-456c-461e-ad0c-b311e9874d90",
   "metadata": {},
   "outputs": [
    {
     "data": {
      "text/plain": [
       "'\\nDO NOT USE SYNTAX!\\n'"
      ]
     },
     "execution_count": 38,
     "metadata": {},
     "output_type": "execute_result"
    }
   ],
   "source": [
    "'''\n",
    "DO NOT USE SYNTAX!\n",
    "'''\n",
    "# from database import *"
   ]
  },
  {
   "cell_type": "markdown",
   "id": "886094f7-ed31-48db-9539-b55f37808842",
   "metadata": {},
   "source": [
    "### Organizing Modules\n",
    "\n",
    "#### Absolute Imports"
   ]
  },
  {
   "cell_type": "code",
   "execution_count": 39,
   "id": "381dba81-dbdb-4105-8399-29d5352c4731",
   "metadata": {},
   "outputs": [],
   "source": [
    "# import ecommerce.products\n",
    "\n",
    "# product = ecommerce.products.Product(\"name1\")"
   ]
  },
  {
   "cell_type": "code",
   "execution_count": 40,
   "id": "ffc00c6c-4745-4e9c-8a3e-70c7f1685864",
   "metadata": {},
   "outputs": [],
   "source": [
    "# from ecommer.products import Product\n",
    "\n",
    "# product = Product(\"name2\")"
   ]
  },
  {
   "cell_type": "code",
   "execution_count": 41,
   "id": "41c5077f-0950-46e2-b0c9-b2a4ac56713b",
   "metadata": {},
   "outputs": [],
   "source": [
    "# from ecommerce import products\n",
    "\n",
    "# product = products.Product(\"name3\")"
   ]
  },
  {
   "cell_type": "markdown",
   "id": "539babcf-db70-4f41-9290-553a982978dc",
   "metadata": {},
   "source": [
    "#### Relative Imports"
   ]
  },
  {
   "cell_type": "code",
   "execution_count": 42,
   "id": "3607485a-0805-4faa-9de4-34274855a5b8",
   "metadata": {},
   "outputs": [],
   "source": [
    "# from .database import Database"
   ]
  },
  {
   "cell_type": "code",
   "execution_count": 43,
   "id": "e7b2772d-e5d4-4b6e-a827-8906346d2856",
   "metadata": {},
   "outputs": [],
   "source": [
    "# from ..database import Database"
   ]
  },
  {
   "cell_type": "code",
   "execution_count": 44,
   "id": "1f834bbf-7f92-4298-9813-d8409b8ce983",
   "metadata": {},
   "outputs": [],
   "source": [
    "# from ..contact.email import send_mail"
   ]
  },
  {
   "cell_type": "code",
   "execution_count": 45,
   "id": "cbb73f9a-2ff6-4432-8e2f-2207a4e4740d",
   "metadata": {},
   "outputs": [],
   "source": [
    "# from .database import db"
   ]
  },
  {
   "cell_type": "code",
   "execution_count": 46,
   "id": "eb707e9f-524f-41a4-8027-0d43e042bfec",
   "metadata": {},
   "outputs": [],
   "source": [
    "# from ecommerce import db"
   ]
  },
  {
   "cell_type": "markdown",
   "id": "dcd402ff-c352-48cd-8c09-74734ca83d64",
   "metadata": {},
   "source": [
    "### Organizing our Code in Modules"
   ]
  },
  {
   "cell_type": "code",
   "execution_count": 47,
   "id": "94b661ab-1670-4c8b-a4cd-07c8ab55b517",
   "metadata": {},
   "outputs": [],
   "source": [
    "# class Database:\n",
    "#     \"\"\" The Database Implementation\"\"\"\n",
    "\n",
    "#     def __init__(self, connection: Optional[str] = None) -> None:\n",
    "#         \"\"\"Create a connection to a database\"\"\"\n",
    "#         pass\n",
    "\n",
    "# database = Database(\"path/to/data\")"
   ]
  },
  {
   "cell_type": "code",
   "execution_count": 48,
   "id": "97d20236-3472-4851-8c1b-2dd756ea38ff",
   "metadata": {},
   "outputs": [],
   "source": [
    "# db: Optional[Database] = None\n",
    "\n",
    "# def initilize_database(connection: Optional[str] = None) -> None:\n",
    "#     global db\n",
    "#     db = Database(connection)"
   ]
  },
  {
   "cell_type": "code",
   "execution_count": 49,
   "id": "d1dca37b-15c9-4dc5-8247-7d48cdcd8ddb",
   "metadata": {},
   "outputs": [],
   "source": [
    "# def get_database(connection: Optional[str] = None) -> Database:\n",
    "#     global db\n",
    "#     if not db:\n",
    "#         db = Database(connection)\n",
    "#     return db"
   ]
  },
  {
   "cell_type": "code",
   "execution_count": 51,
   "id": "605e1f09-2a09-4632-8859-8de72eb70cc8",
   "metadata": {},
   "outputs": [],
   "source": [
    "# class Point:\n",
    "#     \"\"\"\n",
    "#     Represents a point in two-dimensional geometric coordinates.\n",
    "#     \"\"\"\n",
    "#     pass\n",
    "\n",
    "# def main() -> None:\n",
    "#     \"\"\"\n",
    "#     Does the useful work.\n",
    "\n",
    "#     >>> main()\n",
    "#     p1.calculate_distance(p2)=5.0\n",
    "#     \"\"\"\n",
    "#     p1 = Point()\n",
    "#     p2 = point(3, 4)\n",
    "#     print(f\"{p1.calculate_distance(p2)=}\")\n",
    "\n",
    "# if __name__ == \"__main__\":\n",
    "#     main()"
   ]
  },
  {
   "cell_type": "code",
   "execution_count": 52,
   "id": "06a090eb-ead2-4b75-b739-dce3e14f992a",
   "metadata": {},
   "outputs": [],
   "source": [
    "from typing import Optional"
   ]
  },
  {
   "cell_type": "code",
   "execution_count": 53,
   "id": "d0aa731f-f6a3-4146-a08e-500da4714833",
   "metadata": {},
   "outputs": [],
   "source": [
    "# class Formatter:\n",
    "#     def format(self, string: str) -> str:\n",
    "#         pass\n",
    "\n",
    "#     def format_string(string: str, formatter: Optional[Formatter] = None) -> str:\n",
    "#         \"\"\"\n",
    "#         Format a string using the formatter object, which\n",
    "#         is expected to have a format() method that accepts\n",
    "#         a string.\n",
    "#         \"\"\"\n",
    "\n",
    "#     class DefaultFormatter(Formatter):\n",
    "#         \"\"\" Format a string in title case.\"\"\"\n",
    "\n",
    "#         def format(self, string: str) -> str:\n",
    "#             return str(string).title()\n",
    "\n",
    "#     if not formatter:\n",
    "#         formatter = DefaultFormatter()\n",
    "\n",
    "#     return formatter.format(string)"
   ]
  },
  {
   "cell_type": "code",
   "execution_count": null,
   "id": "0bebb7fd-23b6-4fe8-a3a2-7e4315a16e16",
   "metadata": {},
   "outputs": [],
   "source": []
  },
  {
   "cell_type": "code",
   "execution_count": null,
   "id": "6d51dd26-9cd7-48b6-b5de-5769e36df2d5",
   "metadata": {},
   "outputs": [],
   "source": []
  },
  {
   "cell_type": "code",
   "execution_count": null,
   "id": "5580d333-3c5c-4193-8f04-ed4667db487c",
   "metadata": {},
   "outputs": [],
   "source": []
  },
  {
   "cell_type": "code",
   "execution_count": null,
   "id": "37319677-aa8a-4523-960c-76169156177c",
   "metadata": {},
   "outputs": [],
   "source": []
  }
 ],
 "metadata": {
  "kernelspec": {
   "display_name": "Python 3 (ipykernel)",
   "language": "python",
   "name": "python3"
  },
  "language_info": {
   "codemirror_mode": {
    "name": "ipython",
    "version": 3
   },
   "file_extension": ".py",
   "mimetype": "text/x-python",
   "name": "python",
   "nbconvert_exporter": "python",
   "pygments_lexer": "ipython3",
   "version": "3.11.9"
  }
 },
 "nbformat": 4,
 "nbformat_minor": 5
}
