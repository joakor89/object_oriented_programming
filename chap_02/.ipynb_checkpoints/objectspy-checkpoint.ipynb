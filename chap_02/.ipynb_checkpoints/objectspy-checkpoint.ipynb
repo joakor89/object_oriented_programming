{
 "cells": [
  {
   "cell_type": "markdown",
   "id": "4995aa77-d7b7-447e-b81c-36a69d9de7fc",
   "metadata": {},
   "source": [
    "# Objects in Python\n",
    "\n",
    "### Loading Libraries"
   ]
  },
  {
   "cell_type": "code",
   "execution_count": 3,
   "id": "50354f8e-5e03-409a-bc15-19ae37481e6d",
   "metadata": {},
   "outputs": [],
   "source": [
    "# Math\n",
    "import math\n",
    "\n",
    "# Numerical Computing\n",
    "import numpy as np\n",
    "\n",
    "# Data Manipulation\n",
    "import pandas as pd\n",
    "\n",
    "# Data Visualization\n",
    "import seaborn\n",
    "import matplotlib.pyplot as plt\n"
   ]
  },
  {
   "cell_type": "markdown",
   "id": "aeaa47d4-c4b3-4835-a5d1-f71f3f454a9c",
   "metadata": {},
   "source": [
    "### Introducing Type Hints"
   ]
  },
  {
   "cell_type": "code",
   "execution_count": 4,
   "id": "27a88d3e-8596-480c-b4f1-9dd24f8272df",
   "metadata": {},
   "outputs": [
    {
     "data": {
      "text/plain": [
       "str"
      ]
     },
     "execution_count": 4,
     "metadata": {},
     "output_type": "execute_result"
    }
   ],
   "source": [
    "type('Hellow World!')"
   ]
  },
  {
   "cell_type": "code",
   "execution_count": 6,
   "id": "16731caa-1436-4d18-b85a-4d872687b786",
   "metadata": {},
   "outputs": [
    {
     "data": {
      "text/plain": [
       "int"
      ]
     },
     "execution_count": 6,
     "metadata": {},
     "output_type": "execute_result"
    }
   ],
   "source": [
    "type(42)"
   ]
  },
  {
   "cell_type": "code",
   "execution_count": 7,
   "id": "0840aa99-3e6c-4a38-8a95-9e6d2270a5ae",
   "metadata": {},
   "outputs": [
    {
     "data": {
      "text/plain": [
       "str"
      ]
     },
     "execution_count": 7,
     "metadata": {},
     "output_type": "execute_result"
    }
   ],
   "source": [
    "a_string_variable = \"Hello, World!\"\n",
    "type(a_string_variable)"
   ]
  },
  {
   "cell_type": "code",
   "execution_count": 8,
   "id": "8efc0987-047a-42b3-bba6-c6a686d1bea6",
   "metadata": {},
   "outputs": [
    {
     "data": {
      "text/plain": [
       "int"
      ]
     },
     "execution_count": 8,
     "metadata": {},
     "output_type": "execute_result"
    }
   ],
   "source": [
    "a_string_variable = 42\n",
    "type(a_string_variable)"
   ]
  },
  {
   "cell_type": "markdown",
   "id": "f12c0a45-ec18-4c26-9c3d-bc471692e1b2",
   "metadata": {},
   "source": [
    "### Type Checking"
   ]
  },
  {
   "cell_type": "code",
   "execution_count": 9,
   "id": "0958a593-a15e-4df2-a916-a7b16d8d759f",
   "metadata": {},
   "outputs": [],
   "source": [
    "def odd(n):\n",
    "    return n % 2 != 0"
   ]
  },
  {
   "cell_type": "code",
   "execution_count": 10,
   "id": "32786483-5d8a-43f5-8f73-60987db40c55",
   "metadata": {},
   "outputs": [
    {
     "data": {
      "text/plain": [
       "True"
      ]
     },
     "execution_count": 10,
     "metadata": {},
     "output_type": "execute_result"
    }
   ],
   "source": [
    "odd(3)"
   ]
  },
  {
   "cell_type": "code",
   "execution_count": 11,
   "id": "06b60a49-325e-4bfb-b003-f1c5be56005d",
   "metadata": {},
   "outputs": [
    {
     "data": {
      "text/plain": [
       "False"
      ]
     },
     "execution_count": 11,
     "metadata": {},
     "output_type": "execute_result"
    }
   ],
   "source": [
    "odd(4)"
   ]
  },
  {
   "cell_type": "code",
   "execution_count": 12,
   "id": "3f809913-011d-41a1-8e56-0925a35678c0",
   "metadata": {},
   "outputs": [
    {
     "ename": "TypeError",
     "evalue": "not all arguments converted during string formatting",
     "output_type": "error",
     "traceback": [
      "\u001b[0;31m---------------------------------------------------------------------------\u001b[0m",
      "\u001b[0;31mTypeError\u001b[0m                                 Traceback (most recent call last)",
      "Cell \u001b[0;32mIn[12], line 1\u001b[0m\n\u001b[0;32m----> 1\u001b[0m odd(\u001b[38;5;124m\"\u001b[39m\u001b[38;5;124mHello, World!\u001b[39m\u001b[38;5;124m\"\u001b[39m)\n",
      "Cell \u001b[0;32mIn[9], line 2\u001b[0m, in \u001b[0;36modd\u001b[0;34m(n)\u001b[0m\n\u001b[1;32m      1\u001b[0m \u001b[38;5;28;01mdef\u001b[39;00m \u001b[38;5;21modd\u001b[39m(n):\n\u001b[0;32m----> 2\u001b[0m     \u001b[38;5;28;01mreturn\u001b[39;00m n \u001b[38;5;241m%\u001b[39m \u001b[38;5;241m2\u001b[39m \u001b[38;5;241m!=\u001b[39m \u001b[38;5;241m0\u001b[39m\n",
      "\u001b[0;31mTypeError\u001b[0m: not all arguments converted during string formatting"
     ]
    }
   ],
   "source": [
    "odd(\"Hello, World!\")"
   ]
  },
  {
   "cell_type": "code",
   "execution_count": 13,
   "id": "bbad4ef3-6dfb-4666-a9c6-75d4f8b89ab2",
   "metadata": {},
   "outputs": [],
   "source": [
    "def odd(n: int) -> bool:\n",
    "    return n % 2 != 0"
   ]
  },
  {
   "cell_type": "markdown",
   "id": "e43520cb-602c-4ce9-b34e-bf365914ed70",
   "metadata": {},
   "source": [
    "### Creating Python Classes"
   ]
  },
  {
   "cell_type": "code",
   "execution_count": 14,
   "id": "1c065c0b-5281-4f06-aa61-cd68b3abe44d",
   "metadata": {},
   "outputs": [],
   "source": [
    "class MyFirstClass:\n",
    "    pass"
   ]
  },
  {
   "cell_type": "code",
   "execution_count": 15,
   "id": "d4e090bf-06fd-4dd1-a3df-bf9f157e8b50",
   "metadata": {},
   "outputs": [],
   "source": [
    "a = MyFirstClass()\n",
    "\n",
    "b = MyFirstClass()"
   ]
  },
  {
   "cell_type": "code",
   "execution_count": 16,
   "id": "dbe26d43-030e-4c01-8a88-780d2e7db95f",
   "metadata": {},
   "outputs": [
    {
     "name": "stdout",
     "output_type": "stream",
     "text": [
      "<__main__.MyFirstClass object at 0x147b26010>\n"
     ]
    }
   ],
   "source": [
    "print(a)"
   ]
  },
  {
   "cell_type": "code",
   "execution_count": 17,
   "id": "7f5d7245-2fa5-426c-b930-ef28dd7bbe6c",
   "metadata": {},
   "outputs": [
    {
     "name": "stdout",
     "output_type": "stream",
     "text": [
      "<__main__.MyFirstClass object at 0x147b26650>\n"
     ]
    }
   ],
   "source": [
    "print(b)"
   ]
  },
  {
   "cell_type": "code",
   "execution_count": 18,
   "id": "87d9ea0e-c57b-4731-be0a-37878e1e69f7",
   "metadata": {},
   "outputs": [
    {
     "data": {
      "text/plain": [
       "False"
      ]
     },
     "execution_count": 18,
     "metadata": {},
     "output_type": "execute_result"
    }
   ],
   "source": [
    "a is b"
   ]
  },
  {
   "cell_type": "markdown",
   "id": "836dfa74-cda3-4387-9233-01cdc267a4ae",
   "metadata": {},
   "source": [
    "### Adding Attributes"
   ]
  },
  {
   "cell_type": "code",
   "execution_count": 19,
   "id": "6797f6b5-3941-4a41-b199-4c31c3ab4da5",
   "metadata": {},
   "outputs": [],
   "source": [
    "class Point():\n",
    "    pass\n",
    "\n",
    "p1 = Point()\n",
    "p2 = Point()\n",
    "\n",
    "p1.x = 5\n",
    "p1.y = 4\n",
    "\n",
    "p2.x = 3\n",
    "p2.y = 6"
   ]
  },
  {
   "cell_type": "code",
   "execution_count": 20,
   "id": "b4a8ba30-d915-41a9-bf25-dedcc4ea94ec",
   "metadata": {},
   "outputs": [
    {
     "name": "stdout",
     "output_type": "stream",
     "text": [
      "5 4\n",
      "3 6\n"
     ]
    }
   ],
   "source": [
    "print(p1.x, p1.y)\n",
    "print(p2.x, p2.y)"
   ]
  },
  {
   "cell_type": "markdown",
   "id": "341a2722-5f58-4ed5-831a-ab7efc549023",
   "metadata": {},
   "source": [
    "### Making it do Something"
   ]
  },
  {
   "cell_type": "code",
   "execution_count": 21,
   "id": "fdc557f6-416d-44e7-9012-96e86ea9d03a",
   "metadata": {},
   "outputs": [
    {
     "name": "stdout",
     "output_type": "stream",
     "text": [
      "0 0\n"
     ]
    }
   ],
   "source": [
    "class Point:\n",
    "    def reset(self):\n",
    "        self.x = 0\n",
    "        self.y = 0\n",
    "\n",
    "p = Point()\n",
    "p.reset()\n",
    "print(p.x, p.y)"
   ]
  },
  {
   "cell_type": "markdown",
   "id": "1539fe6f-4d19-4d7a-a5a0-b8f8b0634925",
   "metadata": {},
   "source": [
    "### Talking to Yourself"
   ]
  },
  {
   "cell_type": "code",
   "execution_count": 22,
   "id": "74690e37-0267-4217-9e7e-2992fdeb6d3f",
   "metadata": {},
   "outputs": [
    {
     "ename": "TypeError",
     "evalue": "Point.reset() missing 1 required positional argument: 'self'",
     "output_type": "error",
     "traceback": [
      "\u001b[0;31m---------------------------------------------------------------------------\u001b[0m",
      "\u001b[0;31mTypeError\u001b[0m                                 Traceback (most recent call last)",
      "Cell \u001b[0;32mIn[22], line 2\u001b[0m\n\u001b[1;32m      1\u001b[0m p \u001b[38;5;241m=\u001b[39m Point()\n\u001b[0;32m----> 2\u001b[0m Point\u001b[38;5;241m.\u001b[39mreset()\n\u001b[1;32m      3\u001b[0m \u001b[38;5;28mprint\u001b[39m(p\u001b[38;5;241m.\u001b[39mx, p\u001b[38;5;241m.\u001b[39my)\n",
      "\u001b[0;31mTypeError\u001b[0m: Point.reset() missing 1 required positional argument: 'self'"
     ]
    }
   ],
   "source": [
    "p = Point()\n",
    "Point.reset()\n",
    "print(p.x, p.y)"
   ]
  },
  {
   "cell_type": "markdown",
   "id": "07a7d691-66bc-4821-a963-35ed081c367c",
   "metadata": {},
   "source": [
    "### More Arguments"
   ]
  },
  {
   "cell_type": "code",
   "execution_count": 23,
   "id": "8a6afb6d-8cf2-446a-9c0e-35e39b646876",
   "metadata": {},
   "outputs": [],
   "source": [
    "class Point:\n",
    "    def move(self, x: float, y: float) -> None:\n",
    "        self.x = x\n",
    "        self.y = y\n",
    "\n",
    "    def reset(self) -> None:\n",
    "        self.move(0, 0)\n",
    "\n",
    "    def calculate_distance(self, other: \"Point\") -> float:\n",
    "        return math.hypot(self.x - other.x, self.y - other.y)"
   ]
  },
  {
   "cell_type": "code",
   "execution_count": 24,
   "id": "94e57633-1a48-4487-9ccd-a43bd9fc4811",
   "metadata": {},
   "outputs": [],
   "source": [
    "point1 = Point()\n",
    "\n",
    "point2 = Point()"
   ]
  },
  {
   "cell_type": "code",
   "execution_count": 26,
   "id": "98d3aada-a208-4345-8d24-3165a6a1c022",
   "metadata": {},
   "outputs": [],
   "source": [
    "point1.reset()\n",
    "point2.move(5, 0)"
   ]
  },
  {
   "cell_type": "code",
   "execution_count": 27,
   "id": "612eda3c-b23b-477a-9f5e-91f76ce14e2c",
   "metadata": {},
   "outputs": [
    {
     "name": "stdout",
     "output_type": "stream",
     "text": [
      "5.0\n"
     ]
    }
   ],
   "source": [
    "print(point2.calculate_distance(point1))"
   ]
  },
  {
   "cell_type": "code",
   "execution_count": 28,
   "id": "f657d51e-876f-4902-bc4b-58655eae0524",
   "metadata": {},
   "outputs": [],
   "source": [
    "assert point2.calculate_distance(point1) == point1.calculate_distance(point2)"
   ]
  },
  {
   "cell_type": "code",
   "execution_count": 30,
   "id": "b7daaa89-0802-434f-ab3c-902a098f4e1a",
   "metadata": {},
   "outputs": [
    {
     "name": "stdout",
     "output_type": "stream",
     "text": [
      "4.47213595499958\n"
     ]
    }
   ],
   "source": [
    "point1.move(3, 4)\n",
    "print(point1.calculate_distance(point2))"
   ]
  },
  {
   "cell_type": "code",
   "execution_count": 31,
   "id": "2b6395da-3173-4eb5-afe5-78d1ce6738b4",
   "metadata": {},
   "outputs": [
    {
     "name": "stdout",
     "output_type": "stream",
     "text": [
      "0.0\n"
     ]
    }
   ],
   "source": [
    "print(point1.calculate_distance(point1))"
   ]
  },
  {
   "cell_type": "markdown",
   "id": "3968f714-0afe-4c8e-b544-e2a1378c12f9",
   "metadata": {},
   "source": [
    "### Initializing The Object"
   ]
  },
  {
   "cell_type": "code",
   "execution_count": 32,
   "id": "15b1c1ea-4f86-4641-ac9c-fb91debdf597",
   "metadata": {},
   "outputs": [
    {
     "name": "stdout",
     "output_type": "stream",
     "text": [
      "5\n"
     ]
    }
   ],
   "source": [
    "point = Point()\n",
    "point.x = 5\n",
    "print(point.x)"
   ]
  },
  {
   "cell_type": "code",
   "execution_count": 33,
   "id": "5f94c650-e5ee-4697-9327-b1048ad7e95b",
   "metadata": {},
   "outputs": [
    {
     "ename": "AttributeError",
     "evalue": "'Point' object has no attribute 'y'",
     "output_type": "error",
     "traceback": [
      "\u001b[0;31m---------------------------------------------------------------------------\u001b[0m",
      "\u001b[0;31mAttributeError\u001b[0m                            Traceback (most recent call last)",
      "Cell \u001b[0;32mIn[33], line 1\u001b[0m\n\u001b[0;32m----> 1\u001b[0m \u001b[38;5;28mprint\u001b[39m(point\u001b[38;5;241m.\u001b[39my)\n",
      "\u001b[0;31mAttributeError\u001b[0m: 'Point' object has no attribute 'y'"
     ]
    }
   ],
   "source": [
    "print(point.y)"
   ]
  },
  {
   "cell_type": "code",
   "execution_count": null,
   "id": "53857aea-8dcb-4c96-8a9e-aaf180dbf670",
   "metadata": {},
   "outputs": [],
   "source": []
  }
 ],
 "metadata": {
  "kernelspec": {
   "display_name": "Python 3 (ipykernel)",
   "language": "python",
   "name": "python3"
  },
  "language_info": {
   "codemirror_mode": {
    "name": "ipython",
    "version": 3
   },
   "file_extension": ".py",
   "mimetype": "text/x-python",
   "name": "python",
   "nbconvert_exporter": "python",
   "pygments_lexer": "ipython3",
   "version": "3.11.9"
  }
 },
 "nbformat": 4,
 "nbformat_minor": 5
}
