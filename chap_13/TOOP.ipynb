{
 "cells": [
  {
   "cell_type": "markdown",
   "id": "36c8499b-d2c3-41ad-aa63-35db9f941967",
   "metadata": {},
   "source": [
    "# Testing Object-Oriented Programming\n",
    "\n",
    "### Loading Libraries"
   ]
  },
  {
   "cell_type": "code",
   "execution_count": 13,
   "id": "2ac2f0b3-a1ed-4c8c-a607-f71ad4e7eb4b",
   "metadata": {},
   "outputs": [],
   "source": [
    "# Math\n",
    "import math\n",
    "from math import hypot, factorial\n",
    "\n",
    "# Numerical Computing\n",
    "import numpy as np\n",
    "\n",
    "# Data Manipulation\n",
    "import pandas as pd\n",
    "\n",
    "# Data Visualization\n",
    "import seaborn\n",
    "import matplotlib.pyplot as plt\n",
    "\n",
    "# SQLite\n",
    "import sqlite3\n",
    "\n",
    "# Enum\n",
    "from enum import Enum, auto\n",
    "\n",
    "# Print\n",
    "from pprint import pprint\n",
    "\n",
    "# OS\n",
    "import io\n",
    "import re\n",
    "import sys\n",
    "import abc\n",
    "import csv\n",
    "import time\n",
    "import gzip\n",
    "import queue\n",
    "import heapq\n",
    "import socket\n",
    "import string\n",
    "import random\n",
    "import bisect\n",
    "import operator\n",
    "import datetime\n",
    "import contextlib\n",
    "import subprocess\n",
    "from decimal import Decimal\n",
    "from abc import ABC, abstractmethod\n",
    "\n",
    "# Types & Annotations\n",
    "import collections\n",
    "from __future__ import annotations\n",
    "from collections import defaultdict, Counter\n",
    "from collections.abc import Container, Mapping, Hashable\n",
    "from typing import TYPE_CHECKING\n",
    "from typing import Pattern, Match\n",
    "from typing import Hashable, Mapping, TypeVar, Any, overload, Union, Sequence, Dict, Deque, TextIO, Callable, ContextManager\n",
    "from typing import List, Protocol, NoReturn, Union, Set, Tuple, Optional, Iterable, Iterator, cast, NamedTuple\n",
    "# from typing import \n",
    "\n",
    "# Functional Tools\n",
    "from functools import wraps, total_ordering, lru_cache\n",
    "\n",
    "# Files & Path\n",
    "import tarfile\n",
    "import logging\n",
    "import zipfile\n",
    "import fnmatch\n",
    "from pathlib import Path\n",
    "from urllib.request import urlopen\n",
    "from urllib.parse import urlparse\n",
    "\n",
    "# Dataclass\n",
    "from dataclasses import dataclass, field\n",
    "\n",
    "\n"
   ]
  },
  {
   "cell_type": "markdown",
   "id": "0b150e34-94ef-4189-b8ee-562a3100320f",
   "metadata": {},
   "source": [
    "## Test-Driven Development\n",
    "\n",
    "### Testing Patterns"
   ]
  },
  {
   "cell_type": "code",
   "execution_count": 4,
   "id": "14f42829-ad53-4115-91bf-493e18811e63",
   "metadata": {},
   "outputs": [],
   "source": [
    "def average(data: list[Optional[int]]) -> float:\n",
    "    pass"
   ]
  },
  {
   "cell_type": "markdown",
   "id": "20a12b3a-ffcf-4c9a-8985-89680c44f3e2",
   "metadata": {},
   "source": [
    "### Unit Testing with `unittest`"
   ]
  },
  {
   "cell_type": "code",
   "execution_count": 6,
   "id": "59d9e308-e768-44fa-bc64-988b2bb19613",
   "metadata": {},
   "outputs": [
    {
     "name": "stderr",
     "output_type": "stream",
     "text": [
      "E\n",
      "======================================================================\n",
      "ERROR: /Users/isisromero/Library/Jupyter/runtime/kernel-1fed1c35-e4ef-4e24-aaa7-6c9ba3338bad (unittest.loader._FailedTest./Users/isisromero/Library/Jupyter/runtime/kernel-1fed1c35-e4ef-4e24-aaa7-6c9ba3338bad)\n",
      "----------------------------------------------------------------------\n",
      "AttributeError: module '__main__' has no attribute '/Users/isisromero/Library/Jupyter/runtime/kernel-1fed1c35-e4ef-4e24-aaa7-6c9ba3338bad'\n",
      "\n",
      "----------------------------------------------------------------------\n",
      "Ran 1 test in 0.001s\n",
      "\n",
      "FAILED (errors=1)\n"
     ]
    },
    {
     "ename": "SystemExit",
     "evalue": "True",
     "output_type": "error",
     "traceback": [
      "An exception has occurred, use %tb to see the full traceback.\n",
      "\u001b[0;31mSystemExit\u001b[0m\u001b[0;31m:\u001b[0m True\n"
     ]
    },
    {
     "name": "stderr",
     "output_type": "stream",
     "text": [
      "/Users/isisromero/anaconda3/envs/OOP/lib/python3.11/site-packages/IPython/core/interactiveshell.py:3585: UserWarning: To exit: use 'exit', 'quit', or Ctrl-D.\n",
      "  warn(\"To exit: use 'exit', 'quit', or Ctrl-D.\", stacklevel=1)\n"
     ]
    }
   ],
   "source": [
    "import unittest\n",
    "\n",
    "class CheckNumbers(unittest.TestCase):\n",
    "    def test_int_float(self) -> None:\n",
    "        self.assertEqual(1, 1.0)\n",
    "\n",
    "if __name__ == \"__main__\":\n",
    "    unittest.main()"
   ]
  },
  {
   "cell_type": "markdown",
   "id": "dcb19aa5-1509-47f2-afbe-9bc5488ec7ae",
   "metadata": {},
   "source": [
    "## Unit Testing with `PyTest`"
   ]
  },
  {
   "cell_type": "code",
   "execution_count": 8,
   "id": "882bd3bf-777b-4c0c-8e86-bbf5e7350dea",
   "metadata": {},
   "outputs": [],
   "source": [
    "def test_int_float() -> None:\n",
    "    assert 1 == 1.0"
   ]
  },
  {
   "cell_type": "code",
   "execution_count": 9,
   "id": "15c90464-a7a5-4b82-8f2b-8298a0849541",
   "metadata": {},
   "outputs": [],
   "source": [
    "class testNumbers:\n",
    "    def test_int_float(self) -> None:\n",
    "        assert 1 == 1.0\n",
    "\n",
    "    def test_int_str(self) -> None:\n",
    "        assert 1 == \"1\""
   ]
  },
  {
   "cell_type": "markdown",
   "id": "ad7c432e-70d0-4aee-bbe6-08be1ff2ffa1",
   "metadata": {},
   "source": [
    "### `pytest's` Fixtures for Setup & TearDown"
   ]
  },
  {
   "cell_type": "code",
   "execution_count": 10,
   "id": "1d0ab831-3937-4d30-b19c-40f1a54fd028",
   "metadata": {},
   "outputs": [],
   "source": [
    "class StatsList(List[Optional[float]]):\n",
    "    \"\"\"Stats with None objects rejected\"\"\"\n",
    "\n",
    "    def mean(self) -> float:\n",
    "        clean = list(filter(None, self))\n",
    "        return sum(clean) / len(clean)\n",
    "\n",
    "    def median(self) -> float:\n",
    "        clean = list(filter(None, self))\n",
    "        if len(clean) % 2:\n",
    "            return clean[len(clean) // 2]\n",
    "        else:\n",
    "            idx = len(clean) // 2\n",
    "            return (clean[idx] + clean[idx - 1]) / 2\n",
    "\n",
    "    def mode(self) -> list[float]:\n",
    "        freqs: DefaultDict[float, int] = collections.defaultdict(int)\n",
    "        for item in filter(None, self):\n",
    "            freqs[item] += 1\n",
    "        mode_freq = max(freqs.values())\n",
    "        modes = [item for item, value in freqs.items() if value == mode_freq]\n",
    "        return modes"
   ]
  },
  {
   "cell_type": "code",
   "execution_count": 15,
   "id": "24966241-5ed0-4e50-9ceb-ffb588154626",
   "metadata": {},
   "outputs": [],
   "source": [
    "def checksum(source: Path, checksum_path: Path) -> None:\n",
    "    if checksum_path.exists():\n",
    "        backup = checksum_path.with_stem(f\"(old) {checksum_path.stem}\")\n",
    "        backup.write_text(checksum_path.read_text())\n",
    "    checksum = hashlib.sha256(source.read_bytes())\n",
    "    checksum_path.write_text(f\"{source.name} {checksum.hexdigest()}\\n\")"
   ]
  },
  {
   "cell_type": "code",
   "execution_count": 16,
   "id": "38a57f36-6e3e-40d4-89fc-4e90d161bd18",
   "metadata": {},
   "outputs": [],
   "source": [
    "class FileChecksum:\n",
    "    def __init__(self, source: Path) -> None:\n",
    "        self.source = source\n",
    "        self.checksum = hashlib.sha256(source.read_bytes())"
   ]
  },
  {
   "cell_type": "markdown",
   "id": "1d498244-4718-49f2-ba99-419adf567805",
   "metadata": {},
   "source": [
    "### More Sophisticated Fixture"
   ]
  },
  {
   "cell_type": "code",
   "execution_count": 18,
   "id": "9a8e261e-b212-45c4-942f-7bf40d01d889",
   "metadata": {},
   "outputs": [],
   "source": [
    "class LogDataCatcher(socketserver.BaseRequestHandler):\n",
    "    log_file: TextIO\n",
    "    count: int = 0\n",
    "    size_format = \">L\"\n",
    "    size_bytes = struct.calcsize(size_format)\n",
    "\n",
    "    def handle(self) -> None:\n",
    "        size_header_bytes = self.request.recv(LogDataCatcher.size_bytes)\n",
    "        while size_header_bytes:\n",
    "            payload_size = struct.unpack(LogDataCatcher.size_format, size_header_bytes)\n",
    "            print(f\"{size_header_bytes=} {payload_size=}\", file=sys.stderr)\n",
    "            payload_bytes = self.request.recv(payload_size[0])\n",
    "            print(f\"{len(payload_bytes)=}\", file=sys.stderr)\n",
    "            payload = pickle.loads(payload_bytes)\n",
    "            LogDataCatcher.count += 1\n",
    "            print(f\"{self.client_address[0]} {LogDataCatcher.count} {payload!r}\")\n",
    "            self.log_file.write(json.dumps(payload) + \"\\n\")\n",
    "            try:\n",
    "                size_header_bytes = self.request.recv(LogDataCatcher.size_bytes)\n",
    "            except (ConnectionResetError, BrokenPipeError):\n",
    "                break"
   ]
  },
  {
   "cell_type": "code",
   "execution_count": 19,
   "id": "dcf29d91-84e6-4324-84b6-6e001873dad0",
   "metadata": {},
   "outputs": [],
   "source": [
    "def main(host: str, port: int, target: Path) -> None:\n",
    "    with target.open(\"w\") as unified_log:\n",
    "        LogDataCatcher.log_file = unified_log\n",
    "        with socketserver.TCPServer((host, port), LogDataCatcher) as server:\n",
    "            server.serve_forever()\n",
    "\n",
    "\n",
    "if __name__ == \"__main__\":\n",
    "    HOST, PORT = \"localhost\", 18842\n",
    "    main(HOST, PORT, Path(\"one.log\"))"
   ]
  },
  {
   "cell_type": "code",
   "execution_count": null,
   "id": "10c6ad30-64d4-4b7b-9366-7400aef1e246",
   "metadata": {},
   "outputs": [],
   "source": []
  },
  {
   "cell_type": "code",
   "execution_count": null,
   "id": "a4f288cc-090a-4391-a1b7-5abdfae53622",
   "metadata": {},
   "outputs": [],
   "source": []
  },
  {
   "cell_type": "code",
   "execution_count": null,
   "id": "a45b26be-fa88-4c4b-9d60-990287b13f23",
   "metadata": {},
   "outputs": [],
   "source": []
  },
  {
   "cell_type": "code",
   "execution_count": null,
   "id": "ff5f04bf-9a5e-406a-b431-a5c65b6c2f42",
   "metadata": {},
   "outputs": [],
   "source": []
  },
  {
   "cell_type": "code",
   "execution_count": null,
   "id": "80e9e5a6-67c2-4000-beaa-943de7199e48",
   "metadata": {},
   "outputs": [],
   "source": []
  },
  {
   "cell_type": "code",
   "execution_count": null,
   "id": "07382083-0624-43d0-91d0-02ecd62caec2",
   "metadata": {},
   "outputs": [],
   "source": []
  },
  {
   "cell_type": "code",
   "execution_count": null,
   "id": "647d44e9-07c6-4de2-bff9-070078b6be27",
   "metadata": {},
   "outputs": [],
   "source": []
  },
  {
   "cell_type": "code",
   "execution_count": null,
   "id": "4d40a55a-439f-4679-b4d6-96e3ce7d022a",
   "metadata": {},
   "outputs": [],
   "source": []
  },
  {
   "cell_type": "code",
   "execution_count": null,
   "id": "673bbce2-2525-439b-bb7b-e1f8f25abaec",
   "metadata": {},
   "outputs": [],
   "source": []
  },
  {
   "cell_type": "code",
   "execution_count": null,
   "id": "df0501e5-ef5d-42d0-83cf-0712ca324874",
   "metadata": {},
   "outputs": [],
   "source": []
  },
  {
   "cell_type": "code",
   "execution_count": null,
   "id": "d29908f1-83c5-44ec-9f69-87c6d708bfae",
   "metadata": {},
   "outputs": [],
   "source": []
  },
  {
   "cell_type": "code",
   "execution_count": null,
   "id": "d3a48d00-7656-4fd3-8ef4-71cd8be0925c",
   "metadata": {},
   "outputs": [],
   "source": []
  }
 ],
 "metadata": {
  "kernelspec": {
   "display_name": "Python 3 (ipykernel)",
   "language": "python",
   "name": "python3"
  },
  "language_info": {
   "codemirror_mode": {
    "name": "ipython",
    "version": 3
   },
   "file_extension": ".py",
   "mimetype": "text/x-python",
   "name": "python",
   "nbconvert_exporter": "python",
   "pygments_lexer": "ipython3",
   "version": "3.11.9"
  }
 },
 "nbformat": 4,
 "nbformat_minor": 5
}
