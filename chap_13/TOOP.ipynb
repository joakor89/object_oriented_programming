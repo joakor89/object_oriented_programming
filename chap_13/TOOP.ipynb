{
 "cells": [
  {
   "cell_type": "markdown",
   "id": "36c8499b-d2c3-41ad-aa63-35db9f941967",
   "metadata": {},
   "source": [
    "# Testing Object-Oriented Programming\n",
    "\n",
    "### Loading Libraries"
   ]
  },
  {
   "cell_type": "code",
   "execution_count": 3,
   "id": "2ac2f0b3-a1ed-4c8c-a607-f71ad4e7eb4b",
   "metadata": {},
   "outputs": [],
   "source": [
    "# Math\n",
    "import math\n",
    "from math import hypot, factorial\n",
    "\n",
    "# Numerical Computing\n",
    "import numpy as np\n",
    "\n",
    "# Data Manipulation\n",
    "import pandas as pd\n",
    "\n",
    "# Data Visualization\n",
    "import seaborn\n",
    "import matplotlib.pyplot as plt\n",
    "\n",
    "# SQLite\n",
    "import sqlite3\n",
    "\n",
    "# Enum\n",
    "from enum import Enum, auto\n",
    "\n",
    "# Print\n",
    "from pprint import pprint\n",
    "\n",
    "# OS\n",
    "import io\n",
    "import re\n",
    "import sys\n",
    "import abc\n",
    "import csv\n",
    "import time\n",
    "import gzip\n",
    "import queue\n",
    "import heapq\n",
    "import socket\n",
    "import string\n",
    "import random\n",
    "import bisect\n",
    "import operator\n",
    "import datetime\n",
    "import contextlib\n",
    "import subprocess\n",
    "from decimal import Decimal\n",
    "from abc import ABC, abstractmethod\n",
    "\n",
    "# Types & Annotations\n",
    "import collections\n",
    "from __future__ import annotations\n",
    "from collections import defaultdict, Counter\n",
    "from collections.abc import Container, Mapping, Hashable\n",
    "from typing import TYPE_CHECKING\n",
    "from typing import Pattern, Match\n",
    "from typing import Hashable, Mapping, TypeVar, Any, overload, Union, Sequence, Dict, Deque, TextIO, Callable, ContextManager\n",
    "from typing import List, Protocol, NoReturn, Union, Set, Tuple, Optional, Iterable, Iterator, cast, NamedTuple\n",
    "# from typing import \n",
    "\n",
    "# Functional Tools\n",
    "from functools import wraps, total_ordering, lru_cache\n",
    "\n",
    "# Files & Path\n",
    "import logging\n",
    "import zipfile\n",
    "import fnmatch\n",
    "from pathlib import Path\n",
    "from urllib.request import urlopen\n",
    "from urllib.parse import urlparse\n",
    "\n",
    "# Dataclass\n",
    "from dataclasses import dataclass, field\n",
    "\n",
    "\n"
   ]
  },
  {
   "cell_type": "markdown",
   "id": "0b150e34-94ef-4189-b8ee-562a3100320f",
   "metadata": {},
   "source": [
    "## Test-Driven Development\n",
    "\n",
    "### Testing Patterns"
   ]
  },
  {
   "cell_type": "code",
   "execution_count": 4,
   "id": "14f42829-ad53-4115-91bf-493e18811e63",
   "metadata": {},
   "outputs": [],
   "source": [
    "def average(data: list[Optional[int]]) -> float:\n",
    "    pass"
   ]
  },
  {
   "cell_type": "markdown",
   "id": "20a12b3a-ffcf-4c9a-8985-89680c44f3e2",
   "metadata": {},
   "source": [
    "### Unit Testing with `unittest`"
   ]
  },
  {
   "cell_type": "code",
   "execution_count": 6,
   "id": "59d9e308-e768-44fa-bc64-988b2bb19613",
   "metadata": {},
   "outputs": [
    {
     "name": "stderr",
     "output_type": "stream",
     "text": [
      "E\n",
      "======================================================================\n",
      "ERROR: /Users/isisromero/Library/Jupyter/runtime/kernel-1fed1c35-e4ef-4e24-aaa7-6c9ba3338bad (unittest.loader._FailedTest./Users/isisromero/Library/Jupyter/runtime/kernel-1fed1c35-e4ef-4e24-aaa7-6c9ba3338bad)\n",
      "----------------------------------------------------------------------\n",
      "AttributeError: module '__main__' has no attribute '/Users/isisromero/Library/Jupyter/runtime/kernel-1fed1c35-e4ef-4e24-aaa7-6c9ba3338bad'\n",
      "\n",
      "----------------------------------------------------------------------\n",
      "Ran 1 test in 0.001s\n",
      "\n",
      "FAILED (errors=1)\n"
     ]
    },
    {
     "ename": "SystemExit",
     "evalue": "True",
     "output_type": "error",
     "traceback": [
      "An exception has occurred, use %tb to see the full traceback.\n",
      "\u001b[0;31mSystemExit\u001b[0m\u001b[0;31m:\u001b[0m True\n"
     ]
    },
    {
     "name": "stderr",
     "output_type": "stream",
     "text": [
      "/Users/isisromero/anaconda3/envs/OOP/lib/python3.11/site-packages/IPython/core/interactiveshell.py:3585: UserWarning: To exit: use 'exit', 'quit', or Ctrl-D.\n",
      "  warn(\"To exit: use 'exit', 'quit', or Ctrl-D.\", stacklevel=1)\n"
     ]
    }
   ],
   "source": [
    "import unittest\n",
    "\n",
    "class CheckNumbers(unittest.TestCase):\n",
    "    def test_int_float(self) -> None:\n",
    "        self.assertEqual(1, 1.0)\n",
    "\n",
    "if __name__ == \"__main__\":\n",
    "    unittest.main()"
   ]
  },
  {
   "cell_type": "markdown",
   "id": "dcb19aa5-1509-47f2-afbe-9bc5488ec7ae",
   "metadata": {},
   "source": [
    "## Unit Testing with `PyTest`"
   ]
  },
  {
   "cell_type": "code",
   "execution_count": 8,
   "id": "882bd3bf-777b-4c0c-8e86-bbf5e7350dea",
   "metadata": {},
   "outputs": [],
   "source": [
    "def test_int_float() -> None:\n",
    "    assert 1 == 1.0"
   ]
  },
  {
   "cell_type": "code",
   "execution_count": 9,
   "id": "15c90464-a7a5-4b82-8f2b-8298a0849541",
   "metadata": {},
   "outputs": [],
   "source": [
    "class testNumbers:\n",
    "    def test_int_float(self) -> None:\n",
    "        assert 1 == 1.0\n",
    "\n",
    "    def test_int_str(self) -> None:\n",
    "        assert 1 == \"1\""
   ]
  },
  {
   "cell_type": "code",
   "execution_count": null,
   "id": "6150da31-9691-447e-83d3-4647fc7ebfb1",
   "metadata": {},
   "outputs": [],
   "source": []
  },
  {
   "cell_type": "code",
   "execution_count": null,
   "id": "1d0ab831-3937-4d30-b19c-40f1a54fd028",
   "metadata": {},
   "outputs": [],
   "source": []
  },
  {
   "cell_type": "code",
   "execution_count": null,
   "id": "24966241-5ed0-4e50-9ceb-ffb588154626",
   "metadata": {},
   "outputs": [],
   "source": []
  },
  {
   "cell_type": "code",
   "execution_count": null,
   "id": "38a57f36-6e3e-40d4-89fc-4e90d161bd18",
   "metadata": {},
   "outputs": [],
   "source": []
  },
  {
   "cell_type": "code",
   "execution_count": null,
   "id": "70652bc1-df5a-48b7-a5ff-431c509ea1c1",
   "metadata": {},
   "outputs": [],
   "source": []
  },
  {
   "cell_type": "code",
   "execution_count": null,
   "id": "9a8e261e-b212-45c4-942f-7bf40d01d889",
   "metadata": {},
   "outputs": [],
   "source": []
  },
  {
   "cell_type": "code",
   "execution_count": null,
   "id": "dcf29d91-84e6-4324-84b6-6e001873dad0",
   "metadata": {},
   "outputs": [],
   "source": []
  },
  {
   "cell_type": "code",
   "execution_count": null,
   "id": "10c6ad30-64d4-4b7b-9366-7400aef1e246",
   "metadata": {},
   "outputs": [],
   "source": []
  },
  {
   "cell_type": "code",
   "execution_count": null,
   "id": "a4f288cc-090a-4391-a1b7-5abdfae53622",
   "metadata": {},
   "outputs": [],
   "source": []
  },
  {
   "cell_type": "code",
   "execution_count": null,
   "id": "a45b26be-fa88-4c4b-9d60-990287b13f23",
   "metadata": {},
   "outputs": [],
   "source": []
  },
  {
   "cell_type": "code",
   "execution_count": null,
   "id": "ff5f04bf-9a5e-406a-b431-a5c65b6c2f42",
   "metadata": {},
   "outputs": [],
   "source": []
  },
  {
   "cell_type": "code",
   "execution_count": null,
   "id": "80e9e5a6-67c2-4000-beaa-943de7199e48",
   "metadata": {},
   "outputs": [],
   "source": []
  },
  {
   "cell_type": "code",
   "execution_count": null,
   "id": "07382083-0624-43d0-91d0-02ecd62caec2",
   "metadata": {},
   "outputs": [],
   "source": []
  },
  {
   "cell_type": "code",
   "execution_count": null,
   "id": "647d44e9-07c6-4de2-bff9-070078b6be27",
   "metadata": {},
   "outputs": [],
   "source": []
  },
  {
   "cell_type": "code",
   "execution_count": null,
   "id": "4d40a55a-439f-4679-b4d6-96e3ce7d022a",
   "metadata": {},
   "outputs": [],
   "source": []
  },
  {
   "cell_type": "code",
   "execution_count": null,
   "id": "673bbce2-2525-439b-bb7b-e1f8f25abaec",
   "metadata": {},
   "outputs": [],
   "source": []
  },
  {
   "cell_type": "code",
   "execution_count": null,
   "id": "df0501e5-ef5d-42d0-83cf-0712ca324874",
   "metadata": {},
   "outputs": [],
   "source": []
  },
  {
   "cell_type": "code",
   "execution_count": null,
   "id": "d29908f1-83c5-44ec-9f69-87c6d708bfae",
   "metadata": {},
   "outputs": [],
   "source": []
  },
  {
   "cell_type": "code",
   "execution_count": null,
   "id": "d3a48d00-7656-4fd3-8ef4-71cd8be0925c",
   "metadata": {},
   "outputs": [],
   "source": []
  }
 ],
 "metadata": {
  "kernelspec": {
   "display_name": "Python 3 (ipykernel)",
   "language": "python",
   "name": "python3"
  },
  "language_info": {
   "codemirror_mode": {
    "name": "ipython",
    "version": 3
   },
   "file_extension": ".py",
   "mimetype": "text/x-python",
   "name": "python",
   "nbconvert_exporter": "python",
   "pygments_lexer": "ipython3",
   "version": "3.11.9"
  }
 },
 "nbformat": 4,
 "nbformat_minor": 5
}
