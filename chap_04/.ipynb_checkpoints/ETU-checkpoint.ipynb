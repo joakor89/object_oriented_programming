{
 "cells": [
  {
   "cell_type": "markdown",
   "id": "66150530-48b7-43f1-a537-b2eda3c8925b",
   "metadata": {},
   "source": [
    "# Expecting The Unexpected\n",
    "\n",
    "### Loading Libraries"
   ]
  },
  {
   "cell_type": "code",
   "execution_count": 22,
   "id": "920ecc56-e6a2-448e-ba47-fb2840354253",
   "metadata": {},
   "outputs": [],
   "source": [
    "# Math\n",
    "import math\n",
    "\n",
    "# OS\n",
    "from decimal import Decimal\n",
    "from pathlib import Path\n",
    "from __future__ import annotations\n",
    "from typing import List, Protocol, NoReturn, Union\n",
    "\n",
    "# Numerical Computing\n",
    "import numpy as np\n",
    "\n",
    "# Data Manipulation\n",
    "import pandas as pd\n",
    "\n",
    "# Data Visualization\n",
    "import seaborn\n",
    "import matplotlib.pyplot as plt"
   ]
  },
  {
   "cell_type": "markdown",
   "id": "f2873f36-de9b-4d3a-98be-6334995ff03e",
   "metadata": {},
   "source": [
    "### Raising an Exception"
   ]
  },
  {
   "cell_type": "code",
   "execution_count": 2,
   "id": "432674cb-279a-472b-8794-8335e6f172bd",
   "metadata": {},
   "outputs": [],
   "source": [
    "class EvenOnly(List[int]):\n",
    "    def append(self, value: int) -> None:\n",
    "        if not isinstance(value, int):\n",
    "            raise TypeError(\"Only integers can be added\")\n",
    "        if value % 2 != 0:\n",
    "            raise ValueError(\"Only even numbers can be added\")\n",
    "        super().append(value)"
   ]
  },
  {
   "cell_type": "code",
   "execution_count": 3,
   "id": "4eb830d2-d904-49d9-83fc-e367cd9fe8c5",
   "metadata": {},
   "outputs": [
    {
     "ename": "TypeError",
     "evalue": "Only integers can be added",
     "output_type": "error",
     "traceback": [
      "\u001b[0;31m---------------------------------------------------------------------------\u001b[0m",
      "\u001b[0;31mTypeError\u001b[0m                                 Traceback (most recent call last)",
      "Cell \u001b[0;32mIn[3], line 3\u001b[0m\n\u001b[1;32m      1\u001b[0m e \u001b[38;5;241m=\u001b[39m EvenOnly()\n\u001b[0;32m----> 3\u001b[0m e\u001b[38;5;241m.\u001b[39mappend(\u001b[38;5;124m\"\u001b[39m\u001b[38;5;124ma string\u001b[39m\u001b[38;5;124m\"\u001b[39m)\n",
      "Cell \u001b[0;32mIn[2], line 4\u001b[0m, in \u001b[0;36mEvenOnly.append\u001b[0;34m(self, value)\u001b[0m\n\u001b[1;32m      2\u001b[0m \u001b[38;5;28;01mdef\u001b[39;00m \u001b[38;5;21mappend\u001b[39m(\u001b[38;5;28mself\u001b[39m, value: \u001b[38;5;28mint\u001b[39m) \u001b[38;5;241m-\u001b[39m\u001b[38;5;241m>\u001b[39m \u001b[38;5;28;01mNone\u001b[39;00m:\n\u001b[1;32m      3\u001b[0m     \u001b[38;5;28;01mif\u001b[39;00m \u001b[38;5;129;01mnot\u001b[39;00m \u001b[38;5;28misinstance\u001b[39m(value, \u001b[38;5;28mint\u001b[39m):\n\u001b[0;32m----> 4\u001b[0m         \u001b[38;5;28;01mraise\u001b[39;00m \u001b[38;5;167;01mTypeError\u001b[39;00m(\u001b[38;5;124m\"\u001b[39m\u001b[38;5;124mOnly integers can be added\u001b[39m\u001b[38;5;124m\"\u001b[39m)\n\u001b[1;32m      5\u001b[0m     \u001b[38;5;28;01mif\u001b[39;00m value \u001b[38;5;241m%\u001b[39m \u001b[38;5;241m2\u001b[39m \u001b[38;5;241m!=\u001b[39m \u001b[38;5;241m0\u001b[39m:\n\u001b[1;32m      6\u001b[0m         \u001b[38;5;28;01mraise\u001b[39;00m \u001b[38;5;167;01mValueError\u001b[39;00m(\u001b[38;5;124m\"\u001b[39m\u001b[38;5;124mOnly even numbers can be added\u001b[39m\u001b[38;5;124m\"\u001b[39m)\n",
      "\u001b[0;31mTypeError\u001b[0m: Only integers can be added"
     ]
    }
   ],
   "source": [
    "e = EvenOnly()\n",
    "\n",
    "e.append(\"a string\")"
   ]
  },
  {
   "cell_type": "code",
   "execution_count": 4,
   "id": "0cd57f9c-d79d-404a-8001-5e74d9e35a55",
   "metadata": {},
   "outputs": [
    {
     "ename": "ValueError",
     "evalue": "Only even numbers can be added",
     "output_type": "error",
     "traceback": [
      "\u001b[0;31m---------------------------------------------------------------------------\u001b[0m",
      "\u001b[0;31mValueError\u001b[0m                                Traceback (most recent call last)",
      "Cell \u001b[0;32mIn[4], line 1\u001b[0m\n\u001b[0;32m----> 1\u001b[0m e\u001b[38;5;241m.\u001b[39mappend(\u001b[38;5;241m3\u001b[39m)\n",
      "Cell \u001b[0;32mIn[2], line 6\u001b[0m, in \u001b[0;36mEvenOnly.append\u001b[0;34m(self, value)\u001b[0m\n\u001b[1;32m      4\u001b[0m     \u001b[38;5;28;01mraise\u001b[39;00m \u001b[38;5;167;01mTypeError\u001b[39;00m(\u001b[38;5;124m\"\u001b[39m\u001b[38;5;124mOnly integers can be added\u001b[39m\u001b[38;5;124m\"\u001b[39m)\n\u001b[1;32m      5\u001b[0m \u001b[38;5;28;01mif\u001b[39;00m value \u001b[38;5;241m%\u001b[39m \u001b[38;5;241m2\u001b[39m \u001b[38;5;241m!=\u001b[39m \u001b[38;5;241m0\u001b[39m:\n\u001b[0;32m----> 6\u001b[0m     \u001b[38;5;28;01mraise\u001b[39;00m \u001b[38;5;167;01mValueError\u001b[39;00m(\u001b[38;5;124m\"\u001b[39m\u001b[38;5;124mOnly even numbers can be added\u001b[39m\u001b[38;5;124m\"\u001b[39m)\n\u001b[1;32m      7\u001b[0m \u001b[38;5;28msuper\u001b[39m()\u001b[38;5;241m.\u001b[39mappend(value)\n",
      "\u001b[0;31mValueError\u001b[0m: Only even numbers can be added"
     ]
    }
   ],
   "source": [
    "e.append(3)"
   ]
  },
  {
   "cell_type": "markdown",
   "id": "3ac1e08e-f521-49ea-b0d9-ca50b86dd4a3",
   "metadata": {},
   "source": [
    "### The Effects of an Exception"
   ]
  },
  {
   "cell_type": "code",
   "execution_count": 5,
   "id": "c7f027a6-72d8-4fec-b022-235277f75dba",
   "metadata": {},
   "outputs": [],
   "source": [
    "def never_returns() -> NoReturn:\n",
    "    print(\"I am about to raise an exception\")\n",
    "    raise Exception(\"This is always raised\")\n",
    "    print(\"This line will never execute\")\n",
    "    return \"I won't be returned\""
   ]
  },
  {
   "cell_type": "code",
   "execution_count": 6,
   "id": "c8c19c3b-4d91-4a3f-b4f4-6ab16581c6ba",
   "metadata": {},
   "outputs": [
    {
     "name": "stdout",
     "output_type": "stream",
     "text": [
      "I am about to raise an exception\n"
     ]
    },
    {
     "ename": "Exception",
     "evalue": "This is always raised",
     "output_type": "error",
     "traceback": [
      "\u001b[0;31m---------------------------------------------------------------------------\u001b[0m",
      "\u001b[0;31mException\u001b[0m                                 Traceback (most recent call last)",
      "Cell \u001b[0;32mIn[6], line 1\u001b[0m\n\u001b[0;32m----> 1\u001b[0m never_returns()\n",
      "Cell \u001b[0;32mIn[5], line 3\u001b[0m, in \u001b[0;36mnever_returns\u001b[0;34m()\u001b[0m\n\u001b[1;32m      1\u001b[0m \u001b[38;5;28;01mdef\u001b[39;00m \u001b[38;5;21mnever_returns\u001b[39m() \u001b[38;5;241m-\u001b[39m\u001b[38;5;241m>\u001b[39m NoReturn:\n\u001b[1;32m      2\u001b[0m     \u001b[38;5;28mprint\u001b[39m(\u001b[38;5;124m\"\u001b[39m\u001b[38;5;124mI am about to raise an exception\u001b[39m\u001b[38;5;124m\"\u001b[39m)\n\u001b[0;32m----> 3\u001b[0m     \u001b[38;5;28;01mraise\u001b[39;00m \u001b[38;5;167;01mException\u001b[39;00m(\u001b[38;5;124m\"\u001b[39m\u001b[38;5;124mThis is always raised\u001b[39m\u001b[38;5;124m\"\u001b[39m)\n\u001b[1;32m      4\u001b[0m     \u001b[38;5;28mprint\u001b[39m(\u001b[38;5;124m\"\u001b[39m\u001b[38;5;124mThis line will never execute\u001b[39m\u001b[38;5;124m\"\u001b[39m)\n\u001b[1;32m      5\u001b[0m     \u001b[38;5;28;01mreturn\u001b[39;00m \u001b[38;5;124m\"\u001b[39m\u001b[38;5;124mI won\u001b[39m\u001b[38;5;124m'\u001b[39m\u001b[38;5;124mt be returned\u001b[39m\u001b[38;5;124m\"\u001b[39m\n",
      "\u001b[0;31mException\u001b[0m: This is always raised"
     ]
    }
   ],
   "source": [
    "never_returns()"
   ]
  },
  {
   "cell_type": "code",
   "execution_count": 7,
   "id": "9917263e-d496-4165-9b35-7d1e2026237c",
   "metadata": {},
   "outputs": [],
   "source": [
    "def call_exceptor() -> None:\n",
    "    print(\"call exceptor starts here...\")\n",
    "    never_returns()\n",
    "    print(\"an exception was raised\")\n",
    "    print(\"...so these lines don't run\")"
   ]
  },
  {
   "cell_type": "code",
   "execution_count": 8,
   "id": "6156c034-7940-4beb-9123-975f523ed5f9",
   "metadata": {},
   "outputs": [
    {
     "name": "stdout",
     "output_type": "stream",
     "text": [
      "call exceptor starts here...\n",
      "I am about to raise an exception\n"
     ]
    },
    {
     "ename": "Exception",
     "evalue": "This is always raised",
     "output_type": "error",
     "traceback": [
      "\u001b[0;31m---------------------------------------------------------------------------\u001b[0m",
      "\u001b[0;31mException\u001b[0m                                 Traceback (most recent call last)",
      "Cell \u001b[0;32mIn[8], line 1\u001b[0m\n\u001b[0;32m----> 1\u001b[0m call_exceptor()\n",
      "Cell \u001b[0;32mIn[7], line 3\u001b[0m, in \u001b[0;36mcall_exceptor\u001b[0;34m()\u001b[0m\n\u001b[1;32m      1\u001b[0m \u001b[38;5;28;01mdef\u001b[39;00m \u001b[38;5;21mcall_exceptor\u001b[39m() \u001b[38;5;241m-\u001b[39m\u001b[38;5;241m>\u001b[39m \u001b[38;5;28;01mNone\u001b[39;00m:\n\u001b[1;32m      2\u001b[0m     \u001b[38;5;28mprint\u001b[39m(\u001b[38;5;124m\"\u001b[39m\u001b[38;5;124mcall exceptor starts here...\u001b[39m\u001b[38;5;124m\"\u001b[39m)\n\u001b[0;32m----> 3\u001b[0m     never_returns()\n\u001b[1;32m      4\u001b[0m     \u001b[38;5;28mprint\u001b[39m(\u001b[38;5;124m\"\u001b[39m\u001b[38;5;124man exception was raised\u001b[39m\u001b[38;5;124m\"\u001b[39m)\n\u001b[1;32m      5\u001b[0m     \u001b[38;5;28mprint\u001b[39m(\u001b[38;5;124m\"\u001b[39m\u001b[38;5;124m...so these lines don\u001b[39m\u001b[38;5;124m'\u001b[39m\u001b[38;5;124mt run\u001b[39m\u001b[38;5;124m\"\u001b[39m)\n",
      "Cell \u001b[0;32mIn[5], line 3\u001b[0m, in \u001b[0;36mnever_returns\u001b[0;34m()\u001b[0m\n\u001b[1;32m      1\u001b[0m \u001b[38;5;28;01mdef\u001b[39;00m \u001b[38;5;21mnever_returns\u001b[39m() \u001b[38;5;241m-\u001b[39m\u001b[38;5;241m>\u001b[39m NoReturn:\n\u001b[1;32m      2\u001b[0m     \u001b[38;5;28mprint\u001b[39m(\u001b[38;5;124m\"\u001b[39m\u001b[38;5;124mI am about to raise an exception\u001b[39m\u001b[38;5;124m\"\u001b[39m)\n\u001b[0;32m----> 3\u001b[0m     \u001b[38;5;28;01mraise\u001b[39;00m \u001b[38;5;167;01mException\u001b[39;00m(\u001b[38;5;124m\"\u001b[39m\u001b[38;5;124mThis is always raised\u001b[39m\u001b[38;5;124m\"\u001b[39m)\n\u001b[1;32m      4\u001b[0m     \u001b[38;5;28mprint\u001b[39m(\u001b[38;5;124m\"\u001b[39m\u001b[38;5;124mThis line will never execute\u001b[39m\u001b[38;5;124m\"\u001b[39m)\n\u001b[1;32m      5\u001b[0m     \u001b[38;5;28;01mreturn\u001b[39;00m \u001b[38;5;124m\"\u001b[39m\u001b[38;5;124mI won\u001b[39m\u001b[38;5;124m'\u001b[39m\u001b[38;5;124mt be returned\u001b[39m\u001b[38;5;124m\"\u001b[39m\n",
      "\u001b[0;31mException\u001b[0m: This is always raised"
     ]
    }
   ],
   "source": [
    "call_exceptor()"
   ]
  },
  {
   "cell_type": "markdown",
   "id": "15633879-4b53-416f-9444-d06dc4757f51",
   "metadata": {},
   "source": [
    "### Handling Exceptions"
   ]
  },
  {
   "cell_type": "code",
   "execution_count": 9,
   "id": "48f62e61-ff18-418c-95e2-1977e93331a4",
   "metadata": {},
   "outputs": [],
   "source": [
    "def handler() -> None:\n",
    "    try:\n",
    "        never_returns()\n",
    "        print(\"Never executed\")\n",
    "    except Exception as ex:\n",
    "        print(f\"I caught an exception: {ex!r}\")\n",
    "    print(\"Executed after the exception\")"
   ]
  },
  {
   "cell_type": "code",
   "execution_count": 10,
   "id": "8cdd73ba-e28b-4924-a33f-bf8fafa711f4",
   "metadata": {},
   "outputs": [
    {
     "name": "stdout",
     "output_type": "stream",
     "text": [
      "I am about to raise an exception\n",
      "I caught an exception: Exception('This is always raised')\n",
      "Executed after the exception\n"
     ]
    }
   ],
   "source": [
    "handler()"
   ]
  },
  {
   "cell_type": "code",
   "execution_count": 12,
   "id": "3cc4b771-6168-4f38-81d8-52b41c084c03",
   "metadata": {},
   "outputs": [],
   "source": [
    "def funny_division(divisor: float) -> Union[str, float]:\n",
    "    try:\n",
    "        return 100 / divisor\n",
    "    except ZeroDivisionError:\n",
    "        return \"Zero is not a good idea!\""
   ]
  },
  {
   "cell_type": "code",
   "execution_count": 13,
   "id": "a2759ec3-d7a4-4ead-9e28-3155cd317c28",
   "metadata": {},
   "outputs": [
    {
     "name": "stdout",
     "output_type": "stream",
     "text": [
      "Zero is not a good idea!\n"
     ]
    }
   ],
   "source": [
    "print(funny_division(0))"
   ]
  },
  {
   "cell_type": "code",
   "execution_count": 14,
   "id": "29b8e846-b19a-460e-86ca-92fa982e599d",
   "metadata": {},
   "outputs": [
    {
     "name": "stdout",
     "output_type": "stream",
     "text": [
      "2.0\n"
     ]
    }
   ],
   "source": [
    "print(funny_division(50.0))"
   ]
  },
  {
   "cell_type": "code",
   "execution_count": 15,
   "id": "3f7e9bba-2271-4dd9-8437-7830852b2419",
   "metadata": {},
   "outputs": [
    {
     "ename": "TypeError",
     "evalue": "unsupported operand type(s) for /: 'int' and 'str'",
     "output_type": "error",
     "traceback": [
      "\u001b[0;31m---------------------------------------------------------------------------\u001b[0m",
      "\u001b[0;31mTypeError\u001b[0m                                 Traceback (most recent call last)",
      "Cell \u001b[0;32mIn[15], line 1\u001b[0m\n\u001b[0;32m----> 1\u001b[0m \u001b[38;5;28mprint\u001b[39m(funny_division(\u001b[38;5;124m\"\u001b[39m\u001b[38;5;124mhello!\u001b[39m\u001b[38;5;124m\"\u001b[39m))\n",
      "Cell \u001b[0;32mIn[12], line 3\u001b[0m, in \u001b[0;36mfunny_division\u001b[0;34m(divisor)\u001b[0m\n\u001b[1;32m      1\u001b[0m \u001b[38;5;28;01mdef\u001b[39;00m \u001b[38;5;21mfunny_division\u001b[39m(divisor: \u001b[38;5;28mfloat\u001b[39m) \u001b[38;5;241m-\u001b[39m\u001b[38;5;241m>\u001b[39m Union[\u001b[38;5;28mstr\u001b[39m, \u001b[38;5;28mfloat\u001b[39m]:\n\u001b[1;32m      2\u001b[0m     \u001b[38;5;28;01mtry\u001b[39;00m:\n\u001b[0;32m----> 3\u001b[0m         \u001b[38;5;28;01mreturn\u001b[39;00m \u001b[38;5;241m100\u001b[39m \u001b[38;5;241m/\u001b[39m divisor\n\u001b[1;32m      4\u001b[0m     \u001b[38;5;28;01mexcept\u001b[39;00m \u001b[38;5;167;01mZeroDivisionError\u001b[39;00m:\n\u001b[1;32m      5\u001b[0m         \u001b[38;5;28;01mreturn\u001b[39;00m \u001b[38;5;124m\"\u001b[39m\u001b[38;5;124mZero is not a good idea!\u001b[39m\u001b[38;5;124m\"\u001b[39m\n",
      "\u001b[0;31mTypeError\u001b[0m: unsupported operand type(s) for /: 'int' and 'str'"
     ]
    }
   ],
   "source": [
    "print(funny_division(\"hello!\"))"
   ]
  },
  {
   "cell_type": "code",
   "execution_count": 16,
   "id": "63e4498b-ff16-46cd-ae85-f333163870f4",
   "metadata": {},
   "outputs": [],
   "source": [
    "def funnier_division(divisor: int) -> Union[str, float]:\n",
    "    try:\n",
    "        if divisor == 13:\n",
    "            raise ValueError(\"13 is an unlucky number\")\n",
    "        return 100 / divisor\n",
    "    except (ZeroDivisionError, TypeError):\n",
    "        return \"Enter a number other than zero\""
   ]
  },
  {
   "cell_type": "code",
   "execution_count": 18,
   "id": "caab67e3-a65b-40aa-8506-49f8ae4f4025",
   "metadata": {},
   "outputs": [
    {
     "name": "stdout",
     "output_type": "stream",
     "text": [
      "Testing 0: Enter a number other than zero\n",
      "Testing 'hello': Enter a number other than zero\n",
      "Testing 50.0: 2.0\n",
      "Testing 13: "
     ]
    },
    {
     "ename": "ValueError",
     "evalue": "13 is an unlucky number",
     "output_type": "error",
     "traceback": [
      "\u001b[0;31m---------------------------------------------------------------------------\u001b[0m",
      "\u001b[0;31mValueError\u001b[0m                                Traceback (most recent call last)",
      "Cell \u001b[0;32mIn[18], line 3\u001b[0m\n\u001b[1;32m      1\u001b[0m \u001b[38;5;28;01mfor\u001b[39;00m val \u001b[38;5;129;01min\u001b[39;00m (\u001b[38;5;241m0\u001b[39m, \u001b[38;5;124m\"\u001b[39m\u001b[38;5;124mhello\u001b[39m\u001b[38;5;124m\"\u001b[39m, \u001b[38;5;241m50.0\u001b[39m, \u001b[38;5;241m13\u001b[39m):\n\u001b[1;32m      2\u001b[0m     \u001b[38;5;28mprint\u001b[39m(\u001b[38;5;124mf\u001b[39m\u001b[38;5;124m\"\u001b[39m\u001b[38;5;124mTesting \u001b[39m\u001b[38;5;132;01m{\u001b[39;00mval\u001b[38;5;132;01m!r}\u001b[39;00m\u001b[38;5;124m:\u001b[39m\u001b[38;5;124m\"\u001b[39m, end\u001b[38;5;241m=\u001b[39m\u001b[38;5;124m\"\u001b[39m\u001b[38;5;124m \u001b[39m\u001b[38;5;124m\"\u001b[39m)\n\u001b[0;32m----> 3\u001b[0m     \u001b[38;5;28mprint\u001b[39m(funnier_division(val))\n",
      "Cell \u001b[0;32mIn[16], line 4\u001b[0m, in \u001b[0;36mfunnier_division\u001b[0;34m(divisor)\u001b[0m\n\u001b[1;32m      2\u001b[0m \u001b[38;5;28;01mtry\u001b[39;00m:\n\u001b[1;32m      3\u001b[0m     \u001b[38;5;28;01mif\u001b[39;00m divisor \u001b[38;5;241m==\u001b[39m \u001b[38;5;241m13\u001b[39m:\n\u001b[0;32m----> 4\u001b[0m         \u001b[38;5;28;01mraise\u001b[39;00m \u001b[38;5;167;01mValueError\u001b[39;00m(\u001b[38;5;124m\"\u001b[39m\u001b[38;5;124m13 is an unlucky number\u001b[39m\u001b[38;5;124m\"\u001b[39m)\n\u001b[1;32m      5\u001b[0m     \u001b[38;5;28;01mreturn\u001b[39;00m \u001b[38;5;241m100\u001b[39m \u001b[38;5;241m/\u001b[39m divisor\n\u001b[1;32m      6\u001b[0m \u001b[38;5;28;01mexcept\u001b[39;00m (\u001b[38;5;167;01mZeroDivisionError\u001b[39;00m, \u001b[38;5;167;01mTypeError\u001b[39;00m):\n",
      "\u001b[0;31mValueError\u001b[0m: 13 is an unlucky number"
     ]
    }
   ],
   "source": [
    "for val in (0, \"hello\", 50.0, 13):\n",
    "    print(f\"Testing {val!r}:\", end=\" \")\n",
    "    print(funnier_division(val))"
   ]
  },
  {
   "cell_type": "code",
   "execution_count": 19,
   "id": "c1556e60-e7de-4352-89b6-0f77bf1c9f5f",
   "metadata": {},
   "outputs": [],
   "source": [
    "def funniest_division(divisor: int) -> Union[str, float]:\n",
    "    try:\n",
    "        if divider == 13:\n",
    "            raise ValueError(\"13 is an unlucky number\")\n",
    "        return 100 / divider\n",
    "    except ZeroDivisionError:\n",
    "        return \"Enter a number other than zero\"\n",
    "    except TypeError:\n",
    "        return \"Enter a numerical value\"\n",
    "    except ValueError:\n",
    "        print(\"No, No, not 13!\")\n",
    "        raise"
   ]
  },
  {
   "cell_type": "code",
   "execution_count": 21,
   "id": "0e924782-202d-46ef-97c3-841893380bbd",
   "metadata": {},
   "outputs": [
    {
     "name": "stdout",
     "output_type": "stream",
     "text": [
      "\n",
      "Raising <class 'ValueError'>\n",
      "Caught a ValueError\n",
      "This cleanup code is always called\n",
      "\n",
      "Raising <class 'TypeError'>\n",
      "Caught a TypeError\n",
      "This cleanup code is always called\n",
      "\n",
      "Raising <class 'IndexError'>\n",
      "Caught some other error: IndexError\n",
      "This cleanup code is always called\n",
      "\n",
      "Raising None\n",
      "no exception raised\n",
      "This code called if there is no exception\n",
      "This cleanup code is always called\n"
     ]
    }
   ],
   "source": [
    "some_exceptions = [ValueError, TypeError, IndexError, None]\n",
    "\n",
    "for choice in some_exceptions:\n",
    "    try:\n",
    "        print(f\"\\nRaising {choice}\")\n",
    "        if choice:\n",
    "            raise choice(\"An error\")\n",
    "        else:\n",
    "            print(\"no exception raised\")\n",
    "    except ValueError:\n",
    "        print(\"Caught a ValueError\")\n",
    "    except TypeError:\n",
    "        print(\"Caught a TypeError\")\n",
    "    except Exception as e:\n",
    "        print(f\"Caught some other error: {e.__class__.__name__}\")\n",
    "    else:\n",
    "        print(\"This code called if there is no exception\")\n",
    "    finally:\n",
    "        print(\"This cleanup code is always called\")"
   ]
  },
  {
   "cell_type": "markdown",
   "id": "6c317681-928d-4366-a855-d02df397c817",
   "metadata": {},
   "source": [
    "### Exceptions aren't Exceptional"
   ]
  },
  {
   "cell_type": "code",
   "execution_count": 24,
   "id": "6638e4a2-f638-489f-845e-b5e0e2dfd261",
   "metadata": {},
   "outputs": [],
   "source": [
    "def divide_with_exception(dividend: int, divisor: int) -> None:\n",
    "    try:\n",
    "        print(f\"{dividend / divisor=}\")\n",
    "    except ZeroDivisionError:\n",
    "        print(\"Ypu can't divide by zero\")\n",
    "\n",
    "def divide_with_if(dividend: int, divisor: int) -> None:\n",
    "    if divisor == 0:\n",
    "        print(\"You can't divide by zero\")\n",
    "    else:\n",
    "        print(f\"{dividend / divisor=}\")"
   ]
  },
  {
   "cell_type": "code",
   "execution_count": 41,
   "id": "8c3b9b07-4504-477b-b3a1-6996fe198c62",
   "metadata": {},
   "outputs": [],
   "source": [
    "class OutOfStock(Exception):\n",
    "    pass\n",
    "\n",
    "class InvalidItemType(Exception):\n",
    "    pass\n",
    "\n",
    "class Inventory:\n",
    "    def __init__(self, stock: list[ItemType]) -> None:\n",
    "        pass\n",
    "\n",
    "    def lock(self, item_type: ItemType) -> None:\n",
    "        \"\"\"Context Entry.\n",
    "        Lock the item type so nobody else can manipulate the\n",
    "        inventory while we're working.\"\"\"\n",
    "        pass\n",
    "\n",
    "    def unlock(self, item_type: ItemType) -> None:\n",
    "        \"\"\"Context Exit.\n",
    "        Unlock the item type.\"\"\"\n",
    "        pass\n",
    "\n",
    "    def purchase(self, item_type: ItemType) -> int:\n",
    "        \"\"\"If the item is not locked, raise a\n",
    "        ValueError beacuse something went wrong.\n",
    "        If the item_type does not exist,\n",
    "          raise InvalidItemType.\n",
    "        If the item is currently out of stock,\n",
    "          raise OutOfStock.\n",
    "        if the item is available,\n",
    "          subtrct one item; return the number of items left.\n",
    "        \"\"\"\n",
    "        # Mocked results/\n",
    "        if item_type.name == \"Widget\":\n",
    "            raise OutOfStock(item_type)\n",
    "        elif item_type.name == \"Gadget\":\n",
    "            return 42\n",
    "        else:\n",
    "            raise InvalidType"
   ]
  },
  {
   "cell_type": "code",
   "execution_count": 42,
   "id": "fb6de16c-69f5-4bd6-90c8-0bfdf811095c",
   "metadata": {},
   "outputs": [],
   "source": [
    "class ItemType:\n",
    "    def __init__(self, name: str) -> None:\n",
    "        self.name = name\n",
    "        self.on_hand = 0"
   ]
  },
  {
   "cell_type": "code",
   "execution_count": 43,
   "id": "55cf2f27-0453-489e-a9df-03cc9e80897e",
   "metadata": {},
   "outputs": [],
   "source": [
    "widget = ItemType(\"Widget\")\n",
    "\n",
    "gadget = ItemType(\"Gadget\")\n",
    "\n",
    "inv = Inventory([widget, gadget])"
   ]
  },
  {
   "cell_type": "code",
   "execution_count": 44,
   "id": "10955487-e48f-45fc-a438-7a4047cbc8b9",
   "metadata": {},
   "outputs": [],
   "source": [
    "item_to_buy = widget"
   ]
  },
  {
   "cell_type": "code",
   "execution_count": 45,
   "id": "0af35def-dfe2-4897-b5a0-c46738b52e12",
   "metadata": {},
   "outputs": [],
   "source": [
    "inv.lock(item_to_buy)"
   ]
  },
  {
   "cell_type": "code",
   "execution_count": 46,
   "id": "bacd36b2-a852-4647-8210-154335990c1c",
   "metadata": {},
   "outputs": [
    {
     "name": "stdout",
     "output_type": "stream",
     "text": [
      "Sorry, that item is out of stock.\n"
     ]
    }
   ],
   "source": [
    "try:\n",
    "    num_left = inv.purchase(item_to_buy)\n",
    "except InvalidItemType:\n",
    "    print(f\"Sorry, we don't sell {item_to_buy.name}\")\n",
    "except OutOfStock:\n",
    "    print(\"Sorry, that item is out of stock.\")\n",
    "else:\n",
    "    print(f\"Purchase complete. There are {num_left} {item_to_buy.name}s left\")\n",
    "finally: inv.unlock(item_to_buy)"
   ]
  },
  {
   "cell_type": "code",
   "execution_count": 49,
   "id": "ad6b7a8d-e504-4ad1-a088-aaf96b9fa24c",
   "metadata": {},
   "outputs": [],
   "source": [
    "msg = (\n",
    "    f\"there is {num_left} {item_to_buy} left\"\n",
    "    if num_left == 1\n",
    "    else f\"there are{num_left} {item_to_buy.name}s left\")\n",
    "\n",
    "print(msg)"
   ]
  },
  {
   "cell_type": "code",
   "execution_count": null,
   "id": "c4038579-19b9-4da9-9859-13656ce6c302",
   "metadata": {},
   "outputs": [],
   "source": []
  },
  {
   "cell_type": "code",
   "execution_count": null,
   "id": "d974d93c-8a1a-46da-8b93-393b45265ab0",
   "metadata": {},
   "outputs": [],
   "source": []
  },
  {
   "cell_type": "code",
   "execution_count": null,
   "id": "6a325f29-c031-4e8a-bc6f-b040a3f6cf58",
   "metadata": {},
   "outputs": [],
   "source": []
  },
  {
   "cell_type": "code",
   "execution_count": null,
   "id": "8867b002-47a7-4338-b521-da868e9b16e1",
   "metadata": {},
   "outputs": [],
   "source": []
  },
  {
   "cell_type": "code",
   "execution_count": null,
   "id": "2cf2584f-2e3e-4d33-9a6e-dacfb9069ba5",
   "metadata": {},
   "outputs": [],
   "source": []
  },
  {
   "cell_type": "code",
   "execution_count": null,
   "id": "816a2cef-c4af-4937-834d-617c5506e1cd",
   "metadata": {},
   "outputs": [],
   "source": []
  },
  {
   "cell_type": "code",
   "execution_count": null,
   "id": "4505d907-2ced-41f4-9c1e-ae5fd625b7f2",
   "metadata": {},
   "outputs": [],
   "source": []
  },
  {
   "cell_type": "code",
   "execution_count": null,
   "id": "0114be93-38f6-4141-a79d-79fff4b78c63",
   "metadata": {},
   "outputs": [],
   "source": []
  },
  {
   "cell_type": "code",
   "execution_count": null,
   "id": "3d8e0769-2051-4dc3-809b-a10dd965c69b",
   "metadata": {},
   "outputs": [],
   "source": []
  },
  {
   "cell_type": "code",
   "execution_count": null,
   "id": "73c83422-8dd7-4e46-bbe3-05946829c8af",
   "metadata": {},
   "outputs": [],
   "source": []
  },
  {
   "cell_type": "code",
   "execution_count": null,
   "id": "c7bf6493-ba04-4d3b-b278-5b6607b76353",
   "metadata": {},
   "outputs": [],
   "source": []
  },
  {
   "cell_type": "code",
   "execution_count": null,
   "id": "eec8a808-78ce-4cad-914f-92836638f3cc",
   "metadata": {},
   "outputs": [],
   "source": []
  },
  {
   "cell_type": "code",
   "execution_count": null,
   "id": "a4d3e485-48a0-4da7-aa28-32312b9811f8",
   "metadata": {},
   "outputs": [],
   "source": []
  },
  {
   "cell_type": "code",
   "execution_count": null,
   "id": "45905004-be9c-4e0a-b26d-ea0c8ce080b6",
   "metadata": {},
   "outputs": [],
   "source": []
  },
  {
   "cell_type": "code",
   "execution_count": null,
   "id": "451b373f-87f8-4e15-aab2-672b86076b56",
   "metadata": {},
   "outputs": [],
   "source": []
  },
  {
   "cell_type": "code",
   "execution_count": null,
   "id": "e2818da3-b468-45c6-bcd4-ea90fc13d63b",
   "metadata": {},
   "outputs": [],
   "source": []
  },
  {
   "cell_type": "code",
   "execution_count": null,
   "id": "91e33430-3cbd-41f3-b1df-bd50f585d02e",
   "metadata": {},
   "outputs": [],
   "source": []
  },
  {
   "cell_type": "code",
   "execution_count": null,
   "id": "29ef1e73-a1c4-4ca1-803f-3bca929ec89d",
   "metadata": {},
   "outputs": [],
   "source": []
  },
  {
   "cell_type": "code",
   "execution_count": null,
   "id": "985e50fd-ac8c-4849-85d6-90a8a1abe73e",
   "metadata": {},
   "outputs": [],
   "source": []
  },
  {
   "cell_type": "code",
   "execution_count": null,
   "id": "a0294ca7-3fcb-412e-80fc-3cf41157862e",
   "metadata": {},
   "outputs": [],
   "source": []
  },
  {
   "cell_type": "code",
   "execution_count": null,
   "id": "c1afdb66-d893-4881-a23d-938f378c66b0",
   "metadata": {},
   "outputs": [],
   "source": []
  },
  {
   "cell_type": "code",
   "execution_count": null,
   "id": "dcd84ea4-8e14-47f8-b8ab-464ceabd361b",
   "metadata": {},
   "outputs": [],
   "source": []
  },
  {
   "cell_type": "code",
   "execution_count": null,
   "id": "6a432584-c272-4bf5-9e48-cda67f623ef0",
   "metadata": {},
   "outputs": [],
   "source": []
  },
  {
   "cell_type": "code",
   "execution_count": null,
   "id": "595911e7-748e-41d6-a7f5-c78b03a3dfbf",
   "metadata": {},
   "outputs": [],
   "source": []
  },
  {
   "cell_type": "code",
   "execution_count": null,
   "id": "e19b4b93-358e-4462-b982-d0ac17e13e94",
   "metadata": {},
   "outputs": [],
   "source": []
  }
 ],
 "metadata": {
  "kernelspec": {
   "display_name": "Python 3 (ipykernel)",
   "language": "python",
   "name": "python3"
  },
  "language_info": {
   "codemirror_mode": {
    "name": "ipython",
    "version": 3
   },
   "file_extension": ".py",
   "mimetype": "text/x-python",
   "name": "python",
   "nbconvert_exporter": "python",
   "pygments_lexer": "ipython3",
   "version": "3.11.9"
  }
 },
 "nbformat": 4,
 "nbformat_minor": 5
}
