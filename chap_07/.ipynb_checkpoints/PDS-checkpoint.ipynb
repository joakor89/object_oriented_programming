{
 "cells": [
  {
   "cell_type": "markdown",
   "id": "3ab8bc77-7bc0-4b8c-afb2-c0007b71fecd",
   "metadata": {},
   "source": [
    "# Python Data Structure\n",
    "\n",
    "### Loading Libraries"
   ]
  },
  {
   "cell_type": "code",
   "execution_count": 34,
   "id": "95489fb9-9e3a-49e1-85e5-fc9073c02275",
   "metadata": {},
   "outputs": [],
   "source": [
    "# Math\n",
    "import math\n",
    "from math import hypot\n",
    "\n",
    "# Numerical Computing\n",
    "import numpy as np\n",
    "\n",
    "# Data Manipulation\n",
    "import pandas as pd\n",
    "\n",
    "# Data Visualization\n",
    "import seaborn\n",
    "import matplotlib.pyplot as plt\n",
    "\n",
    "# OS\n",
    "import re\n",
    "import sys\n",
    "import abc\n",
    "import time\n",
    "import random\n",
    "import bisect\n",
    "import datetime\n",
    "from decimal import Decimal\n",
    "\n",
    "# Types & Annotations\n",
    "from __future__ import annotations\n",
    "from collections import defaultdict, Counter\n",
    "from collections.abc import Container, Mapping, Hashable\n",
    "from typing import Hashable, Mapping, TypeVar, Any, overload, Union, Sequence, Dict\n",
    "from typing import List, Protocol, NoReturn, Union, Set, Tuple, Optional, Iterable, Iterator, cast, NamedTuple\n",
    "\n",
    "# Functional Tools\n",
    "from functools import wraps\n",
    "\n",
    "# Files & Path\n",
    "import logging\n",
    "import zipfile\n",
    "import fnmatch\n",
    "from pathlib import Path\n",
    "from urllib.request import urlopen\n",
    "\n",
    "#\n",
    "from dataclasses import dataclass"
   ]
  },
  {
   "cell_type": "code",
   "execution_count": 2,
   "id": "4ff66cb1-aee7-4743-86e6-f9c87916e680",
   "metadata": {},
   "outputs": [],
   "source": [
    "Comparable = TypeVar('Comparable')\n",
    "\n",
    "BaseMapping = Mapping[Comparable, Any]"
   ]
  },
  {
   "cell_type": "markdown",
   "id": "83cd7b4f-606b-4231-872e-4a0db586fe20",
   "metadata": {},
   "source": [
    "### Empty Objects"
   ]
  },
  {
   "cell_type": "code",
   "execution_count": 3,
   "id": "879ec310-0838-44f0-9b2d-e24f5edd44a1",
   "metadata": {},
   "outputs": [
    {
     "ename": "AttributeError",
     "evalue": "'object' object has no attribute 'x'",
     "output_type": "error",
     "traceback": [
      "\u001b[0;31m---------------------------------------------------------------------------\u001b[0m",
      "\u001b[0;31mAttributeError\u001b[0m                            Traceback (most recent call last)",
      "Cell \u001b[0;32mIn[3], line 3\u001b[0m\n\u001b[1;32m      1\u001b[0m o \u001b[38;5;241m=\u001b[39m \u001b[38;5;28mobject\u001b[39m()\n\u001b[0;32m----> 3\u001b[0m o\u001b[38;5;241m.\u001b[39mx \u001b[38;5;241m=\u001b[39m \u001b[38;5;241m5\u001b[39m\n",
      "\u001b[0;31mAttributeError\u001b[0m: 'object' object has no attribute 'x'"
     ]
    }
   ],
   "source": [
    "o = object()\n",
    "\n",
    "o.x = 5"
   ]
  },
  {
   "cell_type": "code",
   "execution_count": 4,
   "id": "85e8e034-0541-4399-80df-0c21f5389760",
   "metadata": {},
   "outputs": [],
   "source": [
    "class MyObject:\n",
    "    ..."
   ]
  },
  {
   "cell_type": "code",
   "execution_count": 5,
   "id": "cec61c9b-8863-4ccb-bae1-6a49bdf9aa4a",
   "metadata": {},
   "outputs": [
    {
     "data": {
      "text/plain": [
       "'hello'"
      ]
     },
     "execution_count": 5,
     "metadata": {},
     "output_type": "execute_result"
    }
   ],
   "source": [
    "m = MyObject()\n",
    "\n",
    "m.x = \"hello\"\n",
    "m.x"
   ]
  },
  {
   "cell_type": "markdown",
   "id": "edcfdfd8-d10f-4eaa-939f-16e388ffcba6",
   "metadata": {},
   "source": [
    "### Tuples & Named Tuples"
   ]
  },
  {
   "cell_type": "code",
   "execution_count": 6,
   "id": "34fae51d-13ba-4f4e-8002-8148574621e8",
   "metadata": {},
   "outputs": [],
   "source": [
    "stock = \"APPL\", 123.52, 53.15, 137.98\n",
    "\n",
    "stock2 = (\"APPL\", 123.52, 53.15, 137.98)"
   ]
  },
  {
   "cell_type": "code",
   "execution_count": 7,
   "id": "3ccce811-453f-45c2-aadb-99d405f8f800",
   "metadata": {},
   "outputs": [],
   "source": [
    "def middle(stock, date):\n",
    "    symbol, current, high, low = stock\n",
    "    return (((high + low) / 2), date)"
   ]
  },
  {
   "cell_type": "code",
   "execution_count": 8,
   "id": "e2c7a460-e012-4cac-b32f-2813c3a1028f",
   "metadata": {},
   "outputs": [
    {
     "data": {
      "text/plain": [
       "(95.565, datetime.date(2020, 12, 4))"
      ]
     },
     "execution_count": 8,
     "metadata": {},
     "output_type": "execute_result"
    }
   ],
   "source": [
    "middle((\"APPL\", 123.52, 53.15, 137.98), datetime.date(2020, 12, 4))"
   ]
  },
  {
   "cell_type": "code",
   "execution_count": 9,
   "id": "df645dc8-65d6-48f3-b849-eaca7ad6794d",
   "metadata": {},
   "outputs": [
    {
     "data": {
      "text/plain": [
       "42"
      ]
     },
     "execution_count": 9,
     "metadata": {},
     "output_type": "execute_result"
    }
   ],
   "source": [
    "a = 42\n",
    "a"
   ]
  },
  {
   "cell_type": "code",
   "execution_count": 10,
   "id": "17443831-c0a3-4a33-a315-e68b3d49fd30",
   "metadata": {},
   "outputs": [
    {
     "data": {
      "text/plain": [
       "((42, 3.14), (2.718, 2.618))"
      ]
     },
     "execution_count": 10,
     "metadata": {},
     "output_type": "execute_result"
    }
   ],
   "source": [
    "b = (42, 3.14), (2.718, 2.618),\n",
    "b"
   ]
  },
  {
   "cell_type": "code",
   "execution_count": 11,
   "id": "da2f5b21-b365-4ade-87d2-4002298ab29e",
   "metadata": {},
   "outputs": [],
   "source": [
    "s = \"APPL\", 132.76, 134.80, 130.53"
   ]
  },
  {
   "cell_type": "code",
   "execution_count": 12,
   "id": "19aea7d4-965a-47b7-822a-0e040607c5ff",
   "metadata": {},
   "outputs": [
    {
     "data": {
      "text/plain": [
       "134.8"
      ]
     },
     "execution_count": 12,
     "metadata": {},
     "output_type": "execute_result"
    }
   ],
   "source": [
    "high = s[2]\n",
    "high"
   ]
  },
  {
   "cell_type": "code",
   "execution_count": 13,
   "id": "016da3dc-29f3-4aca-a618-89e23bc7547c",
   "metadata": {},
   "outputs": [
    {
     "data": {
      "text/plain": [
       "(132.76, 134.8)"
      ]
     },
     "execution_count": 13,
     "metadata": {},
     "output_type": "execute_result"
    }
   ],
   "source": [
    "s[1:3]"
   ]
  },
  {
   "cell_type": "code",
   "execution_count": 14,
   "id": "1d0d7730-4adc-47c6-83b7-4fafb231bc88",
   "metadata": {},
   "outputs": [],
   "source": [
    "def high(stock):\n",
    "    symbol, current, high, low = stock\n",
    "    return high"
   ]
  },
  {
   "cell_type": "code",
   "execution_count": 15,
   "id": "c032a0db-5826-4af0-acd5-d6c7922bf538",
   "metadata": {},
   "outputs": [
    {
     "data": {
      "text/plain": [
       "134.8"
      ]
     },
     "execution_count": 15,
     "metadata": {},
     "output_type": "execute_result"
    }
   ],
   "source": [
    "high(s)"
   ]
  },
  {
   "cell_type": "markdown",
   "id": "6a9ca7ef-d351-49b9-9436-a121619fa983",
   "metadata": {},
   "source": [
    "### Named Tuples via: `typing.NamedTuple`"
   ]
  },
  {
   "cell_type": "code",
   "execution_count": 16,
   "id": "b5ed6868-d871-4c3c-b4e4-7f9be0a93732",
   "metadata": {},
   "outputs": [],
   "source": [
    "class Stock(NamedTuple):\n",
    "    symbol: str\n",
    "    current: float\n",
    "    high:float\n",
    "    low: float"
   ]
  },
  {
   "cell_type": "code",
   "execution_count": 18,
   "id": "f44aa9f5-a568-4d16-aaff-e7b8f198c93d",
   "metadata": {},
   "outputs": [
    {
     "data": {
      "text/plain": [
       "Stock(symbol='APPL', current=123.52, high=137.98, low=53.15)"
      ]
     },
     "execution_count": 18,
     "metadata": {},
     "output_type": "execute_result"
    }
   ],
   "source": [
    "Stock(\"APPL\", 123.52, 137.98, 53.15)"
   ]
  },
  {
   "cell_type": "code",
   "execution_count": 21,
   "id": "82b05c84-ec74-40e0-91f3-b2799010658d",
   "metadata": {},
   "outputs": [],
   "source": [
    "s2 = Stock(\"APPL\", 123.52, high=137.98, low=53.15)"
   ]
  },
  {
   "cell_type": "code",
   "execution_count": 23,
   "id": "3464c8d9-1a00-416c-bc3b-a043ccaf8094",
   "metadata": {},
   "outputs": [
    {
     "data": {
      "text/plain": [
       "137.98"
      ]
     },
     "execution_count": 23,
     "metadata": {},
     "output_type": "execute_result"
    }
   ],
   "source": [
    "s2.high"
   ]
  },
  {
   "cell_type": "code",
   "execution_count": 25,
   "id": "b99ebce9-375d-4f67-bc48-95291d358a09",
   "metadata": {},
   "outputs": [
    {
     "data": {
      "text/plain": [
       "134.8"
      ]
     },
     "execution_count": 25,
     "metadata": {},
     "output_type": "execute_result"
    }
   ],
   "source": [
    "s[2]"
   ]
  },
  {
   "cell_type": "code",
   "execution_count": 27,
   "id": "faeddc19-baef-4a23-ad06-335accf0deba",
   "metadata": {},
   "outputs": [],
   "source": [
    "symbol, current, high, low = s"
   ]
  },
  {
   "cell_type": "code",
   "execution_count": 28,
   "id": "ad29c131-faf7-49a5-a2d1-631b302b54d7",
   "metadata": {},
   "outputs": [
    {
     "data": {
      "text/plain": [
       "132.76"
      ]
     },
     "execution_count": 28,
     "metadata": {},
     "output_type": "execute_result"
    }
   ],
   "source": [
    "current"
   ]
  },
  {
   "cell_type": "code",
   "execution_count": 35,
   "id": "102330fe-ee35-4083-98b3-e6e88ea9547a",
   "metadata": {},
   "outputs": [
    {
     "ename": "AttributeError",
     "evalue": "'tuple' object has no attribute 'current'",
     "output_type": "error",
     "traceback": [
      "\u001b[0;31m---------------------------------------------------------------------------\u001b[0m",
      "\u001b[0;31mAttributeError\u001b[0m                            Traceback (most recent call last)",
      "Cell \u001b[0;32mIn[35], line 1\u001b[0m\n\u001b[0;32m----> 1\u001b[0m s\u001b[38;5;241m.\u001b[39mcurrent \u001b[38;5;241m=\u001b[39m \u001b[38;5;241m122.25\u001b[39m\n",
      "\u001b[0;31mAttributeError\u001b[0m: 'tuple' object has no attribute 'current'"
     ]
    }
   ],
   "source": [
    "s.current = 122.25"
   ]
  },
  {
   "cell_type": "code",
   "execution_count": 37,
   "id": "1798b089-7b46-4e66-8809-9240137b1716",
   "metadata": {},
   "outputs": [],
   "source": [
    "t = (\"Relayer\", [\"Gates of Delirium\", \"Sound of Chaser\"])\n",
    "\n",
    "t[1].append(\"To Be Over\")"
   ]
  },
  {
   "cell_type": "code",
   "execution_count": 38,
   "id": "d4de9beb-65c9-47cb-b744-f28983e0ecf7",
   "metadata": {},
   "outputs": [
    {
     "data": {
      "text/plain": [
       "('Relayer', ['Gates of Delirium', 'Sound of Chaser', 'To Be Over'])"
      ]
     },
     "execution_count": 38,
     "metadata": {},
     "output_type": "execute_result"
    }
   ],
   "source": [
    "t"
   ]
  },
  {
   "cell_type": "code",
   "execution_count": 39,
   "id": "4bb92763-701b-4b0d-b536-f5a5c93b834e",
   "metadata": {},
   "outputs": [
    {
     "ename": "TypeError",
     "evalue": "unhashable type: 'list'",
     "output_type": "error",
     "traceback": [
      "\u001b[0;31m---------------------------------------------------------------------------\u001b[0m",
      "\u001b[0;31mTypeError\u001b[0m                                 Traceback (most recent call last)",
      "Cell \u001b[0;32mIn[39], line 1\u001b[0m\n\u001b[0;32m----> 1\u001b[0m \u001b[38;5;28mhash\u001b[39m(t)\n",
      "\u001b[0;31mTypeError\u001b[0m: unhashable type: 'list'"
     ]
    }
   ],
   "source": [
    "hash(t)"
   ]
  },
  {
   "cell_type": "markdown",
   "id": "b0fb5fe5-b84f-400d-99fd-69e2d16d9782",
   "metadata": {},
   "source": [
    "### Dataclasses"
   ]
  },
  {
   "cell_type": "code",
   "execution_count": null,
   "id": "d6068847-9964-40a8-b04a-f1c7fa69a7f2",
   "metadata": {},
   "outputs": [],
   "source": []
  },
  {
   "cell_type": "code",
   "execution_count": null,
   "id": "aad12e07-b2c0-41fa-a9a4-fdd279d76c8c",
   "metadata": {},
   "outputs": [],
   "source": []
  },
  {
   "cell_type": "code",
   "execution_count": null,
   "id": "1faa51cb-da72-43ed-9aa5-b48cd8067fb7",
   "metadata": {},
   "outputs": [],
   "source": []
  },
  {
   "cell_type": "code",
   "execution_count": null,
   "id": "93adaa71-b915-4668-98e7-a22b0b87dd3b",
   "metadata": {},
   "outputs": [],
   "source": []
  },
  {
   "cell_type": "code",
   "execution_count": null,
   "id": "0b694c14-944c-40ff-87dc-0a6eeb3db8f1",
   "metadata": {},
   "outputs": [],
   "source": []
  },
  {
   "cell_type": "code",
   "execution_count": null,
   "id": "34f524cb-0271-4126-97c3-7bd3b5fa94a3",
   "metadata": {},
   "outputs": [],
   "source": []
  },
  {
   "cell_type": "code",
   "execution_count": null,
   "id": "70fcd04b-2715-487b-882e-46993d2c6ea4",
   "metadata": {},
   "outputs": [],
   "source": []
  },
  {
   "cell_type": "code",
   "execution_count": null,
   "id": "295403a3-9a7d-4eb4-8e05-ea4af84b93db",
   "metadata": {},
   "outputs": [],
   "source": []
  },
  {
   "cell_type": "code",
   "execution_count": null,
   "id": "ff28f3b0-aff0-4139-b2df-f83c48d14a2b",
   "metadata": {},
   "outputs": [],
   "source": []
  },
  {
   "cell_type": "code",
   "execution_count": null,
   "id": "8feafdd1-b213-4598-b8fd-a8fb586848a7",
   "metadata": {},
   "outputs": [],
   "source": []
  },
  {
   "cell_type": "code",
   "execution_count": null,
   "id": "859a6207-0be6-41ee-81d5-34925831a137",
   "metadata": {},
   "outputs": [],
   "source": []
  },
  {
   "cell_type": "markdown",
   "id": "fd554b75-bcf1-43b6-8c1b-0ee2cae1a16f",
   "metadata": {},
   "source": [
    "### Dictionaries"
   ]
  },
  {
   "cell_type": "code",
   "execution_count": null,
   "id": "ae15a10f-b59e-4d83-8617-698892f5dc0b",
   "metadata": {},
   "outputs": [],
   "source": []
  },
  {
   "cell_type": "code",
   "execution_count": null,
   "id": "1a1b2e9f-f5a5-441b-a551-7b5ff48677ab",
   "metadata": {},
   "outputs": [],
   "source": []
  },
  {
   "cell_type": "code",
   "execution_count": null,
   "id": "d5d0e651-54e8-4acc-83ef-8f1ff8ed71af",
   "metadata": {},
   "outputs": [],
   "source": []
  },
  {
   "cell_type": "code",
   "execution_count": null,
   "id": "b5f2a5fc-6f0e-48a3-b555-2504ee09a6d7",
   "metadata": {},
   "outputs": [],
   "source": []
  },
  {
   "cell_type": "code",
   "execution_count": null,
   "id": "d055a563-bfd3-490c-a8e4-40b0d202185f",
   "metadata": {},
   "outputs": [],
   "source": []
  },
  {
   "cell_type": "code",
   "execution_count": null,
   "id": "6b105bac-453e-454a-a81f-3f80c41028a8",
   "metadata": {},
   "outputs": [],
   "source": []
  },
  {
   "cell_type": "code",
   "execution_count": null,
   "id": "175d2351-7a8b-4cb1-96bd-ec42ca87d0cf",
   "metadata": {},
   "outputs": [],
   "source": []
  },
  {
   "cell_type": "code",
   "execution_count": null,
   "id": "9192c1ed-ee19-4bc4-bda2-0767ea09243a",
   "metadata": {},
   "outputs": [],
   "source": []
  },
  {
   "cell_type": "code",
   "execution_count": null,
   "id": "30912c07-25b0-416b-86fc-819caa30f152",
   "metadata": {},
   "outputs": [],
   "source": []
  },
  {
   "cell_type": "code",
   "execution_count": null,
   "id": "c4ecaf4c-28fb-4b50-88cb-54b8e857d5c7",
   "metadata": {},
   "outputs": [],
   "source": []
  },
  {
   "cell_type": "markdown",
   "id": "955f495b-6204-4c25-a2d0-9c49136ec6c9",
   "metadata": {},
   "source": [
    "### Using `defaultdict`"
   ]
  },
  {
   "cell_type": "code",
   "execution_count": null,
   "id": "a9e517f6-d22c-42ef-b2d2-1eb1cb66604c",
   "metadata": {},
   "outputs": [],
   "source": []
  },
  {
   "cell_type": "code",
   "execution_count": null,
   "id": "5f611c91-16d3-4c1f-9943-b54109afffb0",
   "metadata": {},
   "outputs": [],
   "source": []
  },
  {
   "cell_type": "code",
   "execution_count": null,
   "id": "d28bc9f1-a972-4790-96bc-6c0fa8224e03",
   "metadata": {},
   "outputs": [],
   "source": []
  },
  {
   "cell_type": "code",
   "execution_count": null,
   "id": "0e0b22d1-1f07-4dbb-a95d-3bd9eed82a97",
   "metadata": {},
   "outputs": [],
   "source": []
  },
  {
   "cell_type": "code",
   "execution_count": null,
   "id": "b4005ffa-cfea-4942-a54b-94a2b7da3b3d",
   "metadata": {},
   "outputs": [],
   "source": []
  },
  {
   "cell_type": "code",
   "execution_count": null,
   "id": "bbb15b83-d321-486a-abcb-7ebdebcf419d",
   "metadata": {},
   "outputs": [],
   "source": []
  },
  {
   "cell_type": "code",
   "execution_count": null,
   "id": "f1bab477-a7b4-416a-bc55-1969aef21971",
   "metadata": {},
   "outputs": [],
   "source": []
  },
  {
   "cell_type": "code",
   "execution_count": null,
   "id": "e16e0cbd-bcbb-4503-95d7-1a69219fa0ce",
   "metadata": {},
   "outputs": [],
   "source": []
  },
  {
   "cell_type": "markdown",
   "id": "d19972e2-74b6-496b-9ae7-cc7cf7b5535b",
   "metadata": {},
   "source": [
    "### Counter"
   ]
  },
  {
   "cell_type": "code",
   "execution_count": null,
   "id": "92732e2a-b84e-41fd-814d-858aea019245",
   "metadata": {},
   "outputs": [],
   "source": []
  }
 ],
 "metadata": {
  "kernelspec": {
   "display_name": "Python 3 (ipykernel)",
   "language": "python",
   "name": "python3"
  },
  "language_info": {
   "codemirror_mode": {
    "name": "ipython",
    "version": 3
   },
   "file_extension": ".py",
   "mimetype": "text/x-python",
   "name": "python",
   "nbconvert_exporter": "python",
   "pygments_lexer": "ipython3",
   "version": "3.11.9"
  }
 },
 "nbformat": 4,
 "nbformat_minor": 5
}
