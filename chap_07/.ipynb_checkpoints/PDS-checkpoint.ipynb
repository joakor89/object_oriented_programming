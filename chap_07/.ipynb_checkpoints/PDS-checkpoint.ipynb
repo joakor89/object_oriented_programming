{
 "cells": [
  {
   "cell_type": "markdown",
   "id": "3ab8bc77-7bc0-4b8c-afb2-c0007b71fecd",
   "metadata": {},
   "source": [
    "# Python Data Structure\n",
    "\n",
    "### Loading Libraries"
   ]
  },
  {
   "cell_type": "code",
   "execution_count": 123,
   "id": "95489fb9-9e3a-49e1-85e5-fc9073c02275",
   "metadata": {},
   "outputs": [],
   "source": [
    "# Math\n",
    "import math\n",
    "from math import hypot\n",
    "\n",
    "# Numerical Computing\n",
    "import numpy as np\n",
    "\n",
    "# Data Manipulation\n",
    "import pandas as pd\n",
    "\n",
    "# Data Visualization\n",
    "import seaborn\n",
    "import matplotlib.pyplot as plt\n",
    "\n",
    "#\n",
    "from pprint import pprint\n",
    "\n",
    "# OS\n",
    "import re\n",
    "import sys\n",
    "import abc\n",
    "import time\n",
    "import queue\n",
    "import string\n",
    "import random\n",
    "import bisect\n",
    "import operator\n",
    "import datetime\n",
    "from decimal import Decimal\n",
    "\n",
    "# Types & Annotations\n",
    "import collections\n",
    "from __future__ import annotations\n",
    "from collections import defaultdict, Counter\n",
    "from collections.abc import Container, Mapping, Hashable\n",
    "from typing import Hashable, Mapping, TypeVar, Any, overload, Union, Sequence, Dict, Deque\n",
    "from typing import List, Protocol, NoReturn, Union, Set, Tuple, Optional, Iterable, Iterator, cast, NamedTuple\n",
    "# from typing import \n",
    "\n",
    "# Functional Tools\n",
    "from functools import wraps, total_ordering\n",
    "\n",
    "# Files & Path\n",
    "import logging\n",
    "import zipfile\n",
    "import fnmatch\n",
    "from pathlib import Path\n",
    "from urllib.request import urlopen\n",
    "\n",
    "#\n",
    "from dataclasses import dataclass"
   ]
  },
  {
   "cell_type": "code",
   "execution_count": 2,
   "id": "4ff66cb1-aee7-4743-86e6-f9c87916e680",
   "metadata": {},
   "outputs": [],
   "source": [
    "Comparable = TypeVar('Comparable')\n",
    "\n",
    "BaseMapping = Mapping[Comparable, Any]"
   ]
  },
  {
   "cell_type": "markdown",
   "id": "83cd7b4f-606b-4231-872e-4a0db586fe20",
   "metadata": {},
   "source": [
    "### Empty Objects"
   ]
  },
  {
   "cell_type": "code",
   "execution_count": 3,
   "id": "879ec310-0838-44f0-9b2d-e24f5edd44a1",
   "metadata": {},
   "outputs": [
    {
     "ename": "AttributeError",
     "evalue": "'object' object has no attribute 'x'",
     "output_type": "error",
     "traceback": [
      "\u001b[0;31m---------------------------------------------------------------------------\u001b[0m",
      "\u001b[0;31mAttributeError\u001b[0m                            Traceback (most recent call last)",
      "Cell \u001b[0;32mIn[3], line 3\u001b[0m\n\u001b[1;32m      1\u001b[0m o \u001b[38;5;241m=\u001b[39m \u001b[38;5;28mobject\u001b[39m()\n\u001b[0;32m----> 3\u001b[0m o\u001b[38;5;241m.\u001b[39mx \u001b[38;5;241m=\u001b[39m \u001b[38;5;241m5\u001b[39m\n",
      "\u001b[0;31mAttributeError\u001b[0m: 'object' object has no attribute 'x'"
     ]
    }
   ],
   "source": [
    "o = object()\n",
    "\n",
    "o.x = 5"
   ]
  },
  {
   "cell_type": "code",
   "execution_count": null,
   "id": "85e8e034-0541-4399-80df-0c21f5389760",
   "metadata": {},
   "outputs": [],
   "source": [
    "class MyObject:\n",
    "    ..."
   ]
  },
  {
   "cell_type": "code",
   "execution_count": null,
   "id": "cec61c9b-8863-4ccb-bae1-6a49bdf9aa4a",
   "metadata": {},
   "outputs": [],
   "source": [
    "m = MyObject()\n",
    "\n",
    "m.x = \"hello\"\n",
    "m.x"
   ]
  },
  {
   "cell_type": "markdown",
   "id": "edcfdfd8-d10f-4eaa-939f-16e388ffcba6",
   "metadata": {},
   "source": [
    "### Tuples & Named Tuples"
   ]
  },
  {
   "cell_type": "code",
   "execution_count": 4,
   "id": "34fae51d-13ba-4f4e-8002-8148574621e8",
   "metadata": {},
   "outputs": [],
   "source": [
    "stock = \"APPL\", 123.52, 53.15, 137.98\n",
    "\n",
    "stock2 = (\"APPL\", 123.52, 53.15, 137.98)"
   ]
  },
  {
   "cell_type": "code",
   "execution_count": 5,
   "id": "3ccce811-453f-45c2-aadb-99d405f8f800",
   "metadata": {},
   "outputs": [],
   "source": [
    "def middle(stock, date):\n",
    "    symbol, current, high, low = stock\n",
    "    return (((high + low) / 2), date)"
   ]
  },
  {
   "cell_type": "code",
   "execution_count": 6,
   "id": "e2c7a460-e012-4cac-b32f-2813c3a1028f",
   "metadata": {},
   "outputs": [
    {
     "data": {
      "text/plain": [
       "(95.565, datetime.date(2020, 12, 4))"
      ]
     },
     "execution_count": 6,
     "metadata": {},
     "output_type": "execute_result"
    }
   ],
   "source": [
    "middle((\"APPL\", 123.52, 53.15, 137.98), datetime.date(2020, 12, 4))"
   ]
  },
  {
   "cell_type": "code",
   "execution_count": 7,
   "id": "df645dc8-65d6-48f3-b849-eaca7ad6794d",
   "metadata": {},
   "outputs": [
    {
     "data": {
      "text/plain": [
       "42"
      ]
     },
     "execution_count": 7,
     "metadata": {},
     "output_type": "execute_result"
    }
   ],
   "source": [
    "a = 42\n",
    "a"
   ]
  },
  {
   "cell_type": "code",
   "execution_count": 8,
   "id": "17443831-c0a3-4a33-a315-e68b3d49fd30",
   "metadata": {},
   "outputs": [
    {
     "data": {
      "text/plain": [
       "((42, 3.14), (2.718, 2.618))"
      ]
     },
     "execution_count": 8,
     "metadata": {},
     "output_type": "execute_result"
    }
   ],
   "source": [
    "b = (42, 3.14), (2.718, 2.618),\n",
    "b"
   ]
  },
  {
   "cell_type": "code",
   "execution_count": 9,
   "id": "da2f5b21-b365-4ade-87d2-4002298ab29e",
   "metadata": {},
   "outputs": [],
   "source": [
    "s = \"APPL\", 132.76, 134.80, 130.53"
   ]
  },
  {
   "cell_type": "code",
   "execution_count": 10,
   "id": "19aea7d4-965a-47b7-822a-0e040607c5ff",
   "metadata": {},
   "outputs": [
    {
     "data": {
      "text/plain": [
       "134.8"
      ]
     },
     "execution_count": 10,
     "metadata": {},
     "output_type": "execute_result"
    }
   ],
   "source": [
    "high = s[2]\n",
    "high"
   ]
  },
  {
   "cell_type": "code",
   "execution_count": 11,
   "id": "016da3dc-29f3-4aca-a618-89e23bc7547c",
   "metadata": {},
   "outputs": [
    {
     "data": {
      "text/plain": [
       "(132.76, 134.8)"
      ]
     },
     "execution_count": 11,
     "metadata": {},
     "output_type": "execute_result"
    }
   ],
   "source": [
    "s[1:3]"
   ]
  },
  {
   "cell_type": "code",
   "execution_count": 12,
   "id": "1d0d7730-4adc-47c6-83b7-4fafb231bc88",
   "metadata": {},
   "outputs": [],
   "source": [
    "def high(stock):\n",
    "    symbol, current, high, low = stock\n",
    "    return high"
   ]
  },
  {
   "cell_type": "code",
   "execution_count": 13,
   "id": "c032a0db-5826-4af0-acd5-d6c7922bf538",
   "metadata": {},
   "outputs": [
    {
     "data": {
      "text/plain": [
       "134.8"
      ]
     },
     "execution_count": 13,
     "metadata": {},
     "output_type": "execute_result"
    }
   ],
   "source": [
    "high(s)"
   ]
  },
  {
   "cell_type": "markdown",
   "id": "6a9ca7ef-d351-49b9-9436-a121619fa983",
   "metadata": {},
   "source": [
    "### Named Tuples via: `typing.NamedTuple`"
   ]
  },
  {
   "cell_type": "code",
   "execution_count": 14,
   "id": "b5ed6868-d871-4c3c-b4e4-7f9be0a93732",
   "metadata": {},
   "outputs": [],
   "source": [
    "class Stock(NamedTuple):\n",
    "    symbol: str\n",
    "    current: float\n",
    "    high:float\n",
    "    low: float"
   ]
  },
  {
   "cell_type": "code",
   "execution_count": 15,
   "id": "f44aa9f5-a568-4d16-aaff-e7b8f198c93d",
   "metadata": {},
   "outputs": [
    {
     "data": {
      "text/plain": [
       "Stock(symbol='APPL', current=123.52, high=137.98, low=53.15)"
      ]
     },
     "execution_count": 15,
     "metadata": {},
     "output_type": "execute_result"
    }
   ],
   "source": [
    "Stock(\"APPL\", 123.52, 137.98, 53.15)"
   ]
  },
  {
   "cell_type": "code",
   "execution_count": 16,
   "id": "82b05c84-ec74-40e0-91f3-b2799010658d",
   "metadata": {},
   "outputs": [],
   "source": [
    "s2 = Stock(\"APPL\", 123.52, high=137.98, low=53.15)"
   ]
  },
  {
   "cell_type": "code",
   "execution_count": 17,
   "id": "3464c8d9-1a00-416c-bc3b-a043ccaf8094",
   "metadata": {},
   "outputs": [
    {
     "data": {
      "text/plain": [
       "137.98"
      ]
     },
     "execution_count": 17,
     "metadata": {},
     "output_type": "execute_result"
    }
   ],
   "source": [
    "s2.high"
   ]
  },
  {
   "cell_type": "code",
   "execution_count": 18,
   "id": "b99ebce9-375d-4f67-bc48-95291d358a09",
   "metadata": {},
   "outputs": [
    {
     "data": {
      "text/plain": [
       "134.8"
      ]
     },
     "execution_count": 18,
     "metadata": {},
     "output_type": "execute_result"
    }
   ],
   "source": [
    "s[2]"
   ]
  },
  {
   "cell_type": "code",
   "execution_count": 19,
   "id": "faeddc19-baef-4a23-ad06-335accf0deba",
   "metadata": {},
   "outputs": [],
   "source": [
    "symbol, current, high, low = s"
   ]
  },
  {
   "cell_type": "code",
   "execution_count": 20,
   "id": "ad29c131-faf7-49a5-a2d1-631b302b54d7",
   "metadata": {},
   "outputs": [
    {
     "data": {
      "text/plain": [
       "132.76"
      ]
     },
     "execution_count": 20,
     "metadata": {},
     "output_type": "execute_result"
    }
   ],
   "source": [
    "current"
   ]
  },
  {
   "cell_type": "code",
   "execution_count": 21,
   "id": "102330fe-ee35-4083-98b3-e6e88ea9547a",
   "metadata": {},
   "outputs": [
    {
     "ename": "AttributeError",
     "evalue": "'tuple' object has no attribute 'current'",
     "output_type": "error",
     "traceback": [
      "\u001b[0;31m---------------------------------------------------------------------------\u001b[0m",
      "\u001b[0;31mAttributeError\u001b[0m                            Traceback (most recent call last)",
      "Cell \u001b[0;32mIn[21], line 1\u001b[0m\n\u001b[0;32m----> 1\u001b[0m s\u001b[38;5;241m.\u001b[39mcurrent \u001b[38;5;241m=\u001b[39m \u001b[38;5;241m122.25\u001b[39m\n",
      "\u001b[0;31mAttributeError\u001b[0m: 'tuple' object has no attribute 'current'"
     ]
    }
   ],
   "source": [
    "s.current = 122.25"
   ]
  },
  {
   "cell_type": "code",
   "execution_count": 22,
   "id": "1798b089-7b46-4e66-8809-9240137b1716",
   "metadata": {},
   "outputs": [],
   "source": [
    "t = (\"Relayer\", [\"Gates of Delirium\", \"Sound of Chaser\"])\n",
    "\n",
    "t[1].append(\"To Be Over\")"
   ]
  },
  {
   "cell_type": "code",
   "execution_count": 23,
   "id": "d4de9beb-65c9-47cb-b744-f28983e0ecf7",
   "metadata": {},
   "outputs": [
    {
     "data": {
      "text/plain": [
       "('Relayer', ['Gates of Delirium', 'Sound of Chaser', 'To Be Over'])"
      ]
     },
     "execution_count": 23,
     "metadata": {},
     "output_type": "execute_result"
    }
   ],
   "source": [
    "t"
   ]
  },
  {
   "cell_type": "code",
   "execution_count": 24,
   "id": "4bb92763-701b-4b0d-b536-f5a5c93b834e",
   "metadata": {},
   "outputs": [
    {
     "ename": "TypeError",
     "evalue": "unhashable type: 'list'",
     "output_type": "error",
     "traceback": [
      "\u001b[0;31m---------------------------------------------------------------------------\u001b[0m",
      "\u001b[0;31mTypeError\u001b[0m                                 Traceback (most recent call last)",
      "Cell \u001b[0;32mIn[24], line 1\u001b[0m\n\u001b[0;32m----> 1\u001b[0m \u001b[38;5;28mhash\u001b[39m(t)\n",
      "\u001b[0;31mTypeError\u001b[0m: unhashable type: 'list'"
     ]
    }
   ],
   "source": [
    "hash(t)"
   ]
  },
  {
   "cell_type": "code",
   "execution_count": 25,
   "id": "094a5816-f928-4b3d-adf2-4487738c6858",
   "metadata": {},
   "outputs": [],
   "source": [
    "class Stock(NamedTuple):\n",
    "    symbol: str\n",
    "    current: float\n",
    "    high: float\n",
    "    low: float\n",
    "    @property\n",
    "    def middle(self) -> float:\n",
    "        return (self.high + self.low) / 2"
   ]
  },
  {
   "cell_type": "code",
   "execution_count": 26,
   "id": "a292369a-e7f5-4942-b3e6-ada09e074c75",
   "metadata": {},
   "outputs": [
    {
     "data": {
      "text/plain": [
       "95.565"
      ]
     },
     "execution_count": 26,
     "metadata": {},
     "output_type": "execute_result"
    }
   ],
   "source": [
    "s = Stock(\"APPL\", 123.52, 137.98, 53.15)\n",
    "s.middle"
   ]
  },
  {
   "cell_type": "markdown",
   "id": "b0fb5fe5-b84f-400d-99fd-69e2d16d9782",
   "metadata": {},
   "source": [
    "### Dataclasses"
   ]
  },
  {
   "cell_type": "code",
   "execution_count": 27,
   "id": "d6068847-9964-40a8-b04a-f1c7fa69a7f2",
   "metadata": {},
   "outputs": [],
   "source": [
    "@dataclass\n",
    "class Stock:\n",
    "    symbol: str\n",
    "    current: float\n",
    "    high: float\n",
    "    low:float"
   ]
  },
  {
   "cell_type": "code",
   "execution_count": 28,
   "id": "aad12e07-b2c0-41fa-a9a4-fdd279d76c8c",
   "metadata": {},
   "outputs": [],
   "source": [
    "s = Stock(\"AAPL\", 123.52, 137.98, 53.15)"
   ]
  },
  {
   "cell_type": "code",
   "execution_count": 29,
   "id": "1faa51cb-da72-43ed-9aa5-b48cd8067fb7",
   "metadata": {},
   "outputs": [
    {
     "data": {
      "text/plain": [
       "123.52"
      ]
     },
     "execution_count": 29,
     "metadata": {},
     "output_type": "execute_result"
    }
   ],
   "source": [
    "s.current"
   ]
  },
  {
   "cell_type": "code",
   "execution_count": 30,
   "id": "93adaa71-b915-4668-98e7-a22b0b87dd3b",
   "metadata": {},
   "outputs": [
    {
     "data": {
      "text/plain": [
       "Stock(symbol='AAPL', current=123.52, high=137.98, low=53.15)"
      ]
     },
     "execution_count": 30,
     "metadata": {},
     "output_type": "execute_result"
    }
   ],
   "source": [
    "s"
   ]
  },
  {
   "cell_type": "code",
   "execution_count": 31,
   "id": "0b694c14-944c-40ff-87dc-0a6eeb3db8f1",
   "metadata": {},
   "outputs": [
    {
     "data": {
      "text/plain": [
       "'allowed'"
      ]
     },
     "execution_count": 31,
     "metadata": {},
     "output_type": "execute_result"
    }
   ],
   "source": [
    "s.unexpected_attribute = 'allowed'\n",
    "s.unexpected_attribute"
   ]
  },
  {
   "cell_type": "code",
   "execution_count": 32,
   "id": "34f524cb-0271-4126-97c3-7bd3b5fa94a3",
   "metadata": {},
   "outputs": [],
   "source": [
    "class StockOrdinary:\n",
    "    def __init__(self, name: str, current: float, high: float, low: float) -> None:\n",
    "        self.name = name\n",
    "        self.current = current\n",
    "        self.high = high\n",
    "        self.low = low"
   ]
  },
  {
   "cell_type": "code",
   "execution_count": 33,
   "id": "70fcd04b-2715-487b-882e-46993d2c6ea4",
   "metadata": {},
   "outputs": [],
   "source": [
    "s_ord = StockOrdinary(\"APPL\", 123.52, 137.98, 53.15)"
   ]
  },
  {
   "cell_type": "code",
   "execution_count": 34,
   "id": "295403a3-9a7d-4eb4-8e05-ea4af84b93db",
   "metadata": {},
   "outputs": [
    {
     "data": {
      "text/plain": [
       "<__main__.StockOrdinary at 0x1661d3210>"
      ]
     },
     "execution_count": 34,
     "metadata": {},
     "output_type": "execute_result"
    }
   ],
   "source": [
    "s_ord"
   ]
  },
  {
   "cell_type": "code",
   "execution_count": 35,
   "id": "ff28f3b0-aff0-4139-b2df-f83c48d14a2b",
   "metadata": {},
   "outputs": [],
   "source": [
    "s_ord_2 = StockOrdinary(\"APPL\", 123.52, 137.98, 53.15)"
   ]
  },
  {
   "cell_type": "code",
   "execution_count": 36,
   "id": "8feafdd1-b213-4598-b8fd-a8fb586848a7",
   "metadata": {},
   "outputs": [
    {
     "data": {
      "text/plain": [
       "False"
      ]
     },
     "execution_count": 36,
     "metadata": {},
     "output_type": "execute_result"
    }
   ],
   "source": [
    "s_ord == s_ord_2"
   ]
  },
  {
   "cell_type": "code",
   "execution_count": 37,
   "id": "859a6207-0be6-41ee-81d5-34925831a137",
   "metadata": {},
   "outputs": [],
   "source": [
    "stock2 = Stock(symbol='AAPL', current=122.25, high=137.98, low=53.15)"
   ]
  },
  {
   "cell_type": "code",
   "execution_count": 38,
   "id": "32a3c2c8-16e1-4c78-8716-e0316db7b9d7",
   "metadata": {},
   "outputs": [
    {
     "data": {
      "text/plain": [
       "False"
      ]
     },
     "execution_count": 38,
     "metadata": {},
     "output_type": "execute_result"
    }
   ],
   "source": [
    "s == stock2"
   ]
  },
  {
   "cell_type": "code",
   "execution_count": 39,
   "id": "eb8503b8-c613-4d8c-8f0c-d3d5a32a358c",
   "metadata": {},
   "outputs": [],
   "source": [
    "@dataclass\n",
    "class StockDefaults:\n",
    "    name: str\n",
    "    current: float = 0.0\n",
    "    high: float = 0.0\n",
    "    low: float = 0.0"
   ]
  },
  {
   "cell_type": "code",
   "execution_count": 40,
   "id": "ae15a10f-b59e-4d83-8617-698892f5dc0b",
   "metadata": {},
   "outputs": [
    {
     "data": {
      "text/plain": [
       "StockDefaults(name='GOOG', current=0.0, high=0.0, low=0.0)"
      ]
     },
     "execution_count": 40,
     "metadata": {},
     "output_type": "execute_result"
    }
   ],
   "source": [
    "StockDefaults(\"GOOG\")"
   ]
  },
  {
   "cell_type": "code",
   "execution_count": 41,
   "id": "1a1b2e9f-f5a5-441b-a551-7b5ff48677ab",
   "metadata": {},
   "outputs": [
    {
     "data": {
      "text/plain": [
       "StockDefaults(name='GOOG', current=1826.77, high=1847.2, low=1013.54)"
      ]
     },
     "execution_count": 41,
     "metadata": {},
     "output_type": "execute_result"
    }
   ],
   "source": [
    "StockDefaults(\"GOOG\", 1826.77, 1847.20, 1013.54)"
   ]
  },
  {
   "cell_type": "code",
   "execution_count": 42,
   "id": "d5d0e651-54e8-4acc-83ef-8f1ff8ed71af",
   "metadata": {},
   "outputs": [],
   "source": [
    "@dataclass(order=True)\n",
    "class StockOrdered:\n",
    "    name: str\n",
    "    current: float = 0.0\n",
    "    high: float = 0.0\n",
    "    low: float = 0.0"
   ]
  },
  {
   "cell_type": "code",
   "execution_count": 43,
   "id": "b5f2a5fc-6f0e-48a3-b555-2504ee09a6d7",
   "metadata": {},
   "outputs": [],
   "source": [
    "stock_ordered1 = StockOrdered(\"GOOG\", 1826.77, 1847.20, 1013.54)"
   ]
  },
  {
   "cell_type": "code",
   "execution_count": 44,
   "id": "d055a563-bfd3-490c-a8e4-40b0d202185f",
   "metadata": {},
   "outputs": [],
   "source": [
    "stock_ordered2 = StockOrdered(\"GOOG\")"
   ]
  },
  {
   "cell_type": "code",
   "execution_count": 45,
   "id": "6b105bac-453e-454a-a81f-3f80c41028a8",
   "metadata": {},
   "outputs": [],
   "source": [
    "stock_ordered3 = StockOrdered(\"GOOG\", 1728.28, high=1733.18, low=1666.33)"
   ]
  },
  {
   "cell_type": "code",
   "execution_count": 46,
   "id": "175d2351-7a8b-4cb1-96bd-ec42ca87d0cf",
   "metadata": {},
   "outputs": [
    {
     "data": {
      "text/plain": [
       "False"
      ]
     },
     "execution_count": 46,
     "metadata": {},
     "output_type": "execute_result"
    }
   ],
   "source": [
    "stock_ordered1 < stock_ordered2"
   ]
  },
  {
   "cell_type": "code",
   "execution_count": 47,
   "id": "9192c1ed-ee19-4bc4-bda2-0767ea09243a",
   "metadata": {},
   "outputs": [
    {
     "data": {
      "text/plain": [
       "True"
      ]
     },
     "execution_count": 47,
     "metadata": {},
     "output_type": "execute_result"
    }
   ],
   "source": [
    "stock_ordered1 > stock_ordered2"
   ]
  },
  {
   "cell_type": "code",
   "execution_count": 48,
   "id": "30912c07-25b0-416b-86fc-819caa30f152",
   "metadata": {},
   "outputs": [
    {
     "name": "stdout",
     "output_type": "stream",
     "text": [
      "[StockOrdered(name='GOOG', current=0.0, high=0.0, low=0.0),\n",
      " StockOrdered(name='GOOG', current=1728.28, high=1733.18, low=1666.33),\n",
      " StockOrdered(name='GOOG', current=1826.77, high=1847.2, low=1013.54)]\n"
     ]
    }
   ],
   "source": [
    "pprint(sorted([stock_ordered1, stock_ordered2, stock_ordered3]))"
   ]
  },
  {
   "cell_type": "markdown",
   "id": "fd554b75-bcf1-43b6-8c1b-0ee2cae1a16f",
   "metadata": {},
   "source": [
    "### Dictionaries"
   ]
  },
  {
   "cell_type": "code",
   "execution_count": 49,
   "id": "a9e517f6-d22c-42ef-b2d2-1eb1cb66604c",
   "metadata": {},
   "outputs": [],
   "source": [
    "stocks = {\n",
    "    \"GOOG\": (1235.20, 1242.54, 1231.06),\n",
    "    \"MSFT\": (110.41, 110.45, 109.45),\n",
    "}"
   ]
  },
  {
   "cell_type": "code",
   "execution_count": 50,
   "id": "5f611c91-16d3-4c1f-9943-b54109afffb0",
   "metadata": {},
   "outputs": [
    {
     "data": {
      "text/plain": [
       "(1235.2, 1242.54, 1231.06)"
      ]
     },
     "execution_count": 50,
     "metadata": {},
     "output_type": "execute_result"
    }
   ],
   "source": [
    "stocks[\"GOOG\"]"
   ]
  },
  {
   "cell_type": "code",
   "execution_count": 51,
   "id": "d28bc9f1-a972-4790-96bc-6c0fa8224e03",
   "metadata": {},
   "outputs": [
    {
     "ename": "KeyError",
     "evalue": "'RIMM'",
     "output_type": "error",
     "traceback": [
      "\u001b[0;31m---------------------------------------------------------------------------\u001b[0m",
      "\u001b[0;31mKeyError\u001b[0m                                  Traceback (most recent call last)",
      "Cell \u001b[0;32mIn[51], line 1\u001b[0m\n\u001b[0;32m----> 1\u001b[0m stocks[\u001b[38;5;124m\"\u001b[39m\u001b[38;5;124mRIMM\u001b[39m\u001b[38;5;124m\"\u001b[39m]\n",
      "\u001b[0;31mKeyError\u001b[0m: 'RIMM'"
     ]
    }
   ],
   "source": [
    "stocks[\"RIMM\"]"
   ]
  },
  {
   "cell_type": "code",
   "execution_count": 52,
   "id": "0e0b22d1-1f07-4dbb-a95d-3bd9eed82a97",
   "metadata": {},
   "outputs": [
    {
     "name": "stdout",
     "output_type": "stream",
     "text": [
      "None\n"
     ]
    }
   ],
   "source": [
    "print(stocks.get(\"RIMM\"))"
   ]
  },
  {
   "cell_type": "code",
   "execution_count": 53,
   "id": "b4005ffa-cfea-4942-a54b-94a2b7da3b3d",
   "metadata": {},
   "outputs": [
    {
     "data": {
      "text/plain": [
       "'NOT FOUND'"
      ]
     },
     "execution_count": 53,
     "metadata": {},
     "output_type": "execute_result"
    }
   ],
   "source": [
    "stocks.get(\"RIMM\", \"NOT FOUND\")"
   ]
  },
  {
   "cell_type": "code",
   "execution_count": 54,
   "id": "bbb15b83-d321-486a-abcb-7ebdebcf419d",
   "metadata": {},
   "outputs": [
    {
     "data": {
      "text/plain": [
       "(1235.2, 1242.54, 1231.06)"
      ]
     },
     "execution_count": 54,
     "metadata": {},
     "output_type": "execute_result"
    }
   ],
   "source": [
    "stocks.setdefault(\"GOOG\", \"INVALID\")"
   ]
  },
  {
   "cell_type": "code",
   "execution_count": 55,
   "id": "f1bab477-a7b4-416a-bc55-1969aef21971",
   "metadata": {},
   "outputs": [
    {
     "data": {
      "text/plain": [
       "(10.87, 10.76, 10.9)"
      ]
     },
     "execution_count": 55,
     "metadata": {},
     "output_type": "execute_result"
    }
   ],
   "source": [
    "stocks.setdefault(\"BB\", (10.87, 10.76, 10.90))"
   ]
  },
  {
   "cell_type": "code",
   "execution_count": 56,
   "id": "e16e0cbd-bcbb-4503-95d7-1a69219fa0ce",
   "metadata": {},
   "outputs": [
    {
     "data": {
      "text/plain": [
       "(10.87, 10.76, 10.9)"
      ]
     },
     "execution_count": 56,
     "metadata": {},
     "output_type": "execute_result"
    }
   ],
   "source": [
    "stocks[\"BB\"]"
   ]
  },
  {
   "cell_type": "code",
   "execution_count": 57,
   "id": "a3445fae-d7d7-41f0-94bf-2dda6d934253",
   "metadata": {},
   "outputs": [
    {
     "name": "stdout",
     "output_type": "stream",
     "text": [
      "GOOG last value is 1235.2\n",
      "MSFT last value is 110.41\n",
      "BB last value is 10.87\n"
     ]
    }
   ],
   "source": [
    "for stock, values in stocks.items():\n",
    "    print(f\"{stock} last value is {values[0]}\")"
   ]
  },
  {
   "cell_type": "code",
   "execution_count": 58,
   "id": "7db31917-a177-406e-947e-587b844991c1",
   "metadata": {},
   "outputs": [],
   "source": [
    "stocks[\"GOOG\"] = (1245.21, 1252.64, 1245.18)"
   ]
  },
  {
   "cell_type": "code",
   "execution_count": 59,
   "id": "a4555722-c29c-42b9-b2d5-af9fed1b3d63",
   "metadata": {},
   "outputs": [
    {
     "data": {
      "text/plain": [
       "(1245.21, 1252.64, 1245.18)"
      ]
     },
     "execution_count": 59,
     "metadata": {},
     "output_type": "execute_result"
    }
   ],
   "source": [
    "stocks['GOOG']"
   ]
  },
  {
   "cell_type": "code",
   "execution_count": 60,
   "id": "e5ddabe5-3323-4367-a48c-e2ffd1eeaca1",
   "metadata": {},
   "outputs": [],
   "source": [
    "random_keys = {}\n",
    "\n",
    "random_keys[\"astring\"] = \"somestring\"\n",
    "random_keys[5] = \"aninteger\"\n",
    "random_keys[25.2] = \"floats work too\"\n",
    "random_keys[(\"abc\", 123)] = \"so do tuples\""
   ]
  },
  {
   "cell_type": "code",
   "execution_count": 61,
   "id": "c7b463e2-d244-4def-8f9f-297835e6139a",
   "metadata": {},
   "outputs": [],
   "source": [
    "class AnObject:\n",
    "    def __init__(self, avalue):\n",
    "        self.avalue = avalue"
   ]
  },
  {
   "cell_type": "code",
   "execution_count": 62,
   "id": "6a852d93-3146-4de2-8014-e4678989ab90",
   "metadata": {},
   "outputs": [],
   "source": [
    "my_object = AnObject(14)"
   ]
  },
  {
   "cell_type": "code",
   "execution_count": 63,
   "id": "91b03ca6-f346-4cbe-83d9-219a1fba876e",
   "metadata": {},
   "outputs": [],
   "source": [
    "random_keys[my_object] = \"We can even store objects\""
   ]
  },
  {
   "cell_type": "code",
   "execution_count": 64,
   "id": "6cf22e29-3477-47b0-88b7-3c885f5ccad7",
   "metadata": {},
   "outputs": [],
   "source": [
    "my_object.avalue = 12"
   ]
  },
  {
   "cell_type": "code",
   "execution_count": 65,
   "id": "77fd586a-75ab-42c4-969f-d3ec76efa8ce",
   "metadata": {},
   "outputs": [
    {
     "ename": "TypeError",
     "evalue": "unhashable type: 'list'",
     "output_type": "error",
     "traceback": [
      "\u001b[0;31m---------------------------------------------------------------------------\u001b[0m",
      "\u001b[0;31mTypeError\u001b[0m                                 Traceback (most recent call last)",
      "Cell \u001b[0;32mIn[65], line 1\u001b[0m\n\u001b[0;32m----> 1\u001b[0m random_keys[[\u001b[38;5;241m1\u001b[39m, \u001b[38;5;241m2\u001b[39m, \u001b[38;5;241m3\u001b[39m]] \u001b[38;5;241m=\u001b[39m \u001b[38;5;124m\"\u001b[39m\u001b[38;5;124mWe can\u001b[39m\u001b[38;5;124m'\u001b[39m\u001b[38;5;124mt use lists as keys\u001b[39m\u001b[38;5;124m\"\u001b[39m\n",
      "\u001b[0;31mTypeError\u001b[0m: unhashable type: 'list'"
     ]
    }
   ],
   "source": [
    "random_keys[[1, 2, 3]] = \"We can't use lists as keys\""
   ]
  },
  {
   "cell_type": "code",
   "execution_count": 66,
   "id": "a592275a-5ead-477b-9faa-8c8af6f509d8",
   "metadata": {},
   "outputs": [
    {
     "name": "stdout",
     "output_type": "stream",
     "text": [
      "'astring' has value 'somestring'\n",
      "5 has value 'aninteger'\n",
      "25.2 has value 'floats work too'\n",
      "('abc', 123) has value 'so do tuples'\n",
      "<__main__.AnObject object at 0x1661fe1d0> has value 'We can even store objects'\n"
     ]
    }
   ],
   "source": [
    "for key in random_keys:\n",
    "    print(f\"{key!r} has value {random_keys[key]!r}\")"
   ]
  },
  {
   "cell_type": "code",
   "execution_count": 67,
   "id": "ba49a47b-fb86-4aa1-b5bf-b6df7b6a0b19",
   "metadata": {},
   "outputs": [],
   "source": [
    "x = 2020\n",
    "y = 2305843009213695971"
   ]
  },
  {
   "cell_type": "code",
   "execution_count": 68,
   "id": "59a90fbf-56fd-4e65-b5ec-c73e2bae437d",
   "metadata": {},
   "outputs": [
    {
     "data": {
      "text/plain": [
       "True"
      ]
     },
     "execution_count": 68,
     "metadata": {},
     "output_type": "execute_result"
    }
   ],
   "source": [
    "hash(x) == hash(y)"
   ]
  },
  {
   "cell_type": "code",
   "execution_count": 69,
   "id": "12719215-f65f-48b5-8c6d-9b5e3501235a",
   "metadata": {},
   "outputs": [
    {
     "data": {
      "text/plain": [
       "False"
      ]
     },
     "execution_count": 69,
     "metadata": {},
     "output_type": "execute_result"
    }
   ],
   "source": [
    "x == y"
   ]
  },
  {
   "cell_type": "markdown",
   "id": "955f495b-6204-4c25-a2d0-9c49136ec6c9",
   "metadata": {},
   "source": [
    "### Using `defaultdict`"
   ]
  },
  {
   "cell_type": "code",
   "execution_count": 70,
   "id": "8eb77cf5-7de1-461e-9de4-d3904177ae73",
   "metadata": {},
   "outputs": [],
   "source": [
    "def letter_frequency(sentence: str) -> dict[str, int]:\n",
    "    frequencies: dict[str, int] = {}\n",
    "    for letter in sentence:\n",
    "        frequency = frequencies.setdefault(letter, 0)\n",
    "        frequencies[letter] = frequency + 1\n",
    "    return frequencies"
   ]
  },
  {
   "cell_type": "code",
   "execution_count": 71,
   "id": "9e9f4a54-19dc-41a0-b449-6642ba8bdef0",
   "metadata": {},
   "outputs": [],
   "source": [
    "def letter_frequency_2(sentence: str) -> defaultdict[str, int]:\n",
    "    frequencies: defaultdict[str, int] = default(int)\n",
    "    for letter in sequence:\n",
    "        frequencies[letter] += 1\n",
    "    return frequencies"
   ]
  },
  {
   "cell_type": "code",
   "execution_count": 72,
   "id": "88cf5f17-ae59-45a0-bade-940143cce705",
   "metadata": {},
   "outputs": [],
   "source": [
    "@dataclass\n",
    "class Prices:\n",
    "    current: float = 0.0\n",
    "    high: float = 0.0\n",
    "    low: float = 0.0\n",
    "    "
   ]
  },
  {
   "cell_type": "code",
   "execution_count": 73,
   "id": "a2a56955-0dec-493a-a1fc-fb84ec822302",
   "metadata": {},
   "outputs": [
    {
     "data": {
      "text/plain": [
       "Prices(current=0.0, high=0.0, low=0.0)"
      ]
     },
     "execution_count": 73,
     "metadata": {},
     "output_type": "execute_result"
    }
   ],
   "source": [
    "Prices()"
   ]
  },
  {
   "cell_type": "code",
   "execution_count": 74,
   "id": "9d7ed73e-7722-4b79-b710-f5359c27851d",
   "metadata": {},
   "outputs": [],
   "source": [
    "portfolio = collections.defaultdict(Prices)"
   ]
  },
  {
   "cell_type": "code",
   "execution_count": 75,
   "id": "3c6e02e4-41bc-42a4-aa1b-79817bec3b5b",
   "metadata": {},
   "outputs": [
    {
     "data": {
      "text/plain": [
       "Prices(current=0.0, high=0.0, low=0.0)"
      ]
     },
     "execution_count": 75,
     "metadata": {},
     "output_type": "execute_result"
    }
   ],
   "source": [
    "portfolio[\"GOOG\"]"
   ]
  },
  {
   "cell_type": "code",
   "execution_count": 76,
   "id": "061357a4-6c7d-4b51-918c-66d924575103",
   "metadata": {},
   "outputs": [],
   "source": [
    "portfolio[\"AAPL\"] = Prices(current=122.25, high=137.98, low=53.15)"
   ]
  },
  {
   "cell_type": "code",
   "execution_count": 77,
   "id": "67a87aeb-4775-4cb8-8e15-3357c3b8a13a",
   "metadata": {},
   "outputs": [
    {
     "name": "stdout",
     "output_type": "stream",
     "text": [
      "defaultdict(<class '__main__.Prices'>,\n",
      "            {'AAPL': Prices(current=122.25, high=137.98, low=53.15),\n",
      "             'GOOG': Prices(current=0.0, high=0.0, low=0.0)})\n"
     ]
    }
   ],
   "source": [
    "pprint(portfolio)"
   ]
  },
  {
   "cell_type": "code",
   "execution_count": 78,
   "id": "b5f0159f-5e62-49b9-ab27-99046d63b746",
   "metadata": {},
   "outputs": [],
   "source": [
    "def make_defaultdict():\n",
    "    return collections.defaultdict(Prices) "
   ]
  },
  {
   "cell_type": "code",
   "execution_count": 79,
   "id": "3aa7f626-7baa-4e50-a3f5-b2afb0804477",
   "metadata": {},
   "outputs": [],
   "source": [
    "by_month = collections.defaultdict(lambda: collections.defaultdict(Prices))"
   ]
  },
  {
   "cell_type": "code",
   "execution_count": 80,
   "id": "89cdd551-14fc-43db-8cc4-c0ac906b54e8",
   "metadata": {},
   "outputs": [],
   "source": [
    "by_month[\"APPL\"][\"Jan\"] = Prices(current=122.25, high=137.98, low=53.15)"
   ]
  },
  {
   "cell_type": "markdown",
   "id": "d19972e2-74b6-496b-9ae7-cc7cf7b5535b",
   "metadata": {},
   "source": [
    "### Counter"
   ]
  },
  {
   "cell_type": "code",
   "execution_count": 81,
   "id": "92732e2a-b84e-41fd-814d-858aea019245",
   "metadata": {},
   "outputs": [],
   "source": [
    "responses = [\n",
    "    \"vanilla\",\n",
    "    \"chocolate\",\n",
    "    \"vanilla\",\n",
    "    \"vanilla\",\n",
    "    \"caramel\",\n",
    "    \"strawberry\",\n",
    "    \"vanilla\"\n",
    "]"
   ]
  },
  {
   "cell_type": "code",
   "execution_count": 82,
   "id": "5a8bf0d7-8a58-4f48-ae47-945939e854e1",
   "metadata": {},
   "outputs": [],
   "source": [
    "favorites = collections.Counter(responses).most_common(1)"
   ]
  },
  {
   "cell_type": "code",
   "execution_count": 83,
   "id": "f1850f5e-cca8-4edc-869b-19fd21a9790c",
   "metadata": {},
   "outputs": [],
   "source": [
    "name, frequency = favorites[0]"
   ]
  },
  {
   "cell_type": "code",
   "execution_count": 84,
   "id": "037d4372-186c-4564-bf28-a0ca3acef949",
   "metadata": {},
   "outputs": [
    {
     "data": {
      "text/plain": [
       "'vanilla'"
      ]
     },
     "execution_count": 84,
     "metadata": {},
     "output_type": "execute_result"
    }
   ],
   "source": [
    "name"
   ]
  },
  {
   "cell_type": "markdown",
   "id": "7a8cd33d-cf6d-4345-9e15-f575ad95ba25",
   "metadata": {},
   "source": [
    "### List"
   ]
  },
  {
   "cell_type": "code",
   "execution_count": 85,
   "id": "0a770b55-f802-451e-851c-928bcbf748e5",
   "metadata": {},
   "outputs": [],
   "source": [
    "CHARACTERS = list(string.ascii_letters) + [\" \"]"
   ]
  },
  {
   "cell_type": "code",
   "execution_count": 86,
   "id": "1f99193c-cf1f-4685-b955-29c301182e19",
   "metadata": {},
   "outputs": [],
   "source": [
    "def letter_frequency(sentence: str) -> list[tuple[str, int]]:\n",
    "    frequencies = [(c, 0) for c in CHARACTERS]\n",
    "    for letter in sentence:\n",
    "        index = CHARACTERS.index(letter)\n",
    "        frequencies[index] = (letter, frequencies[index][1] + 1)\n",
    "    non_zero = [\n",
    "        (letter, count)\n",
    "        for letter, count in frequencies if count > 0\n",
    "    ]\n",
    "    return non_zero"
   ]
  },
  {
   "cell_type": "markdown",
   "id": "070f30b9-4e52-4d11-9cd5-3f9081640952",
   "metadata": {},
   "source": [
    "### Sorting List"
   ]
  },
  {
   "cell_type": "code",
   "execution_count": 87,
   "id": "3ee66b72-bf65-4070-9595-2cb6e4409f57",
   "metadata": {},
   "outputs": [],
   "source": [
    "@dataclass(frozen=True)\n",
    "class MultiItem:\n",
    "    data_source: str\n",
    "    timestamp: Optional[str]\n",
    "    creation_date: Optional[str]\n",
    "    name: str\n",
    "    owner_etc: str\n",
    "\n",
    "    def __lt__(self, other: Any) -> bool:\n",
    "        if self.data_source == \"Local\":\n",
    "            self_datetime = datetime.datetime.fromtimestamp(cast(float, self.timestamp))\n",
    "        else:\n",
    "            self_datetime = datetime.datetime.fromisoformat(cast(str, self.creation_date))\n",
    "        if other.data_source == \"Loca\":\n",
    "            other_datetime = datetime.datetime.froisostamp(cast(float, other.timestamp))\n",
    "        else:\n",
    "            other_datetime = datetime.datetime.fromisoformat(cast(str, other.creation_date))\n",
    "        return self_datetime < other_datetime               "
   ]
  },
  {
   "cell_type": "code",
   "execution_count": 88,
   "id": "92fa1059-14f1-433c-802f-7c2ff85b1ec6",
   "metadata": {},
   "outputs": [],
   "source": [
    "mi_0 = MultiItem(\"Local\", 16077280522.68012, None, \"Some File\", \"etc. 0\")"
   ]
  },
  {
   "cell_type": "code",
   "execution_count": 89,
   "id": "6fc51c91-b813-45d3-ab98-d3f599afde42",
   "metadata": {},
   "outputs": [],
   "source": [
    "mi_1 = MultiItem(\"Remote\", None, \"2020-12-06T13:47:52.849153\", \"Another File\", \"etc. 1\")"
   ]
  },
  {
   "cell_type": "code",
   "execution_count": 90,
   "id": "82db4062-c0e5-4d14-a5c4-0a6e2a4f13b1",
   "metadata": {},
   "outputs": [],
   "source": [
    "mi_2 = MultiItem(\"Local\", 1579373292.452993, None, \"This File\", \"etc. 2\")"
   ]
  },
  {
   "cell_type": "code",
   "execution_count": 91,
   "id": "a691ae09-bdbe-432a-8a2e-b72e61af55c6",
   "metadata": {},
   "outputs": [],
   "source": [
    "mi_3 = MultiItem(\"Remote\", None, \"2020-01-18T13:48:12.452993\", \"That File\", \"etc. 3\")"
   ]
  },
  {
   "cell_type": "code",
   "execution_count": 92,
   "id": "7df64ffb-7087-4e48-998b-59d98d7e457f",
   "metadata": {},
   "outputs": [],
   "source": [
    "file_list = [mi_0, mi_1, mi_2, mi_3]"
   ]
  },
  {
   "cell_type": "code",
   "execution_count": 93,
   "id": "9342c1b1-0fb6-4703-9374-a94d506eda7f",
   "metadata": {},
   "outputs": [],
   "source": [
    "# file_list.sort()"
   ]
  },
  {
   "cell_type": "code",
   "execution_count": 94,
   "id": "5894e93d-31dd-4a2e-a203-06f0c2289373",
   "metadata": {},
   "outputs": [
    {
     "name": "stdout",
     "output_type": "stream",
     "text": [
      "[MultiItem(data_source='Local',\n",
      "           timestamp=16077280522.68012,\n",
      "           creation_date=None,\n",
      "           name='Some File',\n",
      "           owner_etc='etc. 0'),\n",
      " MultiItem(data_source='Remote',\n",
      "           timestamp=None,\n",
      "           creation_date='2020-12-06T13:47:52.849153',\n",
      "           name='Another File',\n",
      "           owner_etc='etc. 1'),\n",
      " MultiItem(data_source='Local',\n",
      "           timestamp=1579373292.452993,\n",
      "           creation_date=None,\n",
      "           name='This File',\n",
      "           owner_etc='etc. 2'),\n",
      " MultiItem(data_source='Remote',\n",
      "           timestamp=None,\n",
      "           creation_date='2020-01-18T13:48:12.452993',\n",
      "           name='That File',\n",
      "           owner_etc='etc. 3')]\n"
     ]
    }
   ],
   "source": [
    "pprint(file_list)"
   ]
  },
  {
   "cell_type": "code",
   "execution_count": 95,
   "id": "f03a78eb-6f66-49af-9f7e-0b449ce266a6",
   "metadata": {},
   "outputs": [
    {
     "ename": "SyntaxError",
     "evalue": "invalid syntax (1674962030.py, line 11)",
     "output_type": "error",
     "traceback": [
      "\u001b[0;36m  Cell \u001b[0;32mIn[95], line 11\u001b[0;36m\u001b[0m\n\u001b[0;31m    Exercise: rewrite this to follow the example of __eq__\u001b[0m\n\u001b[0m                      ^\u001b[0m\n\u001b[0;31mSyntaxError\u001b[0m\u001b[0;31m:\u001b[0m invalid syntax\n"
     ]
    }
   ],
   "source": [
    "@total_ordering\n",
    "@dataclass(frozen=True)\n",
    "class MultiItem:\n",
    "    data_source: str\n",
    "    timestamp: Optional[float]\n",
    "    creation_date: Optional[str]\n",
    "    name: str\n",
    "    owner_etc: str\n",
    "\n",
    "    def __lt__(self, other: \"MultiItem\") -> bool:\n",
    "        Exercise: rewrite this to follow the example of __eq__\n",
    "\n",
    "    def __eq__(self, other: object) -> bool:\n",
    "        return self.datetime == cast(MultiItem, other).datetime\n",
    "\n",
    "    @property\n",
    "    def datetime(self) -> datetime.datetime:\n",
    "        if self.data_source == \"Local\":\n",
    "            return datetime.datetime.fromtimestamp(cast(float, self.timestamp))\n",
    "        else:\n",
    "            return datetime.datetime.fromisoformat(cast(str, self.creation_date))"
   ]
  },
  {
   "cell_type": "code",
   "execution_count": 96,
   "id": "03694f74-660c-4cdb-9e5a-ccf1d6fed44c",
   "metadata": {},
   "outputs": [],
   "source": [
    "@dataclass(frozen=True)\n",
    "class SimpleMultiItem:\n",
    "    data_source: str\n",
    "    timestamp: Optional[float]\n",
    "    creation_date: Optional[str]\n",
    "    name: str\n",
    "    owner_etc: str\n",
    "\n",
    "def by_timestamp(item: SimpleMultiItem) -> datetime.datetime:\n",
    "    if item.data_source == \"Local\":\n",
    "        return datetime.datetime.fromtimestamp(cast(float, item.timestamp))\n",
    "    elif item.data_source == \"Remote\":\n",
    "        return datetime.datetime.fromisoformat(cast(str, item.creation_date))\n",
    "    else:\n",
    "        raise ValueError(f\"Unknown data_source in {item!r}\")"
   ]
  },
  {
   "cell_type": "code",
   "execution_count": 97,
   "id": "f93f98c6-2fb7-497e-bea7-c5c1e696581a",
   "metadata": {},
   "outputs": [],
   "source": [
    "file_list.sort(key=by_timestamp)"
   ]
  },
  {
   "cell_type": "code",
   "execution_count": 98,
   "id": "22fb5f4c-ab4b-48cb-a4b7-e173a215d06c",
   "metadata": {},
   "outputs": [],
   "source": [
    "file_list.sort(key=lambda item: item.name)"
   ]
  },
  {
   "cell_type": "code",
   "execution_count": 99,
   "id": "5aed5c27-5f84-4d9a-a3b5-290700865bcc",
   "metadata": {},
   "outputs": [],
   "source": [
    "file_list.sort(key=operator.attrgetter(\"name\"))"
   ]
  },
  {
   "cell_type": "markdown",
   "id": "6d55ca96-186d-47e3-aff5-4dc0a80c0dc1",
   "metadata": {},
   "source": [
    "### Sets"
   ]
  },
  {
   "cell_type": "code",
   "execution_count": 100,
   "id": "7cb7ff1a-75ec-4dc1-9672-0ac01eb614f6",
   "metadata": {},
   "outputs": [],
   "source": [
    "song_library = [\n",
    "    (\"Phantom of The Opera\", \"Sarah Brightman\"),\n",
    "    (\"Knocking on Heaven's Door\", \"Gun N' Roses\"),\n",
    "    (\"Captain Nemo\", \"Sarah Brightman\"),\n",
    "    (\"Patterns In The Ivy\", \"Opeth\"),\n",
    "    (\"November Rain\", \"Gun N' Roses\"),\n",
    "    (\"Beautiful\", \"Sarah Brightman\"),\n",
    "    (\"Mal's Song\", \"Vixy and Tony\"),\n",
    "]"
   ]
  },
  {
   "cell_type": "code",
   "execution_count": 101,
   "id": "4f7985c1-f34e-40fe-8a4d-0da3d8f3294b",
   "metadata": {},
   "outputs": [],
   "source": [
    "artists = set()"
   ]
  },
  {
   "cell_type": "code",
   "execution_count": 102,
   "id": "5ce09a33-40d6-4c7c-a2dd-aa6a31709525",
   "metadata": {},
   "outputs": [],
   "source": [
    "for song, artist in song_library:\n",
    "    artists.add(artist)"
   ]
  },
  {
   "cell_type": "code",
   "execution_count": 103,
   "id": "3f92c29b-dff7-45b0-bb8d-98c42a1f703e",
   "metadata": {},
   "outputs": [
    {
     "data": {
      "text/plain": [
       "True"
      ]
     },
     "execution_count": 103,
     "metadata": {},
     "output_type": "execute_result"
    }
   ],
   "source": [
    "\"Opeth\" in artists"
   ]
  },
  {
   "cell_type": "code",
   "execution_count": 104,
   "id": "6537a792-f9a3-4ed9-ae55-db9e395456ad",
   "metadata": {},
   "outputs": [],
   "source": [
    "alphabetical = list(artists)"
   ]
  },
  {
   "cell_type": "code",
   "execution_count": 105,
   "id": "cc80953f-f891-49a4-92e2-9f2655bdf854",
   "metadata": {},
   "outputs": [],
   "source": [
    "alphabetical.sort()"
   ]
  },
  {
   "cell_type": "code",
   "execution_count": 106,
   "id": "4b66a34f-f5d9-4b79-a11b-76ed99c84a58",
   "metadata": {},
   "outputs": [
    {
     "data": {
      "text/plain": [
       "[\"Gun N' Roses\", 'Opeth', 'Sarah Brightman', 'Vixy and Tony']"
      ]
     },
     "execution_count": 106,
     "metadata": {},
     "output_type": "execute_result"
    }
   ],
   "source": [
    "alphabetical"
   ]
  },
  {
   "cell_type": "code",
   "execution_count": 107,
   "id": "fcc6db22-bef4-43c0-9db0-cbb5c7de7bc3",
   "metadata": {},
   "outputs": [
    {
     "name": "stdout",
     "output_type": "stream",
     "text": [
      "Opeth plays good music\n",
      "Gun N' Roses plays good music\n",
      "Vixy and Tony plays good music\n",
      "Sarah Brightman plays good music\n"
     ]
    }
   ],
   "source": [
    "for artist in artists:\n",
    "    print(f\"{artist} plays good music\")"
   ]
  },
  {
   "cell_type": "code",
   "execution_count": 108,
   "id": "6bcd644d-a42b-4659-9611-94770a4c6a2f",
   "metadata": {},
   "outputs": [],
   "source": [
    "dusty_artists = {\n",
    "    \"Sarah Brightman\",\n",
    "    \"Gun N' Roses\",\n",
    "    \"Opeth\",\n",
    "    \"Vixy and Tony\",\n",
    "}"
   ]
  },
  {
   "cell_type": "code",
   "execution_count": 109,
   "id": "5667d2e0-6cbb-4900-ac74-89e31a42e21b",
   "metadata": {},
   "outputs": [],
   "source": [
    "steve_artists = {\"Yes\", \"Gun N' Roses\", \"Genesis\"}"
   ]
  },
  {
   "cell_type": "code",
   "execution_count": 110,
   "id": "41f76082-80d0-4b06-bfe0-e2f2a19e3c37",
   "metadata": {},
   "outputs": [
    {
     "name": "stdout",
     "output_type": "stream",
     "text": [
      "All {'Yes', \"Gun N' Roses\", 'Vixy and Tony', 'Sarah Brightman', 'Genesis', 'Opeth'}\n"
     ]
    }
   ],
   "source": [
    "print(f\"All {dusty_artists | steve_artists}\")"
   ]
  },
  {
   "cell_type": "code",
   "execution_count": 111,
   "id": "b615bab7-34ef-4035-9f56-ca387593a258",
   "metadata": {},
   "outputs": [
    {
     "name": "stdout",
     "output_type": "stream",
     "text": [
      "Both: {\"Gun N' Roses\"}\n"
     ]
    }
   ],
   "source": [
    "print(f\"Both: {dusty_artists.intersection(steve_artists)}\")"
   ]
  },
  {
   "cell_type": "code",
   "execution_count": 112,
   "id": "f929cf40-384d-470f-a387-159cbf1f9dc6",
   "metadata": {},
   "outputs": [
    {
     "name": "stdout",
     "output_type": "stream",
     "text": [
      "Either but not both: {'Vixy and Tony', 'Genesis', 'Sarah Brightman', 'Opeth', 'Yes'}\n"
     ]
    }
   ],
   "source": [
    "print(f\"Either but not both: {dusty_artists ^ steve_artists}\")"
   ]
  },
  {
   "cell_type": "code",
   "execution_count": 113,
   "id": "258b04b8-d0f2-4158-8bf5-6b96822f0c08",
   "metadata": {},
   "outputs": [],
   "source": [
    "artists = {\"Gun N' Roses\", 'Vixy and Tony', 'Sarah Brightman', 'Opeth'}"
   ]
  },
  {
   "cell_type": "code",
   "execution_count": 114,
   "id": "4883e8a7-e692-4240-811b-ba28f02b5e46",
   "metadata": {},
   "outputs": [],
   "source": [
    "bands = {\"Opeth\", \"Gun N' Roses\"}"
   ]
  },
  {
   "cell_type": "code",
   "execution_count": 115,
   "id": "c23e92e8-42db-4a71-84f8-9d29dd848772",
   "metadata": {},
   "outputs": [
    {
     "data": {
      "text/plain": [
       "True"
      ]
     },
     "execution_count": 115,
     "metadata": {},
     "output_type": "execute_result"
    }
   ],
   "source": [
    "artists.issuperset(bands)"
   ]
  },
  {
   "cell_type": "code",
   "execution_count": 116,
   "id": "59eedfda-d2f5-4e98-82ca-25e8cfbcd92f",
   "metadata": {},
   "outputs": [
    {
     "data": {
      "text/plain": [
       "False"
      ]
     },
     "execution_count": 116,
     "metadata": {},
     "output_type": "execute_result"
    }
   ],
   "source": [
    "artists.issubset(bands)"
   ]
  },
  {
   "cell_type": "code",
   "execution_count": 117,
   "id": "7d74e15c-5ce0-48e9-ad99-720f70748072",
   "metadata": {},
   "outputs": [
    {
     "data": {
      "text/plain": [
       "{'Sarah Brightman', 'Vixy and Tony'}"
      ]
     },
     "execution_count": 117,
     "metadata": {},
     "output_type": "execute_result"
    }
   ],
   "source": [
    "artists - bands"
   ]
  },
  {
   "cell_type": "code",
   "execution_count": 118,
   "id": "c643bb66-818e-48fc-806a-692185605fa2",
   "metadata": {},
   "outputs": [
    {
     "data": {
      "text/plain": [
       "False"
      ]
     },
     "execution_count": 118,
     "metadata": {},
     "output_type": "execute_result"
    }
   ],
   "source": [
    "bands.issuperset(artists)"
   ]
  },
  {
   "cell_type": "code",
   "execution_count": 119,
   "id": "0162ad95-af9b-4a15-8e73-6814ebe5766b",
   "metadata": {},
   "outputs": [
    {
     "data": {
      "text/plain": [
       "True"
      ]
     },
     "execution_count": 119,
     "metadata": {},
     "output_type": "execute_result"
    }
   ],
   "source": [
    "bands.issubset(artists)"
   ]
  },
  {
   "cell_type": "code",
   "execution_count": 120,
   "id": "bfda3ba1-b27a-4100-ba71-de27f8ce3228",
   "metadata": {},
   "outputs": [
    {
     "data": {
      "text/plain": [
       "set()"
      ]
     },
     "execution_count": 120,
     "metadata": {},
     "output_type": "execute_result"
    }
   ],
   "source": [
    "bands.difference(artists)"
   ]
  },
  {
   "cell_type": "markdown",
   "id": "341bce10-0ecb-4a61-bba1-8f5676de2155",
   "metadata": {},
   "source": [
    "### Three Types of Queues"
   ]
  },
  {
   "cell_type": "code",
   "execution_count": 121,
   "id": "80dc8fd0-6903-4d67-a94c-00529e9a3874",
   "metadata": {},
   "outputs": [],
   "source": [
    "class ListQueue(List[Path]):\n",
    "    def put(self, item: Path) -> None:\n",
    "        self.append(item)\n",
    "\n",
    "    def get(self) -> Path:\n",
    "        return self.pop(0)\n",
    "\n",
    "    def empty(self) -> bool:\n",
    "        return len(self) == 0"
   ]
  },
  {
   "cell_type": "code",
   "execution_count": 124,
   "id": "57420c6c-077b-4c7e-91a6-de27ae5a8c36",
   "metadata": {},
   "outputs": [],
   "source": [
    "class DeQueue(Deque[Path]):\n",
    "    def put(self, item: Path) -> None:\n",
    "        self.append(item)\n",
    "\n",
    "    def get(self) -> Path:\n",
    "        return self.popleft()\n",
    "\n",
    "    def empty(self) -> bool:\n",
    "        return len(self) == 0"
   ]
  },
  {
   "cell_type": "code",
   "execution_count": null,
   "id": "1aedcd7d-01aa-4f49-be1f-a65d9abbbf5a",
   "metadata": {},
   "outputs": [],
   "source": []
  },
  {
   "cell_type": "code",
   "execution_count": null,
   "id": "278bfef3-35e0-48f5-9425-f4c37efa0f32",
   "metadata": {},
   "outputs": [],
   "source": []
  },
  {
   "cell_type": "code",
   "execution_count": null,
   "id": "2b867231-1244-4915-b352-5faaa0bc5eca",
   "metadata": {},
   "outputs": [],
   "source": []
  }
 ],
 "metadata": {
  "kernelspec": {
   "display_name": "Python 3 (ipykernel)",
   "language": "python",
   "name": "python3"
  },
  "language_info": {
   "codemirror_mode": {
    "name": "ipython",
    "version": 3
   },
   "file_extension": ".py",
   "mimetype": "text/x-python",
   "name": "python",
   "nbconvert_exporter": "python",
   "pygments_lexer": "ipython3",
   "version": "3.11.9"
  }
 },
 "nbformat": 4,
 "nbformat_minor": 5
}
