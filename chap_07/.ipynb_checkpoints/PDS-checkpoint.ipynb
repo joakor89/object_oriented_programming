{
 "cells": [
  {
   "cell_type": "markdown",
   "id": "3ab8bc77-7bc0-4b8c-afb2-c0007b71fecd",
   "metadata": {},
   "source": [
    "# Python Data Structure\n",
    "\n",
    "### Loading Libraries"
   ]
  },
  {
   "cell_type": "code",
   "execution_count": 14,
   "id": "95489fb9-9e3a-49e1-85e5-fc9073c02275",
   "metadata": {},
   "outputs": [],
   "source": [
    "# Math\n",
    "import math\n",
    "from math import hypot\n",
    "\n",
    "# OS\n",
    "import re\n",
    "import sys\n",
    "import abc\n",
    "import time\n",
    "import random\n",
    "import bisect\n",
    "import datetime\n",
    "from decimal import Decimal\n",
    "\n",
    "# Types & Annotations\n",
    "from __future__ import annotations\n",
    "from collections.abc import Container, Mapping, Hashable\n",
    "from typing import Hashable, Mapping, TypeVar, Any, overload, Union, Sequence, Dict\n",
    "from typing import List, Protocol, NoReturn, Union, Set, Tuple, Optional, Iterable, Iterator, cast\n",
    "\n",
    "# Dunctional Tools\n",
    "from functools import wraps\n",
    "\n",
    "# Files & Path\n",
    "import logging\n",
    "import zipfile\n",
    "import fnmatch\n",
    "from pathlib import Path\n",
    "from urllib.request import urlopen\n",
    "\n",
    "# Numerical Computing\n",
    "import numpy as np\n",
    "\n",
    "# Data Manipulation\n",
    "import pandas as pd\n",
    "\n",
    "# Data Visualization\n",
    "import seaborn\n",
    "import matplotlib.pyplot as plt"
   ]
  },
  {
   "cell_type": "code",
   "execution_count": 15,
   "id": "4ff66cb1-aee7-4743-86e6-f9c87916e680",
   "metadata": {},
   "outputs": [],
   "source": [
    "Comparable = TypeVar('Comparable')\n",
    "\n",
    "BaseMapping = Mapping[Comparable, Any]"
   ]
  },
  {
   "cell_type": "markdown",
   "id": "83cd7b4f-606b-4231-872e-4a0db586fe20",
   "metadata": {},
   "source": [
    "### Empty Objects"
   ]
  },
  {
   "cell_type": "code",
   "execution_count": 16,
   "id": "879ec310-0838-44f0-9b2d-e24f5edd44a1",
   "metadata": {},
   "outputs": [
    {
     "ename": "AttributeError",
     "evalue": "'object' object has no attribute 'x'",
     "output_type": "error",
     "traceback": [
      "\u001b[0;31m---------------------------------------------------------------------------\u001b[0m",
      "\u001b[0;31mAttributeError\u001b[0m                            Traceback (most recent call last)",
      "Cell \u001b[0;32mIn[16], line 3\u001b[0m\n\u001b[1;32m      1\u001b[0m o \u001b[38;5;241m=\u001b[39m \u001b[38;5;28mobject\u001b[39m()\n\u001b[0;32m----> 3\u001b[0m o\u001b[38;5;241m.\u001b[39mx \u001b[38;5;241m=\u001b[39m \u001b[38;5;241m5\u001b[39m\n",
      "\u001b[0;31mAttributeError\u001b[0m: 'object' object has no attribute 'x'"
     ]
    }
   ],
   "source": [
    "o = object()\n",
    "\n",
    "o.x = 5"
   ]
  },
  {
   "cell_type": "code",
   "execution_count": 17,
   "id": "85e8e034-0541-4399-80df-0c21f5389760",
   "metadata": {},
   "outputs": [],
   "source": [
    "class MyObject:\n",
    "    ..."
   ]
  },
  {
   "cell_type": "code",
   "execution_count": 18,
   "id": "cec61c9b-8863-4ccb-bae1-6a49bdf9aa4a",
   "metadata": {},
   "outputs": [
    {
     "data": {
      "text/plain": [
       "'hello'"
      ]
     },
     "execution_count": 18,
     "metadata": {},
     "output_type": "execute_result"
    }
   ],
   "source": [
    "m = MyObject()\n",
    "\n",
    "m.x = \"hello\"\n",
    "m.x"
   ]
  },
  {
   "cell_type": "markdown",
   "id": "edcfdfd8-d10f-4eaa-939f-16e388ffcba6",
   "metadata": {},
   "source": [
    "### Tuples & Named Tuples"
   ]
  },
  {
   "cell_type": "code",
   "execution_count": 19,
   "id": "34fae51d-13ba-4f4e-8002-8148574621e8",
   "metadata": {},
   "outputs": [],
   "source": [
    "stock = \"APPL\", 123.52, 53.15, 137.98\n",
    "\n",
    "stock2 = (\"APPL\", 123.52, 53.15, 137.98)"
   ]
  },
  {
   "cell_type": "code",
   "execution_count": 20,
   "id": "3ccce811-453f-45c2-aadb-99d405f8f800",
   "metadata": {},
   "outputs": [],
   "source": [
    "def middle(stock, date):\n",
    "    symbol, current, high, low = stock\n",
    "    return (((high + low) / 2), date)"
   ]
  },
  {
   "cell_type": "code",
   "execution_count": 21,
   "id": "e2c7a460-e012-4cac-b32f-2813c3a1028f",
   "metadata": {},
   "outputs": [
    {
     "data": {
      "text/plain": [
       "(95.565, datetime.date(2020, 12, 4))"
      ]
     },
     "execution_count": 21,
     "metadata": {},
     "output_type": "execute_result"
    }
   ],
   "source": [
    "middle((\"APPL\", 123.52, 53.15, 137.98), datetime.date(2020, 12, 4))"
   ]
  },
  {
   "cell_type": "code",
   "execution_count": 22,
   "id": "df645dc8-65d6-48f3-b849-eaca7ad6794d",
   "metadata": {},
   "outputs": [
    {
     "data": {
      "text/plain": [
       "42"
      ]
     },
     "execution_count": 22,
     "metadata": {},
     "output_type": "execute_result"
    }
   ],
   "source": [
    "a = 42\n",
    "a"
   ]
  },
  {
   "cell_type": "code",
   "execution_count": 23,
   "id": "17443831-c0a3-4a33-a315-e68b3d49fd30",
   "metadata": {},
   "outputs": [
    {
     "data": {
      "text/plain": [
       "((42, 3.14), (2.718, 2.618))"
      ]
     },
     "execution_count": 23,
     "metadata": {},
     "output_type": "execute_result"
    }
   ],
   "source": [
    "b = (42, 3.14), (2.718, 2.618),\n",
    "b"
   ]
  },
  {
   "cell_type": "code",
   "execution_count": 24,
   "id": "da2f5b21-b365-4ade-87d2-4002298ab29e",
   "metadata": {},
   "outputs": [],
   "source": [
    "s = \"APPL\", 132.76, 134.80, 130.53"
   ]
  },
  {
   "cell_type": "code",
   "execution_count": 26,
   "id": "19aea7d4-965a-47b7-822a-0e040607c5ff",
   "metadata": {},
   "outputs": [
    {
     "data": {
      "text/plain": [
       "134.8"
      ]
     },
     "execution_count": 26,
     "metadata": {},
     "output_type": "execute_result"
    }
   ],
   "source": [
    "high = s[2]\n",
    "high"
   ]
  },
  {
   "cell_type": "code",
   "execution_count": 27,
   "id": "016da3dc-29f3-4aca-a618-89e23bc7547c",
   "metadata": {},
   "outputs": [
    {
     "data": {
      "text/plain": [
       "(132.76, 134.8)"
      ]
     },
     "execution_count": 27,
     "metadata": {},
     "output_type": "execute_result"
    }
   ],
   "source": [
    "s[1:3]"
   ]
  },
  {
   "cell_type": "code",
   "execution_count": 28,
   "id": "1d0d7730-4adc-47c6-83b7-4fafb231bc88",
   "metadata": {},
   "outputs": [],
   "source": [
    "def high(stock):\n",
    "    symbol, current, high, low = stock\n",
    "    return high"
   ]
  },
  {
   "cell_type": "code",
   "execution_count": 29,
   "id": "c032a0db-5826-4af0-acd5-d6c7922bf538",
   "metadata": {},
   "outputs": [
    {
     "data": {
      "text/plain": [
       "134.8"
      ]
     },
     "execution_count": 29,
     "metadata": {},
     "output_type": "execute_result"
    }
   ],
   "source": [
    "high(s)"
   ]
  },
  {
   "cell_type": "markdown",
   "id": "6a9ca7ef-d351-49b9-9436-a121619fa983",
   "metadata": {},
   "source": [
    "### Named Tuples via: `typing.NamedTuple`"
   ]
  },
  {
   "cell_type": "code",
   "execution_count": null,
   "id": "b5ed6868-d871-4c3c-b4e4-7f9be0a93732",
   "metadata": {},
   "outputs": [],
   "source": []
  }
 ],
 "metadata": {
  "kernelspec": {
   "display_name": "Python 3 (ipykernel)",
   "language": "python",
   "name": "python3"
  },
  "language_info": {
   "codemirror_mode": {
    "name": "ipython",
    "version": 3
   },
   "file_extension": ".py",
   "mimetype": "text/x-python",
   "name": "python",
   "nbconvert_exporter": "python",
   "pygments_lexer": "ipython3",
   "version": "3.11.9"
  }
 },
 "nbformat": 4,
 "nbformat_minor": 5
}
