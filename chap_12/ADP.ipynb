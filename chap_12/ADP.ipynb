{
 "cells": [
  {
   "cell_type": "markdown",
   "id": "bfe8cbe0-876c-4ced-8cfd-9ffb2f8ccfc8",
   "metadata": {},
   "source": [
    "# Adavanced Design Patterns\n",
    "\n",
    "### Loading Libraries"
   ]
  },
  {
   "cell_type": "code",
   "execution_count": 1,
   "id": "c67caf4d-ef57-4791-b688-1b47661d152c",
   "metadata": {},
   "outputs": [],
   "source": [
    "# Math\n",
    "import math\n",
    "from math import hypot, factorial\n",
    "\n",
    "# Numerical Computing\n",
    "import numpy as np\n",
    "\n",
    "# Data Manipulation\n",
    "import pandas as pd\n",
    "\n",
    "# Data Visualization\n",
    "import seaborn\n",
    "import matplotlib.pyplot as plt\n",
    "\n",
    "#\n",
    "from pprint import pprint\n",
    "\n",
    "# OS\n",
    "import io\n",
    "import re\n",
    "import sys\n",
    "import abc\n",
    "import csv\n",
    "import time\n",
    "import gzip\n",
    "import queue\n",
    "import heapq\n",
    "import socket\n",
    "import string\n",
    "import random\n",
    "import bisect\n",
    "import operator\n",
    "import datetime\n",
    "import contextlib\n",
    "import subprocess\n",
    "from decimal import Decimal\n",
    "from abc import ABC, abstractmethod\n",
    "\n",
    "# Types & Annotations\n",
    "import collections\n",
    "from __future__ import annotations\n",
    "from collections import defaultdict, Counter\n",
    "from collections.abc import Container, Mapping, Hashable\n",
    "from typing import TYPE_CHECKING\n",
    "from typing import Pattern, Match\n",
    "from typing import Hashable, Mapping, TypeVar, Any, overload, Union, Sequence, Dict, Deque, TextIO, Callable\n",
    "from typing import List, Protocol, NoReturn, Union, Set, Tuple, Optional, Iterable, Iterator, cast, NamedTuple\n",
    "# from typing import \n",
    "\n",
    "# Functional Tools\n",
    "from functools import wraps, total_ordering, lru_cache\n",
    "\n",
    "# Files & Path\n",
    "import logging\n",
    "import zipfile\n",
    "import fnmatch\n",
    "from pathlib import Path\n",
    "from urllib.request import urlopen\n",
    "from urllib.parse import urlparse\n",
    "\n",
    "# Dataclass\n",
    "from dataclasses import dataclass, field"
   ]
  },
  {
   "cell_type": "markdown",
   "id": "16eec7d3-f2e9-45de-8dd1-62e215ebb1c5",
   "metadata": {},
   "source": [
    "## The Adapter Pattern\n",
    "\n",
    "### An Adapter Example"
   ]
  },
  {
   "cell_type": "code",
   "execution_count": 2,
   "id": "885f9bab-7e9b-471c-be3a-529e68f8844d",
   "metadata": {},
   "outputs": [],
   "source": [
    "class TimeSince:\n",
    "    \"\"\"Expects time as six digits, no punctuation.\"\"\"\n",
    "\n",
    "    def parse_time(self, time: str) -> tuple[float, float, float]:\n",
    "        return (\n",
    "            float(time[0:2]),\n",
    "            float(time[2:4]),\n",
    "            float(time[4:]),\n",
    "        )\n",
    "\n",
    "    def __init__(self, starting_time: str) -> None:\n",
    "        self.hr, self.min, self.sec = self.parse_time(starting_time)\n",
    "        self.start_seconds = ((self.hr * 60) + self.min) * 60 + self.sec\n",
    "\n",
    "    def interval(self, log_time: str) -> float:\n",
    "        log_hr, log_min, log_sec = self.parse_time(log_time)\n",
    "        log_seconds = ((log_hr * 60) + log_min) * 60 + log_sec\n",
    "        return log_seconds - self.start_seconds"
   ]
  },
  {
   "cell_type": "code",
   "execution_count": 3,
   "id": "58a3c016-2efb-44e4-9768-6246e8cd2f67",
   "metadata": {},
   "outputs": [],
   "source": [
    "ts = TimeSince(\"000123\")"
   ]
  },
  {
   "cell_type": "code",
   "execution_count": 4,
   "id": "aaf66e24-a50b-4e86-bced-9be4121a6d71",
   "metadata": {},
   "outputs": [
    {
     "data": {
      "text/plain": [
       "7301.0"
      ]
     },
     "execution_count": 4,
     "metadata": {},
     "output_type": "execute_result"
    }
   ],
   "source": [
    "ts.interval(\"020304\")"
   ]
  },
  {
   "cell_type": "code",
   "execution_count": 5,
   "id": "6fb4e401-40b1-446b-95ce-46deba157327",
   "metadata": {},
   "outputs": [
    {
     "data": {
      "text/plain": [
       "10962.0"
      ]
     },
     "execution_count": 5,
     "metadata": {},
     "output_type": "execute_result"
    }
   ],
   "source": [
    "ts.interval(\"030405\")"
   ]
  },
  {
   "cell_type": "code",
   "execution_count": 6,
   "id": "f1a976d6-40d3-439e-bdc5-b3e66a5238b2",
   "metadata": {},
   "outputs": [],
   "source": [
    "data = [\n",
    "    (\"000123\", \"INFO\", \"Gila Flats 1959-08-20\"),\n",
    "    (\"000142\", \"INFO\", \"test block 15\"),\n",
    "    (\"004201\", \"ERROR\", \"intrinsic field chamber door locked\"),\n",
    "    (\"004210.11\", \"INFO\", \"generator power active\"),\n",
    "    (\"004232.33\", \"WARNING\", \"extra mass detected\")\n",
    "]"
   ]
  },
  {
   "cell_type": "code",
   "execution_count": 8,
   "id": "ef96720e-0e07-46dd-a463-36f924be13b5",
   "metadata": {},
   "outputs": [],
   "source": [
    "class LogProcessor:\n",
    "    def __init__(self, log_entries: list[tuple[str, str, str]]) -> None:\n",
    "        self.log_entries = log_entries\n",
    "        self.time_convert = IntervalAdapter()\n",
    "\n",
    "    def report(self) -> None:\n",
    "        first_time, first_sev, first_msg = self.log_entries[0]\n",
    "        for log_time, severity, message in self.log_entries:\n",
    "            if severity == \"ERROR\":\n",
    "                first_time = log_time\n",
    "            interval = self.time_convert.time_offset(first_time, log_time)\n",
    "            print(f\"{interval:8.2f} | {severity:7s} {message}\")"
   ]
  },
  {
   "cell_type": "code",
   "execution_count": 9,
   "id": "d66048c4-6169-4b02-9892-2e9c01b8f365",
   "metadata": {},
   "outputs": [],
   "source": [
    "class IntervalAdapter:\n",
    "    def __init__(self) -> None:\n",
    "        self.ts: Optional[TimeSince] = None\n",
    "\n",
    "    def time_offset(self, start: str, now: str) -> float:\n",
    "        if self.ts is None:\n",
    "            self.ts = TimeSince(start)\n",
    "        else:\n",
    "            h_m_s = self.ts.parse_time(start)\n",
    "            if h_m_s != (self.ts.hr, self.ts.min, self.ts.sec):\n",
    "                self.ts = TimeSince(start)\n",
    "        return self.ts.interval(now)"
   ]
  },
  {
   "cell_type": "code",
   "execution_count": 10,
   "id": "00cbf183-3571-4d40-9c72-987e775f5e78",
   "metadata": {},
   "outputs": [],
   "source": [
    "class LogProcessor:\n",
    "    def __init__(self, log_entries: list[tuple[str, str, str]]) -> None:\n",
    "        self.log_entries = log_entries\n",
    "        self.time_convert = IntervalAdapter()\n",
    "\n",
    "    def report(self) -> None:\n",
    "        first_time, first_sev, first_msg = self.log_entries[0]\n",
    "        for log_time, severity, message in self.log_entries:\n",
    "            if severity == \"ERROR\":\n",
    "                first_time = log_time\n",
    "            interval = self.time_convert.time_offset(first_time, log_time)\n",
    "            print(f\"{interval:8.2f} | {severity:7s} {message}\")"
   ]
  },
  {
   "cell_type": "code",
   "execution_count": null,
   "id": "2580c505-81c2-4e86-bce8-65b0503b425e",
   "metadata": {},
   "outputs": [],
   "source": []
  }
 ],
 "metadata": {
  "kernelspec": {
   "display_name": "Python 3 (ipykernel)",
   "language": "python",
   "name": "python3"
  },
  "language_info": {
   "codemirror_mode": {
    "name": "ipython",
    "version": 3
   },
   "file_extension": ".py",
   "mimetype": "text/x-python",
   "name": "python",
   "nbconvert_exporter": "python",
   "pygments_lexer": "ipython3",
   "version": "3.11.9"
  }
 },
 "nbformat": 4,
 "nbformat_minor": 5
}
