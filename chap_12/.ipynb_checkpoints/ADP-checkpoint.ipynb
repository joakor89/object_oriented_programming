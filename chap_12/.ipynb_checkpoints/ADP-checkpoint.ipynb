{
 "cells": [
  {
   "cell_type": "markdown",
   "id": "bfe8cbe0-876c-4ced-8cfd-9ffb2f8ccfc8",
   "metadata": {},
   "source": [
    "# Adavanced Design Patterns\n",
    "\n",
    "### Loading Libraries"
   ]
  },
  {
   "cell_type": "code",
   "execution_count": 18,
   "id": "c67caf4d-ef57-4791-b688-1b47661d152c",
   "metadata": {},
   "outputs": [],
   "source": [
    "# Math\n",
    "import math\n",
    "from math import hypot, factorial\n",
    "\n",
    "# Numerical Computing\n",
    "import numpy as np\n",
    "\n",
    "# Data Manipulation\n",
    "import pandas as pd\n",
    "\n",
    "# Data Visualization\n",
    "import seaborn\n",
    "import matplotlib.pyplot as plt\n",
    "\n",
    "#\n",
    "from pprint import pprint\n",
    "\n",
    "# OS\n",
    "import io\n",
    "import re\n",
    "import sys\n",
    "import abc\n",
    "import csv\n",
    "import time\n",
    "import gzip\n",
    "import queue\n",
    "import heapq\n",
    "import socket\n",
    "import string\n",
    "import random\n",
    "import bisect\n",
    "import operator\n",
    "import datetime\n",
    "import contextlib\n",
    "import subprocess\n",
    "from decimal import Decimal\n",
    "from abc import ABC, abstractmethod\n",
    "\n",
    "# Types & Annotations\n",
    "import collections\n",
    "from __future__ import annotations\n",
    "from collections import defaultdict, Counter\n",
    "from collections.abc import Container, Mapping, Hashable\n",
    "from typing import TYPE_CHECKING\n",
    "from typing import Pattern, Match\n",
    "from typing import Hashable, Mapping, TypeVar, Any, overload, Union, Sequence, Dict, Deque, TextIO, Callable\n",
    "from typing import List, Protocol, NoReturn, Union, Set, Tuple, Optional, Iterable, Iterator, cast, NamedTuple\n",
    "# from typing import \n",
    "\n",
    "# Functional Tools\n",
    "from functools import wraps, total_ordering, lru_cache\n",
    "\n",
    "# Files & Path\n",
    "import logging\n",
    "import zipfile\n",
    "import fnmatch\n",
    "from pathlib import Path\n",
    "from urllib.request import urlopen\n",
    "from urllib.parse import urlparse\n",
    "\n",
    "# Dataclass\n",
    "from dataclasses import dataclass, field\n",
    "\n",
    "# Enum\n",
    "from enum import Enum, auto"
   ]
  },
  {
   "cell_type": "markdown",
   "id": "16eec7d3-f2e9-45de-8dd1-62e215ebb1c5",
   "metadata": {},
   "source": [
    "## The Adapter Pattern\n",
    "\n",
    "### An Adapter Example"
   ]
  },
  {
   "cell_type": "code",
   "execution_count": 2,
   "id": "885f9bab-7e9b-471c-be3a-529e68f8844d",
   "metadata": {},
   "outputs": [],
   "source": [
    "class TimeSince:\n",
    "    \"\"\"Expects time as six digits, no punctuation.\"\"\"\n",
    "\n",
    "    def parse_time(self, time: str) -> tuple[float, float, float]:\n",
    "        return (\n",
    "            float(time[0:2]),\n",
    "            float(time[2:4]),\n",
    "            float(time[4:]),\n",
    "        )\n",
    "\n",
    "    def __init__(self, starting_time: str) -> None:\n",
    "        self.hr, self.min, self.sec = self.parse_time(starting_time)\n",
    "        self.start_seconds = ((self.hr * 60) + self.min) * 60 + self.sec\n",
    "\n",
    "    def interval(self, log_time: str) -> float:\n",
    "        log_hr, log_min, log_sec = self.parse_time(log_time)\n",
    "        log_seconds = ((log_hr * 60) + log_min) * 60 + log_sec\n",
    "        return log_seconds - self.start_seconds"
   ]
  },
  {
   "cell_type": "code",
   "execution_count": 3,
   "id": "58a3c016-2efb-44e4-9768-6246e8cd2f67",
   "metadata": {},
   "outputs": [],
   "source": [
    "ts = TimeSince(\"000123\")"
   ]
  },
  {
   "cell_type": "code",
   "execution_count": 4,
   "id": "aaf66e24-a50b-4e86-bced-9be4121a6d71",
   "metadata": {},
   "outputs": [
    {
     "data": {
      "text/plain": [
       "7301.0"
      ]
     },
     "execution_count": 4,
     "metadata": {},
     "output_type": "execute_result"
    }
   ],
   "source": [
    "ts.interval(\"020304\")"
   ]
  },
  {
   "cell_type": "code",
   "execution_count": 5,
   "id": "6fb4e401-40b1-446b-95ce-46deba157327",
   "metadata": {},
   "outputs": [
    {
     "data": {
      "text/plain": [
       "10962.0"
      ]
     },
     "execution_count": 5,
     "metadata": {},
     "output_type": "execute_result"
    }
   ],
   "source": [
    "ts.interval(\"030405\")"
   ]
  },
  {
   "cell_type": "code",
   "execution_count": 6,
   "id": "f1a976d6-40d3-439e-bdc5-b3e66a5238b2",
   "metadata": {},
   "outputs": [],
   "source": [
    "data = [\n",
    "    (\"000123\", \"INFO\", \"Gila Flats 1959-08-20\"),\n",
    "    (\"000142\", \"INFO\", \"test block 15\"),\n",
    "    (\"004201\", \"ERROR\", \"intrinsic field chamber door locked\"),\n",
    "    (\"004210.11\", \"INFO\", \"generator power active\"),\n",
    "    (\"004232.33\", \"WARNING\", \"extra mass detected\")\n",
    "]"
   ]
  },
  {
   "cell_type": "code",
   "execution_count": 7,
   "id": "ef96720e-0e07-46dd-a463-36f924be13b5",
   "metadata": {},
   "outputs": [],
   "source": [
    "class LogProcessor:\n",
    "    def __init__(self, log_entries: list[tuple[str, str, str]]) -> None:\n",
    "        self.log_entries = log_entries\n",
    "        self.time_convert = IntervalAdapter()\n",
    "\n",
    "    def report(self) -> None:\n",
    "        first_time, first_sev, first_msg = self.log_entries[0]\n",
    "        for log_time, severity, message in self.log_entries:\n",
    "            if severity == \"ERROR\":\n",
    "                first_time = log_time\n",
    "            interval = self.time_convert.time_offset(first_time, log_time)\n",
    "            print(f\"{interval:8.2f} | {severity:7s} {message}\")"
   ]
  },
  {
   "cell_type": "code",
   "execution_count": 8,
   "id": "d66048c4-6169-4b02-9892-2e9c01b8f365",
   "metadata": {},
   "outputs": [],
   "source": [
    "class IntervalAdapter:\n",
    "    def __init__(self) -> None:\n",
    "        self.ts: Optional[TimeSince] = None\n",
    "\n",
    "    def time_offset(self, start: str, now: str) -> float:\n",
    "        if self.ts is None:\n",
    "            self.ts = TimeSince(start)\n",
    "        else:\n",
    "            h_m_s = self.ts.parse_time(start)\n",
    "            if h_m_s != (self.ts.hr, self.ts.min, self.ts.sec):\n",
    "                self.ts = TimeSince(start)\n",
    "        return self.ts.interval(now)"
   ]
  },
  {
   "cell_type": "code",
   "execution_count": 9,
   "id": "00cbf183-3571-4d40-9c72-987e775f5e78",
   "metadata": {},
   "outputs": [],
   "source": [
    "class LogProcessor:\n",
    "    def __init__(self, log_entries: list[tuple[str, str, str]]) -> None:\n",
    "        self.log_entries = log_entries\n",
    "        self.time_convert = IntervalAdapter()\n",
    "\n",
    "    def report(self) -> None:\n",
    "        first_time, first_sev, first_msg = self.log_entries[0]\n",
    "        for log_time, severity, message in self.log_entries:\n",
    "            if severity == \"ERROR\":\n",
    "                first_time = log_time\n",
    "            interval = self.time_convert.time_offset(first_time, log_time)\n",
    "            print(f\"{interval:8.2f} | {severity:7s} {message}\")"
   ]
  },
  {
   "cell_type": "markdown",
   "id": "c88a9bc3-a7c9-45a1-8d00-91a09997b76d",
   "metadata": {},
   "source": [
    "## The Façade Pattern\n",
    "\n",
    "### A Façade Example"
   ]
  },
  {
   "cell_type": "code",
   "execution_count": 10,
   "id": "d6bb14ab-e6f4-461a-a010-9a4d30123716",
   "metadata": {},
   "outputs": [],
   "source": [
    "import subprocess"
   ]
  },
  {
   "cell_type": "code",
   "execution_count": 11,
   "id": "be0ee71a-b269-43a8-ab2e-edfcf1c3ff97",
   "metadata": {},
   "outputs": [],
   "source": [
    "class FindUML:\n",
    "    def __init__(self, base: Path) -> None:\n",
    "        self.base = base\n",
    "        self.start_pattern = re.compile(r\"@startuml *(.*)\")\n",
    "\n",
    "    def uml_file_iter(self) -> Iterator[tuple[Path, Path]]:\n",
    "        for source in self.base.glob(\"**/*.uml\"):\n",
    "            if any(n.startswith(\".\") for n in source.parts):\n",
    "                continue\n",
    "            body = source.read_text()\n",
    "            for output_name in self.start_pattern.findall(body):\n",
    "                if output_name:\n",
    "                    target = source.parent / output_name\n",
    "                else:\n",
    "                    target = source.with_suffix(\".png\")\n",
    "                yield (source.relative_to(self.base), target.relative_to(self.base))"
   ]
  },
  {
   "cell_type": "code",
   "execution_count": 12,
   "id": "74743331-a446-428b-9efa-aaa31587df60",
   "metadata": {},
   "outputs": [],
   "source": [
    "class PlantUML:\n",
    "    conda_env_name = \"CaseStudy\"\n",
    "    base_env = Path.home() / \"miniconda3\" / \"envs\" / conda_env_name\n",
    "\n",
    "    def __init__(\n",
    "        self,\n",
    "        graphviz: Path = Path(\"bin\") / \"dot\",\n",
    "        plantjar: Path = Path(\"share\") / \"plantuml.jar\",\n",
    "    ) -> None:\n",
    "        self.graphviz = self.base_env / graphviz\n",
    "        self.plantjar = self.base_env / plantjar\n",
    "\n",
    "    def process(self, source: Path) -> None:\n",
    "        env = {\n",
    "            \"GRAPHVIZ_DOT\": str(self.graphviz),\n",
    "        }\n",
    "        command = [\"java\", \"-jar\", str(self.plantjar), \"-progress\", str(source)]\n",
    "        subprocess.run(command, env=env, check=True)\n",
    "        print()"
   ]
  },
  {
   "cell_type": "code",
   "execution_count": 13,
   "id": "111c8384-48e3-4db4-b057-5210da8f3b83",
   "metadata": {},
   "outputs": [],
   "source": [
    "class GenerateImages:\n",
    "    def __init__(self, base: Path, verbose: int = 0) -> None:\n",
    "        self.finder = FindUML(base)\n",
    "        self.painter = PlantUML()\n",
    "        self.verbose = verbose\n",
    "\n",
    "    def make_all_images(self) -> None:\n",
    "        for source, target in self.finder.uml_file_iter():\n",
    "            if not target.exists() or source.stat().st_mtime > target.stat().st_mtime:\n",
    "                print(f\"Processing {source} -> {target}\")\n",
    "                self.painter.process(source)\n",
    "            else:\n",
    "                if self.verbose > 0:\n",
    "                    print(f\"Skipping {source} -> {target}\")\n",
    "\n",
    "\n",
    "if __name__ == \"__main__\":\n",
    "    g = GenerateImages(Path.cwd())\n",
    "    g.make_all_images()"
   ]
  },
  {
   "cell_type": "markdown",
   "id": "355457ef-2eb6-4150-b2e9-671084742fef",
   "metadata": {},
   "source": [
    "## The Flyweight Pattern\n",
    "\n",
    "### A Flyweight Example"
   ]
  },
  {
   "cell_type": "code",
   "execution_count": 14,
   "id": "27911e95-ab8a-47c4-90ad-48e4c6feaa66",
   "metadata": {},
   "outputs": [],
   "source": [
    "class Buffer(Sequence[int]):\n",
    "    def __init__(self, content: bytes) -> None:\n",
    "        self.content = content\n",
    "\n",
    "    def __len__(self) -> int:\n",
    "        return len(self.content)\n",
    "\n",
    "    def __iter__(self) -> Iterator[int]:\n",
    "        return iter(self.content)\n",
    "\n",
    "    @overload\n",
    "    def __getitem__(self, index: int) -> int:\n",
    "        ...\n",
    "\n",
    "    @overload\n",
    "    def __getitem__(self, index: slice) -> bytes:\n",
    "        ...\n",
    "\n",
    "    def __getitem__(self, index: Union[int, slice]) -> Union[int, bytes]:\n",
    "        return self.content[index]"
   ]
  },
  {
   "cell_type": "code",
   "execution_count": 15,
   "id": "8e55fff5-b88c-45c8-950b-6dd9a819701b",
   "metadata": {},
   "outputs": [],
   "source": [
    "class Message(abc.ABC):\n",
    "    def __init__(self) -> None:\n",
    "        self.buffer: weakref.ReferenceType[Buffer]\n",
    "        self.offset: int\n",
    "        self.end: Optional[int]\n",
    "        self.commas: list[int]\n",
    "\n",
    "    def from_buffer(self, buffer: Buffer, offset: int) -> \"Message\":\n",
    "        self.buffer = weakref.ref(buffer)\n",
    "        self.offset = offset\n",
    "        self.commas = [offset]\n",
    "        self.end = None\n",
    "        for index in range(offset, offset + 82):\n",
    "            if buffer[index] == ord(b\",\"):\n",
    "                self.commas.append(index)\n",
    "            elif buffer[index] == ord(b\"*\"):\n",
    "                self.commas.append(index)\n",
    "                self.end = index + 3\n",
    "                break\n",
    "        if self.end is None:\n",
    "            raise GPSError(\"Incomplete\")\n",
    "        # TODO: confirm checksum.\n",
    "        return self\n",
    "\n",
    "    def __getitem__(self, field: int) -> bytes:\n",
    "        if not hasattr(self, \"buffer\") or (buffer := self.buffer()) is None:\n",
    "            raise RuntimeError(\"Broken reference\")\n",
    "        start, end = self.commas[field] + 1, self.commas[field + 1]\n",
    "        return buffer[start:end]\n",
    "\n",
    "    def get_fix(self) -> Point:\n",
    "        return Point.from_bytes(\n",
    "            self.latitude(), self.lat_n_s(), self.longitude(), self.lon_e_w()\n",
    "        )\n",
    "\n",
    "    @abc.abstractmethod\n",
    "    def latitude(self) -> bytes:\n",
    "        ...\n",
    "\n",
    "    @abc.abstractmethod\n",
    "    def lat_n_s(self) -> bytes:\n",
    "        ...\n",
    "\n",
    "    @abc.abstractmethod\n",
    "    def longitude(self) -> bytes:\n",
    "        ...\n",
    "\n",
    "    @abc.abstractmethod\n",
    "    def lon_e_w(self) -> bytes:\n",
    "        ..."
   ]
  },
  {
   "cell_type": "code",
   "execution_count": 16,
   "id": "61105d7b-5817-4c91-b261-08d7f1a0dccc",
   "metadata": {},
   "outputs": [],
   "source": [
    "class GPGLL(Message):\n",
    "    def latitude(self) -> bytes:\n",
    "        return self[1]\n",
    "\n",
    "    def lat_n_s(self) -> bytes:\n",
    "        return self[2]\n",
    "\n",
    "    def longitude(self) -> bytes:\n",
    "        return self[3]\n",
    "\n",
    "    def lon_e_w(self) -> bytes:\n",
    "        return self[4]"
   ]
  },
  {
   "cell_type": "code",
   "execution_count": 17,
   "id": "225b5a03-334e-415d-9c05-db8a6847baea",
   "metadata": {},
   "outputs": [],
   "source": [
    "def message_factory(header: bytes) -> Optional[Message]:\n",
    "    # TODO: Add functools.lru_cache to save storage and time\n",
    "    if header == b\"GPGGA\":\n",
    "        return GPGGA()\n",
    "    elif header == b\"GPGLL\":\n",
    "        return GPGLL()\n",
    "    elif header == b\"GPRMC\":\n",
    "        return GPRMC()\n",
    "    else:\n",
    "        return None"
   ]
  },
  {
   "cell_type": "markdown",
   "id": "77e4a877-d3da-4425-a818-56edd10ed4e4",
   "metadata": {},
   "source": [
    "## The Abstract Factory Pattern\n",
    "\n",
    "### An Abstract Factory Example"
   ]
  },
  {
   "cell_type": "code",
   "execution_count": 19,
   "id": "f672dd48-4dfa-4fb0-9122-a9eed0d0cbe7",
   "metadata": {},
   "outputs": [],
   "source": [
    "class Suit(str, Enum):\n",
    "    Clubs = \"\\N{Black Club Suit}\"\n",
    "    Diamonds = \"\\N{Black Diamond Suit}\"\n",
    "    Hearts = \"\\N{Black Heart Suit}\"\n",
    "    Spades = \"\\N{Black Spade Suit}\""
   ]
  },
  {
   "cell_type": "code",
   "execution_count": 21,
   "id": "0134b04f-1341-4881-9a45-123cffbebe33",
   "metadata": {},
   "outputs": [],
   "source": [
    "class Card(NamedTuple):\n",
    "    rank: int\n",
    "    suit: Suit\n",
    "\n",
    "    def __str__(self) -> str:\n",
    "        return f\"{self.rank}{self.suit}\""
   ]
  },
  {
   "cell_type": "code",
   "execution_count": 22,
   "id": "e47acd7c-c904-493f-b858-29138a1bcd8b",
   "metadata": {},
   "outputs": [],
   "source": [
    "class Trick(int, Enum):\n",
    "    pass"
   ]
  },
  {
   "cell_type": "code",
   "execution_count": 23,
   "id": "60d1f313-4eb0-4cae-9285-72f9af7a687f",
   "metadata": {},
   "outputs": [],
   "source": [
    "class Hand(List[Card]):\n",
    "    def __init__(self, *cards: Card) -> None:\n",
    "        super().__init__(cards)\n",
    "\n",
    "    def scoring(self) -> list[Trick]:\n",
    "        pass"
   ]
  },
  {
   "cell_type": "code",
   "execution_count": 24,
   "id": "bf8833d7-fbbb-410a-95c2-c2605cc4edaa",
   "metadata": {},
   "outputs": [],
   "source": [
    "class CardGameFactory(abc.ABC):\n",
    "    @abc.abstractmethod\n",
    "    def make_card(self, rank: int, suit: Suit) -> \"Card\":\n",
    "        ...\n",
    "\n",
    "    @abc.abstractmethod\n",
    "    def make_hand(self, *cards: Card) -> \"Hand\":\n",
    "        ..."
   ]
  },
  {
   "cell_type": "code",
   "execution_count": 25,
   "id": "6a037f17-9a67-4d7a-b7c5-54af99933ac1",
   "metadata": {},
   "outputs": [],
   "source": [
    "class CribbageCard(Card):\n",
    "    @property\n",
    "    def points(self) -> int:\n",
    "        return self.rank\n",
    "\n",
    "\n",
    "class CribbageAce(Card):\n",
    "    @property\n",
    "    def points(self) -> int:\n",
    "        return 1\n",
    "\n",
    "\n",
    "class CribbageFace(Card):\n",
    "    @property\n",
    "    def points(self) -> int:\n",
    "        return 10"
   ]
  },
  {
   "cell_type": "code",
   "execution_count": 26,
   "id": "51a62568-8c31-43dd-bd85-0978eaf991ce",
   "metadata": {},
   "outputs": [],
   "source": [
    "class CribbageHand(Hand):\n",
    "    starter: Card\n",
    "\n",
    "    def upcard(self, starter: Card) -> \"Hand\":\n",
    "        self.starter = starter\n",
    "        return self\n",
    "\n",
    "    def scoring(self) -> list[Trick]:\n",
    "        \"\"\"15's. Pairs. Runs. Right Jack.\"\"\"\n",
    "\n",
    "        def trick_iter(cards: list[CribbageCard]) -> Iterator[Trick]:\n",
    "            for subset in powerset(cards):\n",
    "                if sum(c.points for c in subset) == 15:\n",
    "                    yield CribbageTrick.Fifteen\n",
    "            for c1, c2 in itertools.combinations(cards, 2):\n",
    "                if c1.rank == c2.rank:\n",
    "                    yield CribbageTrick.Pair\n",
    "\n",
    "        def run_length(sorted_cards: list[CribbageCard]) -> int:\n",
    "            card_iter = iter(sorted_cards)\n",
    "            base = next(card_iter)\n",
    "            for offset, card in enumerate(card_iter, start=1):\n",
    "                if base.rank + offset != card.rank:\n",
    "                    break\n",
    "            return offset + 1\n",
    "\n",
    "        hand_plus_starter = cast(List[CribbageCard], self + [self.starter])\n",
    "        hand_plus_starter.sort()\n",
    "        tricks = list(trick_iter(hand_plus_starter))\n",
    "        if run_length(hand_plus_starter) == 5:\n",
    "            tricks += [CribbageTrick.Run_5]\n",
    "        elif (\n",
    "            run_length(hand_plus_starter) == 4 or run_length(hand_plus_starter[1:]) == 4\n",
    "        ):\n",
    "            tricks += [CribbageTrick.Run_4]\n",
    "        elif (\n",
    "            run_length(hand_plus_starter) == 3\n",
    "            or run_length(hand_plus_starter[1:]) == 3\n",
    "            or run_length(hand_plus_starter[2:]) == 3\n",
    "        ):\n",
    "            tricks += [CribbageTrick.Run_3]\n",
    "        right_jack = any(c.rank == 11 and c.suit == self.starter.suit for c in self)\n",
    "        if right_jack:\n",
    "            tricks += [CribbageTrick.Right_Jack]\n",
    "        return tricks"
   ]
  },
  {
   "cell_type": "code",
   "execution_count": 27,
   "id": "d4d5ee62-fd21-4a8f-9b40-d43f40253f87",
   "metadata": {},
   "outputs": [],
   "source": [
    "class CribbageFactory(CardGameFactory):\n",
    "    def make_card(self, rank: int, suit: Suit) -> \"Card\":\n",
    "        if rank == 1:\n",
    "            return CribbageAce(rank, suit)\n",
    "        elif 2 <= rank < 11:\n",
    "            return CribbageCard(rank, suit)\n",
    "        else:\n",
    "            return CribbageFace(rank, suit)\n",
    "\n",
    "    def make_hand(self, *cards: Card) -> \"Hand\":\n",
    "        return CribbageHand(*cards)"
   ]
  },
  {
   "cell_type": "code",
   "execution_count": 28,
   "id": "84a6cdfb-57ae-4ab0-9aad-e7fb7a46aaec",
   "metadata": {},
   "outputs": [],
   "source": [
    "factory = CribbageFactory()"
   ]
  },
  {
   "cell_type": "code",
   "execution_count": 29,
   "id": "161f6f9d-db83-4bf8-ba23-38f5e021ce98",
   "metadata": {},
   "outputs": [],
   "source": [
    "cards = [\n",
    "    factory.make_card(6, Suit.Clubs),\n",
    "    factory.make_card(7, Suit.Diamonds),\n",
    "    factory.make_card(8, Suit.Hearts),\n",
    "    factory.make_card(9, Suit.Spades),\n",
    "]"
   ]
  },
  {
   "cell_type": "code",
   "execution_count": 30,
   "id": "d2b0ff91-e29b-453b-99ff-9382be668b41",
   "metadata": {},
   "outputs": [],
   "source": [
    "starter = factory.make_card(5, Suit.Spades)"
   ]
  },
  {
   "cell_type": "code",
   "execution_count": 31,
   "id": "278fa2f8-ec2e-44fa-88b1-f6ac597400c4",
   "metadata": {},
   "outputs": [],
   "source": [
    "hand = factory.make_hand(*cards)"
   ]
  },
  {
   "cell_type": "markdown",
   "id": "a2c7d2f3-e358-4013-8aff-eefae7c4de91",
   "metadata": {},
   "source": [
    "### Abstract Factories in Python"
   ]
  },
  {
   "cell_type": "code",
   "execution_count": 34,
   "id": "2943aedb-97c0-450f-ac12-4bb851fd7abe",
   "metadata": {},
   "outputs": [],
   "source": [
    "class CardGameFactoryProtocol(Protocol):\n",
    "    def make_card(self, rank: int, suit: Suit) -> \"Card\":\n",
    "        ...\n",
    "\n",
    "    def make_hand(self, *cards: Card) -> \"Hand\":\n",
    "        ..."
   ]
  },
  {
   "cell_type": "markdown",
   "id": "928cb56a-f811-4c61-a5a7-7ac6a62a6db6",
   "metadata": {},
   "source": [
    "## The Composite Pattern\n",
    "\n",
    "### A Composite Example"
   ]
  },
  {
   "cell_type": "code",
   "execution_count": 37,
   "id": "e00f4dc2-fa67-4f32-a429-48942a564a8b",
   "metadata": {},
   "outputs": [],
   "source": [
    "class Node(abc.ABC):\n",
    "    def __init__(\n",
    "        self,\n",
    "        name: str,\n",
    "    ) -> None:\n",
    "        self.name = name\n",
    "        self.parent: Optional[\"Folder\"] = None\n",
    "\n",
    "    def move(self, new_place: \"Folder\") -> None:\n",
    "        previous = self.parent\n",
    "        new_place.add_child(self)\n",
    "        if previous:\n",
    "            del previous.children[self.name]\n",
    "\n",
    "    @abc.abstractmethod\n",
    "    def copy(self, new_folder: \"Folder\") -> None:\n",
    "        ...\n",
    "\n",
    "    @abc.abstractmethod\n",
    "    def remove(self) -> None:\n",
    "        ...\n",
    "\n",
    "    @abc.abstractmethod\n",
    "    def tree(self, indent: int = 0, last: bool = False, outer: bool = False) -> None:\n",
    "        ...\n",
    "\n",
    "    @abc.abstractmethod\n",
    "    def dot(self) -> None:\n",
    "        ..."
   ]
  },
  {
   "cell_type": "code",
   "execution_count": 38,
   "id": "414620c7-a446-45e6-aca8-d09bcde636e7",
   "metadata": {},
   "outputs": [],
   "source": [
    "class Folder(Node):\n",
    "    def __init__(self, name: str, children: Optional[dict[str, \"Node\"]] = None) -> None:\n",
    "        super().__init__(name)\n",
    "        self.children = children or {}\n",
    "\n",
    "    def __repr__(self) -> str:\n",
    "        return f\"Folder({self.name!r}, {self.children!r})\"\n",
    "\n",
    "    def add_child(self, node: \"Node\") -> \"Node\":\n",
    "        node.parent = self\n",
    "        return self.children.setdefault(node.name, node)\n",
    "\n",
    "    def copy(self, new_folder: \"Folder\") -> None:\n",
    "        target = cast(Folder, new_folder.add_child(Folder(self.name)))\n",
    "        for c in self.children:\n",
    "            self.children[c].copy(target)\n",
    "\n",
    "    def remove(self) -> None:\n",
    "        names = list(self.children)\n",
    "        for c in names:\n",
    "            self.children[c].remove()\n",
    "        if self.parent:\n",
    "            del self.parent.children[self.name]\n",
    "\n",
    "    def tree(self, indent: int = 0, last: bool = False, outer: bool = False) -> None:\n",
    "        indent_text = \"     \" if outer else \" |   \"\n",
    "        print((indent * indent_text) + \" +--\", self.name)\n",
    "        if self.children:\n",
    "            *first, final = list(self.children)\n",
    "            for c in first:\n",
    "                self.children[c].tree(indent + 1, last=False, outer=outer)\n",
    "            self.children[final].tree(indent + 1, last=True, outer=outer)\n",
    "\n",
    "    def dot(self) -> None:\n",
    "        for c in self.children:\n",
    "            print(f\"    n{id(self)} -> n{id(self.children[c])};\")\n",
    "            self.children[c].dot()\n",
    "        print(f'    n{id(self)} [label = \"{self.name}\"];')"
   ]
  },
  {
   "cell_type": "code",
   "execution_count": 39,
   "id": "42b61a28-adac-4827-9bfc-e9877701ff71",
   "metadata": {},
   "outputs": [],
   "source": [
    "class File(Node):\n",
    "    def __repr__(self) -> str:\n",
    "        return f\"File({self.name!r})\"\n",
    "\n",
    "    def copy(self, new_folder: \"Folder\") -> None:\n",
    "        new_folder.add_child(File(self.name))\n",
    "\n",
    "    def remove(self) -> None:\n",
    "        if self.parent:\n",
    "            del self.parent.children[self.name]\n",
    "\n",
    "    def tree(self, indent: int = 0, last: bool = False, outer: bool = False) -> None:\n",
    "        indent_text = \"     \" if outer else \" |   \"\n",
    "        print((indent * indent_text) + \" +--\", self.name)\n",
    "\n",
    "    def dot(self) -> None:\n",
    "        print(f'    n{id(self)} [shape=box,label=\"{self.name}\"];')"
   ]
  },
  {
   "cell_type": "code",
   "execution_count": null,
   "id": "a001bf8d-752d-4036-a85a-8e9610077f45",
   "metadata": {},
   "outputs": [],
   "source": []
  }
 ],
 "metadata": {
  "kernelspec": {
   "display_name": "Python 3 (ipykernel)",
   "language": "python",
   "name": "python3"
  },
  "language_info": {
   "codemirror_mode": {
    "name": "ipython",
    "version": 3
   },
   "file_extension": ".py",
   "mimetype": "text/x-python",
   "name": "python",
   "nbconvert_exporter": "python",
   "pygments_lexer": "ipython3",
   "version": "3.11.9"
  }
 },
 "nbformat": 4,
 "nbformat_minor": 5
}
