{
 "cells": [
  {
   "cell_type": "markdown",
   "id": "0d548e20-8de3-4001-bf36-3a00e43f5247",
   "metadata": {},
   "source": [
    "# When Objects are Alike\n",
    "\n",
    "### Loading Libraries"
   ]
  },
  {
   "cell_type": "code",
   "execution_count": 43,
   "id": "9d2802c3-55d1-4985-a2bf-9635a8c8b26a",
   "metadata": {},
   "outputs": [],
   "source": [
    "# Math\n",
    "import math\n",
    "\n",
    "# OS\n",
    "from typing import List, Protocol\n",
    "from __future__ import annotations\n",
    "\n",
    "# Numerical Computing\n",
    "import numpy as np\n",
    "\n",
    "# Data Manipulation\n",
    "import pandas as pd\n",
    "\n",
    "# Data Visualization\n",
    "import seaborn\n",
    "import matplotlib.pyplot as plt"
   ]
  },
  {
   "cell_type": "markdown",
   "id": "5934d8dc-a421-4930-abfe-0fa4864f58ab",
   "metadata": {},
   "source": [
    "### Basic Inheritance"
   ]
  },
  {
   "cell_type": "code",
   "execution_count": 9,
   "id": "a67c3172-4b08-4319-bbad-246557f26ccc",
   "metadata": {},
   "outputs": [],
   "source": [
    "class MySubCLass(object):\n",
    "    pass"
   ]
  },
  {
   "cell_type": "code",
   "execution_count": 10,
   "id": "258124f5-cefc-4b77-9364-57f3150d725f",
   "metadata": {},
   "outputs": [],
   "source": [
    "class Contact:\n",
    "    all_contacts: List[\"Contact\"] = []\n",
    "\n",
    "    def __init__(self, name: str, email: str) -> None:\n",
    "        self.name = name\n",
    "        self.email = email\n",
    "        Contact.all_contacts.append(self)\n",
    "\n",
    "    def __repr__(self) -> str:\n",
    "        return (\n",
    "            f\"{self.__class__.__name__}(\"\n",
    "            f\"{self.name!r}, {self.email!r}\"\n",
    "            f\")\"\n",
    "        )"
   ]
  },
  {
   "cell_type": "code",
   "execution_count": 11,
   "id": "e79a5f54-8d31-42b2-af59-5b07b748870c",
   "metadata": {},
   "outputs": [],
   "source": [
    "class Supplier(Contact):\n",
    "    def order(self, order: \"Order\") -> None:\n",
    "        print(\n",
    "            \"If this were a real system we would send \"\n",
    "            f\"'{order}' order to '{self.name}'\"\n",
    "            )"
   ]
  },
  {
   "cell_type": "code",
   "execution_count": 13,
   "id": "2efc39f6-3669-48ce-bf6d-ee4c695a145a",
   "metadata": {},
   "outputs": [],
   "source": [
    "class ContactList(list[\"Contact\"]):\n",
    "    def search(self, name: str) -> list[\"Contact\"]:\n",
    "\n",
    "        matching_contacts: list[\"Contact\"] = []\n",
    "        for contact in self:\n",
    "            if name in contact.name:\n",
    "                matching_contacts.append(contact)\n",
    "        return matching_contacts\n",
    "\n",
    "class Contact:\n",
    "    all_contacts = ContactList()\n",
    "\n",
    "    def __init__(self, name: str, email: str) -> None:\n",
    "        self.name = name\n",
    "        self.email = email\n",
    "        Contact.all_contacts.append(self)\n",
    "\n",
    "    def __repr__(self) -> str:\n",
    "        return (\n",
    "            f\"{self.__class__.__name__}(\"\n",
    "            f\"{self.name!r}, {self.email!r}\" f\")\"\n",
    "        )"
   ]
  },
  {
   "cell_type": "code",
   "execution_count": 14,
   "id": "3428c306-2399-482d-8167-0526a8a5dce5",
   "metadata": {},
   "outputs": [],
   "source": [
    "c1 = Contact(\"John A\", \"johna@example.net\")\n",
    "c2 = Contact(\"John B\", \"johnb@example.net\")\n",
    "c3 = Contact(\"Jenna C\", \"cutty@sark.io\")"
   ]
  },
  {
   "cell_type": "code",
   "execution_count": 15,
   "id": "44e64996-2335-4156-990d-12f123792236",
   "metadata": {},
   "outputs": [
    {
     "data": {
      "text/plain": [
       "['John A', 'John B']"
      ]
     },
     "execution_count": 15,
     "metadata": {},
     "output_type": "execute_result"
    }
   ],
   "source": [
    "[c.name for c in Contact.all_contacts.search('John')]"
   ]
  },
  {
   "cell_type": "code",
   "execution_count": 16,
   "id": "955728a6-c7a4-43dd-a425-bbe9bc37655c",
   "metadata": {},
   "outputs": [
    {
     "data": {
      "text/plain": [
       "True"
      ]
     },
     "execution_count": 16,
     "metadata": {},
     "output_type": "execute_result"
    }
   ],
   "source": [
    "[] == list()"
   ]
  },
  {
   "cell_type": "code",
   "execution_count": 26,
   "id": "b10b5d95-8192-444f-a74d-45d9d44039ee",
   "metadata": {},
   "outputs": [],
   "source": [
    "# class LongNameDict(dict[str, int]):\n",
    "#     def longest_key(self) -> Optional[str]:\n",
    "#         \"\"\"In effect, max(self, key=len), but less obscure\"\"\"\n",
    "#         longest = None\n",
    "#         for key in self:\n",
    "#             if longest in None or len(key) > len(longest):\n",
    "#                 longest = key\n",
    "#         return longest"
   ]
  },
  {
   "cell_type": "markdown",
   "id": "0c351226-30dc-4dec-bf2b-30118c93ff91",
   "metadata": {},
   "source": [
    "#### Refactored Snippet"
   ]
  },
  {
   "cell_type": "code",
   "execution_count": 32,
   "id": "e0b75fff-9ac5-49df-9f9d-ae7d2d952295",
   "metadata": {},
   "outputs": [],
   "source": [
    "class LongNameDict(dict):\n",
    "    def longest_key(self):\n",
    "        longest = None\n",
    "        for key in self:\n",
    "            if longest is None or len(key) > len(longest):\n",
    "                longest = key\n",
    "        return longest"
   ]
  },
  {
   "cell_type": "code",
   "execution_count": 33,
   "id": "954704ca-0266-47d9-a194-59445704f2df",
   "metadata": {},
   "outputs": [],
   "source": [
    "articles_read = LongNameDict()"
   ]
  },
  {
   "cell_type": "code",
   "execution_count": 34,
   "id": "56c8ed0d-207f-479f-a81a-d3d5aa69cdbe",
   "metadata": {},
   "outputs": [],
   "source": [
    "articles_read['lucy'] = 42\n",
    "articles_read['c_c_phillips'] = 6\n",
    "articles_read['steve'] = 7"
   ]
  },
  {
   "cell_type": "code",
   "execution_count": 35,
   "id": "31ddfa02-0acc-47a9-98f8-88c40ca8dccb",
   "metadata": {},
   "outputs": [
    {
     "data": {
      "text/plain": [
       "'c_c_phillips'"
      ]
     },
     "execution_count": 35,
     "metadata": {},
     "output_type": "execute_result"
    }
   ],
   "source": [
    "articles_read.longest_key()"
   ]
  },
  {
   "cell_type": "code",
   "execution_count": 36,
   "id": "b6d326f4-35a7-4f29-8386-7e73781fec8b",
   "metadata": {},
   "outputs": [
    {
     "data": {
      "text/plain": [
       "'c_c_phillips'"
      ]
     },
     "execution_count": 36,
     "metadata": {},
     "output_type": "execute_result"
    }
   ],
   "source": [
    "max(articles_read, key=len)"
   ]
  },
  {
   "cell_type": "markdown",
   "id": "f294d050-0a64-4dc8-a51a-7bc1ee5b0b3d",
   "metadata": {},
   "source": [
    "### Overriding & Super"
   ]
  },
  {
   "cell_type": "code",
   "execution_count": 37,
   "id": "f87e9995-f6c2-431f-90b4-b84ab5325c8a",
   "metadata": {},
   "outputs": [],
   "source": [
    "class Friend(Contact):\n",
    "    def __inint__(self, name: str, email: str, phone: str) -> None:\n",
    "        self.name = name\n",
    "        sef.email = email\n",
    "        self.phone = phone"
   ]
  },
  {
   "cell_type": "code",
   "execution_count": 38,
   "id": "3c430506-2a7c-47a9-b49b-d2bb1077eaa5",
   "metadata": {},
   "outputs": [],
   "source": [
    "class Friend(Contact):\n",
    "    def __init__(self, name: str, email: str, phone: str) -> None:\n",
    "        super().__init__(name, email)\n",
    "        self.phone = phone"
   ]
  },
  {
   "cell_type": "code",
   "execution_count": 39,
   "id": "eaf8130c-7114-441c-9986-8f0c13494e66",
   "metadata": {},
   "outputs": [],
   "source": [
    "f = Friend(\"Dusty\", \"Dusty@private.com\", \"555-1212\")"
   ]
  },
  {
   "cell_type": "code",
   "execution_count": 41,
   "id": "c431101a-7476-4b81-bbee-d1157b04dc56",
   "metadata": {},
   "outputs": [
    {
     "data": {
      "text/plain": [
       "[Contact('John A', 'johna@example.net'),\n",
       " Contact('John B', 'johnb@example.net'),\n",
       " Contact('Jenna C', 'cutty@sark.io'),\n",
       " Friend('Dusty', 'Dusty@private.com')]"
      ]
     },
     "execution_count": 41,
     "metadata": {},
     "output_type": "execute_result"
    }
   ],
   "source": [
    "Contact.all_contacts"
   ]
  },
  {
   "cell_type": "markdown",
   "id": "42120033-b004-489e-be0b-f8119b72de90",
   "metadata": {},
   "source": [
    "### Multiple Inheritance"
   ]
  },
  {
   "cell_type": "code",
   "execution_count": 44,
   "id": "bd9ed13c-5848-474d-a8cb-bb0312b647ab",
   "metadata": {},
   "outputs": [],
   "source": [
    "class Emailable(Protocol):\n",
    "    email: str\n",
    "\n",
    "class MailSender(Emailable):\n",
    "    def send_mail(self, message: str) -> None:\n",
    "        print(f\"Sending mail to {self.email=}\")\n",
    "        # Add e-mail logic here"
   ]
  },
  {
   "cell_type": "code",
   "execution_count": 45,
   "id": "a681a76d-c3ea-49cf-a0e9-5d01cdd3ad05",
   "metadata": {},
   "outputs": [],
   "source": [
    "class EmailableContact(Contact, MailSender):\n",
    "    pass"
   ]
  },
  {
   "cell_type": "code",
   "execution_count": 46,
   "id": "678b04ac-b9fd-42d9-a4a3-de20d60071c9",
   "metadata": {},
   "outputs": [],
   "source": [
    "e = EmailableContact(\"John B\", \"johnb@slooop.net\")"
   ]
  },
  {
   "cell_type": "code",
   "execution_count": 47,
   "id": "283a7b73-8acb-463a-9a2a-b2c230057095",
   "metadata": {},
   "outputs": [
    {
     "data": {
      "text/plain": [
       "[Contact('John A', 'johna@example.net'),\n",
       " Contact('John B', 'johnb@example.net'),\n",
       " Contact('Jenna C', 'cutty@sark.io'),\n",
       " Friend('Dusty', 'Dusty@private.com'),\n",
       " EmailableContact('John B', 'johnb@slooop.net')]"
      ]
     },
     "execution_count": 47,
     "metadata": {},
     "output_type": "execute_result"
    }
   ],
   "source": [
    "Contact.all_contacts"
   ]
  },
  {
   "cell_type": "code",
   "execution_count": 48,
   "id": "c03ff00d-587d-45fb-84d1-a3f536c95adc",
   "metadata": {},
   "outputs": [
    {
     "name": "stdout",
     "output_type": "stream",
     "text": [
      "Sending mail to self.email='johnb@slooop.net'\n"
     ]
    }
   ],
   "source": [
    "e.send_mail(\"Hello, test e-mail here\")"
   ]
  },
  {
   "cell_type": "code",
   "execution_count": null,
   "id": "c7feaab2-dcf5-4dfb-9d36-97c978156ce6",
   "metadata": {},
   "outputs": [],
   "source": [
    "class AddressHolder:\n",
    "    def __init__(self, street: str, city: str, state: str, cod"
   ]
  }
 ],
 "metadata": {
  "kernelspec": {
   "display_name": "Python 3 (ipykernel)",
   "language": "python",
   "name": "python3"
  },
  "language_info": {
   "codemirror_mode": {
    "name": "ipython",
    "version": 3
   },
   "file_extension": ".py",
   "mimetype": "text/x-python",
   "name": "python",
   "nbconvert_exporter": "python",
   "pygments_lexer": "ipython3",
   "version": "3.11.9"
  }
 },
 "nbformat": 4,
 "nbformat_minor": 5
}
