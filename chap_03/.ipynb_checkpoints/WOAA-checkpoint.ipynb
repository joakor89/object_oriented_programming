{
 "cells": [
  {
   "cell_type": "markdown",
   "id": "0d548e20-8de3-4001-bf36-3a00e43f5247",
   "metadata": {},
   "source": [
    "# When Objects are Alike\n",
    "\n",
    "### Loading Libraries"
   ]
  },
  {
   "cell_type": "code",
   "execution_count": 51,
   "id": "9d2802c3-55d1-4985-a2bf-9635a8c8b26a",
   "metadata": {},
   "outputs": [],
   "source": [
    "# Math\n",
    "import math\n",
    "\n",
    "# OS\n",
    "from typing import List, Protocol\n",
    "from __future__ import annotations\n",
    "\n",
    "# Numerical Computing\n",
    "import numpy as np\n",
    "\n",
    "# Data Manipulation\n",
    "import pandas as pd\n",
    "\n",
    "# Data Visualization\n",
    "import seaborn\n",
    "import matplotlib.pyplot as plt"
   ]
  },
  {
   "cell_type": "markdown",
   "id": "5934d8dc-a421-4930-abfe-0fa4864f58ab",
   "metadata": {},
   "source": [
    "### Basic Inheritance"
   ]
  },
  {
   "cell_type": "code",
   "execution_count": 52,
   "id": "a67c3172-4b08-4319-bbad-246557f26ccc",
   "metadata": {},
   "outputs": [],
   "source": [
    "class MySubCLass(object):\n",
    "    pass"
   ]
  },
  {
   "cell_type": "code",
   "execution_count": 53,
   "id": "258124f5-cefc-4b77-9364-57f3150d725f",
   "metadata": {},
   "outputs": [],
   "source": [
    "class Contact:\n",
    "    all_contacts: List[\"Contact\"] = []\n",
    "\n",
    "    def __init__(self, name: str, email: str) -> None:\n",
    "        self.name = name\n",
    "        self.email = email\n",
    "        Contact.all_contacts.append(self)\n",
    "\n",
    "    def __repr__(self) -> str:\n",
    "        return (\n",
    "            f\"{self.__class__.__name__}(\"\n",
    "            f\"{self.name!r}, {self.email!r}\"\n",
    "            f\")\"\n",
    "        )"
   ]
  },
  {
   "cell_type": "code",
   "execution_count": 54,
   "id": "e79a5f54-8d31-42b2-af59-5b07b748870c",
   "metadata": {},
   "outputs": [],
   "source": [
    "class Supplier(Contact):\n",
    "    def order(self, order: \"Order\") -> None:\n",
    "        print(\n",
    "            \"If this were a real system we would send \"\n",
    "            f\"'{order}' order to '{self.name}'\"\n",
    "            )"
   ]
  },
  {
   "cell_type": "code",
   "execution_count": 55,
   "id": "2efc39f6-3669-48ce-bf6d-ee4c695a145a",
   "metadata": {},
   "outputs": [],
   "source": [
    "class ContactList(list[\"Contact\"]):\n",
    "    def search(self, name: str) -> list[\"Contact\"]:\n",
    "\n",
    "        matching_contacts: list[\"Contact\"] = []\n",
    "        for contact in self:\n",
    "            if name in contact.name:\n",
    "                matching_contacts.append(contact)\n",
    "        return matching_contacts\n",
    "\n",
    "class Contact:\n",
    "    all_contacts = ContactList()\n",
    "\n",
    "    def __init__(self, name: str, email: str) -> None:\n",
    "        self.name = name\n",
    "        self.email = email\n",
    "        Contact.all_contacts.append(self)\n",
    "\n",
    "    def __repr__(self) -> str:\n",
    "        return (\n",
    "            f\"{self.__class__.__name__}(\"\n",
    "            f\"{self.name!r}, {self.email!r}\" f\")\"\n",
    "        )"
   ]
  },
  {
   "cell_type": "code",
   "execution_count": 56,
   "id": "3428c306-2399-482d-8167-0526a8a5dce5",
   "metadata": {},
   "outputs": [],
   "source": [
    "c1 = Contact(\"John A\", \"johna@example.net\")\n",
    "c2 = Contact(\"John B\", \"johnb@example.net\")\n",
    "c3 = Contact(\"Jenna C\", \"cutty@sark.io\")"
   ]
  },
  {
   "cell_type": "code",
   "execution_count": 57,
   "id": "44e64996-2335-4156-990d-12f123792236",
   "metadata": {},
   "outputs": [
    {
     "data": {
      "text/plain": [
       "['John A', 'John B']"
      ]
     },
     "execution_count": 57,
     "metadata": {},
     "output_type": "execute_result"
    }
   ],
   "source": [
    "[c.name for c in Contact.all_contacts.search('John')]"
   ]
  },
  {
   "cell_type": "code",
   "execution_count": 58,
   "id": "955728a6-c7a4-43dd-a425-bbe9bc37655c",
   "metadata": {},
   "outputs": [
    {
     "data": {
      "text/plain": [
       "True"
      ]
     },
     "execution_count": 58,
     "metadata": {},
     "output_type": "execute_result"
    }
   ],
   "source": [
    "[] == list()"
   ]
  },
  {
   "cell_type": "code",
   "execution_count": 59,
   "id": "b10b5d95-8192-444f-a74d-45d9d44039ee",
   "metadata": {},
   "outputs": [],
   "source": [
    "# class LongNameDict(dict[str, int]):\n",
    "#     def longest_key(self) -> Optional[str]:\n",
    "#         \"\"\"In effect, max(self, key=len), but less obscure\"\"\"\n",
    "#         longest = None\n",
    "#         for key in self:\n",
    "#             if longest in None or len(key) > len(longest):\n",
    "#                 longest = key\n",
    "#         return longest"
   ]
  },
  {
   "cell_type": "markdown",
   "id": "0c351226-30dc-4dec-bf2b-30118c93ff91",
   "metadata": {},
   "source": [
    "#### Refactored Snippet"
   ]
  },
  {
   "cell_type": "code",
   "execution_count": 60,
   "id": "e0b75fff-9ac5-49df-9f9d-ae7d2d952295",
   "metadata": {},
   "outputs": [],
   "source": [
    "class LongNameDict(dict):\n",
    "    def longest_key(self):\n",
    "        longest = None\n",
    "        for key in self:\n",
    "            if longest is None or len(key) > len(longest):\n",
    "                longest = key\n",
    "        return longest"
   ]
  },
  {
   "cell_type": "code",
   "execution_count": 61,
   "id": "954704ca-0266-47d9-a194-59445704f2df",
   "metadata": {},
   "outputs": [],
   "source": [
    "articles_read = LongNameDict()"
   ]
  },
  {
   "cell_type": "code",
   "execution_count": 62,
   "id": "56c8ed0d-207f-479f-a81a-d3d5aa69cdbe",
   "metadata": {},
   "outputs": [],
   "source": [
    "articles_read['lucy'] = 42\n",
    "articles_read['c_c_phillips'] = 6\n",
    "articles_read['steve'] = 7"
   ]
  },
  {
   "cell_type": "code",
   "execution_count": 63,
   "id": "31ddfa02-0acc-47a9-98f8-88c40ca8dccb",
   "metadata": {},
   "outputs": [
    {
     "data": {
      "text/plain": [
       "'c_c_phillips'"
      ]
     },
     "execution_count": 63,
     "metadata": {},
     "output_type": "execute_result"
    }
   ],
   "source": [
    "articles_read.longest_key()"
   ]
  },
  {
   "cell_type": "code",
   "execution_count": 64,
   "id": "b6d326f4-35a7-4f29-8386-7e73781fec8b",
   "metadata": {},
   "outputs": [
    {
     "data": {
      "text/plain": [
       "'c_c_phillips'"
      ]
     },
     "execution_count": 64,
     "metadata": {},
     "output_type": "execute_result"
    }
   ],
   "source": [
    "max(articles_read, key=len)"
   ]
  },
  {
   "cell_type": "markdown",
   "id": "f294d050-0a64-4dc8-a51a-7bc1ee5b0b3d",
   "metadata": {},
   "source": [
    "### Overriding & Super"
   ]
  },
  {
   "cell_type": "code",
   "execution_count": 65,
   "id": "f87e9995-f6c2-431f-90b4-b84ab5325c8a",
   "metadata": {},
   "outputs": [],
   "source": [
    "class Friend(Contact):\n",
    "    def __inint__(self, name: str, email: str, phone: str) -> None:\n",
    "        self.name = name\n",
    "        sef.email = email\n",
    "        self.phone = phone"
   ]
  },
  {
   "cell_type": "code",
   "execution_count": 66,
   "id": "3c430506-2a7c-47a9-b49b-d2bb1077eaa5",
   "metadata": {},
   "outputs": [],
   "source": [
    "class Friend(Contact):\n",
    "    def __init__(self, name: str, email: str, phone: str) -> None:\n",
    "        super().__init__(name, email)\n",
    "        self.phone = phone"
   ]
  },
  {
   "cell_type": "code",
   "execution_count": 67,
   "id": "eaf8130c-7114-441c-9986-8f0c13494e66",
   "metadata": {},
   "outputs": [],
   "source": [
    "f = Friend(\"Dusty\", \"Dusty@private.com\", \"555-1212\")"
   ]
  },
  {
   "cell_type": "code",
   "execution_count": 68,
   "id": "c431101a-7476-4b81-bbee-d1157b04dc56",
   "metadata": {},
   "outputs": [
    {
     "data": {
      "text/plain": [
       "[Contact('John A', 'johna@example.net'),\n",
       " Contact('John B', 'johnb@example.net'),\n",
       " Contact('Jenna C', 'cutty@sark.io'),\n",
       " Friend('Dusty', 'Dusty@private.com')]"
      ]
     },
     "execution_count": 68,
     "metadata": {},
     "output_type": "execute_result"
    }
   ],
   "source": [
    "Contact.all_contacts"
   ]
  },
  {
   "cell_type": "markdown",
   "id": "42120033-b004-489e-be0b-f8119b72de90",
   "metadata": {},
   "source": [
    "### Multiple Inheritance"
   ]
  },
  {
   "cell_type": "code",
   "execution_count": 69,
   "id": "bd9ed13c-5848-474d-a8cb-bb0312b647ab",
   "metadata": {},
   "outputs": [],
   "source": [
    "class Emailable(Protocol):\n",
    "    email: str\n",
    "\n",
    "class MailSender(Emailable):\n",
    "    def send_mail(self, message: str) -> None:\n",
    "        print(f\"Sending mail to {self.email=}\")\n",
    "        # Add e-mail logic here"
   ]
  },
  {
   "cell_type": "code",
   "execution_count": 70,
   "id": "a681a76d-c3ea-49cf-a0e9-5d01cdd3ad05",
   "metadata": {},
   "outputs": [],
   "source": [
    "class EmailableContact(Contact, MailSender):\n",
    "    pass"
   ]
  },
  {
   "cell_type": "code",
   "execution_count": 71,
   "id": "678b04ac-b9fd-42d9-a4a3-de20d60071c9",
   "metadata": {},
   "outputs": [],
   "source": [
    "e = EmailableContact(\"John B\", \"johnb@slooop.net\")"
   ]
  },
  {
   "cell_type": "code",
   "execution_count": 72,
   "id": "283a7b73-8acb-463a-9a2a-b2c230057095",
   "metadata": {},
   "outputs": [
    {
     "data": {
      "text/plain": [
       "[Contact('John A', 'johna@example.net'),\n",
       " Contact('John B', 'johnb@example.net'),\n",
       " Contact('Jenna C', 'cutty@sark.io'),\n",
       " Friend('Dusty', 'Dusty@private.com'),\n",
       " EmailableContact('John B', 'johnb@slooop.net')]"
      ]
     },
     "execution_count": 72,
     "metadata": {},
     "output_type": "execute_result"
    }
   ],
   "source": [
    "Contact.all_contacts"
   ]
  },
  {
   "cell_type": "code",
   "execution_count": 73,
   "id": "c03ff00d-587d-45fb-84d1-a3f536c95adc",
   "metadata": {},
   "outputs": [
    {
     "name": "stdout",
     "output_type": "stream",
     "text": [
      "Sending mail to self.email='johnb@slooop.net'\n"
     ]
    }
   ],
   "source": [
    "e.send_mail(\"Hello, test e-mail here\")"
   ]
  },
  {
   "cell_type": "code",
   "execution_count": 74,
   "id": "c7feaab2-dcf5-4dfb-9d36-97c978156ce6",
   "metadata": {},
   "outputs": [],
   "source": [
    "class AddressHolder:\n",
    "    def __init__(self, street: str, city: str, state: str, code: str) -> None:\n",
    "        self.street = street\n",
    "        self.city = city\n",
    "        self.state = state\n",
    "        self.code = code"
   ]
  },
  {
   "cell_type": "markdown",
   "id": "720e71d3-344a-44bf-a42f-e7b754123e8b",
   "metadata": {},
   "source": [
    "### The Diamong Problem"
   ]
  },
  {
   "cell_type": "code",
   "execution_count": 75,
   "id": "9b064c8d-620e-44fe-bb73-a9fc06815297",
   "metadata": {},
   "outputs": [],
   "source": [
    "class Friend(Contact, AddressHolder):\n",
    "    def __init__(\n",
    "        self,\n",
    "        name: str,\n",
    "        email: str,\n",
    "        phone: str,\n",
    "        street: str,\n",
    "        city: str,\n",
    "        state: str,\n",
    "        code: str,\n",
    "    ) -> None:\n",
    "        Contact.__init__(self, name, email)\n",
    "        AddressHolder.__init__(self, street, city, state, code)\n",
    "        self.phone = phone"
   ]
  },
  {
   "cell_type": "markdown",
   "id": "5d206d7d-ca7b-4f8f-a528-86587cdc3234",
   "metadata": {},
   "source": [
    "#### Turning Diagram's into Code: As follow"
   ]
  },
  {
   "cell_type": "code",
   "execution_count": 76,
   "id": "f28e4718-5d71-4f71-aa1d-db657bcaf675",
   "metadata": {},
   "outputs": [],
   "source": [
    "class BaseClass:\n",
    "    num_base_calls = 0\n",
    "\n",
    "    def call_me(self) -> None:\n",
    "        print(\"Calling method on BaseClass\")\n",
    "        self.num_base_calls += 1\n",
    "\n",
    "class LeftSubClass(BaseClass):\n",
    "    num_left_calls = 0\n",
    "\n",
    "    def call_me(self) -> None:\n",
    "        BaseClass.call_me(self)\n",
    "        print(\"Calling method on LeftSubclass\")\n",
    "        self.num_left_calls += 1\n",
    "\n",
    "class RightSubClass(BaseClass):\n",
    "    num_right_calls = 0\n",
    "\n",
    "    def call_me(self) -> None:\n",
    "        BaseClass.call_me(self)\n",
    "        print(\"Calling method on RightSubclass\")\n",
    "        self.num_right_calls += 1\n",
    "\n",
    "class Subclass(LeftSubClass, RightSubClass):\n",
    "    num_sub_calls = 0\n",
    "\n",
    "    def call_me(self) -> None:\n",
    "        LeftSubClass.call_me(self)\n",
    "        RightSubClass.call_me(self)\n",
    "        print(\"Calling method of Subclass\")\n",
    "        self.num_sub_calls += 1"
   ]
  },
  {
   "cell_type": "code",
   "execution_count": 77,
   "id": "903d6dd4-2db7-4f0a-8ae1-de35c7d7f041",
   "metadata": {},
   "outputs": [],
   "source": [
    "s = Subclass()"
   ]
  },
  {
   "cell_type": "code",
   "execution_count": 78,
   "id": "989162f8-04cd-4ca2-9f5f-ad2ea52b246a",
   "metadata": {},
   "outputs": [
    {
     "name": "stdout",
     "output_type": "stream",
     "text": [
      "Calling method on BaseClass\n",
      "Calling method on LeftSubclass\n",
      "Calling method on BaseClass\n",
      "Calling method on RightSubclass\n",
      "Calling method of Subclass\n"
     ]
    }
   ],
   "source": [
    "s.call_me()"
   ]
  },
  {
   "cell_type": "code",
   "execution_count": 79,
   "id": "b909a432-c6c4-46b9-a55d-cfbba5a0da6e",
   "metadata": {},
   "outputs": [
    {
     "name": "stdout",
     "output_type": "stream",
     "text": [
      "1 1 1 2\n"
     ]
    }
   ],
   "source": [
    "print(\n",
    "    s.num_sub_calls,\n",
    "    s.num_left_calls,\n",
    "    s.num_right_calls,\n",
    "    s.num_base_calls)"
   ]
  },
  {
   "cell_type": "code",
   "execution_count": 80,
   "id": "4fb775f5-acd9-48ad-9fa6-918cfb50776b",
   "metadata": {},
   "outputs": [],
   "source": [
    "class BaseClass:\n",
    "    num_base_calls = 0\n",
    "\n",
    "    def call_me(self) -> None:\n",
    "        print(\"Calling method on BaseClass\")\n",
    "        self.num_base_calls += 1\n",
    "\n",
    "class LeftSubClass_S(BaseClass):\n",
    "    num_left_calls = 0\n",
    "\n",
    "    def call_me(self) -> None:\n",
    "        super().call_me()\n",
    "        print(\"Calling method on LeftSubclass_S\")\n",
    "        self.num_left_calls += 1\n",
    "\n",
    "class RightSubClass_S(BaseClass):\n",
    "    num_right_calls = 0\n",
    "\n",
    "    def call_me(self) -> None:\n",
    "        super().call_me()\n",
    "        print(\"Calling method on RightSubclass_S\")\n",
    "        self.num_right_calls += 1\n",
    "\n",
    "class Subclass_S(LeftSubClass_S, RightSubClass_S):\n",
    "    num_sub_calls = 0\n",
    "\n",
    "    def call_me(self) -> None:\n",
    "        super().call_me()\n",
    "        print(\"Calling method of Subclass_S\")\n",
    "        self.num_sub_calls += 1"
   ]
  },
  {
   "cell_type": "code",
   "execution_count": 83,
   "id": "fec90ace-8cd1-4860-bc64-6e735d9001c5",
   "metadata": {},
   "outputs": [],
   "source": [
    "ss = Subclass_S()"
   ]
  },
  {
   "cell_type": "code",
   "execution_count": 84,
   "id": "36ac3fe6-d31e-47e9-9089-bf7137217aaf",
   "metadata": {},
   "outputs": [
    {
     "name": "stdout",
     "output_type": "stream",
     "text": [
      "Calling method on BaseClass\n",
      "Calling method on RightSubclass_S\n",
      "Calling method on LeftSubclass_S\n",
      "Calling method of Subclass_S\n"
     ]
    }
   ],
   "source": [
    "ss.call_me()"
   ]
  },
  {
   "cell_type": "code",
   "execution_count": 85,
   "id": "328c7fef-fe9b-4fa8-af44-b4b4a182e360",
   "metadata": {},
   "outputs": [
    {
     "name": "stdout",
     "output_type": "stream",
     "text": [
      "(<class '__main__.Subclass_S'>,\n",
      " <class '__main__.LeftSubClass_S'>,\n",
      " <class '__main__.RightSubClass_S'>,\n",
      " <class '__main__.BaseClass'>,\n",
      " <class 'object'>)\n"
     ]
    }
   ],
   "source": [
    "from pprint import pprint\n",
    "\n",
    "pprint(Subclass_S.__mro__)"
   ]
  },
  {
   "cell_type": "markdown",
   "id": "b20de59d-7ebc-41cd-bccf-1c7dd5b51373",
   "metadata": {},
   "source": [
    "### Different Sets of Arguments"
   ]
  },
  {
   "cell_type": "code",
   "execution_count": 87,
   "id": "36711db6-8df8-42bb-b628-93715ce9af1b",
   "metadata": {},
   "outputs": [],
   "source": [
    "# Contact.__init__(self, name, email)\n",
    "\n",
    "# AddressHolder.__init__(self, street, city, state, code)"
   ]
  },
  {
   "cell_type": "code",
   "execution_count": 89,
   "id": "3ba4ab7b-1581-4843-a58b-60e73ed09427",
   "metadata": {},
   "outputs": [],
   "source": [
    "class Contact:\n",
    "    all_contacts = ContactList()\n",
    "\n",
    "    def __init__(self, /, name: str = \"\", email: str = \"\", **kwargs: Any) -> None:\n",
    "        super().__init__(**kwargs) # type: ignore [call-arg]\n",
    "        self.name = name\n",
    "        self.email = email\n",
    "        self.all_contacts.append(self)\n",
    "\n",
    "    def __repr__(self) -> str:\n",
    "        return f\"{self.__class__.__name__}(\" f\"{self.name!r},{self.email!r}\" f\")\"\n",
    "\n",
    "class AddressHolder:\n",
    "    def __init__(\n",
    "        self,\n",
    "        /,\n",
    "        street: str = \"\",\n",
    "        city: str = \"\",\n",
    "        state: str = \"\",\n",
    "        code: str = \"\",\n",
    "        **kwargs: Any,\n",
    "    ) -> None:\n",
    "        super().__init__(**kwargs) # type: ignore [call-arg]\n",
    "        self.street = street\n",
    "        self.city = city\n",
    "        self.state = state\n",
    "        self.code = code\n",
    "\n",
    "class Friend(Contact, AddressHolder):\n",
    "    def __init__(self, /, phone: str = \"\", **kwargs: Any) -> None:\n",
    "        super().__init__(**kwargs)\n",
    "        self.phone = phone"
   ]
  },
  {
   "cell_type": "code",
   "execution_count": null,
   "id": "da72dd94-45f5-45f6-b126-09c73ecd064c",
   "metadata": {},
   "outputs": [],
   "source": []
  },
  {
   "cell_type": "code",
   "execution_count": null,
   "id": "0ce7fe70-8f62-4e95-aae5-ced71cbda9b6",
   "metadata": {},
   "outputs": [],
   "source": []
  },
  {
   "cell_type": "code",
   "execution_count": null,
   "id": "42822028-aa1d-4c7f-8edd-447fc7a2dae4",
   "metadata": {},
   "outputs": [],
   "source": []
  },
  {
   "cell_type": "code",
   "execution_count": null,
   "id": "2355fce5-5793-4168-b3e8-313b60e86f2b",
   "metadata": {},
   "outputs": [],
   "source": []
  },
  {
   "cell_type": "code",
   "execution_count": null,
   "id": "b79634bd-02d2-496e-92cf-492e14e705cf",
   "metadata": {},
   "outputs": [],
   "source": []
  },
  {
   "cell_type": "code",
   "execution_count": null,
   "id": "b5d2f844-fd17-4c98-a914-eb8b16c8a016",
   "metadata": {},
   "outputs": [],
   "source": []
  },
  {
   "cell_type": "code",
   "execution_count": null,
   "id": "d194c4b1-7a53-421a-b7f4-5dbbf7cd8f76",
   "metadata": {},
   "outputs": [],
   "source": []
  },
  {
   "cell_type": "code",
   "execution_count": null,
   "id": "40a07bfd-94de-4c3d-b5da-6797d4fe6d94",
   "metadata": {},
   "outputs": [],
   "source": []
  },
  {
   "cell_type": "code",
   "execution_count": null,
   "id": "a5bdb9f8-c243-4eb0-8fbb-63a1460d3116",
   "metadata": {},
   "outputs": [],
   "source": []
  },
  {
   "cell_type": "code",
   "execution_count": null,
   "id": "5417c9e6-063c-446b-accc-391f185feb1d",
   "metadata": {},
   "outputs": [],
   "source": []
  },
  {
   "cell_type": "code",
   "execution_count": null,
   "id": "09dc0edd-b2df-44bf-a92a-570abedcbec7",
   "metadata": {},
   "outputs": [],
   "source": []
  },
  {
   "cell_type": "code",
   "execution_count": null,
   "id": "e416d286-6232-4bcc-ab1f-ec76570e1380",
   "metadata": {},
   "outputs": [],
   "source": []
  },
  {
   "cell_type": "code",
   "execution_count": null,
   "id": "bc99f554-2c13-4ee1-b1b6-f9c99f555583",
   "metadata": {},
   "outputs": [],
   "source": []
  },
  {
   "cell_type": "code",
   "execution_count": null,
   "id": "7fdc4eba-6639-435e-ac20-dc71a2b34edc",
   "metadata": {},
   "outputs": [],
   "source": []
  },
  {
   "cell_type": "code",
   "execution_count": null,
   "id": "fa826a05-23dd-4712-b1a3-3fdc440b32bd",
   "metadata": {},
   "outputs": [],
   "source": []
  },
  {
   "cell_type": "code",
   "execution_count": null,
   "id": "fafa505d-c117-403f-b762-a4f2ca27366d",
   "metadata": {},
   "outputs": [],
   "source": []
  },
  {
   "cell_type": "code",
   "execution_count": null,
   "id": "5e9e673a-d0d6-47a9-9342-1e879537e4d0",
   "metadata": {},
   "outputs": [],
   "source": []
  },
  {
   "cell_type": "code",
   "execution_count": null,
   "id": "9763d3a8-b8b0-44d8-b6e9-386a4b9d1223",
   "metadata": {},
   "outputs": [],
   "source": []
  },
  {
   "cell_type": "code",
   "execution_count": null,
   "id": "4787a502-242c-42f6-a6b5-631d5c5cd227",
   "metadata": {},
   "outputs": [],
   "source": []
  },
  {
   "cell_type": "code",
   "execution_count": null,
   "id": "515f2d99-d5b9-4752-96b5-ec27c229accd",
   "metadata": {},
   "outputs": [],
   "source": []
  },
  {
   "cell_type": "code",
   "execution_count": null,
   "id": "6e675d61-db2e-4672-8059-391d7474ee55",
   "metadata": {},
   "outputs": [],
   "source": []
  },
  {
   "cell_type": "code",
   "execution_count": null,
   "id": "e8bb60e8-aab7-443a-94cc-4fa3fc843e45",
   "metadata": {},
   "outputs": [],
   "source": []
  },
  {
   "cell_type": "code",
   "execution_count": null,
   "id": "79cfc281-8b81-4408-957b-3190dd3cf27e",
   "metadata": {},
   "outputs": [],
   "source": []
  },
  {
   "cell_type": "code",
   "execution_count": null,
   "id": "0aad1098-b339-4dc4-9ff6-f4e5c4e42f0a",
   "metadata": {},
   "outputs": [],
   "source": []
  },
  {
   "cell_type": "code",
   "execution_count": null,
   "id": "951cc1a1-a470-448d-9da9-1db9435421e5",
   "metadata": {},
   "outputs": [],
   "source": []
  }
 ],
 "metadata": {
  "kernelspec": {
   "display_name": "Python 3 (ipykernel)",
   "language": "python",
   "name": "python3"
  },
  "language_info": {
   "codemirror_mode": {
    "name": "ipython",
    "version": 3
   },
   "file_extension": ".py",
   "mimetype": "text/x-python",
   "name": "python",
   "nbconvert_exporter": "python",
   "pygments_lexer": "ipython3",
   "version": "3.11.9"
  }
 },
 "nbformat": 4,
 "nbformat_minor": 5
}
