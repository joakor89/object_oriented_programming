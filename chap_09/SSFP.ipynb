{
 "cells": [
  {
   "cell_type": "markdown",
   "id": "516d51ed-7dba-4184-8e51-beec44eb1832",
   "metadata": {},
   "source": [
    "# Strings, Serialization & File Paths\n",
    "\n",
    "### Loading Libraries"
   ]
  },
  {
   "cell_type": "code",
   "execution_count": 1,
   "id": "fd972c24-534a-4143-9703-aebd62c239de",
   "metadata": {},
   "outputs": [],
   "source": [
    "# Math\n",
    "import math\n",
    "from math import hypot\n",
    "\n",
    "# Numerical Computing\n",
    "import numpy as np\n",
    "\n",
    "# Data Manipulation\n",
    "import pandas as pd\n",
    "\n",
    "# Data Visualization\n",
    "import seaborn\n",
    "import matplotlib.pyplot as plt\n",
    "\n",
    "#\n",
    "from pprint import pprint\n",
    "\n",
    "# OS\n",
    "import re\n",
    "import sys\n",
    "import abc\n",
    "import time\n",
    "import queue\n",
    "import heapq\n",
    "import string\n",
    "import random\n",
    "import bisect\n",
    "import operator\n",
    "import datetime\n",
    "import contextlib\n",
    "import subprocess\n",
    "from decimal import Decimal\n",
    "\n",
    "# Types & Annotations\n",
    "import collections\n",
    "from __future__ import annotations\n",
    "from collections import defaultdict, Counter\n",
    "from collections.abc import Container, Mapping, Hashable\n",
    "from typing import TYPE_CHECKING\n",
    "from typing import Hashable, Mapping, TypeVar, Any, overload, Union, Sequence, Dict, Deque, TextIO, Callable\n",
    "from typing import List, Protocol, NoReturn, Union, Set, Tuple, Optional, Iterable, Iterator, cast, NamedTuple\n",
    "# from typing import \n",
    "\n",
    "# Functional Tools\n",
    "from functools import wraps, total_ordering\n",
    "\n",
    "# Files & Path\n",
    "import logging\n",
    "import zipfile\n",
    "import fnmatch\n",
    "from pathlib import Path\n",
    "from urllib.request import urlopen\n",
    "from urllib.parse import urlparse\n",
    "\n",
    "# Dataclass\n",
    "from dataclasses import dataclass, field"
   ]
  },
  {
   "cell_type": "markdown",
   "id": "5a93b9d1-dab2-42ca-992f-b02fcc52c289",
   "metadata": {},
   "source": [
    "### String Manipualtion"
   ]
  },
  {
   "cell_type": "code",
   "execution_count": 2,
   "id": "82eb1b8d-698a-4445-ae02-791a2ad79798",
   "metadata": {},
   "outputs": [],
   "source": [
    "a = \"hello\""
   ]
  },
  {
   "cell_type": "code",
   "execution_count": 3,
   "id": "3a382f8c-60d2-4ef5-9e93-d6b51df92b70",
   "metadata": {},
   "outputs": [],
   "source": [
    "b = 'world'"
   ]
  },
  {
   "cell_type": "code",
   "execution_count": 4,
   "id": "440702f6-e856-479f-b1ce-e25820bf1ffa",
   "metadata": {},
   "outputs": [],
   "source": [
    "c = '''a multiple\n",
    "    line string'''"
   ]
  },
  {
   "cell_type": "code",
   "execution_count": 5,
   "id": "056a5377-b60a-4cdb-abe0-6aaed90601f2",
   "metadata": {},
   "outputs": [],
   "source": [
    "d = \"\"\"More\n",
    "    multiple\"\"\""
   ]
  },
  {
   "cell_type": "code",
   "execution_count": 6,
   "id": "0b8202c0-e74a-4ed3-956a-b80981ef458d",
   "metadata": {},
   "outputs": [],
   "source": [
    "e = (\"Three \" \"Strings\"\n",
    "        \"Together\")"
   ]
  },
  {
   "cell_type": "code",
   "execution_count": 7,
   "id": "eab7edf7-9c5e-41a8-8e89-b1bf66da6bb5",
   "metadata": {},
   "outputs": [
    {
     "name": "stdout",
     "output_type": "stream",
     "text": [
      "Help on method_descriptor:\n",
      "\n",
      "isalpha(self, /) unbound builtins.str method\n",
      "    Return True if the string is an alphabetic string, False otherwise.\n",
      "    \n",
      "    A string is alphabetic if all characters in the string are alphabetic and there\n",
      "    is at least one character in the string.\n",
      "\n"
     ]
    }
   ],
   "source": [
    "help(str.isalpha)"
   ]
  },
  {
   "cell_type": "code",
   "execution_count": 8,
   "id": "6dd427f2-965d-4b61-a0f7-c6e1f6734740",
   "metadata": {},
   "outputs": [
    {
     "data": {
      "text/plain": [
       "4502.0"
      ]
     },
     "execution_count": 8,
     "metadata": {},
     "output_type": "execute_result"
    }
   ],
   "source": [
    "float('45\\u06602')"
   ]
  },
  {
   "cell_type": "code",
   "execution_count": 9,
   "id": "52a12056-c862-4137-8d1c-307a1d629474",
   "metadata": {},
   "outputs": [],
   "source": [
    "s = \"hellow world\""
   ]
  },
  {
   "cell_type": "code",
   "execution_count": 10,
   "id": "3a98251b-1fb4-4865-ba9b-a675c9d90d95",
   "metadata": {},
   "outputs": [
    {
     "data": {
      "text/plain": [
       "3"
      ]
     },
     "execution_count": 10,
     "metadata": {},
     "output_type": "execute_result"
    }
   ],
   "source": [
    "s.count('l')"
   ]
  },
  {
   "cell_type": "code",
   "execution_count": 11,
   "id": "0bc902b5-1112-4a5f-af46-31297fb3e6bb",
   "metadata": {},
   "outputs": [
    {
     "ename": "ValueError",
     "evalue": "substring not found",
     "output_type": "error",
     "traceback": [
      "\u001b[0;31m---------------------------------------------------------------------------\u001b[0m",
      "\u001b[0;31mValueError\u001b[0m                                Traceback (most recent call last)",
      "Cell \u001b[0;32mIn[11], line 1\u001b[0m\n\u001b[0;32m----> 1\u001b[0m s\u001b[38;5;241m.\u001b[39mrindex(\u001b[38;5;124m'\u001b[39m\u001b[38;5;124mm\u001b[39m\u001b[38;5;124m'\u001b[39m)\n",
      "\u001b[0;31mValueError\u001b[0m: substring not found"
     ]
    }
   ],
   "source": [
    "s.rindex('m')"
   ]
  },
  {
   "cell_type": "code",
   "execution_count": 12,
   "id": "826880ef-bd9c-4282-892a-4105b69a96bd",
   "metadata": {},
   "outputs": [],
   "source": [
    "s = \"Hello world, how are you?\""
   ]
  },
  {
   "cell_type": "code",
   "execution_count": 14,
   "id": "790826dc-0277-4244-837b-1123cc21f7a7",
   "metadata": {},
   "outputs": [],
   "source": [
    "s2 = s.split(' ')"
   ]
  },
  {
   "cell_type": "code",
   "execution_count": 15,
   "id": "eaf3cb53-6b2a-4a73-8f2f-a0fb8555bdb4",
   "metadata": {},
   "outputs": [
    {
     "data": {
      "text/plain": [
       "['Hello', 'world,', 'how', 'are', 'you?']"
      ]
     },
     "execution_count": 15,
     "metadata": {},
     "output_type": "execute_result"
    }
   ],
   "source": [
    "s2"
   ]
  },
  {
   "cell_type": "code",
   "execution_count": 16,
   "id": "3eaa3759-a044-410a-8019-57bdc1e7849d",
   "metadata": {},
   "outputs": [
    {
     "data": {
      "text/plain": [
       "'Hello#world,#how#are#you?'"
      ]
     },
     "execution_count": 16,
     "metadata": {},
     "output_type": "execute_result"
    }
   ],
   "source": [
    "'#'.join(s2)"
   ]
  },
  {
   "cell_type": "code",
   "execution_count": 17,
   "id": "a3b4d972-09df-4c09-bde1-eea02d78130c",
   "metadata": {},
   "outputs": [
    {
     "data": {
      "text/plain": [
       "'Hello**world,**how**are**you?'"
      ]
     },
     "execution_count": 17,
     "metadata": {},
     "output_type": "execute_result"
    }
   ],
   "source": [
    "s.replace(' ', '**')"
   ]
  },
  {
   "cell_type": "code",
   "execution_count": 18,
   "id": "ef5420fe-5336-43d3-9a78-62b1b82ba964",
   "metadata": {},
   "outputs": [
    {
     "data": {
      "text/plain": [
       "('Hello', ' ', 'world, how are you?')"
      ]
     },
     "execution_count": 18,
     "metadata": {},
     "output_type": "execute_result"
    }
   ],
   "source": [
    "s.partition(' ')"
   ]
  },
  {
   "cell_type": "markdown",
   "id": "73bca7ee-653d-48eb-a5ea-701ae6ee4f67",
   "metadata": {},
   "source": [
    "### String Formatting"
   ]
  },
  {
   "cell_type": "code",
   "execution_count": 20,
   "id": "09cb1db1-ffe1-451c-8197-e9e06c1500ba",
   "metadata": {},
   "outputs": [],
   "source": [
    "name = \"Dusty\""
   ]
  },
  {
   "cell_type": "code",
   "execution_count": 21,
   "id": "3d58b612-5422-4221-a063-3f7b58b4dfee",
   "metadata": {},
   "outputs": [],
   "source": [
    "activity = \"reviewing\""
   ]
  },
  {
   "cell_type": "code",
   "execution_count": 22,
   "id": "4f24403e-a2ab-4cbe-852f-c83bd963e5df",
   "metadata": {},
   "outputs": [],
   "source": [
    "message = f\"Hello {name}, you are currently {activity}\""
   ]
  },
  {
   "cell_type": "code",
   "execution_count": 24,
   "id": "094caf74-627a-4674-a625-40ae43cc5f3d",
   "metadata": {},
   "outputs": [
    {
     "name": "stdout",
     "output_type": "stream",
     "text": [
      "Hello Dusty, you are currently reviewing\n"
     ]
    }
   ],
   "source": [
    "print(message)"
   ]
  },
  {
   "cell_type": "markdown",
   "id": "edc43e98-7872-45b2-ac34-3cb206ab0248",
   "metadata": {},
   "source": [
    "### Escaping Braces"
   ]
  },
  {
   "cell_type": "code",
   "execution_count": 25,
   "id": "b3953760-a94f-4cdb-81e0-459535fe178f",
   "metadata": {},
   "outputs": [],
   "source": [
    "classname = \"MyClass\""
   ]
  },
  {
   "cell_type": "code",
   "execution_count": 26,
   "id": "f7b84462-1662-4576-ae00-069efbbc57f0",
   "metadata": {},
   "outputs": [],
   "source": [
    "python_code = \"print('hello world')\""
   ]
  },
  {
   "cell_type": "code",
   "execution_count": 27,
   "id": "79367d43-4f05-413d-9a73-dc9b7d6016ec",
   "metadata": {},
   "outputs": [],
   "source": [
    "template = f\"\"\"\n",
    "public class {classname} {{\n",
    "    public static void main(String[] args) {{\n",
    "        System.out.println(\"{python_code}\");\n",
    "    }}\n",
    "}}\n",
    "\"\"\""
   ]
  },
  {
   "cell_type": "code",
   "execution_count": 28,
   "id": "c0a5afd6-af50-44bb-a376-dc81b561adf4",
   "metadata": {},
   "outputs": [
    {
     "name": "stdout",
     "output_type": "stream",
     "text": [
      "\n",
      "public class MyClass {\n",
      "    public static void main(String[] args) {\n",
      "        System.out.println(\"print('hello world')\");\n",
      "    }\n",
      "}\n",
      "\n"
     ]
    }
   ],
   "source": [
    "print(template)"
   ]
  },
  {
   "cell_type": "markdown",
   "id": "c90fe7cc-4cc5-40fc-ae03-3ab9ebe2b3aa",
   "metadata": {},
   "source": [
    "### `f-string` can Contain Python Code"
   ]
  },
  {
   "cell_type": "code",
   "execution_count": 29,
   "id": "6aee2951-68f0-4fa2-9638-9c12e137d361",
   "metadata": {},
   "outputs": [],
   "source": [
    "emails = (\"steve@example.com\", \"dusty@example.com\")"
   ]
  },
  {
   "cell_type": "code",
   "execution_count": 30,
   "id": "2e7855b3-205c-4f51-a5a4-752c5fa3c457",
   "metadata": {},
   "outputs": [],
   "source": [
    "message = {\n",
    "    \"subject\": \"Next Chapter\",\n",
    "    \"message\": \"Here's the next chapter to review!\",\n",
    "}"
   ]
  },
  {
   "cell_type": "code",
   "execution_count": 31,
   "id": "6e53523c-bcfe-4ea9-b283-4be78df53433",
   "metadata": {},
   "outputs": [],
   "source": [
    "formatted = f\"\"\"\n",
    "From: <{emails[0]}>\n",
    "To: <{emails[1]}>\n",
    "Subject: {message['subject']}\n",
    "\n",
    "{message['message']}\n",
    "\"\"\""
   ]
  },
  {
   "cell_type": "code",
   "execution_count": 32,
   "id": "700987c3-44ed-43fd-b4da-6fe6d28b91a5",
   "metadata": {},
   "outputs": [],
   "source": [
    "class Notification:\n",
    "    def __init__(\n",
    "        self,\n",
    "        from_addr: str,\n",
    "        to_addr: str,\n",
    "        subject: str,\n",
    "        message: str\n",
    "    ) -> None:\n",
    "        self.from_addr = from_addr\n",
    "        self.to_addr = to_addr\n",
    "        self.subject = subject\n",
    "        self._message = message\n",
    "    def message(self):\n",
    "        return self._message"
   ]
  },
  {
   "cell_type": "code",
   "execution_count": 33,
   "id": "bd2d60a7-bcff-4e33-9db3-4a0b90d5f760",
   "metadata": {},
   "outputs": [],
   "source": [
    "email = Notification(\n",
    "    \"dusty@example.com\",\n",
    "    \"steve@example.com\",\n",
    "    \"Comments on the Chapter\",\n",
    "    \"Can we emphasize Python 3.9 type hints?\",\n",
    ")"
   ]
  },
  {
   "cell_type": "code",
   "execution_count": 34,
   "id": "7b3bca2f-43af-42e3-bfb3-fee9919d5fed",
   "metadata": {},
   "outputs": [],
   "source": [
    "formatted = f\"\"\"\n",
    "From: <{email.from_addr}>\n",
    "To: <{email.to_addr}>\n",
    "Subject: {email.subject}\n",
    "\n",
    "{email.message()}\n",
    "\"\"\""
   ]
  },
  {
   "cell_type": "code",
   "execution_count": 36,
   "id": "ed1eaa2a-45c4-4b2f-bcc3-bf0e345ea6c1",
   "metadata": {},
   "outputs": [
    {
     "data": {
      "text/plain": [
       "'[1, 3, 5, 7, 9]'"
      ]
     },
     "execution_count": 36,
     "metadata": {},
     "output_type": "execute_result"
    }
   ],
   "source": [
    "f\"{[2*a+1 for a in range(5)]}\""
   ]
  },
  {
   "cell_type": "code",
   "execution_count": 38,
   "id": "fda5c485-c970-4fb5-a7ac-404ee9951375",
   "metadata": {},
   "outputs": [
    {
     "name": "stdout",
     "output_type": "stream",
     "text": [
      "1\n",
      "2\n",
      "fizz\n",
      "4\n"
     ]
    }
   ],
   "source": [
    "for n in range(1, 5):\n",
    "    print(f\"{'fizz' if n % 3 == 0 else n}\")"
   ]
  },
  {
   "cell_type": "code",
   "execution_count": 40,
   "id": "2fffc84a-411b-4641-86f8-dc2c98397afd",
   "metadata": {},
   "outputs": [],
   "source": [
    "a = 5  "
   ]
  },
  {
   "cell_type": "code",
   "execution_count": 41,
   "id": "b3268eb4-6714-42d5-9aa3-d0f9fc7d3690",
   "metadata": {},
   "outputs": [],
   "source": [
    "b = 7"
   ]
  },
  {
   "cell_type": "code",
   "execution_count": 43,
   "id": "54ed8f6b-be99-4c3b-8d13-494f328d9dc3",
   "metadata": {},
   "outputs": [
    {
     "data": {
      "text/plain": [
       "'a=5, b=7, 31*a//42*b + b=28'"
      ]
     },
     "execution_count": 43,
     "metadata": {},
     "output_type": "execute_result"
    }
   ],
   "source": [
    "f\"{a=}, {b=}, {31*a//42*b + b=}\""
   ]
  },
  {
   "cell_type": "code",
   "execution_count": null,
   "id": "19323e93-34ae-4911-ac4e-5fb0a14511e5",
   "metadata": {},
   "outputs": [],
   "source": []
  }
 ],
 "metadata": {
  "kernelspec": {
   "display_name": "Python 3 (ipykernel)",
   "language": "python",
   "name": "python3"
  },
  "language_info": {
   "codemirror_mode": {
    "name": "ipython",
    "version": 3
   },
   "file_extension": ".py",
   "mimetype": "text/x-python",
   "name": "python",
   "nbconvert_exporter": "python",
   "pygments_lexer": "ipython3",
   "version": "3.11.9"
  }
 },
 "nbformat": 4,
 "nbformat_minor": 5
}
