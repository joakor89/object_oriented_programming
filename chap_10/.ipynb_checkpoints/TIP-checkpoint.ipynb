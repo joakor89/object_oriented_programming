{
 "cells": [
  {
   "cell_type": "markdown",
   "id": "2cfc9850-2c51-4b49-84b7-2d99e77a268d",
   "metadata": {},
   "source": [
    "# The Iterator Pattern\n",
    "\n",
    "### Loading Libraries"
   ]
  },
  {
   "cell_type": "code",
   "execution_count": 2,
   "id": "2182806b-0e8c-426c-a9c8-00e8241afb5d",
   "metadata": {},
   "outputs": [],
   "source": [
    "# Math\n",
    "import math\n",
    "from math import hypot\n",
    "\n",
    "# Numerical Computing\n",
    "import numpy as np\n",
    "\n",
    "# Data Manipulation\n",
    "import pandas as pd\n",
    "\n",
    "# Data Visualization\n",
    "import seaborn\n",
    "import matplotlib.pyplot as plt\n",
    "\n",
    "#\n",
    "from pprint import pprint\n",
    "\n",
    "# OS\n",
    "import re\n",
    "import sys\n",
    "import abc\n",
    "import time\n",
    "import queue\n",
    "import heapq\n",
    "import string\n",
    "import random\n",
    "import bisect\n",
    "import operator\n",
    "import datetime\n",
    "import contextlib\n",
    "import subprocess\n",
    "from decimal import Decimal\n",
    "\n",
    "# Types & Annotations\n",
    "import collections\n",
    "from __future__ import annotations\n",
    "from collections import defaultdict, Counter\n",
    "from collections.abc import Container, Mapping, Hashable\n",
    "from typing import TYPE_CHECKING\n",
    "from typing import Pattern, Match\n",
    "from typing import Hashable, Mapping, TypeVar, Any, overload, Union, Sequence, Dict, Deque, TextIO, Callable\n",
    "from typing import List, Protocol, NoReturn, Union, Set, Tuple, Optional, Iterable, Iterator, cast, NamedTuple\n",
    "# from typing import \n",
    "\n",
    "# Functional Tools\n",
    "from functools import wraps, total_ordering\n",
    "\n",
    "# Files & Path\n",
    "import logging\n",
    "import zipfile\n",
    "import fnmatch\n",
    "from pathlib import Path\n",
    "from urllib.request import urlopen\n",
    "from urllib.parse import urlparse\n",
    "\n",
    "# Dataclass\n",
    "from dataclasses import dataclass, field"
   ]
  },
  {
   "cell_type": "markdown",
   "id": "3a2d2a46-fb4b-48ff-84f6-2e9d3e3d4064",
   "metadata": {},
   "source": [
    "## Iterators\n",
    "\n",
    "### The Interator Protocol"
   ]
  },
  {
   "cell_type": "code",
   "execution_count": 3,
   "id": "dc4ac8df-d829-4466-99a9-6766bc3206df",
   "metadata": {},
   "outputs": [],
   "source": [
    "class CapitalIterable(Iterable[str]):\n",
    "    def __init__(self, string: str) -> None:\n",
    "        self.string = string\n",
    "\n",
    "    def __iter__(self) -> Iterator[str]:\n",
    "        return CapitalIterator(self.string)\n",
    "\n",
    "class CapitalIterator(Iterator[str]):\n",
    "    def __init__(self, string: str) -> None:\n",
    "        self.words = [w.capitalize() for w in string.split()]\n",
    "        self.index = 0\n",
    "\n",
    "    def __next__(self) -> str:\n",
    "        if self.index == len(self.words):\n",
    "            raise StopIteration()\n",
    "\n",
    "        word = self.words[self.index]\n",
    "        self.index += 1\n",
    "        return word"
   ]
  },
  {
   "cell_type": "code",
   "execution_count": 8,
   "id": "98d3aa92-a59c-4bee-bbd6-6feb14c62f52",
   "metadata": {},
   "outputs": [],
   "source": [
    "iterable = CapitalIterable('the quick brown fox jumps over the lazy dog')"
   ]
  },
  {
   "cell_type": "code",
   "execution_count": 9,
   "id": "e43245ee-54c3-4790-93e3-43f170e11482",
   "metadata": {},
   "outputs": [],
   "source": [
    "iterator = iter(iterable)"
   ]
  },
  {
   "cell_type": "code",
   "execution_count": 10,
   "id": "194b5107-f2fb-4696-8d71-227b5fac0ca5",
   "metadata": {},
   "outputs": [
    {
     "name": "stdout",
     "output_type": "stream",
     "text": [
      "The\n",
      "Quick\n",
      "Brown\n",
      "Fox\n",
      "Jumps\n",
      "Over\n",
      "The\n",
      "Lazy\n",
      "Dog\n"
     ]
    }
   ],
   "source": [
    "while True:\n",
    "    try:\n",
    "        print(next(iterator))\n",
    "    except StopIteration:\n",
    "        break"
   ]
  },
  {
   "cell_type": "code",
   "execution_count": 11,
   "id": "71a8e899-cc77-4e00-a3ab-3c82534cbeb1",
   "metadata": {},
   "outputs": [
    {
     "name": "stdout",
     "output_type": "stream",
     "text": [
      "The\n",
      "Quick\n",
      "Brown\n",
      "Fox\n",
      "Jumps\n",
      "Over\n",
      "The\n",
      "Lazy\n",
      "Dog\n"
     ]
    }
   ],
   "source": [
    "for i in iterable:\n",
    "    print(i)"
   ]
  },
  {
   "cell_type": "markdown",
   "id": "86201079-bfdc-4c66-b4b4-852731b1f964",
   "metadata": {},
   "source": [
    "## Comprehensions \n",
    "\n",
    "### List Comprehensions"
   ]
  },
  {
   "cell_type": "code",
   "execution_count": 12,
   "id": "b1d14fc0-bfdf-4ada-a6e0-d4a3828c103d",
   "metadata": {},
   "outputs": [],
   "source": [
    "input_strings = [\"1\", \"5\", \"28\", \"131\", \"3\"]\n",
    "\n",
    "output_integers = []"
   ]
  },
  {
   "cell_type": "code",
   "execution_count": 13,
   "id": "1e2ef990-24f3-4265-8621-14742334c729",
   "metadata": {},
   "outputs": [],
   "source": [
    "for num in input_strings:\n",
    "    output_integers.append(int(num))"
   ]
  },
  {
   "cell_type": "code",
   "execution_count": 14,
   "id": "24c3b53a-645e-4c19-88ca-17b34f5d9714",
   "metadata": {},
   "outputs": [],
   "source": [
    "output_integers = [int(num) for num in input_strings]"
   ]
  },
  {
   "cell_type": "code",
   "execution_count": 15,
   "id": "de48a562-16f9-47bb-9644-e09f4d91937f",
   "metadata": {},
   "outputs": [
    {
     "name": "stdout",
     "output_type": "stream",
     "text": [
      "[1, 5, 28, 131, 3]\n"
     ]
    }
   ],
   "source": [
    "print(output_integers)"
   ]
  },
  {
   "cell_type": "code",
   "execution_count": 19,
   "id": "43e96de4-1345-4e35-ac56-c15d3cfceb37",
   "metadata": {},
   "outputs": [
    {
     "data": {
      "text/plain": [
       "[1, 5, 28, 3]"
      ]
     },
     "execution_count": 19,
     "metadata": {},
     "output_type": "execute_result"
    }
   ],
   "source": [
    "output_integers = [int(num) for num in input_strings if len(num) < 3]\n",
    "\n",
    "output_integers"
   ]
  },
  {
   "cell_type": "markdown",
   "id": "f87d1d1a-06ae-46f7-8abf-b8c5816de430",
   "metadata": {},
   "source": [
    "### Set & Dictionary Comprehensions"
   ]
  },
  {
   "cell_type": "code",
   "execution_count": null,
   "id": "0dffc4df-8a2e-4c4b-85cb-4f7705e2c437",
   "metadata": {},
   "outputs": [],
   "source": []
  }
 ],
 "metadata": {
  "kernelspec": {
   "display_name": "Python 3 (ipykernel)",
   "language": "python",
   "name": "python3"
  },
  "language_info": {
   "codemirror_mode": {
    "name": "ipython",
    "version": 3
   },
   "file_extension": ".py",
   "mimetype": "text/x-python",
   "name": "python",
   "nbconvert_exporter": "python",
   "pygments_lexer": "ipython3",
   "version": "3.11.9"
  }
 },
 "nbformat": 4,
 "nbformat_minor": 5
}
