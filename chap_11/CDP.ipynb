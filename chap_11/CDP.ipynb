{
 "cells": [
  {
   "cell_type": "markdown",
   "id": "f92346ff-f5cb-4cdf-b4e3-15c9b7099214",
   "metadata": {},
   "source": [
    "# Common Design Patterns\n",
    "\n",
    "### Loading Libraries"
   ]
  },
  {
   "cell_type": "code",
   "execution_count": 49,
   "id": "73b5f679-99c3-4b62-ad3c-9e2277ccbbf2",
   "metadata": {},
   "outputs": [],
   "source": [
    "# Math\n",
    "import math\n",
    "from math import hypot, factorial\n",
    "\n",
    "# Numerical Computing\n",
    "import numpy as np\n",
    "\n",
    "# Data Manipulation\n",
    "import pandas as pd\n",
    "\n",
    "# Data Visualization\n",
    "import seaborn\n",
    "import matplotlib.pyplot as plt\n",
    "\n",
    "#\n",
    "from pprint import pprint\n",
    "\n",
    "# OS\n",
    "import io\n",
    "import re\n",
    "import sys\n",
    "import abc\n",
    "import csv\n",
    "import time\n",
    "import gzip\n",
    "import queue\n",
    "import heapq\n",
    "import socket\n",
    "import string\n",
    "import random\n",
    "import bisect\n",
    "import operator\n",
    "import datetime\n",
    "import contextlib\n",
    "import subprocess\n",
    "from decimal import Decimal\n",
    "from abc import ABC, abstractmethod\n",
    "\n",
    "# Types & Annotations\n",
    "import collections\n",
    "from __future__ import annotations\n",
    "from collections import defaultdict, Counter\n",
    "from collections.abc import Container, Mapping, Hashable\n",
    "from typing import TYPE_CHECKING\n",
    "from typing import Pattern, Match\n",
    "from typing import Hashable, Mapping, TypeVar, Any, overload, Union, Sequence, Dict, Deque, TextIO, Callable\n",
    "from typing import List, Protocol, NoReturn, Union, Set, Tuple, Optional, Iterable, Iterator, cast, NamedTuple\n",
    "# from typing import \n",
    "\n",
    "# Functional Tools\n",
    "from functools import wraps, total_ordering, lru_cache\n",
    "\n",
    "# Files & Path\n",
    "import logging\n",
    "import zipfile\n",
    "import fnmatch\n",
    "from pathlib import Path\n",
    "from urllib.request import urlopen\n",
    "from urllib.parse import urlparse\n",
    "\n",
    "# Dataclass\n",
    "from dataclasses import dataclass, field"
   ]
  },
  {
   "cell_type": "markdown",
   "id": "87b4be36-aafa-40ce-aa49-e72286dbb65e",
   "metadata": {},
   "source": [
    "## The Decorator Pattern\n",
    "\n",
    "### A Decorator Example"
   ]
  },
  {
   "cell_type": "code",
   "execution_count": 15,
   "id": "0ca41c4c-1ef7-49ce-99f6-afb45b597a2a",
   "metadata": {},
   "outputs": [],
   "source": [
    "def main_1() -> None:\n",
    "    server = socket.socket(socket.AF_INET, socket.SOCKET_STREAM)\n",
    "    server.bind((\"localhost\", 2401))\n",
    "    with contextlib.closing(server):\n",
    "        while True:\n",
    "            client, addr = server.accept()\n",
    "            dice_response(client)\n",
    "            client.close()"
   ]
  },
  {
   "cell_type": "code",
   "execution_count": 16,
   "id": "484e92fe-f29d-4ed1-88b0-006991b145fb",
   "metadata": {},
   "outputs": [],
   "source": [
    "def dice_response(client: socket.socket) -> None:\n",
    "    request = client.recv(1024)\n",
    "    try:\n",
    "        response = dice.dice_roller(request)\n",
    "    except (ValueError, KeyError) as ex:\n",
    "        response = repr(ex).encode(\"utf-8\")\n",
    "    client.send(response)"
   ]
  },
  {
   "cell_type": "code",
   "execution_count": 17,
   "id": "f47cb1cb-632c-45df-b6b4-13d26eeed434",
   "metadata": {},
   "outputs": [],
   "source": [
    "def dice_roller(request: bytes) -> bytes:\n",
    "    request_text = request.deconde(\"utf-8\")\n",
    "    numbers = [random.randint(1, 6) for _ in range(6)]\n",
    "    response = f\"{request_text} = {numbers}\"\n",
    "    return response.encode(\"utf-8\")"
   ]
  },
  {
   "cell_type": "code",
   "execution_count": 19,
   "id": "9c0aab91-6cc7-4920-a94e-0e836c6a01b8",
   "metadata": {},
   "outputs": [],
   "source": [
    "# def main() -> None:\n",
    "#     server = socket.socket(socket.AF_INET, socket.SOCK_STREAM)\n",
    "#     server.connect((\"localhost\", 2401))\n",
    "#     count = input(\"How many rolls: \") or \"1\"\n",
    "#     pattern = input(\"Dice pattern nd6[dk+-]a: \") or \"d6\"\n",
    "#     server.send(command.encode(\"utf-8\"))\n",
    "#     response = server.recv(1024)\n",
    "#     print(response.decode(\"utf-8\"))\n",
    "#     server.close()\n",
    "\n",
    "# if __name__ == \"__main__\":\n",
    "#     main()"
   ]
  },
  {
   "cell_type": "code",
   "execution_count": 13,
   "id": "be1e0140-5abe-402c-ab52-8f098350f3c0",
   "metadata": {},
   "outputs": [],
   "source": [
    "class LogSocket:\n",
    "    def __init__(self, socket: socket.socket) -> None:\n",
    "        self.socket = socket\n",
    "\n",
    "    def recv(self, count: int = 0) ->bytes:\n",
    "        data = self.socket.recv(count)\n",
    "        print(f\"Receiving {data!r} from {self.socket.getpeername()[0]})\")\n",
    "        return data\n",
    "\n",
    "    def send(self, data: bytes) -> None:\n",
    "        print(f\"Sending {data!r} to {self.socket.getpeername()[0]}\")\n",
    "        self.socket.send(data)\n",
    "\n",
    "    def close(self) -> None:\n",
    "        self.socket.close()"
   ]
  },
  {
   "cell_type": "code",
   "execution_count": 20,
   "id": "ed654c27-c5e6-4f31-9c3a-6f98303faef7",
   "metadata": {},
   "outputs": [],
   "source": [
    "def main_2() -> None:\n",
    "    server = socket.socket(socket.AF_INET, socket.SOCK_STREAM)\n",
    "    server.bind((\"localhost\", 2401))\n",
    "    server.listen(1)\n",
    "    with contextlib.closing(server):\n",
    "        while True:\n",
    "            client, addr = server.accept()\n",
    "            logging_socket = cast(socket.scoket, LogSocket(client))\n",
    "            dice_response(logging_socket)\n",
    "            client.close()"
   ]
  },
  {
   "cell_type": "code",
   "execution_count": 21,
   "id": "bff4529e-bd86-4e93-9972-6a402695fac0",
   "metadata": {},
   "outputs": [],
   "source": [
    "Address = Tuple[str, int]\n",
    "\n",
    "class LogRoller:\n",
    "    def __init__(self, dice: Callable[[bytes], bytes], remote_addr: Address) -> None:\n",
    "        self.dice_roller = dice\n",
    "        self.remote_addr = remote_addr\n",
    "\n",
    "    def __call__(self, request: bytes) -> bytes:\n",
    "        print(f\"Receiving {request!r} from {self.remote_addr}\")\n",
    "        dice_roller = self.dice_roller\n",
    "        response = dice_roller(request)\n",
    "        print(f\"Sending {response!r} to {self.remote_addr}\")\n",
    "        return response"
   ]
  },
  {
   "cell_type": "code",
   "execution_count": 23,
   "id": "0474a00c-fa4d-44b9-a27b-d2583eb3825e",
   "metadata": {},
   "outputs": [],
   "source": [
    "class ZipRoller:\n",
    "    def __init__(self, dice: Callable[[bytes], bytes]) -> None:\n",
    "        self.dice_roller = dice\n",
    "\n",
    "    def __call__(self, request: bytes) -> bytes:\n",
    "        dice_roller = self.deice_roller\n",
    "        response = dice_roller(request)\n",
    "        buffer = io.BytesIO()\n",
    "        with gzip.GzipFile(fileobj=buffer, mode=\"w\") as zipfile:\n",
    "            zipfile.write(response)\n",
    "        return buffer.getvalue()"
   ]
  },
  {
   "cell_type": "code",
   "execution_count": 24,
   "id": "45400fe7-a595-4d1a-a4da-99c212ccdd3a",
   "metadata": {},
   "outputs": [],
   "source": [
    "def dice_response(client: socket.socket) -> None:\n",
    "    request = client.recv(1024)\n",
    "    try:\n",
    "        remote_addr = client.getpeername()\n",
    "        roller_1 = ZipRoller(dice.dice_roller)\n",
    "        roller_2 = LogRoller(roller_1, remote_addr=remote_addr)\n",
    "        response = roller_2(request)\n",
    "    except (ValueError, KeyError) as ex:\n",
    "        response = repr(ex).encode(\"utf-8\")\n",
    "    client.send(response)"
   ]
  },
  {
   "cell_type": "code",
   "execution_count": 26,
   "id": "df0672da-1c27-4225-b256-f0d3735cca5f",
   "metadata": {},
   "outputs": [],
   "source": [
    "# if config.zip_feature:\n",
    "#     roller_1 = ZipRoller(dice.dice_roller)\n",
    "# else:\n",
    "#     roller_1 = dice.dice_roller"
   ]
  },
  {
   "cell_type": "markdown",
   "id": "41cfebdf-0cc0-41ee-a0d5-a2f7b5fba296",
   "metadata": {},
   "source": [
    "### Decorators in Python"
   ]
  },
  {
   "cell_type": "code",
   "execution_count": 39,
   "id": "d862d471-f5f1-4c33-b136-065be75eaa0f",
   "metadata": {},
   "outputs": [],
   "source": [
    "def log_args(function: Callable[..., Any]) -> Callable[..., Any]:\n",
    "    @wraps(function)\n",
    "    def wrapped_function(*args: Any, **kwargs: Any) -> Any:\n",
    "        print(f\"Calling {function.__name__}(*{args}, **{kwargs})\")\n",
    "        result = function(*args, **kwargs)\n",
    "        return result\n",
    "\n",
    "    return wrapped_function"
   ]
  },
  {
   "cell_type": "code",
   "execution_count": 41,
   "id": "13c5c395-5c5c-4f9b-a418-494c5a807172",
   "metadata": {},
   "outputs": [],
   "source": [
    "def trest1(a: int, b: int, c: int) ->float:\n",
    "    return sum(range(a, b + 1)) / c\n",
    "\n",
    "test1 = log_args(test1)"
   ]
  },
  {
   "cell_type": "code",
   "execution_count": 43,
   "id": "11345f7f-19fa-4b42-af55-3bbb482d5571",
   "metadata": {},
   "outputs": [],
   "source": [
    "# test1(1, 9, 2)"
   ]
  },
  {
   "cell_type": "code",
   "execution_count": 44,
   "id": "0084a649-8d50-4dcb-9bab-2867c74532cc",
   "metadata": {},
   "outputs": [],
   "source": [
    "@log_args\n",
    "def test1(a: int, b: int, c:int) -> float:\n",
    "    return sum(range(a, b + 1)) / c"
   ]
  },
  {
   "cell_type": "code",
   "execution_count": 46,
   "id": "cfaf4551-4716-418c-be4c-9e10eb15efdf",
   "metadata": {},
   "outputs": [],
   "source": [
    "def binom(n: int, k: int) -> int:\n",
    "    return factorial(n) // (factorial(k) * factorial(n-k))"
   ]
  },
  {
   "cell_type": "code",
   "execution_count": 48,
   "id": "f80d48d5-3b15-4b7f-bae7-8d9b8d7c0e2d",
   "metadata": {},
   "outputs": [
    {
     "data": {
      "text/plain": [
       "'6-card deals: 20,358,520'"
      ]
     },
     "execution_count": 48,
     "metadata": {},
     "output_type": "execute_result"
    }
   ],
   "source": [
    "f\"6-card deals: {binom(52, 6):,d}\""
   ]
  },
  {
   "cell_type": "code",
   "execution_count": 50,
   "id": "bc579e00-cf4c-45b4-a008-653d7ebdd550",
   "metadata": {},
   "outputs": [],
   "source": [
    "def binom(n: int, k: int) -> int:\n",
    "    return factorial(n) // (factorial(k) * factorial(n-k))"
   ]
  },
  {
   "cell_type": "code",
   "execution_count": 51,
   "id": "425ef4a3-2db8-4425-9b7c-8de25364d9f7",
   "metadata": {},
   "outputs": [],
   "source": [
    "class NamedLogger:\n",
    "    def __init__(self, logger_name: str) -> None:\n",
    "        self.logger = logging.getLogger(logger_name)\n",
    "\n",
    "    def __call__(self, function: Callable[..., Any]) -> Callable[..., Any]:\n",
    "        @wraps(function)\n",
    "        def wrapped_function(*args: Any, **kwargs: Any) -> Any:\n",
    "            start = time.perf_counter()\n",
    "            try:\n",
    "                result = function(*args, **kwargs)\n",
    "                μs = (time.perf_counter() - start) * 1_000_000\n",
    "                self.logger.info(f\"{function.__name__}, {μs:.1f}μs\")\n",
    "                return result\n",
    "            except Exception as ex:\n",
    "                μs = (time.perf_counter() - start) * 1_000_000\n",
    "                self.logger.error(f\"{ex}, {function.__name__}, {μs:.1f}μs\")\n",
    "                raise\n",
    "\n",
    "        return wrapped_function"
   ]
  },
  {
   "cell_type": "code",
   "execution_count": null,
   "id": "8a6bbc1f-72b7-45be-9b93-b90b95b1cf9b",
   "metadata": {},
   "outputs": [],
   "source": []
  },
  {
   "cell_type": "code",
   "execution_count": null,
   "id": "0133c87b-9edb-4ab0-9a82-dc323cc0fe5d",
   "metadata": {},
   "outputs": [],
   "source": []
  },
  {
   "cell_type": "code",
   "execution_count": null,
   "id": "da2613fb-0345-4817-accc-a1574b862855",
   "metadata": {},
   "outputs": [],
   "source": []
  },
  {
   "cell_type": "code",
   "execution_count": null,
   "id": "41e0ea58-d75a-4419-808f-1b84bfc65965",
   "metadata": {},
   "outputs": [],
   "source": []
  }
 ],
 "metadata": {
  "kernelspec": {
   "display_name": "Python 3 (ipykernel)",
   "language": "python",
   "name": "python3"
  },
  "language_info": {
   "codemirror_mode": {
    "name": "ipython",
    "version": 3
   },
   "file_extension": ".py",
   "mimetype": "text/x-python",
   "name": "python",
   "nbconvert_exporter": "python",
   "pygments_lexer": "ipython3",
   "version": "3.11.9"
  }
 },
 "nbformat": 4,
 "nbformat_minor": 5
}
