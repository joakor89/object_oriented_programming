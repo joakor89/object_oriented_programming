{
 "cells": [
  {
   "cell_type": "markdown",
   "id": "f92346ff-f5cb-4cdf-b4e3-15c9b7099214",
   "metadata": {},
   "source": [
    "# Common Design Patterns\n",
    "\n",
    "### Loading Libraries"
   ]
  },
  {
   "cell_type": "code",
   "execution_count": 2,
   "id": "73b5f679-99c3-4b62-ad3c-9e2277ccbbf2",
   "metadata": {},
   "outputs": [],
   "source": [
    "# Math\n",
    "import math\n",
    "from math import hypot\n",
    "\n",
    "# Numerical Computing\n",
    "import numpy as np\n",
    "\n",
    "# Data Manipulation\n",
    "import pandas as pd\n",
    "\n",
    "# Data Visualization\n",
    "import seaborn\n",
    "import matplotlib.pyplot as plt\n",
    "\n",
    "#\n",
    "from pprint import pprint\n",
    "\n",
    "# OS\n",
    "import re\n",
    "import sys\n",
    "import abc\n",
    "import csv\n",
    "import time\n",
    "import queue\n",
    "import heapq\n",
    "import socket\n",
    "import string\n",
    "import random\n",
    "import bisect\n",
    "import operator\n",
    "import datetime\n",
    "import contextlib\n",
    "import subprocess\n",
    "from decimal import Decimal\n",
    "from abc import ABC, abstractmethod\n",
    "\n",
    "# Types & Annotations\n",
    "import collections\n",
    "from __future__ import annotations\n",
    "from collections import defaultdict, Counter\n",
    "from collections.abc import Container, Mapping, Hashable\n",
    "from typing import TYPE_CHECKING\n",
    "from typing import Pattern, Match\n",
    "from typing import Hashable, Mapping, TypeVar, Any, overload, Union, Sequence, Dict, Deque, TextIO, Callable\n",
    "from typing import List, Protocol, NoReturn, Union, Set, Tuple, Optional, Iterable, Iterator, cast, NamedTuple\n",
    "# from typing import \n",
    "\n",
    "# Functional Tools\n",
    "from functools import wraps, total_ordering\n",
    "\n",
    "# Files & Path\n",
    "import logging\n",
    "import zipfile\n",
    "import fnmatch\n",
    "from pathlib import Path\n",
    "from urllib.request import urlopen\n",
    "from urllib.parse import urlparse\n",
    "\n",
    "# Dataclass\n",
    "from dataclasses import dataclass, field"
   ]
  },
  {
   "cell_type": "markdown",
   "id": "87b4be36-aafa-40ce-aa49-e72286dbb65e",
   "metadata": {},
   "source": [
    "## The Decorator Pattern\n",
    "\n",
    "### A Decorator Example"
   ]
  },
  {
   "cell_type": "code",
   "execution_count": 4,
   "id": "0ca41c4c-1ef7-49ce-99f6-afb45b597a2a",
   "metadata": {},
   "outputs": [],
   "source": [
    "def main_1() -> None:\n",
    "    server = socket.socket(socket.AF_INET, socket.SOCKET_STREAM)\n",
    "    server.bind((\"localhost\", 2401))\n",
    "    with contextlib.closing(server):\n",
    "        while True:\n",
    "            client, addr = server.accept()\n",
    "            dice_response(client)\n",
    "            client.close()"
   ]
  },
  {
   "cell_type": "code",
   "execution_count": 5,
   "id": "484e92fe-f29d-4ed1-88b0-006991b145fb",
   "metadata": {},
   "outputs": [],
   "source": [
    "def dice_response(client: socket.socket) -> None:\n",
    "    request = client.recv(1024)\n",
    "    try:\n",
    "        response = dice.dice_roller(request)\n",
    "    except (ValueError, KeyError) as ex:\n",
    "        response = repr(ex).encode(\"utf-8\")\n",
    "    client.send(response)"
   ]
  },
  {
   "cell_type": "code",
   "execution_count": 6,
   "id": "f47cb1cb-632c-45df-b6b4-13d26eeed434",
   "metadata": {},
   "outputs": [],
   "source": [
    "def dice_roller(request: bytes) -> bytes:\n",
    "    request_text = request.deconde(\"utf-8\")\n",
    "    numbers = [random.randint(1, 6) for _ in range(6)]\n",
    "    response = f\"{request_text} = {numbers}\"\n",
    "    return response.encode(\"utf-8\")"
   ]
  },
  {
   "cell_type": "code",
   "execution_count": null,
   "id": "9c0aab91-6cc7-4920-a94e-0e836c6a01b8",
   "metadata": {},
   "outputs": [],
   "source": []
  },
  {
   "cell_type": "code",
   "execution_count": null,
   "id": "be1e0140-5abe-402c-ab52-8f098350f3c0",
   "metadata": {},
   "outputs": [],
   "source": []
  },
  {
   "cell_type": "code",
   "execution_count": null,
   "id": "ed654c27-c5e6-4f31-9c3a-6f98303faef7",
   "metadata": {},
   "outputs": [],
   "source": []
  },
  {
   "cell_type": "code",
   "execution_count": null,
   "id": "bff4529e-bd86-4e93-9972-6a402695fac0",
   "metadata": {},
   "outputs": [],
   "source": []
  },
  {
   "cell_type": "code",
   "execution_count": null,
   "id": "0474a00c-fa4d-44b9-a27b-d2583eb3825e",
   "metadata": {},
   "outputs": [],
   "source": []
  },
  {
   "cell_type": "code",
   "execution_count": null,
   "id": "45400fe7-a595-4d1a-a4da-99c212ccdd3a",
   "metadata": {},
   "outputs": [],
   "source": []
  },
  {
   "cell_type": "code",
   "execution_count": null,
   "id": "df0672da-1c27-4225-b256-f0d3735cca5f",
   "metadata": {},
   "outputs": [],
   "source": []
  }
 ],
 "metadata": {
  "kernelspec": {
   "display_name": "Python 3 (ipykernel)",
   "language": "python",
   "name": "python3"
  },
  "language_info": {
   "codemirror_mode": {
    "name": "ipython",
    "version": 3
   },
   "file_extension": ".py",
   "mimetype": "text/x-python",
   "name": "python",
   "nbconvert_exporter": "python",
   "pygments_lexer": "ipython3",
   "version": "3.11.9"
  }
 },
 "nbformat": 4,
 "nbformat_minor": 5
}
