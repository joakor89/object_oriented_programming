{
 "cells": [
  {
   "cell_type": "markdown",
   "id": "f92346ff-f5cb-4cdf-b4e3-15c9b7099214",
   "metadata": {},
   "source": [
    "# Common Design Patterns\n",
    "\n",
    "### Loading Libraries"
   ]
  },
  {
   "cell_type": "code",
   "execution_count": 1,
   "id": "73b5f679-99c3-4b62-ad3c-9e2277ccbbf2",
   "metadata": {},
   "outputs": [],
   "source": [
    "# Math\n",
    "import math\n",
    "from math import hypot, factorial\n",
    "\n",
    "# Numerical Computing\n",
    "import numpy as np\n",
    "\n",
    "# Data Manipulation\n",
    "import pandas as pd\n",
    "\n",
    "# Data Visualization\n",
    "import seaborn\n",
    "import matplotlib.pyplot as plt\n",
    "\n",
    "#\n",
    "from pprint import pprint\n",
    "\n",
    "# OS\n",
    "import io\n",
    "import re\n",
    "import sys\n",
    "import abc\n",
    "import csv\n",
    "import time\n",
    "import gzip\n",
    "import queue\n",
    "import heapq\n",
    "import socket\n",
    "import string\n",
    "import random\n",
    "import bisect\n",
    "import operator\n",
    "import datetime\n",
    "import contextlib\n",
    "import subprocess\n",
    "from decimal import Decimal\n",
    "from abc import ABC, abstractmethod\n",
    "\n",
    "# Types & Annotations\n",
    "import collections\n",
    "from __future__ import annotations\n",
    "from collections import defaultdict, Counter\n",
    "from collections.abc import Container, Mapping, Hashable\n",
    "from typing import TYPE_CHECKING\n",
    "from typing import Pattern, Match\n",
    "from typing import Hashable, Mapping, TypeVar, Any, overload, Union, Sequence, Dict, Deque, TextIO, Callable\n",
    "from typing import List, Protocol, NoReturn, Union, Set, Tuple, Optional, Iterable, Iterator, cast, NamedTuple\n",
    "# from typing import \n",
    "\n",
    "# Functional Tools\n",
    "from functools import wraps, total_ordering, lru_cache\n",
    "\n",
    "# Files & Path\n",
    "import logging\n",
    "import zipfile\n",
    "import fnmatch\n",
    "from pathlib import Path\n",
    "from urllib.request import urlopen\n",
    "from urllib.parse import urlparse\n",
    "\n",
    "# Dataclass\n",
    "from dataclasses import dataclass, field"
   ]
  },
  {
   "cell_type": "markdown",
   "id": "87b4be36-aafa-40ce-aa49-e72286dbb65e",
   "metadata": {},
   "source": [
    "## The Decorator Pattern\n",
    "\n",
    "### A Decorator Example"
   ]
  },
  {
   "cell_type": "code",
   "execution_count": 2,
   "id": "0ca41c4c-1ef7-49ce-99f6-afb45b597a2a",
   "metadata": {},
   "outputs": [],
   "source": [
    "def main_1() -> None:\n",
    "    server = socket.socket(socket.AF_INET, socket.SOCKET_STREAM)\n",
    "    server.bind((\"localhost\", 2401))\n",
    "    with contextlib.closing(server):\n",
    "        while True:\n",
    "            client, addr = server.accept()\n",
    "            dice_response(client)\n",
    "            client.close()"
   ]
  },
  {
   "cell_type": "code",
   "execution_count": 3,
   "id": "484e92fe-f29d-4ed1-88b0-006991b145fb",
   "metadata": {},
   "outputs": [],
   "source": [
    "def dice_response(client: socket.socket) -> None:\n",
    "    request = client.recv(1024)\n",
    "    try:\n",
    "        response = dice.dice_roller(request)\n",
    "    except (ValueError, KeyError) as ex:\n",
    "        response = repr(ex).encode(\"utf-8\")\n",
    "    client.send(response)"
   ]
  },
  {
   "cell_type": "code",
   "execution_count": 4,
   "id": "f47cb1cb-632c-45df-b6b4-13d26eeed434",
   "metadata": {},
   "outputs": [],
   "source": [
    "def dice_roller(request: bytes) -> bytes:\n",
    "    request_text = request.deconde(\"utf-8\")\n",
    "    numbers = [random.randint(1, 6) for _ in range(6)]\n",
    "    response = f\"{request_text} = {numbers}\"\n",
    "    return response.encode(\"utf-8\")"
   ]
  },
  {
   "cell_type": "code",
   "execution_count": 5,
   "id": "9c0aab91-6cc7-4920-a94e-0e836c6a01b8",
   "metadata": {},
   "outputs": [],
   "source": [
    "# def main() -> None:\n",
    "#     server = socket.socket(socket.AF_INET, socket.SOCK_STREAM)\n",
    "#     server.connect((\"localhost\", 2401))\n",
    "#     count = input(\"How many rolls: \") or \"1\"\n",
    "#     pattern = input(\"Dice pattern nd6[dk+-]a: \") or \"d6\"\n",
    "#     server.send(command.encode(\"utf-8\"))\n",
    "#     response = server.recv(1024)\n",
    "#     print(response.decode(\"utf-8\"))\n",
    "#     server.close()\n",
    "\n",
    "# if __name__ == \"__main__\":\n",
    "#     main()"
   ]
  },
  {
   "cell_type": "code",
   "execution_count": 6,
   "id": "be1e0140-5abe-402c-ab52-8f098350f3c0",
   "metadata": {},
   "outputs": [],
   "source": [
    "class LogSocket:\n",
    "    def __init__(self, socket: socket.socket) -> None:\n",
    "        self.socket = socket\n",
    "\n",
    "    def recv(self, count: int = 0) ->bytes:\n",
    "        data = self.socket.recv(count)\n",
    "        print(f\"Receiving {data!r} from {self.socket.getpeername()[0]})\")\n",
    "        return data\n",
    "\n",
    "    def send(self, data: bytes) -> None:\n",
    "        print(f\"Sending {data!r} to {self.socket.getpeername()[0]}\")\n",
    "        self.socket.send(data)\n",
    "\n",
    "    def close(self) -> None:\n",
    "        self.socket.close()"
   ]
  },
  {
   "cell_type": "code",
   "execution_count": 7,
   "id": "ed654c27-c5e6-4f31-9c3a-6f98303faef7",
   "metadata": {},
   "outputs": [],
   "source": [
    "def main_2() -> None:\n",
    "    server = socket.socket(socket.AF_INET, socket.SOCK_STREAM)\n",
    "    server.bind((\"localhost\", 2401))\n",
    "    server.listen(1)\n",
    "    with contextlib.closing(server):\n",
    "        while True:\n",
    "            client, addr = server.accept()\n",
    "            logging_socket = cast(socket.scoket, LogSocket(client))\n",
    "            dice_response(logging_socket)\n",
    "            client.close()"
   ]
  },
  {
   "cell_type": "code",
   "execution_count": 8,
   "id": "bff4529e-bd86-4e93-9972-6a402695fac0",
   "metadata": {},
   "outputs": [],
   "source": [
    "Address = Tuple[str, int]\n",
    "\n",
    "class LogRoller:\n",
    "    def __init__(self, dice: Callable[[bytes], bytes], remote_addr: Address) -> None:\n",
    "        self.dice_roller = dice\n",
    "        self.remote_addr = remote_addr\n",
    "\n",
    "    def __call__(self, request: bytes) -> bytes:\n",
    "        print(f\"Receiving {request!r} from {self.remote_addr}\")\n",
    "        dice_roller = self.dice_roller\n",
    "        response = dice_roller(request)\n",
    "        print(f\"Sending {response!r} to {self.remote_addr}\")\n",
    "        return response"
   ]
  },
  {
   "cell_type": "code",
   "execution_count": 9,
   "id": "0474a00c-fa4d-44b9-a27b-d2583eb3825e",
   "metadata": {},
   "outputs": [],
   "source": [
    "class ZipRoller:\n",
    "    def __init__(self, dice: Callable[[bytes], bytes]) -> None:\n",
    "        self.dice_roller = dice\n",
    "\n",
    "    def __call__(self, request: bytes) -> bytes:\n",
    "        dice_roller = self.deice_roller\n",
    "        response = dice_roller(request)\n",
    "        buffer = io.BytesIO()\n",
    "        with gzip.GzipFile(fileobj=buffer, mode=\"w\") as zipfile:\n",
    "            zipfile.write(response)\n",
    "        return buffer.getvalue()"
   ]
  },
  {
   "cell_type": "code",
   "execution_count": 10,
   "id": "45400fe7-a595-4d1a-a4da-99c212ccdd3a",
   "metadata": {},
   "outputs": [],
   "source": [
    "def dice_response(client: socket.socket) -> None:\n",
    "    request = client.recv(1024)\n",
    "    try:\n",
    "        remote_addr = client.getpeername()\n",
    "        roller_1 = ZipRoller(dice.dice_roller)\n",
    "        roller_2 = LogRoller(roller_1, remote_addr=remote_addr)\n",
    "        response = roller_2(request)\n",
    "    except (ValueError, KeyError) as ex:\n",
    "        response = repr(ex).encode(\"utf-8\")\n",
    "    client.send(response)"
   ]
  },
  {
   "cell_type": "code",
   "execution_count": 11,
   "id": "df0672da-1c27-4225-b256-f0d3735cca5f",
   "metadata": {},
   "outputs": [],
   "source": [
    "# if config.zip_feature:\n",
    "#     roller_1 = ZipRoller(dice.dice_roller)\n",
    "# else:\n",
    "#     roller_1 = dice.dice_roller"
   ]
  },
  {
   "cell_type": "markdown",
   "id": "41cfebdf-0cc0-41ee-a0d5-a2f7b5fba296",
   "metadata": {},
   "source": [
    "### Decorators in Python"
   ]
  },
  {
   "cell_type": "code",
   "execution_count": 12,
   "id": "d862d471-f5f1-4c33-b136-065be75eaa0f",
   "metadata": {},
   "outputs": [],
   "source": [
    "def log_args(function: Callable[..., Any]) -> Callable[..., Any]:\n",
    "    @wraps(function)\n",
    "    def wrapped_function(*args: Any, **kwargs: Any) -> Any:\n",
    "        print(f\"Calling {function.__name__}(*{args}, **{kwargs})\")\n",
    "        result = function(*args, **kwargs)\n",
    "        return result\n",
    "\n",
    "    return wrapped_function"
   ]
  },
  {
   "cell_type": "code",
   "execution_count": 13,
   "id": "13c5c395-5c5c-4f9b-a418-494c5a807172",
   "metadata": {},
   "outputs": [
    {
     "ename": "NameError",
     "evalue": "name 'test1' is not defined",
     "output_type": "error",
     "traceback": [
      "\u001b[0;31m---------------------------------------------------------------------------\u001b[0m",
      "\u001b[0;31mNameError\u001b[0m                                 Traceback (most recent call last)",
      "Cell \u001b[0;32mIn[13], line 4\u001b[0m\n\u001b[1;32m      1\u001b[0m \u001b[38;5;28;01mdef\u001b[39;00m \u001b[38;5;21mtrest1\u001b[39m(a: \u001b[38;5;28mint\u001b[39m, b: \u001b[38;5;28mint\u001b[39m, c: \u001b[38;5;28mint\u001b[39m) \u001b[38;5;241m-\u001b[39m\u001b[38;5;241m>\u001b[39m\u001b[38;5;28mfloat\u001b[39m:\n\u001b[1;32m      2\u001b[0m     \u001b[38;5;28;01mreturn\u001b[39;00m \u001b[38;5;28msum\u001b[39m(\u001b[38;5;28mrange\u001b[39m(a, b \u001b[38;5;241m+\u001b[39m \u001b[38;5;241m1\u001b[39m)) \u001b[38;5;241m/\u001b[39m c\n\u001b[0;32m----> 4\u001b[0m test1 \u001b[38;5;241m=\u001b[39m log_args(test1)\n",
      "\u001b[0;31mNameError\u001b[0m: name 'test1' is not defined"
     ]
    }
   ],
   "source": [
    "def trest1(a: int, b: int, c: int) ->float:\n",
    "    return sum(range(a, b + 1)) / c\n",
    "\n",
    "test1 = log_args(test1)"
   ]
  },
  {
   "cell_type": "code",
   "execution_count": 14,
   "id": "11345f7f-19fa-4b42-af55-3bbb482d5571",
   "metadata": {},
   "outputs": [],
   "source": [
    "# test1(1, 9, 2)"
   ]
  },
  {
   "cell_type": "code",
   "execution_count": 15,
   "id": "0084a649-8d50-4dcb-9bab-2867c74532cc",
   "metadata": {},
   "outputs": [],
   "source": [
    "@log_args\n",
    "def test1(a: int, b: int, c:int) -> float:\n",
    "    return sum(range(a, b + 1)) / c"
   ]
  },
  {
   "cell_type": "code",
   "execution_count": 16,
   "id": "cfaf4551-4716-418c-be4c-9e10eb15efdf",
   "metadata": {},
   "outputs": [],
   "source": [
    "def binom(n: int, k: int) -> int:\n",
    "    return factorial(n) // (factorial(k) * factorial(n-k))"
   ]
  },
  {
   "cell_type": "code",
   "execution_count": 17,
   "id": "f80d48d5-3b15-4b7f-bae7-8d9b8d7c0e2d",
   "metadata": {},
   "outputs": [
    {
     "data": {
      "text/plain": [
       "'6-card deals: 20,358,520'"
      ]
     },
     "execution_count": 17,
     "metadata": {},
     "output_type": "execute_result"
    }
   ],
   "source": [
    "f\"6-card deals: {binom(52, 6):,d}\""
   ]
  },
  {
   "cell_type": "code",
   "execution_count": 18,
   "id": "bc579e00-cf4c-45b4-a008-653d7ebdd550",
   "metadata": {},
   "outputs": [],
   "source": [
    "def binom(n: int, k: int) -> int:\n",
    "    return factorial(n) // (factorial(k) * factorial(n-k))"
   ]
  },
  {
   "cell_type": "code",
   "execution_count": 19,
   "id": "425ef4a3-2db8-4425-9b7c-8de25364d9f7",
   "metadata": {},
   "outputs": [],
   "source": [
    "class NamedLogger:\n",
    "    def __init__(self, logger_name: str) -> None:\n",
    "        self.logger = logging.getLogger(logger_name)\n",
    "\n",
    "    def __call__(self, function: Callable[..., Any]) -> Callable[..., Any]:\n",
    "        @wraps(function)\n",
    "        def wrapped_function(*args: Any, **kwargs: Any) -> Any:\n",
    "            start = time.perf_counter()\n",
    "            try:\n",
    "                result = function(*args, **kwargs)\n",
    "                μs = (time.perf_counter() - start) * 1_000_000\n",
    "                self.logger.info(f\"{function.__name__}, {μs:.1f}μs\")\n",
    "                return result\n",
    "            except Exception as ex:\n",
    "                μs = (time.perf_counter() - start) * 1_000_000\n",
    "                self.logger.error(f\"{ex}, {function.__name__}, {μs:.1f}μs\")\n",
    "                raise\n",
    "\n",
    "        return wrapped_function"
   ]
  },
  {
   "cell_type": "markdown",
   "id": "ed4628ca-7c32-42b1-9135-0ec3f5ca8534",
   "metadata": {},
   "source": [
    "## The Observer Pattern\n",
    "\n",
    "### An Observer Example"
   ]
  },
  {
   "cell_type": "code",
   "execution_count": 20,
   "id": "0133c87b-9edb-4ab0-9a82-dc323cc0fe5d",
   "metadata": {},
   "outputs": [],
   "source": [
    "class Observer(Protocol):\n",
    "    def __call__(self) -> None:\n",
    "        ...\n",
    "\n",
    "class Observable:\n",
    "    def __init__(self) -> None:\n",
    "        self._observers: list[Observer] = []\n",
    "\n",
    "    def attach(self, observer: Observer) -> None:\n",
    "        self._observers.append(observer)\n",
    "\n",
    "    def detach(self, observer: Observer) -> None:\n",
    "        self._observers.remove(observer)\n",
    "\n",
    "    def _notify_observers(self) -> None:\n",
    "        for observer in self._observers:\n",
    "            observer()"
   ]
  },
  {
   "cell_type": "code",
   "execution_count": 21,
   "id": "da2613fb-0345-4817-accc-a1574b862855",
   "metadata": {},
   "outputs": [],
   "source": [
    "class ZonkHandHistory(Observable):\n",
    "    def __init__(self, player: str, dice_set: Dice) -> None:\n",
    "        super().__init__()\n",
    "        self.player = player\n",
    "        self.dice_set = dice_set\n",
    "        self.rolls: list[Hand]\n",
    "\n",
    "    def start(self) -> Hand:\n",
    "        self.dice_set.roll()\n",
    "        self.rolls = [self.dice_set.dice]\n",
    "        self.notify_observers()\n",
    "        return self.dice_set.dice\n",
    "\n",
    "    def roll(self) -> Hand:\n",
    "        self.dice_set.roll()\n",
    "        self.rolls.append(self.dice_set.dice)\n",
    "        self._notify_observers()\n",
    "        return self.dice_set.dice"
   ]
  },
  {
   "cell_type": "code",
   "execution_count": 22,
   "id": "41e0ea58-d75a-4419-808f-1b84bfc65965",
   "metadata": {},
   "outputs": [],
   "source": [
    "class SaveZonkHand(Observer):\n",
    "    def __init__(self, hand: ZonkHandHistory) -> None:\n",
    "        self.hand = hand\n",
    "        self.count = 0\n",
    "\n",
    "    def __call__(self) -> None:\n",
    "        self.count += 1\n",
    "        message = {\n",
    "        \"player\": self.hand.player,\n",
    "        \"sequence\": self.count,\n",
    "        \"hands\": json.dumps(self.hand.rolls),\n",
    "        \"time\": time.time()\n",
    "        }\n",
    "        print(f\"SaveZonkHand {message}\")"
   ]
  },
  {
   "cell_type": "code",
   "execution_count": 23,
   "id": "c4d8c97e-3e82-44e7-bcff-a4234973f015",
   "metadata": {},
   "outputs": [],
   "source": [
    "# d = Dice.from_text(\"6d6\")\n",
    "\n",
    "# palyer = ZonkHandHistory(\"Bo\", d)\n",
    "\n",
    "# save_history = SaveZonkHand(player)"
   ]
  },
  {
   "cell_type": "code",
   "execution_count": 24,
   "id": "8dd1cbb6-18f6-4348-b0fe-eeb3e448b8fc",
   "metadata": {},
   "outputs": [],
   "source": [
    "class ThreePairZonkHand:\n",
    "    \"\"\"Observer of ZonkHandHistory\"\"\"\n",
    "    def __init__(self, hand: ZonkHandHistory) -> None:\n",
    "        self.hand = hand\n",
    "        self.zonked = False\n",
    "\n",
    "    def __call__(self) -> None:\n",
    "        last_roll = set.hand.rolls[-1]\n",
    "        distinct_values = set(last_roll)\n",
    "        self.zonked = len(distinct_values) == 3 and all(last_roll.count(v) == 2 for v in distinct_values)\n",
    "        if self.zonked:\n",
    "            print(\"3 Pair Zonk!\")"
   ]
  },
  {
   "cell_type": "markdown",
   "id": "5c2ae54c-068c-4495-baac-8b258f214218",
   "metadata": {},
   "source": [
    "## The Strategy Pattern\n",
    "\n",
    "### A Strategy Example"
   ]
  },
  {
   "cell_type": "code",
   "execution_count": 25,
   "id": "e0c5570b-ab47-45b7-929a-359eb3cf40a6",
   "metadata": {},
   "outputs": [],
   "source": [
    "from PIL import Image #type: ignore [import]"
   ]
  },
  {
   "cell_type": "code",
   "execution_count": 26,
   "id": "7f2fccc3-c48d-42e9-bd73-a6b5e46964da",
   "metadata": {},
   "outputs": [],
   "source": [
    "Size = Tuple[int, int]\n",
    "\n",
    "class FillAlgorithm(abc.ABC):\n",
    "    @abc.abstractmethod\n",
    "    def make_background(self, img_file: Path, desktop_size: Size) -> Image:\n",
    "        pass"
   ]
  },
  {
   "cell_type": "code",
   "execution_count": 27,
   "id": "7dd89826-2d2c-4212-8a92-03551a67dcc2",
   "metadata": {},
   "outputs": [],
   "source": [
    "class TiledStrategy(FillAlgorithm):\n",
    "    def make_background(self, img_file: Path, desktop_size: Size) -> Image:\n",
    "        in_img = Image.open(img_file)\n",
    "        out_img = image.new(\"RGB\", desktop_size)\n",
    "        num_tiles = [o // i + 1 for o, i in zip(out_img.size, in_img.size)]\n",
    "        for x in range(num_tiles[0]):\n",
    "            for y in range(num_tiles[1]):\n",
    "                out_img.paste(in_img,\n",
    "                              (\n",
    "                                  in_img.size[0] * x,\n",
    "                                  in_img.size[1] * y,\n",
    "                                  in_img.size[0] * (x + 1),\n",
    "                                  in_img.size[1] * (y + 1),\n",
    "                              ),\n",
    "                             )\n",
    "                return out_img"
   ]
  },
  {
   "cell_type": "code",
   "execution_count": 30,
   "id": "afe086f2-ac95-4296-a5c2-228a64af2070",
   "metadata": {},
   "outputs": [],
   "source": [
    "class CenteredStrategy(FillAlgorithm):\n",
    "    def make_background(self, img_file: Path, desktop_size: Size) -> Image:\n",
    "        in_img = Image.open(img_file)\n",
    "        out_img = Image.new(\"RGB\", desktop_size)\n",
    "        left = (out_img.size[0] - in_img.size[0]) // 2\n",
    "        top = (out_img.size[1] - in_img.size[1]) // 2\n",
    "        out_img.paste(in_img, \n",
    "                      (left, top, left + in_img.size[0], top + in_img.size[1]),\n",
    "        )\n",
    "        return out_img"
   ]
  },
  {
   "cell_type": "code",
   "execution_count": 31,
   "id": "7b6390ea-6b61-4e59-9ae7-a4192f7cdb1a",
   "metadata": {},
   "outputs": [],
   "source": [
    "class ScaledStrategy(FillAlgorithm):\n",
    "    def make_background(self, img_file: Path, desktop_size: Size) -> Image:\n",
    "        in_img = Image.open(img_file)\n",
    "        out_img = in_img.resize(desktop_size)\n",
    "        return out_img"
   ]
  },
  {
   "cell_type": "code",
   "execution_count": 32,
   "id": "ae1aea4f-d79a-4cae-92d6-f4da8c9fda72",
   "metadata": {},
   "outputs": [],
   "source": [
    "class Resizer:\n",
    "    def __init__(self, algorithm: FillAlgorithm) -> None:\n",
    "        self.algorithm = algorithm\n",
    "\n",
    "    def resize(self, image_file: Path, size: Size) -> Image:\n",
    "        result = self.algorithm.make_background(image_file, size)\n",
    "        return result"
   ]
  },
  {
   "cell_type": "code",
   "execution_count": 33,
   "id": "9f1906a8-9997-4c9d-bb8c-aa2a1a79733f",
   "metadata": {},
   "outputs": [],
   "source": [
    "def main() -> None:\n",
    "    image_file = Path.cwd() / \"boat.png\"\n",
    "    tile_desktop = Resizer(TiledStragegy())\n",
    "    title_image = tiled_desktop.resize(image_file, (1920, 1080))\n",
    "    tiled_image.show()"
   ]
  },
  {
   "cell_type": "code",
   "execution_count": null,
   "id": "c0c69521-17c8-4b5e-a714-3376a0dd8a83",
   "metadata": {},
   "outputs": [],
   "source": []
  },
  {
   "cell_type": "code",
   "execution_count": null,
   "id": "e95e201a-f474-4d12-8154-cc208ab08e15",
   "metadata": {},
   "outputs": [],
   "source": []
  },
  {
   "cell_type": "code",
   "execution_count": null,
   "id": "db962dbf-f1ea-48a3-bd8c-9dde2f25ef53",
   "metadata": {},
   "outputs": [],
   "source": []
  },
  {
   "cell_type": "code",
   "execution_count": null,
   "id": "1be73883-0c18-42f5-af64-b8b3330478b6",
   "metadata": {},
   "outputs": [],
   "source": []
  },
  {
   "cell_type": "code",
   "execution_count": null,
   "id": "17ed4b8a-580f-49e6-b4ed-8596928fd0dc",
   "metadata": {},
   "outputs": [],
   "source": []
  },
  {
   "cell_type": "code",
   "execution_count": null,
   "id": "3b886678-5103-46e4-a659-517739da0ba7",
   "metadata": {},
   "outputs": [],
   "source": []
  },
  {
   "cell_type": "code",
   "execution_count": null,
   "id": "bec481fc-74e5-41f9-8b4c-86b71010a520",
   "metadata": {},
   "outputs": [],
   "source": []
  },
  {
   "cell_type": "code",
   "execution_count": null,
   "id": "9c5e61ab-ff7f-4b10-8c71-59c46436f5e0",
   "metadata": {},
   "outputs": [],
   "source": []
  },
  {
   "cell_type": "code",
   "execution_count": null,
   "id": "461bfd91-96af-4753-a4c3-3c71c4373aa2",
   "metadata": {},
   "outputs": [],
   "source": []
  },
  {
   "cell_type": "code",
   "execution_count": null,
   "id": "c48668d9-1354-472e-a8d6-c5639f41e90b",
   "metadata": {},
   "outputs": [],
   "source": []
  },
  {
   "cell_type": "code",
   "execution_count": null,
   "id": "28fa4e61-3241-4966-9f67-7f6fa0a5f8e1",
   "metadata": {},
   "outputs": [],
   "source": []
  },
  {
   "cell_type": "code",
   "execution_count": null,
   "id": "2b99ba62-08cd-4507-8ca1-04a9c0eb41ac",
   "metadata": {},
   "outputs": [],
   "source": []
  },
  {
   "cell_type": "code",
   "execution_count": null,
   "id": "0b9c2d3a-2cbf-47ef-8e8b-fe98fa81923d",
   "metadata": {},
   "outputs": [],
   "source": []
  },
  {
   "cell_type": "code",
   "execution_count": null,
   "id": "42370fd5-6ed9-46b3-91ab-881fe0926dd9",
   "metadata": {},
   "outputs": [],
   "source": []
  },
  {
   "cell_type": "code",
   "execution_count": null,
   "id": "1d763bfd-3f4e-42f1-a9f8-d3fb2a61a1c3",
   "metadata": {},
   "outputs": [],
   "source": []
  },
  {
   "cell_type": "code",
   "execution_count": null,
   "id": "a937037b-5439-4f62-8464-71ff610b3d2d",
   "metadata": {},
   "outputs": [],
   "source": []
  },
  {
   "cell_type": "code",
   "execution_count": null,
   "id": "fa862329-be1e-4ebf-8648-a2f12c70db14",
   "metadata": {},
   "outputs": [],
   "source": []
  },
  {
   "cell_type": "code",
   "execution_count": null,
   "id": "c907e106-0a59-4dfc-b840-e53f868c7677",
   "metadata": {},
   "outputs": [],
   "source": []
  }
 ],
 "metadata": {
  "kernelspec": {
   "display_name": "Python 3 (ipykernel)",
   "language": "python",
   "name": "python3"
  },
  "language_info": {
   "codemirror_mode": {
    "name": "ipython",
    "version": 3
   },
   "file_extension": ".py",
   "mimetype": "text/x-python",
   "name": "python",
   "nbconvert_exporter": "python",
   "pygments_lexer": "ipython3",
   "version": "3.11.9"
  }
 },
 "nbformat": 4,
 "nbformat_minor": 5
}
