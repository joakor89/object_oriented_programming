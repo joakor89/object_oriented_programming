{
 "cells": [
  {
   "cell_type": "markdown",
   "id": "18bbfeb9-4e69-433d-9a49-185f755b84ce",
   "metadata": {},
   "source": [
    "# When To Use Object-Oriented Programming\n",
    "\n",
    "### Loading Libraries"
   ]
  },
  {
   "cell_type": "code",
   "execution_count": 44,
   "id": "a333c0c1-772a-495c-8a35-2d186293cb40",
   "metadata": {},
   "outputs": [],
   "source": [
    "# Math\n",
    "import math\n",
    "from math import hypot\n",
    "\n",
    "# OS\n",
    "import re\n",
    "import time\n",
    "import zipfile\n",
    "import fnmatch\n",
    "from pathlib import Path\n",
    "from decimal import Decimal\n",
    "from urllib.request import urlopen\n",
    "from __future__ import annotations\n",
    "from typing import List, Protocol, NoReturn, Union, Set, Tuple, Optional, Iterable, cast\n",
    "\n",
    "# Numerical Computing\n",
    "import numpy as np\n",
    "\n",
    "# Data Manipulation\n",
    "import pandas as pd\n",
    "\n",
    "# Data Visualization\n",
    "import seaborn\n",
    "import matplotlib.pyplot as plt"
   ]
  },
  {
   "cell_type": "markdown",
   "id": "26fe44cb-074d-4918-b6b1-4cb38e7a399e",
   "metadata": {},
   "source": [
    "### Treat Objects as Objects"
   ]
  },
  {
   "cell_type": "code",
   "execution_count": 2,
   "id": "2073697c-0766-4d94-adb9-c376e9793fa4",
   "metadata": {},
   "outputs": [],
   "source": [
    "square = [(1, 1), (1, 2), (2, 2), (2, 1)]"
   ]
  },
  {
   "cell_type": "code",
   "execution_count": 3,
   "id": "3644f78d-5035-43f4-8098-1374692f4498",
   "metadata": {},
   "outputs": [],
   "source": [
    "def distance(p_1, p_2):\n",
    "    return hypot(p_1[0]-p_2[0], p_1[1]-p_2[1])"
   ]
  },
  {
   "cell_type": "code",
   "execution_count": 4,
   "id": "65f31552-8e2c-401c-b3f0-e4e8154ef921",
   "metadata": {},
   "outputs": [],
   "source": [
    "def perimeter(polygon):\n",
    "    pairs = zip(polygon, polygon[1:]+polygon[:1])\n",
    "    return sum(distance(p1, p2) for p1, p2 in pairs)"
   ]
  },
  {
   "cell_type": "code",
   "execution_count": 5,
   "id": "b24d9faa-a1bc-4cdc-b0ae-208b3cc42811",
   "metadata": {},
   "outputs": [
    {
     "data": {
      "text/plain": [
       "4.0"
      ]
     },
     "execution_count": 5,
     "metadata": {},
     "output_type": "execute_result"
    }
   ],
   "source": [
    "perimeter(square)"
   ]
  },
  {
   "cell_type": "code",
   "execution_count": 6,
   "id": "47ff7cc8-414c-4a07-8471-39339b21b3ef",
   "metadata": {},
   "outputs": [],
   "source": [
    "Point = Tuple[float, float]\n",
    "\n",
    "def distance(p_1: Point, p_2: Point) -> float:\n",
    "    return hypot(p_1[0] - p_2[0], p_1[1] - p_2[1])\n",
    "\n",
    "Polygon = List[Point]\n",
    "\n",
    "def perimeter(polygon: Polygon) -> float:\n",
    "    pairs = zip(polygon, polygon[1:] + polygon[:1])\n",
    "    return sum(distance(p1, p2) for p1, p2 in pairs)"
   ]
  },
  {
   "cell_type": "code",
   "execution_count": 7,
   "id": "bf618b84-6fa3-43be-a800-93c242152344",
   "metadata": {},
   "outputs": [],
   "source": [
    "# A Class() version\n",
    "\n",
    "class Point:\n",
    "    def __init__(self, x:float, y: float) -> None:\n",
    "        self.x = x\n",
    "        self.y = y\n",
    "\n",
    "    def distance(self, other: \"Point\") ->float:\n",
    "        return hypot(self.x - other.x, self.y - other.y)\n",
    "\n",
    "class Polygon:\n",
    "    def __init__(self) -> None:\n",
    "        self.vertices: List[Point] = []\n",
    "\n",
    "    def add_point(self, point: Point) -> None:\n",
    "        self.vertices.append((point))\n",
    "\n",
    "    def perimeter(self) -> float:\n",
    "        pairs = zip(\n",
    "            self.vertices, self.vertices[1:] + self.vertices[:1])\n",
    "        return sum(p1.distance(p2) for p1, p2 in pairs)"
   ]
  },
  {
   "cell_type": "code",
   "execution_count": 8,
   "id": "5f0415c4-f721-4edb-8565-dd27075c8d2c",
   "metadata": {},
   "outputs": [],
   "source": [
    "square = Polygon()"
   ]
  },
  {
   "cell_type": "code",
   "execution_count": 9,
   "id": "964d2291-db5b-46c0-ba74-f2f236746fed",
   "metadata": {},
   "outputs": [],
   "source": [
    "square.add_point(Point(1, 1))\n",
    "square.add_point(Point(1, 2))\n",
    "square.add_point(Point(2, 2))\n",
    "square.add_point(Point(2, 1))"
   ]
  },
  {
   "cell_type": "code",
   "execution_count": 10,
   "id": "b9d5ae06-6c43-4163-b7cb-caea5330cba6",
   "metadata": {},
   "outputs": [
    {
     "data": {
      "text/plain": [
       "4.0"
      ]
     },
     "execution_count": 10,
     "metadata": {},
     "output_type": "execute_result"
    }
   ],
   "source": [
    "square.perimeter()"
   ]
  },
  {
   "cell_type": "code",
   "execution_count": 11,
   "id": "75bccf61-e93c-4b3f-9f71-53cc152da39a",
   "metadata": {},
   "outputs": [
    {
     "data": {
      "text/plain": [
       "4.0"
      ]
     },
     "execution_count": 11,
     "metadata": {},
     "output_type": "execute_result"
    }
   ],
   "source": [
    "square = [(1, 1), (1, 2), (2, 2), (2, 1)]\n",
    "perimeter(square)"
   ]
  },
  {
   "cell_type": "code",
   "execution_count": 12,
   "id": "c3bf6c35-f586-4521-8ba0-2e1424b6ffd5",
   "metadata": {},
   "outputs": [],
   "source": [
    "class Polygon_2:\n",
    "    def __init__(self, vertices: Optional[Iterable[Point]] = None) -> None:\n",
    "        self.vertices = list(vertices) if vertices else []\n",
    "\n",
    "    def perimeter(self) -> float:\n",
    "        pairs = zip(\n",
    "            self.vertices, self.vertices[1:] +self.vertices[1:])\n",
    "        return sum(p1.distance(p2) for p1, p2 in pairs)"
   ]
  },
  {
   "cell_type": "code",
   "execution_count": 13,
   "id": "4d60c12f-c744-477f-9a39-a7ee0f949f01",
   "metadata": {},
   "outputs": [],
   "source": [
    "square = Polygon_2(\n",
    "    [Point(1,1), Point(1,2), Point(2,2), Point(2,1)]\n",
    ")"
   ]
  },
  {
   "cell_type": "code",
   "execution_count": 14,
   "id": "80b90e6f-7679-48e1-b722-5f872f5ff3a4",
   "metadata": {},
   "outputs": [
    {
     "data": {
      "text/plain": [
       "4.414213562373095"
      ]
     },
     "execution_count": 14,
     "metadata": {},
     "output_type": "execute_result"
    }
   ],
   "source": [
    "square.perimeter()"
   ]
  },
  {
   "cell_type": "code",
   "execution_count": 15,
   "id": "3069ad90-e561-46a6-9430-72183f3826b5",
   "metadata": {},
   "outputs": [],
   "source": [
    "Pair = Tuple[float, float]\n",
    "Point_or_Tuple = Union[Point, Pair]\n",
    "\n",
    "class Polygon_3:\n",
    "    def __init__(self, vertices: Optional[Iterable[Point_or_Tuple]] = None) -> None:\n",
    "        self.vertices: List[Point] = []\n",
    "        if vertices:\n",
    "            for point_or_tuple in vertices:\n",
    "                self.vertices.append(self.make_point(point_or_tuple))\n",
    "\n",
    "    @staticmethod\n",
    "    def make_point(item: Point_or_Tuple) -> Point:\n",
    "        return item if isinstance(item, Point) else Point(*item)"
   ]
  },
  {
   "cell_type": "markdown",
   "id": "ea5f85fa-4bc4-4717-8813-0de5a97fe2ed",
   "metadata": {},
   "source": [
    "### Adding Behaviors to Class Data with Properties"
   ]
  },
  {
   "cell_type": "code",
   "execution_count": 16,
   "id": "37181a33-a477-4c48-bbdb-4037617cf4e0",
   "metadata": {},
   "outputs": [],
   "source": [
    "class Color:\n",
    "    def __init__(self, rgb_value: int, name: str) -> None:\n",
    "        self.rgb_value = rgb_value\n",
    "        self._name = name\n",
    "\n",
    "    def set_name(self, name: str) -> None:\n",
    "        self._name = name\n",
    "\n",
    "    def get_name(self) -> str:\n",
    "        return self._name\n",
    "\n",
    "    def set_rgb_value(self, rgb_value: int) -> None:\n",
    "        self._rgb_value = rgb_value\n",
    "\n",
    "    def get_rgb_value(self) -> int:\n",
    "        return self._rgb_value"
   ]
  },
  {
   "cell_type": "code",
   "execution_count": 17,
   "id": "e5d115f9-1a76-45c2-a462-81de59402b4a",
   "metadata": {},
   "outputs": [],
   "source": [
    "c = Color(0xff0000, \"bright red\")"
   ]
  },
  {
   "cell_type": "code",
   "execution_count": 18,
   "id": "19266193-507b-4d83-a9dc-c649067ed6f9",
   "metadata": {},
   "outputs": [
    {
     "data": {
      "text/plain": [
       "'bright red'"
      ]
     },
     "execution_count": 18,
     "metadata": {},
     "output_type": "execute_result"
    }
   ],
   "source": [
    "c.get_name()"
   ]
  },
  {
   "cell_type": "code",
   "execution_count": 19,
   "id": "3c17224b-fd8a-42cd-abd3-a14dd4299993",
   "metadata": {},
   "outputs": [
    {
     "data": {
      "text/plain": [
       "'red'"
      ]
     },
     "execution_count": 19,
     "metadata": {},
     "output_type": "execute_result"
    }
   ],
   "source": [
    "c.set_name(\"red\")\n",
    "c.get_name()"
   ]
  },
  {
   "cell_type": "code",
   "execution_count": 20,
   "id": "2d7bb735-1b5d-4d42-8ec5-0b3ed665cfe8",
   "metadata": {},
   "outputs": [],
   "source": [
    "class Color_Py:\n",
    "    def __init__(self, rgb_value: int, name: str) -> None:\n",
    "        self.rgb_value = rgb_value\n",
    "        self.name = name"
   ]
  },
  {
   "cell_type": "code",
   "execution_count": 21,
   "id": "1f292342-0e77-4f61-9cd1-9da4726eb9b8",
   "metadata": {},
   "outputs": [
    {
     "data": {
      "text/plain": [
       "'brigth red'"
      ]
     },
     "execution_count": 21,
     "metadata": {},
     "output_type": "execute_result"
    }
   ],
   "source": [
    "c = Color_Py(0xff0000, \"brigth red\")\n",
    "c.name"
   ]
  },
  {
   "cell_type": "code",
   "execution_count": 22,
   "id": "9c9a3665-4e63-446e-a370-93845c64467a",
   "metadata": {},
   "outputs": [
    {
     "data": {
      "text/plain": [
       "'brigth red'"
      ]
     },
     "execution_count": 22,
     "metadata": {},
     "output_type": "execute_result"
    }
   ],
   "source": [
    "c.name"
   ]
  },
  {
   "cell_type": "code",
   "execution_count": 23,
   "id": "5cf21446-8abf-4db1-b76a-c3d03e07f4be",
   "metadata": {},
   "outputs": [],
   "source": [
    "c.name = \"red\""
   ]
  },
  {
   "cell_type": "code",
   "execution_count": 24,
   "id": "7e534193-908a-48b4-af38-05d52cd5cd12",
   "metadata": {},
   "outputs": [
    {
     "data": {
      "text/plain": [
       "'red'"
      ]
     },
     "execution_count": 24,
     "metadata": {},
     "output_type": "execute_result"
    }
   ],
   "source": [
    "c.name"
   ]
  },
  {
   "cell_type": "code",
   "execution_count": 25,
   "id": "8fa3593e-9f35-4b1e-b777-185bd46ed7d7",
   "metadata": {},
   "outputs": [],
   "source": [
    "class Color_V:\n",
    "    def __init__(self, rgb_value: int, name: str) -> None:\n",
    "        self.rgb_value = rgb_value\n",
    "        if not name:\n",
    "            raise ValueError(f\"Invalid name {name!r}\")\n",
    "        self._name = name\n",
    "\n",
    "    def set_name(self, name: str) -> None:\n",
    "        if not name:\n",
    "            raise ValueError(f\"Invalid name {name!r}\")\n",
    "        self._name = name"
   ]
  },
  {
   "cell_type": "code",
   "execution_count": 26,
   "id": "238c1a25-c87e-496d-808b-4ad7eb54b118",
   "metadata": {},
   "outputs": [],
   "source": [
    "class Color_VP:\n",
    "    def __init__(self, rgb_value: int, name: str) -> None:\n",
    "        self._rgb_value = rgb_value\n",
    "        if not name:\n",
    "            raise ValueError(f\"Invalid name {name!r}\")\n",
    "        self._name = name\n",
    "\n",
    "    def _set_name(self, name: str) -> None:\n",
    "        if not name:\n",
    "            raise ValueError(f\"Invalid name {name!r}\")\n",
    "        self._name = name\n",
    "\n",
    "    def _get_name(self) -> str:\n",
    "        return self._name\n",
    "\n",
    "    name = property(_get_name, _set_name)"
   ]
  },
  {
   "cell_type": "code",
   "execution_count": 27,
   "id": "32558615-9044-4059-ba79-074d9dbc19a0",
   "metadata": {},
   "outputs": [],
   "source": [
    "c =  Color_VP(0xff0000, \"bright red\")"
   ]
  },
  {
   "cell_type": "code",
   "execution_count": 28,
   "id": "a068fe82-aa57-433c-86c8-9f9b3702151f",
   "metadata": {},
   "outputs": [
    {
     "data": {
      "text/plain": [
       "'bright red'"
      ]
     },
     "execution_count": 28,
     "metadata": {},
     "output_type": "execute_result"
    }
   ],
   "source": [
    "c.name"
   ]
  },
  {
   "cell_type": "code",
   "execution_count": 29,
   "id": "614aeab3-8c04-4c62-974b-1351695f46b4",
   "metadata": {},
   "outputs": [],
   "source": [
    "c.name = \"red\""
   ]
  },
  {
   "cell_type": "code",
   "execution_count": 30,
   "id": "5f9f96c4-019c-4953-bc9a-ed6c623c2fe7",
   "metadata": {},
   "outputs": [
    {
     "data": {
      "text/plain": [
       "'red'"
      ]
     },
     "execution_count": 30,
     "metadata": {},
     "output_type": "execute_result"
    }
   ],
   "source": [
    "c.name"
   ]
  },
  {
   "cell_type": "code",
   "execution_count": 31,
   "id": "02435e0d-d9c2-4732-ab7a-6b0118bb7603",
   "metadata": {},
   "outputs": [
    {
     "ename": "ValueError",
     "evalue": "Invalid name ''",
     "output_type": "error",
     "traceback": [
      "\u001b[0;31m---------------------------------------------------------------------------\u001b[0m",
      "\u001b[0;31mValueError\u001b[0m                                Traceback (most recent call last)",
      "Cell \u001b[0;32mIn[31], line 1\u001b[0m\n\u001b[0;32m----> 1\u001b[0m c\u001b[38;5;241m.\u001b[39mname \u001b[38;5;241m=\u001b[39m \u001b[38;5;124m\"\u001b[39m\u001b[38;5;124m\"\u001b[39m\n",
      "Cell \u001b[0;32mIn[26], line 10\u001b[0m, in \u001b[0;36mColor_VP._set_name\u001b[0;34m(self, name)\u001b[0m\n\u001b[1;32m      8\u001b[0m \u001b[38;5;28;01mdef\u001b[39;00m \u001b[38;5;21m_set_name\u001b[39m(\u001b[38;5;28mself\u001b[39m, name: \u001b[38;5;28mstr\u001b[39m) \u001b[38;5;241m-\u001b[39m\u001b[38;5;241m>\u001b[39m \u001b[38;5;28;01mNone\u001b[39;00m:\n\u001b[1;32m      9\u001b[0m     \u001b[38;5;28;01mif\u001b[39;00m \u001b[38;5;129;01mnot\u001b[39;00m name:\n\u001b[0;32m---> 10\u001b[0m         \u001b[38;5;28;01mraise\u001b[39;00m \u001b[38;5;167;01mValueError\u001b[39;00m(\u001b[38;5;124mf\u001b[39m\u001b[38;5;124m\"\u001b[39m\u001b[38;5;124mInvalid name \u001b[39m\u001b[38;5;132;01m{\u001b[39;00mname\u001b[38;5;132;01m!r}\u001b[39;00m\u001b[38;5;124m\"\u001b[39m)\n\u001b[1;32m     11\u001b[0m     \u001b[38;5;28mself\u001b[39m\u001b[38;5;241m.\u001b[39m_name \u001b[38;5;241m=\u001b[39m name\n",
      "\u001b[0;31mValueError\u001b[0m: Invalid name ''"
     ]
    }
   ],
   "source": [
    "c.name = \"\""
   ]
  },
  {
   "cell_type": "markdown",
   "id": "82a6e87c-eede-402e-a5a4-1273a2fcc4af",
   "metadata": {},
   "source": [
    "### Properties in Detail"
   ]
  },
  {
   "cell_type": "code",
   "execution_count": 32,
   "id": "396e727d-c6fb-427f-b8c2-ee58f571b1a7",
   "metadata": {},
   "outputs": [],
   "source": [
    "class NorwegianBlue:\n",
    "    def __init__(self, name: str) -> None:\n",
    "        self._name = name\n",
    "        self._state: str\n",
    "\n",
    "    def _get_state(self) -> str:\n",
    "        print(f\"Getting {self._name}'s State\")\n",
    "        return self._state\n",
    "\n",
    "    def _set_state(self, state: str) -> None:\n",
    "        print(f\"Setting {self._name}'s State to {state!r}\")\n",
    "        self._state = state\n",
    "\n",
    "    def _del_state(self) -> None:\n",
    "        print(f\"{self._name} is pushing up daisies!\")\n",
    "        del self._state\n",
    "\n",
    "    silly = property(\n",
    "        _get_state, _set_state, _del_state,\n",
    "        \"This is silly property\")"
   ]
  },
  {
   "cell_type": "code",
   "execution_count": 33,
   "id": "dd5500fd-3cf5-4113-9b4b-9d1bc53e63a5",
   "metadata": {},
   "outputs": [],
   "source": [
    "p = NorwegianBlue(\"Polly\")\n"
   ]
  },
  {
   "cell_type": "code",
   "execution_count": 34,
   "id": "4c95349b-f066-4dad-a841-bdf18b541b29",
   "metadata": {},
   "outputs": [
    {
     "name": "stdout",
     "output_type": "stream",
     "text": [
      "Setting Polly's State to 'Pining for the fjords'\n"
     ]
    }
   ],
   "source": [
    "p.silly = \"Pining for the fjords\""
   ]
  },
  {
   "cell_type": "code",
   "execution_count": 35,
   "id": "43c962d6-fcec-4c9f-9a2c-86a647ad2910",
   "metadata": {},
   "outputs": [
    {
     "name": "stdout",
     "output_type": "stream",
     "text": [
      "Polly is pushing up daisies!\n"
     ]
    }
   ],
   "source": [
    "del p.silly"
   ]
  },
  {
   "cell_type": "markdown",
   "id": "b4bb2a09-2cf0-4663-aabe-fdb168d4769e",
   "metadata": {},
   "source": [
    "### Decorators - Another Way to Create Properties"
   ]
  },
  {
   "cell_type": "code",
   "execution_count": 36,
   "id": "846eb5eb-feb6-4e7c-b703-16baf772f9ac",
   "metadata": {},
   "outputs": [],
   "source": [
    "class NorwegianBlue_P:\n",
    "    def __init__(self, name: str) -> None:\n",
    "        self._name = name\n",
    "        self._state: str\n",
    "\n",
    "    @property\n",
    "    def silly(self) -> str:\n",
    "        print(f\"Getting {self._name}'s State\")\n",
    "        return self._state"
   ]
  },
  {
   "cell_type": "code",
   "execution_count": 37,
   "id": "3f5d547e-22b5-4dd8-bf89-91f15020f785",
   "metadata": {},
   "outputs": [],
   "source": [
    "class NorwegianBlue_P:\n",
    "    def __init__(self, name: str) -> None:\n",
    "        self._name = name\n",
    "        self._state: str\n",
    "\n",
    "    @property\n",
    "    def silly(self) -> str:\n",
    "        \"\"\"This is a silly property\"\"\"\n",
    "        print(f\"Getting {self._name}'s State\")\n",
    "        return self._state\n",
    "\n",
    "    @silly.setter\n",
    "    def silly(self, state: str) -> None:\n",
    "        print(f\"Setting {self._name}'s State to {state!r}\")\n",
    "        self._state = state"
   ]
  },
  {
   "cell_type": "code",
   "execution_count": 38,
   "id": "3c08901d-3d93-4448-824b-98b56b4a07cd",
   "metadata": {},
   "outputs": [],
   "source": [
    "# @silly.deleter\n",
    "# def silly(self) -> None:\n",
    "#     print(f\"{self._name} is pushing up daisies!\")\n",
    "#     del self._state"
   ]
  },
  {
   "cell_type": "markdown",
   "id": "a4fcef43-bc1b-4316-a4aa-0e020ad67c6f",
   "metadata": {},
   "source": [
    "### Deciding When to Use Properties"
   ]
  },
  {
   "cell_type": "code",
   "execution_count": 39,
   "id": "c9c19255-1884-4b2a-b34a-1e0a09479528",
   "metadata": {},
   "outputs": [],
   "source": [
    "class WebPage:\n",
    "    def __init__(self, url: str) -> None:\n",
    "        self.url = url\n",
    "        self._content: Optional[bytes] = None\n",
    "\n",
    "    @property\n",
    "    def content(self) -> bytes:\n",
    "        if self._content is None:\n",
    "            print(\"Retrieving New Page...\")\n",
    "            with urlopen(self.url) as response:\n",
    "                self._content = response.read()\n",
    "        return self._content  "
   ]
  },
  {
   "cell_type": "code",
   "execution_count": 40,
   "id": "ea1bdb85-6dcd-4fe3-afcb-0424b23b0687",
   "metadata": {},
   "outputs": [],
   "source": [
    "webpage = WebPage(\"http://ccphillips.net/\")"
   ]
  },
  {
   "cell_type": "code",
   "execution_count": 41,
   "id": "99cb870a-77f1-4a74-a389-0038b29d9aaa",
   "metadata": {},
   "outputs": [
    {
     "name": "stdout",
     "output_type": "stream",
     "text": [
      "Retrieving New Page...\n",
      "Initial Request 0.71443\n",
      "Subsequent Request 0.00007\n"
     ]
    }
   ],
   "source": [
    "now = time.perf_counter()\n",
    "content1 = webpage.content\n",
    "first_fetch = time.perf_counter() - now\n",
    "\n",
    "now = time.perf_counter()\n",
    "content2 = webpage.content\n",
    "second_fetch = time.perf_counter() - now\n",
    "\n",
    "assert content2 == content1, \"Problem: Pages were different\"\n",
    "print(f\"Initial Request {first_fetch:.5f}\")\n",
    "print(f\"Subsequent Request {second_fetch:.5f}\")"
   ]
  },
  {
   "cell_type": "code",
   "execution_count": 42,
   "id": "635cb299-b31a-4d1f-91a1-a1de151705b6",
   "metadata": {},
   "outputs": [],
   "source": [
    "class AverageList(List[int]):\n",
    "    @property\n",
    "    def average(self) -> float:\n",
    "        return sum(self) / len(self)"
   ]
  },
  {
   "cell_type": "code",
   "execution_count": 43,
   "id": "71e26c68-5b62-4c3e-b54c-e41cccfdc4ec",
   "metadata": {},
   "outputs": [
    {
     "data": {
      "text/plain": [
       "9.0"
      ]
     },
     "execution_count": 43,
     "metadata": {},
     "output_type": "execute_result"
    }
   ],
   "source": [
    "a = AverageList([10, 8, 13, 9, 11, 14, 6, 4, 12, 7, 5])\n",
    "a.average"
   ]
  },
  {
   "cell_type": "markdown",
   "id": "c2d1b773-ba2d-431c-a2c7-fa6c494793da",
   "metadata": {},
   "source": [
    "### Manager Objects"
   ]
  },
  {
   "cell_type": "code",
   "execution_count": 70,
   "id": "def6844f-4d38-4b33-a974-30dfd33d6e20",
   "metadata": {},
   "outputs": [],
   "source": [
    "# import zipfile\n",
    "# from pathlib import Path\n",
    "# import fnmatch\n",
    "# import re\n",
    "\n",
    "# class ZipReplace:\n",
    "#     def __init__(\n",
    "#         self,\n",
    "#         archive: Path,\n",
    "#         pattern: str,\n",
    "#         find: str,\n",
    "#         replace: str\n",
    "#     ) -> None:\n",
    "#         self.archive_path = archive\n",
    "#         self.pattern = pattern\n",
    "#         self.find = find\n",
    "#         self.replace = replace\n",
    "\n",
    "#     def find_and_replace(self) -> None:\n",
    "#         input_path, output_path = self.make_backup()\n",
    "\n",
    "#         with zipfile.ZipFile(output_path, \"w\") as output:\n",
    "#             with zipfile.ZipFile(input_path) as input:\n",
    "#                 self.copy_and_transform(input, output)\n",
    "\n",
    "#     def make_backup(self) -> tuple[Path, Path]:\n",
    "#         input_path = self.archive_path.with_suffix(f\"{self.archive_path.suffix}.old\")\n",
    "#         output_path = self.archive_path\n",
    "#         self.archive_path.rename(input_path)\n",
    "#         return input_path, output_path\n",
    "\n",
    "#     def copy_and_transform(\n",
    "#         self, input: zipfile.ZipFile, output: zipfile.ZipFile) -> None:\n",
    "#         for item in input.infolist():\n",
    "#             extracted = Path(input.extract(item))\n",
    "#             if (not item.is_dir()\n",
    "#                    and fnmatch.fnmatch(item.filename, self.pattern)):\n",
    "#                 print(f\"Transform {item}\")\n",
    "#                 input_text = extracted.read_text()\n",
    "#                 output_text = re.sub(self.find, self.replace, input_text)\n",
    "#             else:\n",
    "#                 print(f\"Ignore {item}\")\n",
    "#             output.write(extracted, item.filename)\n",
    "#             extracted.unlink()\n",
    "#             for parent in extracted.parents:\n",
    "#                 if parent == Path.cwd():\n",
    "#                     break\n",
    "#                 parent.rmdir()\n",
    "\n",
    "# if __name__ == \"__main__\":\n",
    "#     sample_zip = Path(\"sample.zip\")\n",
    "#     zr = ZipReplace(sample_zip, \"*.md\", \"xyzzy\", \"plover's egg\")\n",
    "#     zr.find_and_replace()"
   ]
  },
  {
   "cell_type": "markdown",
   "id": "a5c84025-02cc-4b91-8dd4-ee8d3e88e0e9",
   "metadata": {},
   "source": [
    "### Removing Duplicate Code"
   ]
  },
  {
   "cell_type": "code",
   "execution_count": null,
   "id": "ff0a48dd-adac-48ea-a7e4-61212a53c056",
   "metadata": {},
   "outputs": [],
   "source": []
  }
 ],
 "metadata": {
  "kernelspec": {
   "display_name": "Python 3 (ipykernel)",
   "language": "python",
   "name": "python3"
  },
  "language_info": {
   "codemirror_mode": {
    "name": "ipython",
    "version": 3
   },
   "file_extension": ".py",
   "mimetype": "text/x-python",
   "name": "python",
   "nbconvert_exporter": "python",
   "pygments_lexer": "ipython3",
   "version": "3.11.9"
  }
 },
 "nbformat": 4,
 "nbformat_minor": 5
}
