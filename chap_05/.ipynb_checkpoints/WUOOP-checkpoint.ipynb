{
 "cells": [
  {
   "cell_type": "markdown",
   "id": "18bbfeb9-4e69-433d-9a49-185f755b84ce",
   "metadata": {},
   "source": [
    "# When To Use Object-Oriented Programming\n",
    "\n",
    "### Loading Libraries"
   ]
  },
  {
   "cell_type": "code",
   "execution_count": 18,
   "id": "a333c0c1-772a-495c-8a35-2d186293cb40",
   "metadata": {},
   "outputs": [],
   "source": [
    "# Math\n",
    "import math\n",
    "from math import hypot\n",
    "\n",
    "# OS\n",
    "from decimal import Decimal\n",
    "from pathlib import Path\n",
    "from __future__ import annotations\n",
    "from typing import List, Protocol, NoReturn, Union, Set, Tuple, Optional, Iterable\n",
    "\n",
    "# Numerical Computing\n",
    "import numpy as np\n",
    "\n",
    "# Data Manipulation\n",
    "import pandas as pd\n",
    "\n",
    "# Data Visualization\n",
    "import seaborn\n",
    "import matplotlib.pyplot as plt"
   ]
  },
  {
   "cell_type": "markdown",
   "id": "26fe44cb-074d-4918-b6b1-4cb38e7a399e",
   "metadata": {},
   "source": [
    "### Treat Objects as Objects"
   ]
  },
  {
   "cell_type": "code",
   "execution_count": 13,
   "id": "2073697c-0766-4d94-adb9-c376e9793fa4",
   "metadata": {},
   "outputs": [],
   "source": [
    "square = [(1, 1), (1, 2), (2, 2), (2, 1)]"
   ]
  },
  {
   "cell_type": "code",
   "execution_count": 14,
   "id": "3644f78d-5035-43f4-8098-1374692f4498",
   "metadata": {},
   "outputs": [],
   "source": [
    "def distance(p_1, p_2):\n",
    "    return hypot(p_1[0]-p_2[0], p_1[1]-p_2[1])"
   ]
  },
  {
   "cell_type": "code",
   "execution_count": 15,
   "id": "65f31552-8e2c-401c-b3f0-e4e8154ef921",
   "metadata": {},
   "outputs": [],
   "source": [
    "def perimeter(polygon):\n",
    "    pairs = zip(polygon, polygon[1:]+polygon[:1])\n",
    "    return sum(distance(p1, p2) for p1, p2 in pairs)"
   ]
  },
  {
   "cell_type": "code",
   "execution_count": 16,
   "id": "b24d9faa-a1bc-4cdc-b0ae-208b3cc42811",
   "metadata": {},
   "outputs": [
    {
     "data": {
      "text/plain": [
       "4.0"
      ]
     },
     "execution_count": 16,
     "metadata": {},
     "output_type": "execute_result"
    }
   ],
   "source": [
    "perimeter(square)"
   ]
  },
  {
   "cell_type": "code",
   "execution_count": 17,
   "id": "47ff7cc8-414c-4a07-8471-39339b21b3ef",
   "metadata": {},
   "outputs": [],
   "source": [
    "Point = Tuple[float, float]\n",
    "\n",
    "def distance(p_1: Point, p_2: Point) -> float:\n",
    "    return hypot(p_1[0] - p_2[0], p_1[1] - p_2[1])\n",
    "\n",
    "Polygon = List[Point]\n",
    "\n",
    "def perimeter(polygon: Polygon) -> float:\n",
    "    pairs = zip(polygon, polygon[1:] + polygon[:1])\n",
    "    return sum(distance(p1, p2) for p1, p2 in pairs)"
   ]
  },
  {
   "cell_type": "code",
   "execution_count": 19,
   "id": "bf618b84-6fa3-43be-a800-93c242152344",
   "metadata": {},
   "outputs": [],
   "source": [
    "# A Class() version\n",
    "\n",
    "class Point:\n",
    "    def __init__(self, x:float, y: float) -> None:\n",
    "        self.x = x\n",
    "        self.y = y\n",
    "\n",
    "    def distance(self, other: \"Point\") ->float:\n",
    "        return hypot(self.x - other.x, self.y - other.y)\n",
    "\n",
    "class Polygon:\n",
    "    def __init__(self) -> None:\n",
    "        self.vertices: List[Point] = []\n",
    "\n",
    "    def add_point(self, point: Point) -> None:\n",
    "        self.vertices.append((point))\n",
    "\n",
    "    def perimeter(self) -> float:\n",
    "        pairs = zip(\n",
    "            self.vertices, self.vertices[1:] + self.vertices[:1])\n",
    "        return sum(p1.distance(p2) for p1, p2 in pairs)"
   ]
  },
  {
   "cell_type": "code",
   "execution_count": 20,
   "id": "5f0415c4-f721-4edb-8565-dd27075c8d2c",
   "metadata": {},
   "outputs": [],
   "source": [
    "square = Polygon()"
   ]
  },
  {
   "cell_type": "code",
   "execution_count": 22,
   "id": "964d2291-db5b-46c0-ba74-f2f236746fed",
   "metadata": {},
   "outputs": [],
   "source": [
    "square.add_point(Point(1, 1))\n",
    "square.add_point(Point(1, 2))\n",
    "square.add_point(Point(2, 2))\n",
    "square.add_point(Point(2, 1))"
   ]
  },
  {
   "cell_type": "code",
   "execution_count": 23,
   "id": "b9d5ae06-6c43-4163-b7cb-caea5330cba6",
   "metadata": {},
   "outputs": [
    {
     "data": {
      "text/plain": [
       "4.0"
      ]
     },
     "execution_count": 23,
     "metadata": {},
     "output_type": "execute_result"
    }
   ],
   "source": [
    "square.perimeter()"
   ]
  },
  {
   "cell_type": "code",
   "execution_count": 24,
   "id": "75bccf61-e93c-4b3f-9f71-53cc152da39a",
   "metadata": {},
   "outputs": [
    {
     "data": {
      "text/plain": [
       "4.0"
      ]
     },
     "execution_count": 24,
     "metadata": {},
     "output_type": "execute_result"
    }
   ],
   "source": [
    "square = [(1, 1), (1, 2), (2, 2), (2, 1)]\n",
    "perimeter(square)"
   ]
  },
  {
   "cell_type": "code",
   "execution_count": null,
   "id": "c3bf6c35-f586-4521-8ba0-2e1424b6ffd5",
   "metadata": {},
   "outputs": [],
   "source": []
  }
 ],
 "metadata": {
  "kernelspec": {
   "display_name": "Python 3 (ipykernel)",
   "language": "python",
   "name": "python3"
  },
  "language_info": {
   "codemirror_mode": {
    "name": "ipython",
    "version": 3
   },
   "file_extension": ".py",
   "mimetype": "text/x-python",
   "name": "python",
   "nbconvert_exporter": "python",
   "pygments_lexer": "ipython3",
   "version": "3.11.9"
  }
 },
 "nbformat": 4,
 "nbformat_minor": 5
}
