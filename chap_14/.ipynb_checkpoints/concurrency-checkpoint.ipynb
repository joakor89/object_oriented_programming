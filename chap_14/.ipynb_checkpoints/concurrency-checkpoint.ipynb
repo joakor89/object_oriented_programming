{
 "cells": [
  {
   "cell_type": "markdown",
   "id": "5c4fdb88-d7e7-4a23-af18-be6c3ca80c2a",
   "metadata": {},
   "source": [
    "# Concurrency\n",
    "\n",
    "### Loading Libraries"
   ]
  },
  {
   "cell_type": "code",
   "execution_count": 15,
   "id": "92ccdd8e-11c7-41e3-a262-c1e6822b5bc8",
   "metadata": {},
   "outputs": [],
   "source": [
    "# Math\n",
    "import math\n",
    "from math import hypot, factorial, sqrt, ceil\n",
    "\n",
    "# Numerical Computing\n",
    "import numpy as np\n",
    "\n",
    "# Data Manipulation\n",
    "import pandas as pd\n",
    "\n",
    "# Data Visualization\n",
    "import seaborn\n",
    "import matplotlib.pyplot as plt\n",
    "\n",
    "# Loggers\n",
    "import logging\n",
    "import logging.handlers\n",
    "\n",
    "# SQLite\n",
    "import sqlite3\n",
    "\n",
    "# Enum\n",
    "from enum import Enum, auto\n",
    "\n",
    "# Print\n",
    "from pprint import pprint\n",
    "\n",
    "# OS\n",
    "import io\n",
    "import re\n",
    "import sys\n",
    "import abc\n",
    "import csv\n",
    "import time\n",
    "import gzip\n",
    "import queue\n",
    "import heapq\n",
    "import socket\n",
    "import string\n",
    "import random\n",
    "import bisect\n",
    "import operator\n",
    "import datetime\n",
    "import contextlib\n",
    "import subprocess\n",
    "from decimal import Decimal\n",
    "from abc import ABC, abstractmethod\n",
    "\n",
    "# Types & Annotations\n",
    "import collections\n",
    "from __future__ import annotations\n",
    "from collections import defaultdict, Counter\n",
    "from collections.abc import Container, Mapping, Hashable\n",
    "from typing import TYPE_CHECKING\n",
    "from typing import Pattern, Match\n",
    "from typing import Hashable, Mapping, TypeVar, Any, overload, Union, Sequence, Dict, Deque, TextIO, Callable, ContextManager\n",
    "from typing import List, Protocol, NoReturn, Union, Set, Tuple, Optional, Iterable, Iterator, cast, NamedTuple\n",
    "# from typing import \n",
    "\n",
    "# Functional Tools\n",
    "from functools import wraps, total_ordering, lru_cache\n",
    "\n",
    "# Files & Path\n",
    "import tarfile\n",
    "import logging\n",
    "import zipfile\n",
    "import fnmatch\n",
    "from pathlib import Path\n",
    "from urllib.request import urlopen\n",
    "from urllib.parse import urlparse\n",
    "\n",
    "# Dataclass\n",
    "from dataclasses import dataclass, field"
   ]
  },
  {
   "cell_type": "markdown",
   "id": "72711281-b203-4570-bb00-27b2f847a817",
   "metadata": {},
   "source": [
    "### Threads"
   ]
  },
  {
   "cell_type": "code",
   "execution_count": 2,
   "id": "e54044fa-9a27-4000-9c73-6d703f2c5066",
   "metadata": {},
   "outputs": [],
   "source": [
    "from threading import Thread, Lock"
   ]
  },
  {
   "cell_type": "code",
   "execution_count": 5,
   "id": "82c3598f-6caa-443a-8c9f-8144331b4e5d",
   "metadata": {},
   "outputs": [],
   "source": [
    "class Chef(Thread):\n",
    "    def __init__(self, name: str) -> None:\n",
    "        super().__init__(name=name)\n",
    "        self.total = 0\n",
    "\n",
    "    def get_order(self) -> None:\n",
    "        self.order = THE_ORDERS.pop(0)\n",
    "\n",
    "    def prepare(self) -> None:\n",
    "        \"\"\"Simulate doing a lot of work with a BIG computation\"\"\"\n",
    "        start = time.monotonic()\n",
    "        target = start + 1 + random.random()\n",
    "        for i in range(1_000_000_000):\n",
    "            self.total += math.factorial(i)\n",
    "            if time.monotonic() >= target:\n",
    "                break\n",
    "        print(f\"{time.monotonic():.3f} {self.name} made {self.order}\")\n",
    "\n",
    "    def run(self) -> None:\n",
    "        while True:\n",
    "            try:\n",
    "                self.get_order()\n",
    "                self.prepare()\n",
    "            except IndexError:\n",
    "                break  # No more orders"
   ]
  },
  {
   "cell_type": "code",
   "execution_count": 6,
   "id": "ceb054f3-7ece-4957-aa2b-9e9b2b308fc2",
   "metadata": {},
   "outputs": [],
   "source": [
    "THE_ORDERS = [\n",
    "    \"Reuben\",\n",
    "    \"Ham and Cheese\",\n",
    "    \"Monte Cristo\",\n",
    "    \"Tuna Melt\",\n",
    "    \"Cuban\",\n",
    "    \"Grilled Cheese\",\n",
    "    \"French Dip\",\n",
    "    \"BLT\",\n",
    "]"
   ]
  },
  {
   "cell_type": "code",
   "execution_count": 7,
   "id": "8695176a-b144-4c32-9b7e-228e667b4e73",
   "metadata": {},
   "outputs": [
    {
     "name": "stdout",
     "output_type": "stream",
     "text": [
      "912997.246 Constantine made Ham and Cheese\n",
      "912997.852 Michael made Reuben\n",
      "912998.540 Constantine made Monte Cristo\n",
      "912999.093 Michael made Tuna Melt\n",
      "913000.288 Constantine made Cuban\n",
      "913000.777 Michael made Grilled Cheese\n",
      "913001.871 Michael made BLT\n",
      "913002.187 Constantine made French Dip\n"
     ]
    }
   ],
   "source": [
    "Mo = Chef(\"Michael\")\n",
    "Constantine = Chef(\"Constantine\")\n",
    "\n",
    "if __name__ == \"__main__\":\n",
    "    random.seed(42)\n",
    "    Mo.start()\n",
    "    Constantine.start()"
   ]
  },
  {
   "cell_type": "markdown",
   "id": "4ffaf111-55c8-4a40-a30c-a88ff4c36b17",
   "metadata": {},
   "source": [
    "### Multiprocessing"
   ]
  },
  {
   "cell_type": "code",
   "execution_count": 12,
   "id": "9b031689-69ea-4cd0-9751-d93209256ed8",
   "metadata": {},
   "outputs": [],
   "source": [
    "from multiprocessing import Process, cpu_count"
   ]
  },
  {
   "cell_type": "code",
   "execution_count": 13,
   "id": "2cc838c1-4936-424e-8061-97eb4cb45aab",
   "metadata": {},
   "outputs": [],
   "source": [
    "class MuchCPU(Process):\n",
    "    def run(self) -> None:\n",
    "        print(f\"OS PID {os.getpid()}\")\n",
    "\n",
    "        s = sum(2 * i + 1 for i in range(100_000_000))"
   ]
  },
  {
   "cell_type": "code",
   "execution_count": 14,
   "id": "baa87170-6082-4b49-938c-8dcc75c9a549",
   "metadata": {},
   "outputs": [
    {
     "name": "stdout",
     "output_type": "stream",
     "text": [
      "OS PID 36286OS PID 36286\n",
      "\n",
      "OS PID 36286\n",
      "OS PID 36286\n",
      "OS PID 36286\n",
      "OS PID 36286\n",
      "OS PID 36286\n",
      "OS PID 36286\n",
      "OS PID 36286\n",
      "OS PID 36286\n",
      "OS PID 36286\n",
      "OS PID 36286\n",
      "work took 31.806 seconds\n"
     ]
    }
   ],
   "source": [
    "class MoreCPU(Thread):\n",
    "    def run(self) -> None:\n",
    "        print(f\"OS PID {os.getpid()}\")\n",
    "\n",
    "        s = sum(2 * i + 1 for i in range(100_000_000))\n",
    "\n",
    "\n",
    "if __name__ == \"__main__\":\n",
    "    # workers = [MuchCPU() for f in range(cpu_count())]\n",
    "    workers = [MoreCPU() for f in range(cpu_count())]\n",
    "\n",
    "    t = time.perf_counter()\n",
    "    for p in workers:\n",
    "        p.start()\n",
    "    for p in workers:\n",
    "        p.join()\n",
    "    print(f\"work took {time.perf_counter() - t:.3f} seconds\")"
   ]
  },
  {
   "cell_type": "markdown",
   "id": "7c9950b3-676a-470c-8cf4-844c87e67e75",
   "metadata": {},
   "source": [
    "### Multiprocessing Pools"
   ]
  },
  {
   "cell_type": "code",
   "execution_count": 16,
   "id": "2f32f96e-c6d7-455b-858f-4c7e5ad5faf1",
   "metadata": {},
   "outputs": [],
   "source": [
    "from multiprocessing.pool import Poo"
   ]
  },
  {
   "cell_type": "code",
   "execution_count": null,
   "id": "a3ddd56a-8f4d-4bef-adcf-faa2e0e99e50",
   "metadata": {},
   "outputs": [],
   "source": [
    "from multiprocessing import Pool\n",
    "\n",
    "# Define the prime_factors function\n",
    "def prime_factors(n):\n",
    "    i = 2\n",
    "    factors = []\n",
    "    while i * i <= n:\n",
    "        if n % i:\n",
    "            i += 1\n",
    "        else:\n",
    "            n //= i\n",
    "            factors.append(i)\n",
    "    if n > 1:\n",
    "        factors.append(n)\n",
    "    return factors\n",
    "\n",
    "# Ensure that multiprocessing code is within the main guard\n",
    "if __name__ == \"__main__\":\n",
    "    numbers = [100, 101, 102, 103, 104, 105]  # Example list of numbers\n",
    "    with Pool() as pool:\n",
    "        results = pool.map(prime_factors, numbers)\n",
    "        print(results)"
   ]
  },
  {
   "cell_type": "code",
   "execution_count": null,
   "id": "8e59714d-90a3-4679-82f1-feed7727962c",
   "metadata": {},
   "outputs": [],
   "source": [
    "import random\n",
    "from math import sqrt, ceil\n",
    "from multiprocessing import Pool\n",
    "\n",
    "def prime_factors(value: int) -> list[int]:\n",
    "    \"\"\"\n",
    "    >>> set(prime_factors(42))\n",
    "    {2, 3, 7}\n",
    "    >>> set(prime_factors(97))\n",
    "    {97}\n",
    "    \"\"\"\n",
    "    if value in {2, 3}:\n",
    "        return [value]\n",
    "    factors: list[int] = []\n",
    "    for divisor in range(2, ceil(sqrt(value)) + 1):\n",
    "        quotient, remainder = divmod(value, divisor)\n",
    "        if not remainder:\n",
    "            factors.extend(prime_factors(divisor))\n",
    "            factors.extend(prime_factors(quotient))\n",
    "            break\n",
    "    else:\n",
    "        factors = [value]\n",
    "    return factors\n",
    "\n",
    "\n",
    "if __name__ == \"__main__\":\n",
    "    to_factor = [random.randint(100_000_000, 1_000_000_000) for i in range(40_960)]\n",
    "    \n",
    "    with Pool() as pool:\n",
    "        results = pool.map(prime_factors, to_factor)\n",
    "    \n",
    "    primes = [\n",
    "        value for value, factor_list in zip(to_factor, results) if len(factor_list) == 1\n",
    "    ]\n",
    "    \n",
    "    print(f\"9-digit primes: {primes}\")"
   ]
  },
  {
   "cell_type": "code",
   "execution_count": null,
   "id": "4dc3d0a7-1c36-44dc-ad44-ad498c61c30c",
   "metadata": {},
   "outputs": [],
   "source": []
  }
 ],
 "metadata": {
  "kernelspec": {
   "display_name": "Python 3 (ipykernel)",
   "language": "python",
   "name": "python3"
  },
  "language_info": {
   "codemirror_mode": {
    "name": "ipython",
    "version": 3
   },
   "file_extension": ".py",
   "mimetype": "text/x-python",
   "name": "python",
   "nbconvert_exporter": "python",
   "pygments_lexer": "ipython3",
   "version": "3.11.9"
  }
 },
 "nbformat": 4,
 "nbformat_minor": 5
}
