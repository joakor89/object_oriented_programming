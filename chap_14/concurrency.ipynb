{
 "cells": [
  {
   "cell_type": "markdown",
   "id": "5c4fdb88-d7e7-4a23-af18-be6c3ca80c2a",
   "metadata": {},
   "source": [
    "# Concurrency\n",
    "\n",
    "### Loading Libraries"
   ]
  },
  {
   "cell_type": "code",
   "execution_count": 1,
   "id": "92ccdd8e-11c7-41e3-a262-c1e6822b5bc8",
   "metadata": {},
   "outputs": [],
   "source": [
    "# Math\n",
    "import math\n",
    "from math import hypot, factorial\n",
    "\n",
    "# Numerical Computing\n",
    "import numpy as np\n",
    "\n",
    "# Data Manipulation\n",
    "import pandas as pd\n",
    "\n",
    "# Data Visualization\n",
    "import seaborn\n",
    "import matplotlib.pyplot as plt\n",
    "\n",
    "# Loggers\n",
    "import logging\n",
    "import logging.handlers\n",
    "\n",
    "# SQLite\n",
    "import sqlite3\n",
    "\n",
    "# Enum\n",
    "from enum import Enum, auto\n",
    "\n",
    "# Print\n",
    "from pprint import pprint\n",
    "\n",
    "# OS\n",
    "import io\n",
    "import re\n",
    "import sys\n",
    "import abc\n",
    "import csv\n",
    "import time\n",
    "import gzip\n",
    "import queue\n",
    "import heapq\n",
    "import socket\n",
    "import string\n",
    "import random\n",
    "import bisect\n",
    "import operator\n",
    "import datetime\n",
    "import contextlib\n",
    "import subprocess\n",
    "from decimal import Decimal\n",
    "from abc import ABC, abstractmethod\n",
    "\n",
    "# Types & Annotations\n",
    "import collections\n",
    "from __future__ import annotations\n",
    "from collections import defaultdict, Counter\n",
    "from collections.abc import Container, Mapping, Hashable\n",
    "from typing import TYPE_CHECKING\n",
    "from typing import Pattern, Match\n",
    "from typing import Hashable, Mapping, TypeVar, Any, overload, Union, Sequence, Dict, Deque, TextIO, Callable, ContextManager\n",
    "from typing import List, Protocol, NoReturn, Union, Set, Tuple, Optional, Iterable, Iterator, cast, NamedTuple\n",
    "# from typing import \n",
    "\n",
    "# Functional Tools\n",
    "from functools import wraps, total_ordering, lru_cache\n",
    "\n",
    "# Files & Path\n",
    "import tarfile\n",
    "import logging\n",
    "import zipfile\n",
    "import fnmatch\n",
    "from pathlib import Path\n",
    "from urllib.request import urlopen\n",
    "from urllib.parse import urlparse\n",
    "\n",
    "# Dataclass\n",
    "from dataclasses import dataclass, field"
   ]
  },
  {
   "cell_type": "markdown",
   "id": "72711281-b203-4570-bb00-27b2f847a817",
   "metadata": {},
   "source": [
    "### Threads"
   ]
  },
  {
   "cell_type": "code",
   "execution_count": 2,
   "id": "e54044fa-9a27-4000-9c73-6d703f2c5066",
   "metadata": {},
   "outputs": [],
   "source": [
    "from threading import Thread, Lock"
   ]
  },
  {
   "cell_type": "code",
   "execution_count": 5,
   "id": "82c3598f-6caa-443a-8c9f-8144331b4e5d",
   "metadata": {},
   "outputs": [],
   "source": [
    "class Chef(Thread):\n",
    "    def __init__(self, name: str) -> None:\n",
    "        super().__init__(name=name)\n",
    "        self.total = 0\n",
    "\n",
    "    def get_order(self) -> None:\n",
    "        self.order = THE_ORDERS.pop(0)\n",
    "\n",
    "    def prepare(self) -> None:\n",
    "        \"\"\"Simulate doing a lot of work with a BIG computation\"\"\"\n",
    "        start = time.monotonic()\n",
    "        target = start + 1 + random.random()\n",
    "        for i in range(1_000_000_000):\n",
    "            self.total += math.factorial(i)\n",
    "            if time.monotonic() >= target:\n",
    "                break\n",
    "        print(f\"{time.monotonic():.3f} {self.name} made {self.order}\")\n",
    "\n",
    "    def run(self) -> None:\n",
    "        while True:\n",
    "            try:\n",
    "                self.get_order()\n",
    "                self.prepare()\n",
    "            except IndexError:\n",
    "                break  # No more orders"
   ]
  },
  {
   "cell_type": "code",
   "execution_count": 6,
   "id": "ceb054f3-7ece-4957-aa2b-9e9b2b308fc2",
   "metadata": {},
   "outputs": [],
   "source": [
    "THE_ORDERS = [\n",
    "    \"Reuben\",\n",
    "    \"Ham and Cheese\",\n",
    "    \"Monte Cristo\",\n",
    "    \"Tuna Melt\",\n",
    "    \"Cuban\",\n",
    "    \"Grilled Cheese\",\n",
    "    \"French Dip\",\n",
    "    \"BLT\",\n",
    "]"
   ]
  },
  {
   "cell_type": "code",
   "execution_count": 7,
   "id": "8695176a-b144-4c32-9b7e-228e667b4e73",
   "metadata": {},
   "outputs": [
    {
     "name": "stdout",
     "output_type": "stream",
     "text": [
      "912997.246 Constantine made Ham and Cheese\n",
      "912997.852 Michael made Reuben\n",
      "912998.540 Constantine made Monte Cristo\n",
      "912999.093 Michael made Tuna Melt\n",
      "913000.288 Constantine made Cuban\n",
      "913000.777 Michael made Grilled Cheese\n",
      "913001.871 Michael made BLT\n",
      "913002.187 Constantine made French Dip\n"
     ]
    }
   ],
   "source": [
    "Mo = Chef(\"Michael\")\n",
    "Constantine = Chef(\"Constantine\")\n",
    "\n",
    "if __name__ == \"__main__\":\n",
    "    random.seed(42)\n",
    "    Mo.start()\n",
    "    Constantine.start()"
   ]
  },
  {
   "cell_type": "markdown",
   "id": "4ffaf111-55c8-4a40-a30c-a88ff4c36b17",
   "metadata": {},
   "source": [
    "### Multiprocessing"
   ]
  },
  {
   "cell_type": "code",
   "execution_count": 8,
   "id": "2cc838c1-4936-424e-8061-97eb4cb45aab",
   "metadata": {},
   "outputs": [
    {
     "ename": "NameError",
     "evalue": "name 'Process' is not defined",
     "output_type": "error",
     "traceback": [
      "\u001b[0;31m---------------------------------------------------------------------------\u001b[0m",
      "\u001b[0;31mNameError\u001b[0m                                 Traceback (most recent call last)",
      "Cell \u001b[0;32mIn[8], line 1\u001b[0m\n\u001b[0;32m----> 1\u001b[0m \u001b[38;5;28;01mclass\u001b[39;00m \u001b[38;5;21;01mMuchCPU\u001b[39;00m(Process):\n\u001b[1;32m      2\u001b[0m     \u001b[38;5;28;01mdef\u001b[39;00m \u001b[38;5;21mrun\u001b[39m(\u001b[38;5;28mself\u001b[39m) \u001b[38;5;241m-\u001b[39m\u001b[38;5;241m>\u001b[39m \u001b[38;5;28;01mNone\u001b[39;00m:\n\u001b[1;32m      3\u001b[0m         \u001b[38;5;28mprint\u001b[39m(\u001b[38;5;124mf\u001b[39m\u001b[38;5;124m\"\u001b[39m\u001b[38;5;124mOS PID \u001b[39m\u001b[38;5;132;01m{\u001b[39;00mos\u001b[38;5;241m.\u001b[39mgetpid()\u001b[38;5;132;01m}\u001b[39;00m\u001b[38;5;124m\"\u001b[39m)\n",
      "\u001b[0;31mNameError\u001b[0m: name 'Process' is not defined"
     ]
    }
   ],
   "source": [
    "class MuchCPU(Process):\n",
    "    def run(self) -> None:\n",
    "        print(f\"OS PID {os.getpid()}\")\n",
    "\n",
    "        s = sum(2 * i + 1 for i in range(100_000_000))"
   ]
  },
  {
   "cell_type": "code",
   "execution_count": null,
   "id": "baa87170-6082-4b49-938c-8dcc75c9a549",
   "metadata": {},
   "outputs": [],
   "source": []
  }
 ],
 "metadata": {
  "kernelspec": {
   "display_name": "Python 3 (ipykernel)",
   "language": "python",
   "name": "python3"
  },
  "language_info": {
   "codemirror_mode": {
    "name": "ipython",
    "version": 3
   },
   "file_extension": ".py",
   "mimetype": "text/x-python",
   "name": "python",
   "nbconvert_exporter": "python",
   "pygments_lexer": "ipython3",
   "version": "3.11.9"
  }
 },
 "nbformat": 4,
 "nbformat_minor": 5
}
